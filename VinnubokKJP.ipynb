{
 "cells": [
  {
   "cell_type": "code",
   "execution_count": 1,
   "id": "a45351d5-dada-4107-bcbb-7d36b76e87f2",
   "metadata": {},
   "outputs": [],
   "source": [
    "import tqdm\n",
    "def read_news_tsv(file_name):\n",
    "    data = []\n",
    "    with open(file_name, encoding=\"utf-8\") as fh:\n",
    "        for line in tqdm.tqdm(fh.readlines()):\n",
    "            title, author, url, timestamp, _, _, text, text_tokenized = line.split(\"\\t\")\n",
    "            article = {\n",
    "                \"title\": title,\n",
    "                \"author\": author,\n",
    "                \"timestamp\": timestamp,\n",
    "                \"text\": text,\n",
    "                \"text_tokenized\": text_tokenized\n",
    "            }\n",
    "            data.append(article)\n",
    "        return data"
   ]
  },
  {
   "cell_type": "code",
   "execution_count": 2,
   "id": "86bcd8f4-d708-4f5a-bcc8-6de1bd238144",
   "metadata": {},
   "outputs": [
    {
     "name": "stderr",
     "output_type": "stream",
     "text": [
      "100%|████████████████████████████████████████████████████████████████████████| 22248/22248 [00:00<00:00, 284268.64it/s]"
     ]
    },
    {
     "name": "stdout",
     "output_type": "stream",
     "text": [
      "Article count 22248\n"
     ]
    },
    {
     "name": "stderr",
     "output_type": "stream",
     "text": [
      "\n"
     ]
    }
   ],
   "source": [
    "articles = read_news_tsv(\"icelandic_news_sample_22480.tsv\")\n",
    "print(f\"Article count {len(articles)}\")"
   ]
  },
  {
   "cell_type": "code",
   "execution_count": 3,
   "id": "4eec206a-be1b-4eab-8837-695a9f9192ce",
   "metadata": {},
   "outputs": [],
   "source": [
    "import pandas as pd"
   ]
  },
  {
   "cell_type": "code",
   "execution_count": 52,
   "id": "e8115558-606b-4139-ab63-de84844d8db3",
   "metadata": {},
   "outputs": [],
   "source": [
    "news_df = pd.read_csv(\"icelandic_news_sample_22480.tsv\", sep='\\t', names=[\"title\", \"author\", \"url\", \"timestamp\", \"t2\", \"t3\", \"text\", \"text_tokenized\"], on_bad_lines=\"warn\")"
   ]
  },
  {
   "cell_type": "code",
   "execution_count": 53,
   "id": "575d76b9-32bc-4751-bf97-931f0008aafb",
   "metadata": {},
   "outputs": [
    {
     "name": "stdout",
     "output_type": "stream",
     "text": [
      "21518\n"
     ]
    }
   ],
   "source": [
    "print(len(news_df))"
   ]
  },
  {
   "cell_type": "code",
   "execution_count": 15,
   "id": "9ee62969-4404-4a6a-8b9e-46b4c670a496",
   "metadata": {},
   "outputs": [
    {
     "data": {
      "text/html": [
       "<div>\n",
       "<style scoped>\n",
       "    .dataframe tbody tr th:only-of-type {\n",
       "        vertical-align: middle;\n",
       "    }\n",
       "\n",
       "    .dataframe tbody tr th {\n",
       "        vertical-align: top;\n",
       "    }\n",
       "\n",
       "    .dataframe thead th {\n",
       "        text-align: right;\n",
       "    }\n",
       "</style>\n",
       "<table border=\"1\" class=\"dataframe\">\n",
       "  <thead>\n",
       "    <tr style=\"text-align: right;\">\n",
       "      <th></th>\n",
       "      <th>title</th>\n",
       "      <th>author</th>\n",
       "      <th>url</th>\n",
       "      <th>timestamp</th>\n",
       "      <th>t2</th>\n",
       "      <th>t3</th>\n",
       "      <th>text</th>\n",
       "      <th>text_tokenized</th>\n",
       "    </tr>\n",
       "  </thead>\n",
       "  <tbody>\n",
       "    <tr>\n",
       "      <th>21513</th>\n",
       "      <td>Samherjamálið er hrikalegt áfall fyrir allan s...</td>\n",
       "      <td>Ritstjórn Hringbrautar</td>\n",
       "      <td>http://www.hringbraut.is/frettir/samherjamalid...</td>\n",
       "      <td>2019-11-13 14:30:00</td>\n",
       "      <td>2019-11-13 15:00:17.237825</td>\n",
       "      <td>2020-10-20 05:34:40.142362</td>\n",
       "      <td>Ef marka má mikinn fréttaflutning og fram komi...</td>\n",
       "      <td>Ef marka má mikinn fréttaflutning og fram komi...</td>\n",
       "    </tr>\n",
       "    <tr>\n",
       "      <th>21514</th>\n",
       "      <td>HeForShe berst gegn netníði: Konur á aldrinum ...</td>\n",
       "      <td>Hulda Hólmkelsdóttir</td>\n",
       "      <td>http://www.visir.is/heforshe-berst-gegn-netnid...</td>\n",
       "      <td>2016-10-11 11:15:00</td>\n",
       "      <td>2016-10-11 12:00:12.706579</td>\n",
       "      <td>2020-10-14 06:23:56.773503</td>\n",
       "      <td>UN Women á Íslandi hleypir í dag af stokkunum ...</td>\n",
       "      <td>UN Women á Íslandi hleypir í dag af stokkunum ...</td>\n",
       "    </tr>\n",
       "    <tr>\n",
       "      <th>21515</th>\n",
       "      <td>Hönnuður New York-ástar­lógósins er látinn</td>\n",
       "      <td>Atli Ísleifsson</td>\n",
       "      <td>https://www.visir.is/g/20201985728d/honnudur-n...</td>\n",
       "      <td>2020-06-27 18:17:00</td>\n",
       "      <td>2020-06-27 18:30:13.330922</td>\n",
       "      <td>2020-06-27 18:30:26.505181</td>\n",
       "      <td>Grafíski hönnuðurinn Milton Glaser, sem hannað...</td>\n",
       "      <td>Grafíski hönnuðurinn Milton Glaser , sem hanna...</td>\n",
       "    </tr>\n",
       "    <tr>\n",
       "      <th>21516</th>\n",
       "      <td>Dagbjartur og Ragnhildur sigruðu Síma-mótið</td>\n",
       "      <td>Anton Ingi Leifsson</td>\n",
       "      <td>https://www.visir.is/g/2019190608898/dagbjartu...</td>\n",
       "      <td>2019-06-09 16:14:00</td>\n",
       "      <td>2019-06-09 16:30:12.727944</td>\n",
       "      <td>2020-08-30 05:21:12.769194</td>\n",
       "      <td>Dagbjartur Sigurbrandsson, úr GR, og Ragnhildu...</td>\n",
       "      <td>Dagbjartur Sigurbrandsson , úr GR , og Ragnhil...</td>\n",
       "    </tr>\n",
       "    <tr>\n",
       "      <th>21517</th>\n",
       "      <td>Elliði hafnar því að líkja Samfylkingunni við ...</td>\n",
       "      <td>Urður Örlygsdóttir</td>\n",
       "      <td>https://www.frettabladid.is/frettir/ellidi-haf...</td>\n",
       "      <td>2020-05-05 23:12:00</td>\n",
       "      <td>2020-05-05 23:30:12.774491</td>\n",
       "      <td>2020-05-31 01:58:02.246298</td>\n",
       "      <td>Í samtali við Fréttablaðið segir Elliði Vignis...</td>\n",
       "      <td>Í samtali við Fréttablaðið segir Elliði Vignis...</td>\n",
       "    </tr>\n",
       "  </tbody>\n",
       "</table>\n",
       "</div>"
      ],
      "text/plain": [
       "                                                   title  \\\n",
       "21513  Samherjamálið er hrikalegt áfall fyrir allan s...   \n",
       "21514  HeForShe berst gegn netníði: Konur á aldrinum ...   \n",
       "21515         Hönnuður New York-ástar­lógósins er látinn   \n",
       "21516        Dagbjartur og Ragnhildur sigruðu Síma-mótið   \n",
       "21517  Elliði hafnar því að líkja Samfylkingunni við ...   \n",
       "\n",
       "                       author  \\\n",
       "21513  Ritstjórn Hringbrautar   \n",
       "21514    Hulda Hólmkelsdóttir   \n",
       "21515         Atli Ísleifsson   \n",
       "21516     Anton Ingi Leifsson   \n",
       "21517      Urður Örlygsdóttir   \n",
       "\n",
       "                                                     url            timestamp  \\\n",
       "21513  http://www.hringbraut.is/frettir/samherjamalid...  2019-11-13 14:30:00   \n",
       "21514  http://www.visir.is/heforshe-berst-gegn-netnid...  2016-10-11 11:15:00   \n",
       "21515  https://www.visir.is/g/20201985728d/honnudur-n...  2020-06-27 18:17:00   \n",
       "21516  https://www.visir.is/g/2019190608898/dagbjartu...  2019-06-09 16:14:00   \n",
       "21517  https://www.frettabladid.is/frettir/ellidi-haf...  2020-05-05 23:12:00   \n",
       "\n",
       "                               t2                          t3  \\\n",
       "21513  2019-11-13 15:00:17.237825  2020-10-20 05:34:40.142362   \n",
       "21514  2016-10-11 12:00:12.706579  2020-10-14 06:23:56.773503   \n",
       "21515  2020-06-27 18:30:13.330922  2020-06-27 18:30:26.505181   \n",
       "21516  2019-06-09 16:30:12.727944  2020-08-30 05:21:12.769194   \n",
       "21517  2020-05-05 23:30:12.774491  2020-05-31 01:58:02.246298   \n",
       "\n",
       "                                                    text  \\\n",
       "21513  Ef marka má mikinn fréttaflutning og fram komi...   \n",
       "21514  UN Women á Íslandi hleypir í dag af stokkunum ...   \n",
       "21515  Grafíski hönnuðurinn Milton Glaser, sem hannað...   \n",
       "21516  Dagbjartur Sigurbrandsson, úr GR, og Ragnhildu...   \n",
       "21517  Í samtali við Fréttablaðið segir Elliði Vignis...   \n",
       "\n",
       "                                          text_tokenized  \n",
       "21513  Ef marka má mikinn fréttaflutning og fram komi...  \n",
       "21514  UN Women á Íslandi hleypir í dag af stokkunum ...  \n",
       "21515  Grafíski hönnuðurinn Milton Glaser , sem hanna...  \n",
       "21516  Dagbjartur Sigurbrandsson , úr GR , og Ragnhil...  \n",
       "21517  Í samtali við Fréttablaðið segir Elliði Vignis...  "
      ]
     },
     "execution_count": 15,
     "metadata": {},
     "output_type": "execute_result"
    }
   ],
   "source": [
    "news_df.tail()"
   ]
  },
  {
   "cell_type": "code",
   "execution_count": 11,
   "id": "71b0754d-7022-4b56-8fb0-efa36e5c3546",
   "metadata": {},
   "outputs": [
    {
     "name": "stdout",
     "output_type": "stream",
     "text": [
      "['Samherjamálið er hrikalegt áfall fyrir allan sjávarútveginn og Sjálfstæðisflokkinn', 'HeForShe berst gegn netníði: Konur á aldrinum 18-24 ára líklegastar til að verða fyrir netníð', 'Hönnuður New York-ástar\\xadlógósins er látinn', 'Dagbjartur og Ragnhildur sigruðu Síma-mótið', 'Elliði hafnar því að líkja Samfylkingunni við nasista']\n"
     ]
    }
   ],
   "source": [
    "print([a[\"title\"] for a in articles[-5:]])"
   ]
  },
  {
   "cell_type": "code",
   "execution_count": 28,
   "id": "d0a50f3e-c6e0-4fe4-b421-ae70ed5dac2d",
   "metadata": {},
   "outputs": [
    {
     "name": "stderr",
     "output_type": "stream",
     "text": [
      "100%|██████████████████████████████████████████████████████████████████████| 640136/640136 [00:05<00:00, 125168.52it/s]\n"
     ]
    },
    {
     "name": "stdout",
     "output_type": "stream",
     "text": [
      "Article count 640136\n"
     ]
    }
   ],
   "source": [
    "articles_Big = read_news_tsv(\"articles_until_01-11-2020_detok.tsv\")\n",
    "print(f\"Article count {len(articles_Big)}\")"
   ]
  },
  {
   "cell_type": "code",
   "execution_count": 30,
   "id": "61fb30c0-d3f2-45a5-b49c-7d7e8834ff86",
   "metadata": {},
   "outputs": [],
   "source": [
    "news_Big = pd.read_csv(\"articles_until_01-11-2020_detok.tsv\", sep='\\t', names=[\"title\", \"author\", \"url\", \"timestamp\", \"t2\", \"t3\", \"text\", \"text_tokenized\"])"
   ]
  },
  {
   "cell_type": "code",
   "execution_count": 25,
   "id": "5a67a7db-b069-4471-ab80-69b77e7c56af",
   "metadata": {},
   "outputs": [
    {
     "name": "stdout",
     "output_type": "stream",
     "text": [
      "605505\n"
     ]
    }
   ],
   "source": [
    "print(len(news_Big))"
   ]
  },
  {
   "cell_type": "code",
   "execution_count": 26,
   "id": "37cc54bd-dd0a-4c46-8cd9-b963e6229bf4",
   "metadata": {},
   "outputs": [
    {
     "data": {
      "text/plain": [
       "(605505, 8)"
      ]
     },
     "execution_count": 26,
     "metadata": {},
     "output_type": "execute_result"
    }
   ],
   "source": [
    "news_Big.shape"
   ]
  },
  {
   "cell_type": "code",
   "execution_count": 31,
   "id": "323fcf1a-170f-4e22-95ba-ee7c821355d5",
   "metadata": {},
   "outputs": [
    {
     "data": {
      "text/html": [
       "<div>\n",
       "<style scoped>\n",
       "    .dataframe tbody tr th:only-of-type {\n",
       "        vertical-align: middle;\n",
       "    }\n",
       "\n",
       "    .dataframe tbody tr th {\n",
       "        vertical-align: top;\n",
       "    }\n",
       "\n",
       "    .dataframe thead th {\n",
       "        text-align: right;\n",
       "    }\n",
       "</style>\n",
       "<table border=\"1\" class=\"dataframe\">\n",
       "  <thead>\n",
       "    <tr style=\"text-align: right;\">\n",
       "      <th></th>\n",
       "      <th>title</th>\n",
       "      <th>author</th>\n",
       "      <th>url</th>\n",
       "      <th>timestamp</th>\n",
       "      <th>t2</th>\n",
       "      <th>t3</th>\n",
       "      <th>text</th>\n",
       "      <th>text_tokenized</th>\n",
       "    </tr>\n",
       "  </thead>\n",
       "  <tbody>\n",
       "    <tr>\n",
       "      <th>605500</th>\n",
       "      <td>Rússar hrifsa Járnkrúnuna</td>\n",
       "      <td>Ritstjórn mbl.is</td>\n",
       "      <td>https://mbl.is/frettir/erlent/2019/05/14/russa...</td>\n",
       "      <td>2019-05-14 22:24:00</td>\n",
       "      <td>2019-05-14 23:00:14.078748</td>\n",
       "      <td>2020-07-15 05:17:51.223159</td>\n",
       "      <td>Rússnesk yfirvöld hafa gert eftirlíkingu af Já...</td>\n",
       "      <td>Rússnesk yfirvöld hafa gert eftirlíkingu af Já...</td>\n",
       "    </tr>\n",
       "    <tr>\n",
       "      <th>605501</th>\n",
       "      <td>Bentu á annmarkann án árangurs</td>\n",
       "      <td>Þórdís Arnljótsdóttir</td>\n",
       "      <td>http://www.ruv.is/frett/bentu-a-annmarkann-an-...</td>\n",
       "      <td>2019-05-14 22:12:45</td>\n",
       "      <td>2019-05-14 23:00:13.639359</td>\n",
       "      <td>2020-07-15 05:18:05.040948</td>\n",
       "      <td>Áður en Alþingi breytti lögum um tekjustofna s...</td>\n",
       "      <td>Áður en Alþingi breytti lögum um tekjustofna s...</td>\n",
       "    </tr>\n",
       "    <tr>\n",
       "      <th>605502</th>\n",
       "      <td>Engin merki um bólu á íbúðamarkaði</td>\n",
       "      <td>Kristinn Ingi Jónsson</td>\n",
       "      <td>http://www.visir.is/g/2017171108994/engin-merk...</td>\n",
       "      <td>2017-11-08 08:30:13.347647</td>\n",
       "      <td>2017-11-08 08:30:13.421567</td>\n",
       "      <td>2020-07-15 05:21:58.47302</td>\n",
       "      <td>Það er full ástæða til þess að vera á varðberg...</td>\n",
       "      <td>Það er full ástæða til þess að vera á varðberg...</td>\n",
       "    </tr>\n",
       "    <tr>\n",
       "      <th>605503</th>\n",
       "      <td>Seldu marijúana í bílalúgunni</td>\n",
       "      <td>Ritstjórn mbl.is</td>\n",
       "      <td>http://www.mbl.is/frettir/erlent/2017/01/30/se...</td>\n",
       "      <td>2017-01-30 12:54:00</td>\n",
       "      <td>2017-01-30 13:00:11.032716</td>\n",
       "      <td>2020-07-15 05:18:35.836878</td>\n",
       "      <td>Tveir starfsmenn skyndibitakeðjunnar Burger Ki...</td>\n",
       "      <td>Tveir starfsmenn skyndibitakeðjunnar Burger Ki...</td>\n",
       "    </tr>\n",
       "    <tr>\n",
       "      <th>605504</th>\n",
       "      <td>Björn gæti farið í næstefstu deild Noregs</td>\n",
       "      <td>Sindri Sverrisson</td>\n",
       "      <td>https://www.visir.is/g/20202000418d/bjorn-gaet...</td>\n",
       "      <td>2020-08-12 14:30:00</td>\n",
       "      <td>2020-08-12 15:00:13.660964</td>\n",
       "      <td>2020-08-12 15:00:25.989147</td>\n",
       "      <td>Björn Bergmann Sigurðarson, landsliðsmaður í f...</td>\n",
       "      <td>Björn Bergmann Sigurðarson , landsliðsmaður í ...</td>\n",
       "    </tr>\n",
       "  </tbody>\n",
       "</table>\n",
       "</div>"
      ],
      "text/plain": [
       "                                            title                 author  \\\n",
       "605500                  Rússar hrifsa Járnkrúnuna       Ritstjórn mbl.is   \n",
       "605501             Bentu á annmarkann án árangurs  Þórdís Arnljótsdóttir   \n",
       "605502         Engin merki um bólu á íbúðamarkaði  Kristinn Ingi Jónsson   \n",
       "605503              Seldu marijúana í bílalúgunni       Ritstjórn mbl.is   \n",
       "605504  Björn gæti farið í næstefstu deild Noregs      Sindri Sverrisson   \n",
       "\n",
       "                                                      url  \\\n",
       "605500  https://mbl.is/frettir/erlent/2019/05/14/russa...   \n",
       "605501  http://www.ruv.is/frett/bentu-a-annmarkann-an-...   \n",
       "605502  http://www.visir.is/g/2017171108994/engin-merk...   \n",
       "605503  http://www.mbl.is/frettir/erlent/2017/01/30/se...   \n",
       "605504  https://www.visir.is/g/20202000418d/bjorn-gaet...   \n",
       "\n",
       "                         timestamp                          t2  \\\n",
       "605500         2019-05-14 22:24:00  2019-05-14 23:00:14.078748   \n",
       "605501         2019-05-14 22:12:45  2019-05-14 23:00:13.639359   \n",
       "605502  2017-11-08 08:30:13.347647  2017-11-08 08:30:13.421567   \n",
       "605503         2017-01-30 12:54:00  2017-01-30 13:00:11.032716   \n",
       "605504         2020-08-12 14:30:00  2020-08-12 15:00:13.660964   \n",
       "\n",
       "                                t3  \\\n",
       "605500  2020-07-15 05:17:51.223159   \n",
       "605501  2020-07-15 05:18:05.040948   \n",
       "605502   2020-07-15 05:21:58.47302   \n",
       "605503  2020-07-15 05:18:35.836878   \n",
       "605504  2020-08-12 15:00:25.989147   \n",
       "\n",
       "                                                     text  \\\n",
       "605500  Rússnesk yfirvöld hafa gert eftirlíkingu af Já...   \n",
       "605501  Áður en Alþingi breytti lögum um tekjustofna s...   \n",
       "605502  Það er full ástæða til þess að vera á varðberg...   \n",
       "605503  Tveir starfsmenn skyndibitakeðjunnar Burger Ki...   \n",
       "605504  Björn Bergmann Sigurðarson, landsliðsmaður í f...   \n",
       "\n",
       "                                           text_tokenized  \n",
       "605500  Rússnesk yfirvöld hafa gert eftirlíkingu af Já...  \n",
       "605501  Áður en Alþingi breytti lögum um tekjustofna s...  \n",
       "605502  Það er full ástæða til þess að vera á varðberg...  \n",
       "605503  Tveir starfsmenn skyndibitakeðjunnar Burger Ki...  \n",
       "605504  Björn Bergmann Sigurðarson , landsliðsmaður í ...  "
      ]
     },
     "execution_count": 31,
     "metadata": {},
     "output_type": "execute_result"
    }
   ],
   "source": [
    "news_Big.tail()"
   ]
  },
  {
   "cell_type": "code",
   "execution_count": 29,
   "id": "39c29a39-3d6d-4e95-a411-593c8b088979",
   "metadata": {},
   "outputs": [
    {
     "name": "stdout",
     "output_type": "stream",
     "text": [
      "['Rússar hrifsa Járnkrúnuna', 'Bentu á annmarkann án árangurs', 'Engin merki um bólu á íbúðamarkaði', 'Seldu marijúana í bílalúgunni', 'Björn gæti farið í næstefstu deild Noregs']\n"
     ]
    }
   ],
   "source": [
    "print([a[\"title\"] for a in articles_Big[-5:]])"
   ]
  },
  {
   "cell_type": "code",
   "execution_count": 38,
   "id": "7cabf017-9a8e-4b02-8c6a-951661929947",
   "metadata": {},
   "outputs": [],
   "source": [
    "from sklearn.model_selection import train_test_split"
   ]
  },
  {
   "cell_type": "code",
   "execution_count": 39,
   "id": "bbe9fc81-0373-4ef8-9206-a6e630097f54",
   "metadata": {},
   "outputs": [],
   "source": [
    "data_train, data_test = train_test_split(news_Big, test_size = 0.15, random_state=11)"
   ]
  },
  {
   "cell_type": "code",
   "execution_count": 40,
   "id": "edc94703-8a96-4c19-b257-69e5d177046f",
   "metadata": {},
   "outputs": [
    {
     "data": {
      "text/plain": [
       "(514679, 8)"
      ]
     },
     "execution_count": 40,
     "metadata": {},
     "output_type": "execute_result"
    }
   ],
   "source": [
    "data_train.shape"
   ]
  },
  {
   "cell_type": "code",
   "execution_count": 41,
   "id": "df210794-4133-48c4-bdaf-fd64fbef800f",
   "metadata": {},
   "outputs": [
    {
     "data": {
      "text/plain": [
       "(90826, 8)"
      ]
     },
     "execution_count": 41,
     "metadata": {},
     "output_type": "execute_result"
    }
   ],
   "source": [
    "data_test.shape"
   ]
  },
  {
   "cell_type": "code",
   "execution_count": 42,
   "id": "def37b69-0ac7-45db-9d13-a7ce8c2547a0",
   "metadata": {},
   "outputs": [],
   "source": [
    "_, data_playground = train_test_split(data_train, test_size = 0.10, random_state=11)"
   ]
  },
  {
   "cell_type": "code",
   "execution_count": 43,
   "id": "c8efe7cd-f0b4-4656-9403-e04c5aeb184c",
   "metadata": {},
   "outputs": [
    {
     "data": {
      "text/plain": [
       "(51468, 8)"
      ]
     },
     "execution_count": 43,
     "metadata": {},
     "output_type": "execute_result"
    }
   ],
   "source": [
    "data_playground.shape"
   ]
  },
  {
   "cell_type": "markdown",
   "id": "5a670345-3d47-4e04-97d7-d3e1319577b4",
   "metadata": {},
   "source": [
    "# Spurningar\n",
    "\n",
    "Af hverju fær pandas færri fréttir?\n",
    "þarf val sett?\n",
    "Hvernig præmar maður flokkana?\n",
    "\n",
    "Skrifta sem flokkar í náttúruvernd\n",
    "flokkara ofan á icebert (eins og ner verkefnið)\n",
    "text classification notebook transformers (glue, skipta út fyrir subject xx) \n",
    "\n",
    "check á default stillingum á pandas csv\n",
    "\n",
    "merkja óséð dæmi til að geta testað \n",
    "\n",
    "LDA til að taka út ótengt efni. "
   ]
  },
  {
   "cell_type": "code",
   "execution_count": null,
   "id": "5cdb5e24-d7d8-4bde-b6b8-336c089416e4",
   "metadata": {},
   "outputs": [],
   "source": []
  }
 ],
 "metadata": {
  "kernelspec": {
   "display_name": "Python 3 (ipykernel)",
   "language": "python",
   "name": "python3"
  },
  "language_info": {
   "codemirror_mode": {
    "name": "ipython",
    "version": 3
   },
   "file_extension": ".py",
   "mimetype": "text/x-python",
   "name": "python",
   "nbconvert_exporter": "python",
   "pygments_lexer": "ipython3",
   "version": "3.9.7"
  }
 },
 "nbformat": 4,
 "nbformat_minor": 5
}
