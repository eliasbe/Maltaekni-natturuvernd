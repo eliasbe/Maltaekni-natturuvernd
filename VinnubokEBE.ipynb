{
 "cells": [
  {
   "cell_type": "markdown",
   "id": "2e8b67ee-e69a-4347-b08c-b72c820c507f",
   "metadata": {},
   "source": [
    "# Máltækni - Náttúruvernd"
   ]
  },
  {
   "cell_type": "markdown",
   "id": "72f1ce20-80fd-4dc1-9611-6980034e24ad",
   "metadata": {
    "tags": []
   },
   "source": [
    "# Data import & manipulation"
   ]
  },
  {
   "cell_type": "code",
   "execution_count": 108,
   "id": "24429e8d-1d90-46e7-b215-3d0d18a93322",
   "metadata": {},
   "outputs": [],
   "source": [
    "from numpy.random import default_rng\n",
    "import re\n",
    "import tqdm\n",
    "import pandas as pd\n",
    "import pickle\n",
    "import numpy as np"
   ]
  },
  {
   "cell_type": "code",
   "execution_count": 105,
   "id": "a45351d5-dada-4107-bcbb-7d36b76e87f2",
   "metadata": {},
   "outputs": [],
   "source": [
    "#@Vésteinn\n",
    "def read_news_tsv(file_name):\n",
    "    data = []\n",
    "    with open(file_name, encoding=\"utf-8\") as fh:\n",
    "        for line in tqdm.tqdm(fh.readlines()):\n",
    "            title, author, url, timestamp, _, _, text, text_tokenized = line.split(\"\\t\")\n",
    "            article = {\n",
    "                \"title\": title,\n",
    "                \"author\": author,\n",
    "                \"timestamp\": timestamp,\n",
    "                \"text\": text,\n",
    "                \"text_tokenized\": text_tokenized\n",
    "            }\n",
    "            data.append(article)\n",
    "        return data"
   ]
  },
  {
   "cell_type": "code",
   "execution_count": 8,
   "id": "86bcd8f4-d708-4f5a-bcc8-6de1bd238144",
   "metadata": {},
   "outputs": [
    {
     "name": "stderr",
     "output_type": "stream",
     "text": [
      "100%|████████████████████████████████████████████████████████████████████████| 22248/22248 [00:00<00:00, 195903.43it/s]"
     ]
    },
    {
     "name": "stdout",
     "output_type": "stream",
     "text": [
      "Article count 22248\n"
     ]
    },
    {
     "name": "stderr",
     "output_type": "stream",
     "text": [
      "\n"
     ]
    }
   ],
   "source": [
    "articles = read_news_tsv(\"icelandic_news_sample_22480.tsv\")\n",
    "print(f\"Article count {len(articles)}\")"
   ]
  },
  {
   "cell_type": "code",
   "execution_count": 12,
   "id": "45049bff-c45b-450a-bc6c-3a1ea03eb58b",
   "metadata": {},
   "outputs": [],
   "source": [
    "articles_df = pd.DataFrame(articles)"
   ]
  },
  {
   "cell_type": "code",
   "execution_count": 22,
   "id": "03f003d2-baa6-4fc5-905f-67961e483e50",
   "metadata": {},
   "outputs": [
    {
     "data": {
      "text/html": [
       "<div>\n",
       "<style scoped>\n",
       "    .dataframe tbody tr th:only-of-type {\n",
       "        vertical-align: middle;\n",
       "    }\n",
       "\n",
       "    .dataframe tbody tr th {\n",
       "        vertical-align: top;\n",
       "    }\n",
       "\n",
       "    .dataframe thead th {\n",
       "        text-align: right;\n",
       "    }\n",
       "</style>\n",
       "<table border=\"1\" class=\"dataframe\">\n",
       "  <thead>\n",
       "    <tr style=\"text-align: right;\">\n",
       "      <th></th>\n",
       "      <th>title</th>\n",
       "      <th>author</th>\n",
       "      <th>timestamp</th>\n",
       "      <th>text</th>\n",
       "      <th>text_tokenized</th>\n",
       "    </tr>\n",
       "  </thead>\n",
       "  <tbody>\n",
       "    <tr>\n",
       "      <th>0</th>\n",
       "      <td>ARON CAN ER SILKISLAKUR OG SVALUR - Albumm</td>\n",
       "      <td>Ritstjórn visir.is</td>\n",
       "      <td>2017-03-13 12:30:11.58353</td>\n",
       "      <td>ARON CAN ER SILKISLAKUR OG SVALUR—Albumm ☰ FRÉ...</td>\n",
       "      <td>ARON CAN ER SILKISLAKUR OG SVALUR — Albumm ☰ F...</td>\n",
       "    </tr>\n",
       "    <tr>\n",
       "      <th>1</th>\n",
       "      <td>Sveindís kemur mjög vel inn í okkar hóp</td>\n",
       "      <td>Sindri Sverrisson</td>\n",
       "      <td>2020-09-16 13:00:00</td>\n",
       "      <td>Jón Þór Hauksson, landsliðsþjálfari í fótbolta...</td>\n",
       "      <td>Jón Þór Hauksson , landsliðsþjálfari í fótbolt...</td>\n",
       "    </tr>\n",
       "    <tr>\n",
       "      <th>2</th>\n",
       "      <td>Keyrði á kyrrstæðan bíl í miðbænum: „Gríðarleg...</td>\n",
       "      <td>Ritstjórn DV</td>\n",
       "      <td>2019-06-17 08:15:05</td>\n",
       "      <td>Karlmaður var fluttur á slysadeild í nótt efti...</td>\n",
       "      <td>Karlmaður var fluttur á slysadeild í nótt efti...</td>\n",
       "    </tr>\n",
       "    <tr>\n",
       "      <th>3</th>\n",
       "      <td>Markaðssetja þurfi vannýtt svæði á landsbyggðinni</td>\n",
       "      <td>Margrét Helga Erlingsdóttir</td>\n",
       "      <td>2019-09-20 12:59:00</td>\n",
       "      <td>Stjórnvöld verða að móta sér stefnu til framtí...</td>\n",
       "      <td>Stjórnvöld verða að móta sér stefnu til framtí...</td>\n",
       "    </tr>\n",
       "    <tr>\n",
       "      <th>4</th>\n",
       "      <td>Biður um þolinmæði í skertri velferðarþjónustu</td>\n",
       "      <td>Þórdís Arnljótsdóttir</td>\n",
       "      <td>2020-03-28 19:47:25</td>\n",
       "      <td>Stór hluti þeirra sem fær velferðarþjónustu í ...</td>\n",
       "      <td>Stór hluti þeirra sem fær velferðarþjónustu í ...</td>\n",
       "    </tr>\n",
       "  </tbody>\n",
       "</table>\n",
       "</div>"
      ],
      "text/plain": [
       "                                               title  \\\n",
       "0         ARON CAN ER SILKISLAKUR OG SVALUR - Albumm   \n",
       "1            Sveindís kemur mjög vel inn í okkar hóp   \n",
       "2  Keyrði á kyrrstæðan bíl í miðbænum: „Gríðarleg...   \n",
       "3  Markaðssetja þurfi vannýtt svæði á landsbyggðinni   \n",
       "4     Biður um þolinmæði í skertri velferðarþjónustu   \n",
       "\n",
       "                        author                  timestamp  \\\n",
       "0           Ritstjórn visir.is  2017-03-13 12:30:11.58353   \n",
       "1            Sindri Sverrisson        2020-09-16 13:00:00   \n",
       "2                 Ritstjórn DV        2019-06-17 08:15:05   \n",
       "3  Margrét Helga Erlingsdóttir        2019-09-20 12:59:00   \n",
       "4        Þórdís Arnljótsdóttir        2020-03-28 19:47:25   \n",
       "\n",
       "                                                text  \\\n",
       "0  ARON CAN ER SILKISLAKUR OG SVALUR—Albumm ☰ FRÉ...   \n",
       "1  Jón Þór Hauksson, landsliðsþjálfari í fótbolta...   \n",
       "2  Karlmaður var fluttur á slysadeild í nótt efti...   \n",
       "3  Stjórnvöld verða að móta sér stefnu til framtí...   \n",
       "4  Stór hluti þeirra sem fær velferðarþjónustu í ...   \n",
       "\n",
       "                                      text_tokenized  \n",
       "0  ARON CAN ER SILKISLAKUR OG SVALUR — Albumm ☰ F...  \n",
       "1  Jón Þór Hauksson , landsliðsþjálfari í fótbolt...  \n",
       "2  Karlmaður var fluttur á slysadeild í nótt efti...  \n",
       "3  Stjórnvöld verða að móta sér stefnu til framtí...  \n",
       "4  Stór hluti þeirra sem fær velferðarþjónustu í ...  "
      ]
     },
     "execution_count": 22,
     "metadata": {},
     "output_type": "execute_result"
    }
   ],
   "source": [
    "articles_df.head()"
   ]
  },
  {
   "cell_type": "code",
   "execution_count": 13,
   "id": "d0a50f3e-c6e0-4fe4-b421-ae70ed5dac2d",
   "metadata": {},
   "outputs": [
    {
     "name": "stderr",
     "output_type": "stream",
     "text": [
      "100%|██████████████████████████████████████████████████████████████████████| 640136/640136 [00:05<00:00, 111343.55it/s]\n"
     ]
    },
    {
     "name": "stdout",
     "output_type": "stream",
     "text": [
      "Article count 640136\n"
     ]
    }
   ],
   "source": [
    "articles_Big = read_news_tsv(\"articles_until_01-11-2020_detok.tsv\")\n",
    "print(f\"Article count {len(articles_Big)}\")"
   ]
  },
  {
   "cell_type": "code",
   "execution_count": 14,
   "id": "9be75a6e-91a3-46d4-b618-631d826a4083",
   "metadata": {},
   "outputs": [],
   "source": [
    "news_Big = pd.DataFrame(articles_Big)"
   ]
  },
  {
   "cell_type": "code",
   "execution_count": 15,
   "id": "78049822-421f-47f0-8d82-776bb1650839",
   "metadata": {},
   "outputs": [
    {
     "data": {
      "text/plain": [
       "0"
      ]
     },
     "execution_count": 15,
     "metadata": {},
     "output_type": "execute_result"
    }
   ],
   "source": [
    "news_Big['text'].isnull().sum()"
   ]
  },
  {
   "cell_type": "code",
   "execution_count": 16,
   "id": "bbe9fc81-0373-4ef8-9206-a6e630097f54",
   "metadata": {},
   "outputs": [],
   "source": [
    "from sklearn.model_selection import train_test_split\n",
    "data_train, data_test = train_test_split(news_Big, test_size = 0.15, random_state=11)"
   ]
  },
  {
   "cell_type": "code",
   "execution_count": 17,
   "id": "edc94703-8a96-4c19-b257-69e5d177046f",
   "metadata": {},
   "outputs": [
    {
     "name": "stdout",
     "output_type": "stream",
     "text": [
      "Training data examles: 544115\n",
      "Test data examles: 96021\n"
     ]
    }
   ],
   "source": [
    "print(f'Training data examles: {data_train.shape[0]}')\n",
    "print(f'Test data examles: {data_test.shape[0]}')"
   ]
  },
  {
   "cell_type": "code",
   "execution_count": 18,
   "id": "ce203c6d-52ed-42fa-9d81-285f6c000725",
   "metadata": {},
   "outputs": [],
   "source": [
    "data_test, data_test_labeled = train_test_split(data_test, test_size = 0.005, random_state=11)"
   ]
  },
  {
   "cell_type": "code",
   "execution_count": 19,
   "id": "41347be2-e314-4a6f-b68c-d0f88797dd3d",
   "metadata": {},
   "outputs": [
    {
     "name": "stdout",
     "output_type": "stream",
     "text": [
      "Test data examles: 95540\n",
      "Labeled test data examles: 481\n"
     ]
    }
   ],
   "source": [
    "print(f'Test data examles: {data_test.shape[0]}')\n",
    "print(f'Labeled test data examles: {data_test_labeled.shape[0]}')"
   ]
  },
  {
   "cell_type": "code",
   "execution_count": 20,
   "id": "def37b69-0ac7-45db-9d13-a7ce8c2547a0",
   "metadata": {},
   "outputs": [
    {
     "name": "stdout",
     "output_type": "stream",
     "text": [
      "Playground data examles: 54412\n"
     ]
    }
   ],
   "source": [
    "# Subset af training til að koma virkni í gang án þjálfunartíma\n",
    "_, data_playground = train_test_split(data_train, test_size = 0.10, random_state=11)\n",
    "print(f'Playground data examles: {data_playground.shape[0]}')"
   ]
  },
  {
   "cell_type": "markdown",
   "id": "3618ea63-df25-495b-baa3-b6180e40c368",
   "metadata": {
    "tags": []
   },
   "source": [
    "# Skriftupælingar"
   ]
  },
  {
   "cell_type": "code",
   "execution_count": 23,
   "id": "5cdb5e24-d7d8-4bde-b6b8-336c089416e4",
   "metadata": {},
   "outputs": [],
   "source": [
    "def rand_frett(safn, count):\n",
    "    listi = []\n",
    "    from numpy.random import default_rng\n",
    "    import re\n",
    "    rng = default_rng()\n",
    "    n = safn.shape[0]\n",
    "    for i in tqdm.trange(count):\n",
    "        x = rng.integers(n)\n",
    "        if pd.isnull(safn.iloc[x][\"text\"]):\n",
    "            continue\n",
    "        frett = safn.iloc[x][\"text\"] # ath iloc\n",
    "        frettnr = safn.iloc[x].name\n",
    "        lykilord = [\"náttúruvernd\", \"loftslag\", \"umhverfi\"]\n",
    "        fjoldi = 0\n",
    "        for wrd in lykilord:\n",
    "            fjoldi += len(re.findall(wrd, frett))\n",
    "        if fjoldi > 0:\n",
    "            listi.append(frettnr) # Ath. algildur index\n",
    "            #print(frett)\n",
    "    return listi\n",
    "\n",
    "    "
   ]
  },
  {
   "cell_type": "code",
   "execution_count": 128,
   "id": "294cc60d-bd48-48c2-90b7-885b99c0a38f",
   "metadata": {},
   "outputs": [],
   "source": [
    "def allar_frettir(safn, threshold=0):\n",
    "    listi = []\n",
    "\n",
    "    n = safn.shape[0]\n",
    "    for i in tqdm.trange(n):\n",
    "        frett = safn.iloc[i][\"text\"]\n",
    "        lykilord = [\"náttúruvernd\", \"loftslag\", \"umhverfi\"]\n",
    "        fjoldi = 0\n",
    "        for wrd in lykilord:\n",
    "            fjoldi += len(re.findall(wrd, frett))\n",
    "        if fjoldi > threshold:\n",
    "            listi.append(i) # ath. afstæð númer m.v. safn\n",
    "            #print(frett)\n",
    "    return listi\n",
    "\n",
    "    "
   ]
  },
  {
   "cell_type": "code",
   "execution_count": 25,
   "id": "6effcfd1-3d21-4128-aa32-d07c45f7a7f0",
   "metadata": {},
   "outputs": [
    {
     "name": "stderr",
     "output_type": "stream",
     "text": [
      "100%|███████████████████████████████████████████████████████████████████████| 100000/100000 [00:07<00:00, 13338.91it/s]"
     ]
    },
    {
     "name": "stdout",
     "output_type": "stream",
     "text": [
      "0.06751\n"
     ]
    },
    {
     "name": "stderr",
     "output_type": "stream",
     "text": [
      "\n"
     ]
    }
   ],
   "source": [
    "sample_count = 100000\n",
    "big_list = rand_frett(news_Big, sample_count)\n",
    "print(len(big_list)/sample_count)"
   ]
  },
  {
   "cell_type": "code",
   "execution_count": 26,
   "id": "2b42c953-4523-4f0f-abc5-f8143af14de2",
   "metadata": {},
   "outputs": [
    {
     "name": "stderr",
     "output_type": "stream",
     "text": [
      "100%|█████████████████████████████████████████████████████████████████████████████| 481/481 [00:00<00:00, 10546.11it/s]\n"
     ]
    }
   ],
   "source": [
    "sigtaðar_frettir = allar_frettir(data_test_labeled)"
   ]
  },
  {
   "cell_type": "code",
   "execution_count": null,
   "id": "040a7c2b-4e72-486c-9327-539c69c82a80",
   "metadata": {},
   "outputs": [],
   "source": [
    "for fr in sigtaðar_frettir[:10]:\n",
    "    print(data_test_labeled.iloc[fr])"
   ]
  },
  {
   "cell_type": "code",
   "execution_count": 28,
   "id": "d34fbc72-348f-47dc-ab52-213470ff73d6",
   "metadata": {},
   "outputs": [
    {
     "data": {
      "text/plain": [
       "38"
      ]
     },
     "execution_count": 28,
     "metadata": {},
     "output_type": "execute_result"
    }
   ],
   "source": [
    "len(sigtaðar_frettir)"
   ]
  },
  {
   "cell_type": "code",
   "execution_count": null,
   "id": "1f5e19cd-cac7-4067-a047-58d088ccd68f",
   "metadata": {},
   "outputs": [],
   "source": [
    "for fr in big_list[:10]:\n",
    "    print(news_Big.loc[fr])"
   ]
  },
  {
   "cell_type": "code",
   "execution_count": null,
   "id": "77b95410-8c2e-45c3-829e-0b620e4bd5e5",
   "metadata": {},
   "outputs": [],
   "source": [
    "ja = []\n",
    "vafi = []\n",
    "annad = []\n",
    "for i in sigtaðar_frettir[:3]:\n",
    "    frett = data_test_labeled.iloc[i]\n",
    "    print(frett[\"text\"])\n",
    "    print(frett[\"title\"])\n",
    "    einkunn = input(\"Um náttúruvernd?\\n\")\n",
    "    if einkunn == str(1):\n",
    "        ja.append(frett.name)\n",
    "    elif einkunn == str(2):\n",
    "        vafi.append(frett.name)\n",
    "    else:\n",
    "        annad.append(frett.name)"
   ]
  },
  {
   "cell_type": "code",
   "execution_count": 133,
   "id": "743ce1bc-57be-45b8-bbb1-24b73e01f853",
   "metadata": {},
   "outputs": [],
   "source": [
    "def label(safn, sigti, count):\n",
    "    ja = []\n",
    "    vafi = []\n",
    "    annad = []\n",
    "    for i in sigti[:count]:\n",
    "        frett = safn.iloc[i]\n",
    "        print(frett[\"text\"])\n",
    "        print(frett[\"title\"])\n",
    "        einkunn = input(\"Um náttúruvernd?\\n\")\n",
    "        print()\n",
    "        if einkunn == str(1):\n",
    "            ja.append(frett.name)\n",
    "        elif einkunn == str(2):\n",
    "            vafi.append(frett.name)\n",
    "        else:\n",
    "            annad.append(frett.name)\n",
    "    return ja, vafi, annad"
   ]
  },
  {
   "cell_type": "code",
   "execution_count": null,
   "id": "1e2758ed-55f1-4b13-a675-29e4565f572a",
   "metadata": {},
   "outputs": [],
   "source": []
  },
  {
   "cell_type": "code",
   "execution_count": 83,
   "id": "f816a586-cdf6-4bd6-99df-6c8253225327",
   "metadata": {},
   "outputs": [
    {
     "name": "stdout",
     "output_type": "stream",
     "text": [
      "475\n",
      "6\n",
      "481\n"
     ]
    }
   ],
   "source": [
    "jakvætt = set([165133,322727,343386,233961,500609,327615])\n",
    "neikvætt = set(data_test_labeled.index).difference(jakvætt)\n",
    "\n",
    "print(len(neikvætt))\n",
    "print(len(jakvætt))\n",
    "print(data_test_labeled.shape[0])"
   ]
  },
  {
   "cell_type": "code",
   "execution_count": 111,
   "id": "5af76ca9-8ece-4d7d-bdb3-1fca84c2f49a",
   "metadata": {},
   "outputs": [],
   "source": [
    "data_test_labeled[\"label\"] = np.zeros((len(data_test_labeled), 1), dtype = np.int8)"
   ]
  },
  {
   "cell_type": "code",
   "execution_count": 122,
   "id": "62a539b0-1ea1-4eeb-b7ee-6b1e21c1dbb5",
   "metadata": {},
   "outputs": [],
   "source": [
    "for i in jakvætt:\n",
    "    data_test_labeled.loc[i,\"label\"] = 1"
   ]
  },
  {
   "cell_type": "code",
   "execution_count": null,
   "id": "244a94dd-7b93-4c0e-9086-d3b49a8220a7",
   "metadata": {},
   "outputs": [],
   "source": []
  },
  {
   "cell_type": "code",
   "execution_count": null,
   "id": "ac53e78e-2c82-45c5-931c-c93f99e9a08d",
   "metadata": {},
   "outputs": [],
   "source": []
  },
  {
   "cell_type": "code",
   "execution_count": 135,
   "id": "f2f69af2-8962-462d-94d9-8d9d208a7e7a",
   "metadata": {},
   "outputs": [
    {
     "name": "stderr",
     "output_type": "stream",
     "text": [
      "100%|█████████████████████████████████████████████████████████████████████████| 54412/54412 [00:01<00:00, 30996.20it/s]\n"
     ]
    }
   ],
   "source": [
    "playground_sigti = allar_frettir(data_playground, 5)"
   ]
  },
  {
   "cell_type": "code",
   "execution_count": 136,
   "id": "2d762aab-9e37-4599-8555-a60d744424af",
   "metadata": {},
   "outputs": [
    {
     "data": {
      "text/plain": [
       "229"
      ]
     },
     "execution_count": 136,
     "metadata": {},
     "output_type": "execute_result"
    }
   ],
   "source": [
    "len(playground_sigti)"
   ]
  },
  {
   "cell_type": "code",
   "execution_count": null,
   "id": "6b65dcd5-6694-4b9c-858b-c0f47f127b79",
   "metadata": {},
   "outputs": [],
   "source": [
    "ja_p, kannski_p, nei_p = label(data_playground, playground_sigti, 20)"
   ]
  },
  {
   "cell_type": "markdown",
   "id": "48ec2f46-2d14-4737-b083-9f7ea172f32b",
   "metadata": {},
   "source": [
    "# GENSIM LDA pælingar"
   ]
  },
  {
   "cell_type": "code",
   "execution_count": 140,
   "id": "f4bf08ee-0d13-43d0-8a5f-1f1ddf1f5c6b",
   "metadata": {},
   "outputs": [],
   "source": [
    "import gensim"
   ]
  },
  {
   "cell_type": "code",
   "execution_count": 141,
   "id": "9787f3b7-9f6b-41d3-be74-a6f0056cc434",
   "metadata": {},
   "outputs": [],
   "source": [
    "import string\n",
    "stop_words = set()\n",
    "extra_stop_words = [\"var\", \"ver\", \"ekki\", \"sé\"]\n",
    "with open(\"is_stop_words.txt\") as stop_word_file:\n",
    "    for line in stop_word_file.readlines():\n",
    "        stop_words.add(line.strip())\n",
    "stop_words.update(set(string.punctuation))\n",
    "stop_words.update(set(extra_stop_words))"
   ]
  },
  {
   "cell_type": "code",
   "execution_count": 142,
   "id": "60e53388-a3b9-48f8-82d1-dd634f82ba71",
   "metadata": {},
   "outputs": [],
   "source": [
    "import tokenizer\n",
    "from islenska import Bin\n",
    "\n",
    "b = Bin()\n",
    "\n",
    "def naive_bin_lemma(token):\n",
    "    candidates = b.lookup_lemmas_and_cats(token)\n",
    "    if not candidates:\n",
    "        return None\n",
    "    if len(candidates) > 1:\n",
    "        return None\n",
    "    cand = candidates.pop()\n",
    "    if cand[1] not in [\"kk\", \"kvk\", \"hk\"]:\n",
    "        return None\n",
    "    return cand[0]\n",
    "\n",
    "\n",
    "def tokenize_and_lemmatize(sentence):\n",
    "    if pd.isnull(sentence): # Líklegast óþarft núna\n",
    "            return []\n",
    "    tokenized_text = list(tokenizer.split_into_sentences(sentence))\n",
    "    #tokenized_text = list(sentence.split_into_sentences(sentence))\n",
    "    lemmas = []\n",
    "    for sent in tokenized_text:\n",
    "        for token in sent.split():\n",
    "            if token in stop_words:\n",
    "                continue\n",
    "            lemma = naive_bin_lemma(token.lower())\n",
    "            if lemma is not None:\n",
    "                lemmas.append(lemma)\n",
    "    return lemmas"
   ]
  },
  {
   "cell_type": "code",
   "execution_count": 143,
   "id": "7c638469-2f08-4921-aeff-4d9fb4a4eac8",
   "metadata": {},
   "outputs": [],
   "source": [
    "import gensim.corpora as corpora\n",
    "from gensim.utils import simple_preprocess\n",
    "from gensim.models import CoherenceModel"
   ]
  },
  {
   "cell_type": "code",
   "execution_count": 145,
   "id": "7c2b03aa-e900-42c4-a1be-51d3f0d8faf5",
   "metadata": {},
   "outputs": [],
   "source": [
    "load = True\n",
    "if load:\n",
    "    with open('data_words.pickle', 'rb') as fh:\n",
    "        data_words = pickle.load(fh)"
   ]
  },
  {
   "cell_type": "code",
   "execution_count": 36,
   "id": "959b6c86-f777-4200-8b62-24589a058151",
   "metadata": {},
   "outputs": [],
   "source": [
    "# Nú þegar keyrt\n",
    "if not load:\n",
    "    data_words = [tokenize_and_lemmatize(a) for a in tqdm.notebook.tqdm(data_train[\"text_tokenized\"])]"
   ]
  },
  {
   "cell_type": "code",
   "execution_count": 37,
   "id": "763d0c3e-8f76-4364-84c5-e4ebcd123e00",
   "metadata": {},
   "outputs": [],
   "source": [
    "if not load:\n",
    "    with open('data_words.pickle', 'wb') as fh:\n",
    "        pickle.dump(data_words, fh)"
   ]
  },
  {
   "cell_type": "code",
   "execution_count": 146,
   "id": "be9683ff-58dc-4a2c-9658-16f6fa01c199",
   "metadata": {},
   "outputs": [
    {
     "name": "stdout",
     "output_type": "stream",
     "text": [
      "['áheit', 'milljón', 'sólarhringur', 'undirskriftarsöfnun', 'hugmynd', 'flugfélag', 'maður', 'flug-míla_heildsöluverð', 'aðstandandi', 'söfnun', 'áform', 'stofnun', 'flugfélag', 'hugmynd', 'flugfélag', 'stefna', 'flugsamgöngur', 'áheit', 'vefsíða', 'áform', 'flugferð', 'fólk', 'kostur', 'farmiði', 'mínúta', 'brottför', 'fjármálastjóri', 'flugvélaframleiðandi', 'fólk', 'fótur', 'flugrekstur', 'flugrekstrarleyfi', 'fólk', 'þáttur', 'verkefni', 'flug-míla_heildsöluverð', 'átak', 'forsvarsmaður', 'verkefni', 'skarð', 'flugsamgöngur', 'heimasíða', 'félag', 'starfsmaður', 'kostur', 'áhugi', 'öryggi', 'farmiði', 'brottför', 'endurgjald', 'hugmynd', 'sólarhringur', 'skráning', 'milljón', 'forkaupsréttur', 'flug-míla', 'prósent', 'fyrirvari', 'flugfélag', 'ísland', 'félag', 'toppur', 'ís-lending']\n"
     ]
    }
   ],
   "source": [
    "# Build the bigram and trigram models\n",
    "bigram = gensim.models.Phrases(data_words, min_count=5, threshold=100) # higher threshold fewer phrases.\n",
    "trigram = gensim.models.Phrases(bigram[data_words], threshold=100)  \n",
    "\n",
    "# Faster way to get a sentence clubbed as a trigram/bigram\n",
    "bigram_mod = gensim.models.phrases.Phraser(bigram)\n",
    "trigram_mod = gensim.models.phrases.Phraser(trigram)\n",
    "\n",
    "# See trigram example\n",
    "print(trigram_mod[bigram_mod[data_words[0]]])\n"
   ]
  },
  {
   "cell_type": "code",
   "execution_count": 147,
   "id": "4e5c0540-4764-47a1-9685-ce7f4e3a51d7",
   "metadata": {},
   "outputs": [],
   "source": [
    "def make_bigrams(texts):\n",
    "    return [bigram_mod[doc] for doc in texts]\n",
    "\n",
    "def make_trigrams(texts):\n",
    "    return [trigram_mod[bigram_mod[doc]] for doc in texts]"
   ]
  },
  {
   "cell_type": "code",
   "execution_count": 148,
   "id": "054cf940-a18f-45cb-b6a7-5570a717bab2",
   "metadata": {},
   "outputs": [
    {
     "name": "stderr",
     "output_type": "stream",
     "text": [
      "100%|███████████████████████████████████████████████████████████████████████| 544115/544115 [00:15<00:00, 35345.09it/s]\n"
     ]
    }
   ],
   "source": [
    "data_words_bigrams = make_bigrams(tqdm.tqdm(data_words))"
   ]
  },
  {
   "cell_type": "code",
   "execution_count": 149,
   "id": "d10555f1-5aca-4b5f-b004-9d0c465dfe22",
   "metadata": {},
   "outputs": [],
   "source": [
    "# Create Dictionary\n",
    "id2word = corpora.Dictionary(data_words)\n",
    "\n",
    "# Create Corpus\n",
    "texts = data_words\n",
    "\n",
    "# Term Document Frequency\n",
    "corpus = [id2word.doc2bow(text) for text in texts]"
   ]
  },
  {
   "cell_type": "code",
   "execution_count": 150,
   "id": "aaa3d890-e42e-4570-b1b1-fd055aff723e",
   "metadata": {},
   "outputs": [],
   "source": [
    "with open('data_words_bigrams.pickle', 'wb') as fh:\n",
    "        pickle.dump(data_words_bigrams, fh)\n",
    "with open('id2word.pickle', 'wb') as fh:\n",
    "    pickle.dump(id2word, fh)\n",
    "with open('corpus.pickle', 'wb') as fh:\n",
    "        pickle.dump(corpus, fh)"
   ]
  },
  {
   "cell_type": "code",
   "execution_count": 151,
   "id": "c6dd15aa-2367-445c-a4fd-b04fddb1b745",
   "metadata": {
    "id": "iJTWmH7Jkbmg"
   },
   "outputs": [],
   "source": [
    "lda_model = gensim.models.ldamodel.LdaModel(corpus=corpus,\n",
    "                                           id2word=id2word,\n",
    "                                           num_topics=10, \n",
    "                                           random_state=100,\n",
    "                                           update_every=1,\n",
    "                                           chunksize=100,\n",
    "                                           passes=10,\n",
    "                                           alpha='auto',\n",
    "                                           per_word_topics=True)\n",
    "# Ath eta, tengja náttúruverndarorð við ákveðinn hóp"
   ]
  },
  {
   "cell_type": "code",
   "execution_count": 152,
   "id": "e3faf76c-b3af-4887-b4dd-1d64976e252e",
   "metadata": {},
   "outputs": [],
   "source": [
    "lda_model.save(\"./Big_lda_model\")"
   ]
  },
  {
   "cell_type": "code",
   "execution_count": 153,
   "id": "96dd330e-c326-4fab-95a5-133851b98f37",
   "metadata": {
    "colab": {
     "base_uri": "https://localhost:8080/"
    },
    "id": "isTxjcbekeUd",
    "outputId": "1d277d4e-6a96-4ea7-c6d3-b6b69b8c66fa"
   },
   "outputs": [
    {
     "name": "stdout",
     "output_type": "stream",
     "text": [
      "[(0,\n",
      "  '0.041*\"maður\" + 0.034*\"kona\" + 0.034*\"fólk\" + 0.029*\"barn\" + 0.021*\"mynd\" + '\n",
      "  '0.017*\"dagur\" + 0.015*\"fjölskylda\" + 0.013*\"saga\" + 0.012*\"rannsókn\" + '\n",
      "  '0.010*\"viðtal\"'),\n",
      " (1,\n",
      "  '0.061*\"lögregla\" + 0.027*\"dagur\" + 0.023*\"maður\" + 0.023*\"morgunn\" + '\n",
      "  '0.022*\"klukka\" + 0.018*\"bíll\" + 0.016*\"höfuðborgarsvæði\" + 0.015*\"nótt\" + '\n",
      "  '0.014*\"landslið\" + 0.014*\"land\"'),\n",
      " (2,\n",
      "  '0.032*\"dagur\" + 0.026*\"leikmaður\" + 0.023*\"ísland\" + 0.022*\"kvöld\" + '\n",
      "  '0.021*\"mínúta\" + 0.016*\"sigur\" + 0.014*\"mark\" + 0.013*\"deild\" + '\n",
      "  '0.013*\"umferð\" + 0.013*\"tímabil\"'),\n",
      " (3,\n",
      "  '0.033*\"dagur\" + 0.021*\"land\" + 0.019*\"fólk\" + 0.018*\"svæði\" + 0.013*\"íbúi\" '\n",
      "  '+ 0.013*\"staður\" + 0.010*\"yfirvald\" + 0.010*\"ferðamaður\" + 0.010*\"fjöldi\" + '\n",
      "  '0.009*\"sögn\"'),\n",
      " (4,\n",
      "  '0.034*\"forseti\" + 0.027*\"bandaríki\" + 0.027*\"flokkur\" + 0.025*\"þingmaður\" + '\n",
      "  '0.020*\"dagur\" + 0.020*\"forsætisráðherra\" + 0.018*\"ríkisstjórn\" + '\n",
      "  '0.017*\"kosning\" + 0.015*\"þjóð\" + 0.015*\"íbúð\"'),\n",
      " (5,\n",
      "  '0.049*\"mál\" + 0.038*\"frumvarp\" + 0.031*\"dómur\" + 0.023*\"jón\" + 0.018*\"ingi\" '\n",
      "  '+ 0.017*\"ofbeldi\" + 0.015*\"dómari\" + 0.015*\"samfylking\" + 0.014*\"ráðherra\" '\n",
      "  '+ 0.013*\"hæstiréttur\"'),\n",
      " (6,\n",
      "  '0.036*\"ísland\" + 0.018*\"fólk\" + 0.015*\"verkefni\" + 0.012*\"ákvörðun\" + '\n",
      "  '0.010*\"breyting\" + 0.010*\"upplýsing\" + 0.009*\"samfélag\" + '\n",
      "  '0.009*\"einstaklingur\" + 0.008*\"stjórn\" + 0.008*\"starf\"'),\n",
      " (7,\n",
      "  '0.067*\"félag\" + 0.044*\"milljón\" + 0.042*\"fyrirtæki\" + 0.024*\"starfsmaður\" + '\n",
      "  '0.018*\"ágúst\" + 0.016*\"forstjóri\" + 0.015*\"sala\" + 0.015*\"febrúar\" + '\n",
      "  '0.014*\"tilkynning\" + 0.013*\"auglýsing\"'),\n",
      " (8,\n",
      "  '0.019*\"prósent\" + 0.019*\"milljarður\" + 0.013*\"mánuður\" + 0.013*\"banki\" + '\n",
      "  '0.012*\"króna\" + 0.010*\"ísland\" + 0.010*\"milljón\" + 0.009*\"ár\" + '\n",
      "  '0.009*\"ráðuneyti\" + 0.009*\"seðlabanki\"'),\n",
      " (9,\n",
      "  '0.041*\"þáttur\" + 0.024*\"sýning\" + 0.022*\"páll\" + 0.017*\"drengur\" + '\n",
      "  '0.017*\"hátíð\" + 0.014*\"hlutverk\" + 0.013*\"verðlaun\" + 0.011*\"leikkona\" + '\n",
      "  '0.011*\"áhorfandi\" + 0.010*\"demókrati\"')]\n"
     ]
    }
   ],
   "source": [
    "from pprint import pprint\n",
    "# Print the Keyword in the 10 topics\n",
    "pprint(lda_model.print_topics())\n",
    "doc_lda = lda_model[corpus]"
   ]
  },
  {
   "cell_type": "code",
   "execution_count": null,
   "id": "5ccb06e6-3979-4771-99ed-553e88169a69",
   "metadata": {},
   "outputs": [],
   "source": [
    "if not load:\n",
    "    #with open('data_words_bigrams', 'wb') as fh:\n",
    "    #    pickle.dump(data_words_bigram, fh)\n",
    "    with open('corpus', 'wb') as fh:\n",
    "        pickle.dump(corpus, fh)"
   ]
  },
  {
   "cell_type": "code",
   "execution_count": null,
   "id": "4b5394b5-51ad-4c5f-aa24-097afb34064c",
   "metadata": {},
   "outputs": [],
   "source": []
  },
  {
   "cell_type": "code",
   "execution_count": null,
   "id": "325cf912-2a00-4060-8b36-55cd4bf2eac0",
   "metadata": {},
   "outputs": [],
   "source": [
    "[id2word[i[0]] for i in lda_model.get_topic_terms(1, topn=50)]"
   ]
  },
  {
   "cell_type": "code",
   "execution_count": 128,
   "id": "5b3d3cd8-aa5b-404b-8010-18e6a19e3c92",
   "metadata": {},
   "outputs": [
    {
     "data": {
      "text/plain": [
       "2642"
      ]
     },
     "execution_count": 128,
     "metadata": {},
     "output_type": "execute_result"
    }
   ],
   "source": [
    "id2word.token2id[\"náttúruvernd\"]"
   ]
  },
  {
   "cell_type": "code",
   "execution_count": 145,
   "id": "fcbbe30f-6a07-48e3-831c-e2e47040e284",
   "metadata": {},
   "outputs": [
    {
     "data": {
      "text/plain": [
       "[]"
      ]
     },
     "execution_count": 145,
     "metadata": {},
     "output_type": "execute_result"
    }
   ],
   "source": [
    "# Af hverju sýnir þetta fyrir fæst orð?\n",
    "lda_model.get_term_topics(id2word.token2id[\"neysla\"])"
   ]
  },
  {
   "cell_type": "code",
   "execution_count": 144,
   "id": "3f3eb397-57c0-4b93-9e5a-1d3ae75edb38",
   "metadata": {},
   "outputs": [
    {
     "data": {
      "text/plain": [
       "[(16, [6, 1, 2, 9]),\n",
       " (46, [6]),\n",
       " (47, [6]),\n",
       " (48, [6]),\n",
       " (49, [6]),\n",
       " (50, [4]),\n",
       " (51, [6, 1]),\n",
       " (52, [6]),\n",
       " (53, [6]),\n",
       " (54, [6]),\n",
       " (55, [6]),\n",
       " (56, [1, 4]),\n",
       " (57, [6, 1, 7, 8]),\n",
       " (58, [6]),\n",
       " (59, [6]),\n",
       " (60, [4]),\n",
       " (61, [1, 4, 8]),\n",
       " (62, [6, 1]),\n",
       " (63, [1]),\n",
       " (64, [1, 4]),\n",
       " (65, [6]),\n",
       " (66, [1, 4, 8, 2]),\n",
       " (67, [1]),\n",
       " (68, [1, 4, 7])]"
      ]
     },
     "execution_count": 144,
     "metadata": {},
     "output_type": "execute_result"
    }
   ],
   "source": [
    "doc_lda[2][1]"
   ]
  },
  {
   "cell_type": "code",
   "execution_count": null,
   "id": "be20d40f-51d5-4701-8969-1e566fa68014",
   "metadata": {},
   "outputs": [],
   "source": []
  },
  {
   "cell_type": "markdown",
   "id": "e4f16ff9-2c67-4db5-92ef-c5217a69b92b",
   "metadata": {},
   "source": [
    "## Tilraunir"
   ]
  },
  {
   "cell_type": "code",
   "execution_count": 45,
   "id": "c52e426b-d7ce-447a-8851-910304c2224b",
   "metadata": {},
   "outputs": [],
   "source": [
    "lda = gensim.models.ldamodel.LdaModel.load(\"small_lda_model\")\n",
    "#lda = gensim.models.ldamulticore.LdaModel.load(\"small_lda_model\")"
   ]
  },
  {
   "cell_type": "code",
   "execution_count": 46,
   "id": "d8d8acb8-1cfd-46e1-a02a-32d11acfb11f",
   "metadata": {},
   "outputs": [
    {
     "data": {
      "text/plain": [
       "<gensim.models.ldamodel.LdaModel at 0x28f51b2b0>"
      ]
     },
     "execution_count": 46,
     "metadata": {},
     "output_type": "execute_result"
    }
   ],
   "source": [
    "lda"
   ]
  },
  {
   "cell_type": "code",
   "execution_count": 47,
   "id": "317b9cb8-284f-45a8-a3da-9afd5ac847f9",
   "metadata": {},
   "outputs": [
    {
     "name": "stderr",
     "output_type": "stream",
     "text": [
      "  0%|                                                                                       | 0/544115 [08:36<?, ?it/s]"
     ]
    },
    {
     "name": "stdout",
     "output_type": "stream",
     "text": [
      "[(0,\n",
      "  '0.043*\"bíll\" + 0.029*\"myndband\" + 0.024*\"akureyri\" + 0.020*\"hátíð\" + '\n",
      "  '0.020*\"samkomulag\" + 0.018*\"færsla\" + 0.017*\"ökumaður\" + 0.017*\"ummæli\" + '\n",
      "  '0.016*\"nóvember\" + 0.014*\"hús\"'),\n",
      " (1,\n",
      "  '0.045*\"ísland\" + 0.015*\"breyting\" + 0.014*\"verkefni\" + 0.013*\"fyrirtæki\" + '\n",
      "  '0.011*\"áhrif\" + 0.010*\"sveitarfélag\" + 0.009*\"starfsmaður\" + '\n",
      "  '0.008*\"frumvarp\" + 0.008*\"þjónusta\" + 0.008*\"einstaklingur\"'),\n",
      " (2,\n",
      "  '0.031*\"svæði\" + 0.022*\"klukka\" + 0.022*\"íbúi\" + 0.018*\"samningur\" + '\n",
      "  '0.017*\"nótt\" + 0.017*\"íbúð\" + 0.016*\"tilkynning\" + 0.015*\"höfuðborgarsvæði\" '\n",
      "  '+ 0.014*\"verslun\" + 0.014*\"ferð\"'),\n",
      " (3,\n",
      "  '0.022*\"hugmynd\" + 0.021*\"bók\" + 0.016*\"nemandi\" + 0.013*\"saga\" + '\n",
      "  '0.013*\"umfjöllun\" + 0.013*\"háskóli\" + 0.012*\"skóli\" + 0.012*\"list\" + '\n",
      "  '0.011*\"hlutverk\" + 0.011*\"sýning\"'),\n",
      " (4,\n",
      "  '0.025*\"leikmaður\" + 0.024*\"mínúta\" + 0.021*\"kvöld\" + 0.021*\"ísland\" + '\n",
      "  '0.021*\"dagur\" + 0.018*\"sigur\" + 0.014*\"mark\" + 0.013*\"umferð\" + '\n",
      "  '0.013*\"deild\" + 0.013*\"tímabil\"'),\n",
      " (5,\n",
      "  '0.037*\"flokkur\" + 0.022*\"kosning\" + 0.020*\"ríkisstjórn\" + '\n",
      "  '0.019*\"sjálfstæðis-flokkur\" + 0.017*\"ingi\" + 0.012*\"landspítali\" + '\n",
      "  '0.012*\"ráðherra\" + 0.011*\"mál\" + 0.011*\"fólk\" + 0.011*\"niðurstaða\"'),\n",
      " (6,\n",
      "  '0.063*\"félag\" + 0.058*\"milljón\" + 0.040*\"milljarður\" + 0.040*\"prósent\" + '\n",
      "  '0.024*\"dómur\" + 0.024*\"mánuður\" + 0.023*\"króna\" + 0.019*\"banki\" + '\n",
      "  '0.019*\"fyrirtæki\" + 0.016*\"hlutur\"'),\n",
      " (7,\n",
      "  '0.057*\"fólk\" + 0.033*\"maður\" + 0.031*\"dagur\" + 0.025*\"kona\" + 0.024*\"barn\" '\n",
      "  '+ 0.019*\"þáttur\" + 0.014*\"mynd\" + 0.014*\"viðtal\" + 0.012*\"staður\" + '\n",
      "  '0.012*\"fjölskylda\"'),\n",
      " (8,\n",
      "  '0.056*\"dagur\" + 0.040*\"land\" + 0.027*\"bandaríki\" + 0.022*\"forseti\" + '\n",
      "  '0.019*\"morgunn\" + 0.016*\"þingmaður\" + 0.014*\"þjóð\" + 0.011*\"aðgerð\" + '\n",
      "  '0.011*\"ákvörðun\" + 0.009*\"fundur\"'),\n",
      " (9,\n",
      "  '0.047*\"lögregla\" + 0.032*\"mál\" + 0.023*\"rannsókn\" + 0.021*\"maður\" + '\n",
      "  '0.017*\"upplýsing\" + 0.013*\"ráðuneyti\" + 0.013*\"árás\" + 0.011*\"sendiráð\" + '\n",
      "  '0.010*\"fjölmiðill\" + 0.009*\"lögreglumaður\"')]\n"
     ]
    },
    {
     "name": "stderr",
     "output_type": "stream",
     "text": [
      "\n"
     ]
    }
   ],
   "source": [
    "from pprint import pprint\n",
    "# Print the Keyword in the 10 topics\n",
    "pprint(lda.print_topics())\n",
    "#doc_lda = lda[corpus]"
   ]
  },
  {
   "cell_type": "code",
   "execution_count": null,
   "id": "2b884051-cdec-4b2a-94e1-e9ea1813ec0e",
   "metadata": {},
   "outputs": [],
   "source": []
  }
 ],
 "metadata": {
  "kernelspec": {
   "display_name": "Python 3.9.7 64-bit ('base': conda)",
   "language": "python",
   "name": "python397jvsc74a57bd095ec9ec1504d83f612128e0fb229072f90bbb4cb09d9d5d93b5dd26e0ca2cfd1"
  },
  "language_info": {
   "codemirror_mode": {
    "name": "ipython",
    "version": 3
   },
   "file_extension": ".py",
   "mimetype": "text/x-python",
   "name": "python",
   "nbconvert_exporter": "python",
   "pygments_lexer": "ipython3",
   "version": "3.9.7"
  }
 },
 "nbformat": 4,
 "nbformat_minor": 5
}
