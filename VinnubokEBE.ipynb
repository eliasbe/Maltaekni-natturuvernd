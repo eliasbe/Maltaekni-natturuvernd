{
 "cells": [
  {
   "cell_type": "markdown",
   "id": "2e8b67ee-e69a-4347-b08c-b72c820c507f",
   "metadata": {},
   "source": [
    "# Máltækni - Náttúruvernd"
   ]
  },
  {
   "cell_type": "markdown",
   "id": "8410f315-3281-4a3b-a419-2d40d48e532c",
   "metadata": {},
   "source": [
    "Skrifa lemmuð gögn á disk\n",
    "\n"
   ]
  },
  {
   "cell_type": "markdown",
   "id": "72f1ce20-80fd-4dc1-9611-6980034e24ad",
   "metadata": {
    "tags": []
   },
   "source": [
    "# Data import & manipulation"
   ]
  },
  {
   "cell_type": "code",
   "execution_count": 213,
   "id": "24429e8d-1d90-46e7-b215-3d0d18a93322",
   "metadata": {},
   "outputs": [],
   "source": [
    "from numpy.random import default_rng\n",
    "import re\n",
    "import tqdm\n",
    "import pandas as pd"
   ]
  },
  {
   "cell_type": "code",
   "execution_count": 41,
   "id": "a45351d5-dada-4107-bcbb-7d36b76e87f2",
   "metadata": {},
   "outputs": [],
   "source": [
    "#@Vésteinn\n",
    "def read_news_tsv(file_name):\n",
    "    data = []\n",
    "    with open(file_name, encoding=\"utf-8\") as fh:\n",
    "        for line in tqdm.tqdm(fh.readlines()):\n",
    "            title, author, url, timestamp, _, _, text, text_tokenized = line.split(\"\\t\")\n",
    "            article = {\n",
    "                \"title\": title,\n",
    "                \"author\": author,\n",
    "                \"timestamp\": timestamp,\n",
    "                \"text\": text,\n",
    "                \"text_tokenized\": text_tokenized\n",
    "            }\n",
    "            data.append(article)\n",
    "        return data"
   ]
  },
  {
   "cell_type": "code",
   "execution_count": 42,
   "id": "86bcd8f4-d708-4f5a-bcc8-6de1bd238144",
   "metadata": {},
   "outputs": [
    {
     "name": "stderr",
     "output_type": "stream",
     "text": [
      "\n",
      "  0%|                                                                                        | 0/22248 [00:00<?, ?it/s]\u001b[A\n",
      "100%|████████████████████████████████████████████████████████████████████████| 22248/22248 [00:00<00:00, 158513.83it/s]\u001b[A"
     ]
    },
    {
     "name": "stdout",
     "output_type": "stream",
     "text": [
      "Article count 22248\n"
     ]
    },
    {
     "name": "stderr",
     "output_type": "stream",
     "text": [
      "\n"
     ]
    }
   ],
   "source": [
    "articles = read_news_tsv(\"icelandic_news_sample_22480.tsv\")\n",
    "print(f\"Article count {len(articles)}\")"
   ]
  },
  {
   "cell_type": "code",
   "execution_count": 44,
   "id": "e8115558-606b-4139-ab63-de84844d8db3",
   "metadata": {},
   "outputs": [],
   "source": [
    "news_df = pd.read_csv(\"icelandic_news_sample_22480.tsv\", sep='\\t', names=[\"title\", \"author\", \"url\", \"timestamp\", \"t2\", \"t3\", \"text\", \"text_tokenized\"], on_bad_lines=\"warn\")\n",
    "print(len(news_df))"
   ]
  },
  {
   "cell_type": "code",
   "execution_count": 6,
   "id": "9ee62969-4404-4a6a-8b9e-46b4c670a496",
   "metadata": {},
   "outputs": [
    {
     "data": {
      "text/html": [
       "<div>\n",
       "<style scoped>\n",
       "    .dataframe tbody tr th:only-of-type {\n",
       "        vertical-align: middle;\n",
       "    }\n",
       "\n",
       "    .dataframe tbody tr th {\n",
       "        vertical-align: top;\n",
       "    }\n",
       "\n",
       "    .dataframe thead th {\n",
       "        text-align: right;\n",
       "    }\n",
       "</style>\n",
       "<table border=\"1\" class=\"dataframe\">\n",
       "  <thead>\n",
       "    <tr style=\"text-align: right;\">\n",
       "      <th></th>\n",
       "      <th>title</th>\n",
       "      <th>author</th>\n",
       "      <th>url</th>\n",
       "      <th>timestamp</th>\n",
       "      <th>t2</th>\n",
       "      <th>t3</th>\n",
       "      <th>text</th>\n",
       "      <th>text_tokenized</th>\n",
       "    </tr>\n",
       "  </thead>\n",
       "  <tbody>\n",
       "    <tr>\n",
       "      <th>21513</th>\n",
       "      <td>Samherjamálið er hrikalegt áfall fyrir allan s...</td>\n",
       "      <td>Ritstjórn Hringbrautar</td>\n",
       "      <td>http://www.hringbraut.is/frettir/samherjamalid...</td>\n",
       "      <td>2019-11-13 14:30:00</td>\n",
       "      <td>2019-11-13 15:00:17.237825</td>\n",
       "      <td>2020-10-20 05:34:40.142362</td>\n",
       "      <td>Ef marka má mikinn fréttaflutning og fram komi...</td>\n",
       "      <td>Ef marka má mikinn fréttaflutning og fram komi...</td>\n",
       "    </tr>\n",
       "    <tr>\n",
       "      <th>21514</th>\n",
       "      <td>HeForShe berst gegn netníði: Konur á aldrinum ...</td>\n",
       "      <td>Hulda Hólmkelsdóttir</td>\n",
       "      <td>http://www.visir.is/heforshe-berst-gegn-netnid...</td>\n",
       "      <td>2016-10-11 11:15:00</td>\n",
       "      <td>2016-10-11 12:00:12.706579</td>\n",
       "      <td>2020-10-14 06:23:56.773503</td>\n",
       "      <td>UN Women á Íslandi hleypir í dag af stokkunum ...</td>\n",
       "      <td>UN Women á Íslandi hleypir í dag af stokkunum ...</td>\n",
       "    </tr>\n",
       "    <tr>\n",
       "      <th>21515</th>\n",
       "      <td>Hönnuður New York-ástar­lógósins er látinn</td>\n",
       "      <td>Atli Ísleifsson</td>\n",
       "      <td>https://www.visir.is/g/20201985728d/honnudur-n...</td>\n",
       "      <td>2020-06-27 18:17:00</td>\n",
       "      <td>2020-06-27 18:30:13.330922</td>\n",
       "      <td>2020-06-27 18:30:26.505181</td>\n",
       "      <td>Grafíski hönnuðurinn Milton Glaser, sem hannað...</td>\n",
       "      <td>Grafíski hönnuðurinn Milton Glaser , sem hanna...</td>\n",
       "    </tr>\n",
       "    <tr>\n",
       "      <th>21516</th>\n",
       "      <td>Dagbjartur og Ragnhildur sigruðu Síma-mótið</td>\n",
       "      <td>Anton Ingi Leifsson</td>\n",
       "      <td>https://www.visir.is/g/2019190608898/dagbjartu...</td>\n",
       "      <td>2019-06-09 16:14:00</td>\n",
       "      <td>2019-06-09 16:30:12.727944</td>\n",
       "      <td>2020-08-30 05:21:12.769194</td>\n",
       "      <td>Dagbjartur Sigurbrandsson, úr GR, og Ragnhildu...</td>\n",
       "      <td>Dagbjartur Sigurbrandsson , úr GR , og Ragnhil...</td>\n",
       "    </tr>\n",
       "    <tr>\n",
       "      <th>21517</th>\n",
       "      <td>Elliði hafnar því að líkja Samfylkingunni við ...</td>\n",
       "      <td>Urður Örlygsdóttir</td>\n",
       "      <td>https://www.frettabladid.is/frettir/ellidi-haf...</td>\n",
       "      <td>2020-05-05 23:12:00</td>\n",
       "      <td>2020-05-05 23:30:12.774491</td>\n",
       "      <td>2020-05-31 01:58:02.246298</td>\n",
       "      <td>Í samtali við Fréttablaðið segir Elliði Vignis...</td>\n",
       "      <td>Í samtali við Fréttablaðið segir Elliði Vignis...</td>\n",
       "    </tr>\n",
       "  </tbody>\n",
       "</table>\n",
       "</div>"
      ],
      "text/plain": [
       "                                                   title  \\\n",
       "21513  Samherjamálið er hrikalegt áfall fyrir allan s...   \n",
       "21514  HeForShe berst gegn netníði: Konur á aldrinum ...   \n",
       "21515         Hönnuður New York-ástar­lógósins er látinn   \n",
       "21516        Dagbjartur og Ragnhildur sigruðu Síma-mótið   \n",
       "21517  Elliði hafnar því að líkja Samfylkingunni við ...   \n",
       "\n",
       "                       author  \\\n",
       "21513  Ritstjórn Hringbrautar   \n",
       "21514    Hulda Hólmkelsdóttir   \n",
       "21515         Atli Ísleifsson   \n",
       "21516     Anton Ingi Leifsson   \n",
       "21517      Urður Örlygsdóttir   \n",
       "\n",
       "                                                     url            timestamp  \\\n",
       "21513  http://www.hringbraut.is/frettir/samherjamalid...  2019-11-13 14:30:00   \n",
       "21514  http://www.visir.is/heforshe-berst-gegn-netnid...  2016-10-11 11:15:00   \n",
       "21515  https://www.visir.is/g/20201985728d/honnudur-n...  2020-06-27 18:17:00   \n",
       "21516  https://www.visir.is/g/2019190608898/dagbjartu...  2019-06-09 16:14:00   \n",
       "21517  https://www.frettabladid.is/frettir/ellidi-haf...  2020-05-05 23:12:00   \n",
       "\n",
       "                               t2                          t3  \\\n",
       "21513  2019-11-13 15:00:17.237825  2020-10-20 05:34:40.142362   \n",
       "21514  2016-10-11 12:00:12.706579  2020-10-14 06:23:56.773503   \n",
       "21515  2020-06-27 18:30:13.330922  2020-06-27 18:30:26.505181   \n",
       "21516  2019-06-09 16:30:12.727944  2020-08-30 05:21:12.769194   \n",
       "21517  2020-05-05 23:30:12.774491  2020-05-31 01:58:02.246298   \n",
       "\n",
       "                                                    text  \\\n",
       "21513  Ef marka má mikinn fréttaflutning og fram komi...   \n",
       "21514  UN Women á Íslandi hleypir í dag af stokkunum ...   \n",
       "21515  Grafíski hönnuðurinn Milton Glaser, sem hannað...   \n",
       "21516  Dagbjartur Sigurbrandsson, úr GR, og Ragnhildu...   \n",
       "21517  Í samtali við Fréttablaðið segir Elliði Vignis...   \n",
       "\n",
       "                                          text_tokenized  \n",
       "21513  Ef marka má mikinn fréttaflutning og fram komi...  \n",
       "21514  UN Women á Íslandi hleypir í dag af stokkunum ...  \n",
       "21515  Grafíski hönnuðurinn Milton Glaser , sem hanna...  \n",
       "21516  Dagbjartur Sigurbrandsson , úr GR , og Ragnhil...  \n",
       "21517  Í samtali við Fréttablaðið segir Elliði Vignis...  "
      ]
     },
     "execution_count": 6,
     "metadata": {},
     "output_type": "execute_result"
    }
   ],
   "source": [
    "news_df.tail()"
   ]
  },
  {
   "cell_type": "code",
   "execution_count": 7,
   "id": "71b0754d-7022-4b56-8fb0-efa36e5c3546",
   "metadata": {},
   "outputs": [
    {
     "name": "stdout",
     "output_type": "stream",
     "text": [
      "['Samherjamálið er hrikalegt áfall fyrir allan sjávarútveginn og Sjálfstæðisflokkinn', 'HeForShe berst gegn netníði: Konur á aldrinum 18-24 ára líklegastar til að verða fyrir netníð', 'Hönnuður New York-ástar\\xadlógósins er látinn', 'Dagbjartur og Ragnhildur sigruðu Síma-mótið', 'Elliði hafnar því að líkja Samfylkingunni við nasista']\n"
     ]
    }
   ],
   "source": [
    "print([a[\"title\"] for a in articles[-5:]])"
   ]
  },
  {
   "cell_type": "code",
   "execution_count": 288,
   "id": "45049bff-c45b-450a-bc6c-3a1ea03eb58b",
   "metadata": {},
   "outputs": [],
   "source": [
    "articles_df = pd.DataFrame(articles)"
   ]
  },
  {
   "cell_type": "code",
   "execution_count": null,
   "id": "93ec951f-7522-4d2f-9f5e-3877ca1c3f7d",
   "metadata": {},
   "outputs": [],
   "source": [
    "# 3119\n",
    "# 4591 # ATH þessa\n",
    "# 4592\n",
    "# 4593\n",
    "# 4594\n",
    "# 4595\n",
    "# 4596\n",
    "# 4597"
   ]
  },
  {
   "cell_type": "code",
   "execution_count": null,
   "id": "99fe7be1-ce2d-4cc9-877e-3874b97c3c23",
   "metadata": {},
   "outputs": [],
   "source": [
    "#i = 4591\n",
    "#print(articles_df.loc[i])\n",
    "#print(news_df.loc[i]['title'])"
   ]
  },
  {
   "cell_type": "code",
   "execution_count": null,
   "id": "d74acd1f-97c1-46dc-bfec-98479770fd5f",
   "metadata": {},
   "outputs": [],
   "source": [
    "#for i in tqdm.trange(100000):\n",
    "#    if (articles_df.loc[i]['title'] != news_df.loc[i]['title']):\n",
    "#        print(i)"
   ]
  },
  {
   "cell_type": "code",
   "execution_count": 8,
   "id": "d0a50f3e-c6e0-4fe4-b421-ae70ed5dac2d",
   "metadata": {},
   "outputs": [
    {
     "name": "stderr",
     "output_type": "stream",
     "text": [
      "100%|██████████████████████████████████████████████████████████████████████| 640136/640136 [00:05<00:00, 121680.28it/s]\n"
     ]
    },
    {
     "name": "stdout",
     "output_type": "stream",
     "text": [
      "Article count 640136\n"
     ]
    }
   ],
   "source": [
    "articles_Big = read_news_tsv(\"articles_until_01-11-2020_detok.tsv\")\n",
    "print(f\"Article count {len(articles_Big)}\")"
   ]
  },
  {
   "cell_type": "code",
   "execution_count": 9,
   "id": "61fb30c0-d3f2-45a5-b49c-7d7e8834ff86",
   "metadata": {},
   "outputs": [],
   "source": [
    "# news_Big = pd.read_csv(\"articles_until_01-11-2020_detok.tsv\", sep='\\t', names=[\"title\", \"author\", \"url\", \"timestamp\", \"t2\", \"t3\", \"text\", \"text_tokenized\"])\n",
    "# print(len(news_Big))"
   ]
  },
  {
   "cell_type": "code",
   "execution_count": 315,
   "id": "9be75a6e-91a3-46d4-b618-631d826a4083",
   "metadata": {},
   "outputs": [],
   "source": [
    "news_Big = pd.DataFrame(articles_Big)"
   ]
  },
  {
   "cell_type": "code",
   "execution_count": 316,
   "id": "78049822-421f-47f0-8d82-776bb1650839",
   "metadata": {},
   "outputs": [
    {
     "data": {
      "text/plain": [
       "0"
      ]
     },
     "execution_count": 316,
     "metadata": {},
     "output_type": "execute_result"
    }
   ],
   "source": [
    "news_Big['text'].isnull().sum()"
   ]
  },
  {
   "cell_type": "code",
   "execution_count": null,
   "id": "8c774388-3b5e-4cea-aca1-4b536be0ece6",
   "metadata": {},
   "outputs": [],
   "source": [
    "#for i in tqdm.trange(news_Big.shape[0]):\n",
    "#    if (type(news_Big['text_tokenized'].loc[i]) != str):\n",
    "#        print(i)"
   ]
  },
  {
   "cell_type": "markdown",
   "id": "2ee3f8fe-a16d-4bf3-9fbf-40c8ecf94a8d",
   "metadata": {},
   "source": [
    "**Sé ekki ástæðuna fyrir því að pandas telji færri fréttir, endarnir eru í góðu lagi og enginn default stilling í read_csv sem virðist vera að henda út röðum**"
   ]
  },
  {
   "cell_type": "code",
   "execution_count": 318,
   "id": "bbe9fc81-0373-4ef8-9206-a6e630097f54",
   "metadata": {},
   "outputs": [],
   "source": [
    "from sklearn.model_selection import train_test_split\n",
    "data_train, data_test = train_test_split(news_Big, test_size = 0.15, random_state=11)"
   ]
  },
  {
   "cell_type": "code",
   "execution_count": 319,
   "id": "edc94703-8a96-4c19-b257-69e5d177046f",
   "metadata": {},
   "outputs": [
    {
     "name": "stdout",
     "output_type": "stream",
     "text": [
      "Training data examles: 544115\n",
      "Test data examles: 96021\n"
     ]
    }
   ],
   "source": [
    "print(f'Training data examles: {data_train.shape[0]}')\n",
    "print(f'Test data examles: {data_test.shape[0]}')"
   ]
  },
  {
   "cell_type": "code",
   "execution_count": 320,
   "id": "ce203c6d-52ed-42fa-9d81-285f6c000725",
   "metadata": {},
   "outputs": [],
   "source": [
    "data_test, data_test_labeled = train_test_split(data_test, test_size = 0.005, random_state=11)"
   ]
  },
  {
   "cell_type": "code",
   "execution_count": 321,
   "id": "41347be2-e314-4a6f-b68c-d0f88797dd3d",
   "metadata": {},
   "outputs": [
    {
     "name": "stdout",
     "output_type": "stream",
     "text": [
      "Test data examles: 95540\n",
      "Labeled test data examles: 481\n"
     ]
    }
   ],
   "source": [
    "print(f'Test data examles: {data_test.shape[0]}')\n",
    "print(f'Labeled test data examles: {data_test_labeled.shape[0]}')"
   ]
  },
  {
   "cell_type": "code",
   "execution_count": 322,
   "id": "def37b69-0ac7-45db-9d13-a7ce8c2547a0",
   "metadata": {},
   "outputs": [
    {
     "name": "stdout",
     "output_type": "stream",
     "text": [
      "Playground data examles: 54412\n"
     ]
    }
   ],
   "source": [
    "# Subset af training til að koma virkni í gang án þjálfunartíma\n",
    "_, data_playground = train_test_split(data_train, test_size = 0.10, random_state=11)\n",
    "print(f'Playground data examles: {data_playground.shape[0]}')"
   ]
  },
  {
   "cell_type": "markdown",
   "id": "3618ea63-df25-495b-baa3-b6180e40c368",
   "metadata": {
    "tags": []
   },
   "source": [
    "# Skriftupælingar"
   ]
  },
  {
   "cell_type": "code",
   "execution_count": 260,
   "id": "5cdb5e24-d7d8-4bde-b6b8-336c089416e4",
   "metadata": {},
   "outputs": [],
   "source": [
    "def rand_frett(safn, count):\n",
    "    listi = []\n",
    "    from numpy.random import default_rng\n",
    "    import re\n",
    "    rng = default_rng()\n",
    "    n = safn.shape[0]\n",
    "    for i in tqdm.trange(count):\n",
    "        x = rng.integers(n)\n",
    "        if pd.isnull(safn.iloc[x][\"text\"]):\n",
    "            continue\n",
    "        frett = safn.iloc[x][\"text\"] # ath iloc\n",
    "        frettnr = safn.iloc[x].name\n",
    "        lykilord = [\"náttúruvernd\", \"loftslag\", \"umhverfi\"]\n",
    "        fjoldi = 0\n",
    "        for wrd in lykilord:\n",
    "            fjoldi += len(re.findall(wrd, frett))\n",
    "        if fjoldi > 0:\n",
    "            listi.append(frettnr) # Ath. algildur index\n",
    "            #print(frett)\n",
    "    return listi\n",
    "\n",
    "    "
   ]
  },
  {
   "cell_type": "code",
   "execution_count": 261,
   "id": "294cc60d-bd48-48c2-90b7-885b99c0a38f",
   "metadata": {},
   "outputs": [],
   "source": [
    "def allar_frettir(safn):\n",
    "    listi = []\n",
    "\n",
    "    n = safn.shape[0]\n",
    "    for i in tqdm.trange(n):\n",
    "        frett = safn.iloc[i][\"text\"]\n",
    "        lykilord = [\"náttúruvernd\", \"loftslag\", \"umhverfi\"]\n",
    "        fjoldi = 0\n",
    "        for wrd in lykilord:\n",
    "            fjoldi += len(re.findall(wrd, frett))\n",
    "        if fjoldi > 0:\n",
    "            listi.append(i) # ath. afstæð númer m.v. safn\n",
    "            #print(frett)\n",
    "    return listi\n",
    "\n",
    "    "
   ]
  },
  {
   "cell_type": "code",
   "execution_count": 262,
   "id": "6effcfd1-3d21-4128-aa32-d07c45f7a7f0",
   "metadata": {},
   "outputs": [
    {
     "name": "stderr",
     "output_type": "stream",
     "text": [
      "100%|███████████████████████████████████████████████████████████████████████| 100000/100000 [00:06<00:00, 15800.94it/s]"
     ]
    },
    {
     "name": "stdout",
     "output_type": "stream",
     "text": [
      "0.06847\n"
     ]
    },
    {
     "name": "stderr",
     "output_type": "stream",
     "text": [
      "\n"
     ]
    }
   ],
   "source": [
    "sample_count = 100000\n",
    "big_list = rand_frett(news_Big, sample_count)\n",
    "print(len(big_list)/sample_count)"
   ]
  },
  {
   "cell_type": "code",
   "execution_count": 323,
   "id": "2b42c953-4523-4f0f-abc5-f8143af14de2",
   "metadata": {},
   "outputs": [
    {
     "name": "stderr",
     "output_type": "stream",
     "text": [
      "\n",
      "\n",
      "100%|█████████████████████████████████████████████████████████████████████████████| 481/481 [00:00<00:00, 22197.70it/s]\u001b[A\u001b[A\n"
     ]
    }
   ],
   "source": [
    "ath = allar_frettir(data_test_labeled)"
   ]
  },
  {
   "cell_type": "code",
   "execution_count": 324,
   "id": "040a7c2b-4e72-486c-9327-539c69c82a80",
   "metadata": {},
   "outputs": [
    {
     "name": "stdout",
     "output_type": "stream",
     "text": [
      "title             Fyrst var hún hötuð en í dag er hún daglegt brauð\n",
      "author                                       Ritstjórn Hringbrautar\n",
      "timestamp                                       2019-04-28 21:09:00\n",
      "text              (Á mynd: Áður en p-pillan og aðrar getnaðarvar...\n",
      "text_tokenized    ( Á mynd : Áður en p-pillan og aðrar getnaðarv...\n",
      "Name: 605530, dtype: object\n",
      "title                                 „Sá glæsilegasti frá upphafi“\n",
      "author                                             Ritstjórn mbl.is\n",
      "timestamp                                       2020-09-05 09:36:00\n",
      "text              „Veturinn fram undan verður sá þéttasti og glæ...\n",
      "text_tokenized    „ Veturinn fram undan verður sá þéttasti og gl...\n",
      "Name: 396081, dtype: object\n",
      "title                 Tekur við kyndlinum sem tenging við umheiminn\n",
      "author                                        Bergsteinn Sigurðsson\n",
      "timestamp                                       2017-04-19 20:15:41\n",
      "text              Hús sem gert er í nafni Vigdísar Finnbogadóttu...\n",
      "text_tokenized    Hús sem gert er í nafni Vigdísar Finnbogadóttu...\n",
      "Name: 272260, dtype: object\n",
      "title                Loftlagsviðurkenningar veittar í fyrsta skipti\n",
      "author                                               Anton Egilsson\n",
      "timestamp                                2017-12-08 19:00:12.241531\n",
      "text              Reykjavíkurborg og Festa, miðstöðu um samfélag...\n",
      "text_tokenized    Reykjavíkurborg og Festa , miðstöðu um samféla...\n",
      "Name: 233961, dtype: object\n",
      "title                                  Opið bréf til Gísla Marteins\n",
      "author                                           Ritstjórn visir.is\n",
      "timestamp                                2017-06-01 10:00:14.550361\n",
      "text              Kæri Gísli Marteinn. Það er ánægjulegt að þú h...\n",
      "text_tokenized    Kæri Gísli Marteinn . Það er ánægjulegt að þú ...\n",
      "Name: 278333, dtype: object\n",
      "title             Beikonát útlendinga skýrir aukna svínakjötsneyslu\n",
      "author                                        Sunna Valgerðardóttir\n",
      "timestamp                                2016-02-11 13:00:01.737608\n",
      "text              Neysla á svínakjöti á Íslandi jókst um tíu pró...\n",
      "text_tokenized    Neysla á svínakjöti á Íslandi jókst um tíu pró...\n",
      "Name: 483709, dtype: object\n",
      "title             Mikill viðsnúningur hjá Ísafjarðarbæ: „Væri fr...\n",
      "author                                           Ritstjórn Eyjunnar\n",
      "timestamp                                       2019-09-04 18:30:59\n",
      "text              Greint er frá því á vef Ísafjarðabæjar í dag a...\n",
      "text_tokenized    Greint er frá því á vef Ísafjarðabæjar í dag a...\n",
      "Name: 327615, dtype: object\n",
      "title                               Jólakötturinn étur íslensk börn\n",
      "author                                         Helga Völundardóttir\n",
      "timestamp                                       2014-12-10 03:30:10\n",
      "text              Hvernig útskýrir maður jólaköttinn fyrir börnu...\n",
      "text_tokenized    Hvernig útskýrir maður jólaköttinn fyrir börnu...\n",
      "Name: 253442, dtype: object\n",
      "title                                    CNN: „Ísland er að bráðna“\n",
      "author                                       Freyr Gígja Gunnarsson\n",
      "timestamp                                       2017-03-25 16:41:42\n",
      "text              Ísland er miðpunktur þeirra breytinga sem eru ...\n",
      "text_tokenized    Ísland er miðpunktur þeirra breytinga sem eru ...\n",
      "Name: 500609, dtype: object\n",
      "title                 Cyber selja gardínur og demanta á nýrri plötu\n",
      "author                                              Fréttastofa RÚV\n",
      "timestamp                                       2018-11-15 11:54:40\n",
      "text              Rappsveitin Cyber hefur vakið mikla athygli á ...\n",
      "text_tokenized    Rappsveitin Cyber hefur vakið mikla athygli á ...\n",
      "Name: 299804, dtype: object\n"
     ]
    }
   ],
   "source": [
    "for fr in ath[:10]:\n",
    "    print(data_test_labeled.iloc[fr])"
   ]
  },
  {
   "cell_type": "code",
   "execution_count": 325,
   "id": "d34fbc72-348f-47dc-ab52-213470ff73d6",
   "metadata": {},
   "outputs": [
    {
     "data": {
      "text/plain": [
       "38"
      ]
     },
     "execution_count": 325,
     "metadata": {},
     "output_type": "execute_result"
    }
   ],
   "source": [
    "len(ath)"
   ]
  },
  {
   "cell_type": "code",
   "execution_count": 263,
   "id": "1f5e19cd-cac7-4067-a047-58d088ccd68f",
   "metadata": {},
   "outputs": [
    {
     "name": "stdout",
     "output_type": "stream",
     "text": [
      "title                         Vinnuskólakrakkar  mótmæla í hádeginu\n",
      "author                                             Ari Brynjólfsson\n",
      "url               https://www.visir.is/g/2019190628880/vinnuskol...\n",
      "timestamp                                       2019-06-28 07:30:00\n",
      "t2                                       2019-06-28 08:00:13.191002\n",
      "t3                                       2020-09-20 06:19:44.665017\n",
      "text              Hópur nemenda í Vinnuskóla Reykjavíkur tekur f...\n",
      "text_tokenized    Hópur nemenda í Vinnuskóla Reykjavíkur tekur f...\n",
      "Name: 79834, dtype: object\n",
      "title                                       Aumt er þeirra yfirklór\n",
      "author                                           Ritstjórn visir.is\n",
      "url               http://www.visir.is/g/2017170919236/aumt-er-th...\n",
      "timestamp                                2017-09-15 15:00:16.188314\n",
      "t2                                       2017-09-15 15:00:16.213013\n",
      "t3                                       2020-05-30 00:00:24.659629\n",
      "text              Þeir ritfélagar Tómas Guðbjartsson og Ólafur M...\n",
      "text_tokenized    Þeir ritfélagar Tómas Guðbjartsson og Ólafur M...\n",
      "Name: 304061, dtype: object\n",
      "title             Mega urða á Bakkafirði þrátt fyrir nálæga fisk...\n",
      "author                                                 Jón Þórisson\n",
      "url               https://www.visir.is/g/2019191129135/mega-urda...\n",
      "timestamp                                       2019-11-26 06:15:00\n",
      "t2                                        2019-11-26 06:30:16.70232\n",
      "t3                                       2020-10-23 05:10:32.775103\n",
      "text              Úrskurðarnefnd umhverfis-og auðlindamála hefur...\n",
      "text_tokenized    Úrskurðarnefnd umhverfis- og auðlindamála hefu...\n",
      "Name: 180464, dtype: object\n",
      "title             „Lé­leg af­sökun að það sé ekki nóg af konum í...\n",
      "author                                 Kristlín Dís Ingilínardóttir\n",
      "url               https://www.frettabladid.is/frettir/leleg-afso...\n",
      "timestamp                                       2019-07-30 16:31:00\n",
      "t2                                        2019-07-30 16:30:13.71427\n",
      "t3                                       2020-09-27 05:56:50.856453\n",
      "text              Dagskrá Útipúkans hefur vakið töluverða athygl...\n",
      "text_tokenized    Dagskrá Útipúkans hefur vakið töluverða athygl...\n",
      "Name: 392338, dtype: object\n",
      "title                                 Hagnaður Arion 4,9 milljarðar\n",
      "author                                             Ritstjórn mbl.is\n",
      "url               https://mbl.is/vidskipti/frettir/2020/07/29/ha...\n",
      "timestamp                                       2020-07-29 17:02:00\n",
      "t2                                       2020-07-29 17:30:22.898645\n",
      "t3                                       2020-07-29 17:30:34.659044\n",
      "text              Hagnaður Arion banka á öðrum ársfjórðungi er u...\n",
      "text_tokenized    Hagnaður Arion banka á öðrum ársfjórðungi er u...\n",
      "Name: 261977, dtype: object\n",
      "title             Skiltin í bænum sögð ógna öryggi vegfarenda – ...\n",
      "author                                           Ritstjórn Eyjunnar\n",
      "url               https://www.dv.is/eyjan/2019/11/08/skiltin-bae...\n",
      "timestamp                                       2019-11-08 14:18:44\n",
      "t2                                       2019-11-08 14:30:16.547302\n",
      "t3                                       2020-10-19 05:27:42.656336\n",
      "text              Íbúar í Grafarvogi eru ósáttir við auglýsingas...\n",
      "text_tokenized    Íbúar í Grafarvogi eru ósáttir við auglýsingas...\n",
      "Name: 424255, dtype: object\n",
      "title                        Hvernig verður stjórnarskránni breytt?\n",
      "author                                       Hjörtur J. Guðmundsson\n",
      "url               http://www.mbl.is/frettir/innlent/2016/02/18/h...\n",
      "timestamp                                       2016-02-18 19:45:00\n",
      "t2                                       2016-02-19 04:00:29.244274\n",
      "t3                                       2020-05-28 22:17:48.264842\n",
      "text              Tillögur stjórnarskrárnefndar að þremur nýjum ...\n",
      "text_tokenized    Tillögur stjórnarskrárnefndar að þremur nýjum ...\n",
      "Name: 127956, dtype: object\n",
      "title                                 Óska eftir skýrslu um loðnuna\n",
      "author                                             Ritstjórn mbl.is\n",
      "url               https://mbl.is/200milur/frettir/2019/03/18/osk...\n",
      "timestamp                                       2019-03-18 16:38:00\n",
      "t2                                        2019-03-18 17:00:13.75432\n",
      "t3                                        2020-06-01 18:30:32.80243\n",
      "text              Allir þingmenn Samfylkingar, Pírata og Viðreis...\n",
      "text_tokenized    Allir þingmenn Samfylkingar , Pírata og Viðrei...\n",
      "Name: 171354, dtype: object\n",
      "title              Aldrei fleiri Íslendingar til útlanda en í fyrra\n",
      "author                                          Birna Stefánsdóttir\n",
      "url               https://kjarninn.is/frettir/2019-04-23-aldrei-...\n",
      "timestamp                                       2019-04-23 13:23:38\n",
      "t2                                       2019-04-23 13:30:14.364259\n",
      "t3                                        2020-06-16 05:41:27.79186\n",
      "text              Í fyrra ferðuðust 83 prósent landsmanna utan l...\n",
      "text_tokenized    Í fyrra ferðuðust 83 prósent landsmanna utan l...\n",
      "Name: 160755, dtype: object\n",
      "title                         Vilja fá að veiða í fleiri veiðarfæri\n",
      "author                                             Ritstjórn mbl.is\n",
      "url               http://www.mbl.is/frettir/innlent/2017/09/21/v...\n",
      "timestamp                                       2017-09-21 05:30:00\n",
      "t2                                       2017-09-21 06:00:18.304193\n",
      "t3                                       2020-06-01 16:03:58.291247\n",
      "text              Minni afli línubáta frá Snæfellsnesi hefur ska...\n",
      "text_tokenized    Minni afli línubáta frá Snæfellsnesi hefur ska...\n",
      "Name: 80832, dtype: object\n"
     ]
    }
   ],
   "source": [
    "for fr in big_list[:10]:\n",
    "    print(news_Big.loc[fr])"
   ]
  },
  {
   "cell_type": "markdown",
   "id": "48ec2f46-2d14-4737-b083-9f7ea172f32b",
   "metadata": {},
   "source": [
    "# GENSIM LDA pælingar"
   ]
  },
  {
   "cell_type": "code",
   "execution_count": 265,
   "id": "f4bf08ee-0d13-43d0-8a5f-1f1ddf1f5c6b",
   "metadata": {},
   "outputs": [],
   "source": [
    "import gensim"
   ]
  },
  {
   "cell_type": "code",
   "execution_count": 266,
   "id": "9787f3b7-9f6b-41d3-be74-a6f0056cc434",
   "metadata": {},
   "outputs": [],
   "source": [
    "import string\n",
    "stop_words = set()\n",
    "extra_stop_words = [\"var\", \"ver\", \"ekki\", \"sé\"]\n",
    "with open(\"is_stop_words.txt\") as stop_word_file:\n",
    "    for line in stop_word_file.readlines():\n",
    "        stop_words.add(line.strip())\n",
    "stop_words.update(set(string.punctuation))\n",
    "stop_words.update(set(extra_stop_words))"
   ]
  },
  {
   "cell_type": "code",
   "execution_count": 282,
   "id": "60e53388-a3b9-48f8-82d1-dd634f82ba71",
   "metadata": {},
   "outputs": [],
   "source": [
    "import tokenizer\n",
    "from islenska import Bin\n",
    "\n",
    "b = Bin()\n",
    "\n",
    "def naive_bin_lemma(token):\n",
    "    candidates = b.lookup_lemmas_and_cats(token)\n",
    "    if not candidates:\n",
    "        return None\n",
    "    if len(candidates) > 1:\n",
    "        return None\n",
    "    cand = candidates.pop()\n",
    "    if cand[1] not in [\"kk\", \"kvk\", \"hk\"]:\n",
    "        return None\n",
    "    return cand[0]\n",
    "\n",
    "\n",
    "def tokenize_and_lemmatize(sentence):\n",
    "    if pd.isnull(sentence): # Líklegast óþarft núna\n",
    "            return []\n",
    "    tokenized_text = list(tokenizer.split_into_sentences(sentence))\n",
    "    #tokenized_text = list(sentence.split_into_sentences(sentence))\n",
    "    lemmas = []\n",
    "    for sent in tokenized_text:\n",
    "        for token in sent.split():\n",
    "            if token in stop_words:\n",
    "                continue\n",
    "            lemma = naive_bin_lemma(token.lower())\n",
    "            if lemma is not None:\n",
    "                lemmas.append(lemma)\n",
    "    return lemmas"
   ]
  },
  {
   "cell_type": "code",
   "execution_count": 268,
   "id": "7c638469-2f08-4921-aeff-4d9fb4a4eac8",
   "metadata": {},
   "outputs": [],
   "source": [
    "import gensim.corpora as corpora\n",
    "from gensim.utils import simple_preprocess\n",
    "from gensim.models import CoherenceModel"
   ]
  },
  {
   "cell_type": "code",
   "execution_count": null,
   "id": "be9683ff-58dc-4a2c-9658-16f6fa01c199",
   "metadata": {},
   "outputs": [],
   "source": [
    "#data_words = [a[\"bow\"] for a in articles]\n",
    "data_words = [tokenize_and_lemmatize(a) for a in tqdm.notebook.tqdm(data_train[\"text_tokenized\"])]\n",
    "\n",
    "# Build the bigram and trigram models\n",
    "bigram = gensim.models.Phrases(data_words, min_count=5, threshold=100) # higher threshold fewer phrases.\n",
    "trigram = gensim.models.Phrases(bigram[data_words], threshold=100)  \n",
    "\n",
    "# Faster way to get a sentence clubbed as a trigram/bigram\n",
    "bigram_mod = gensim.models.phrases.Phraser(bigram)\n",
    "trigram_mod = gensim.models.phrases.Phraser(trigram)\n",
    "\n",
    "# See trigram example\n",
    "print(trigram_mod[bigram_mod[data_words[0]]])\n",
    "\n",
    "def make_bigrams(texts):\n",
    "    return [bigram_mod[doc] for doc in texts]\n",
    "\n",
    "def make_trigrams(texts):\n",
    "    return [trigram_mod[bigram_mod[doc]] for doc in texts]"
   ]
  },
  {
   "cell_type": "code",
   "execution_count": 286,
   "id": "763d0c3e-8f76-4364-84c5-e4ebcd123e00",
   "metadata": {},
   "outputs": [],
   "source": [
    "import pickle\n",
    "\n",
    "with open('data_words', 'wb') as fh:\n",
    "    pickle.dump(data_words, fh)"
   ]
  },
  {
   "cell_type": "code",
   "execution_count": null,
   "id": "054cf940-a18f-45cb-b6a7-5570a717bab2",
   "metadata": {},
   "outputs": [],
   "source": [
    "data_words_bigrams = make_bigrams(data_words)"
   ]
  },
  {
   "cell_type": "code",
   "execution_count": null,
   "id": "d10555f1-5aca-4b5f-b004-9d0c465dfe22",
   "metadata": {},
   "outputs": [],
   "source": [
    "# Create Dictionary\n",
    "id2word = corpora.Dictionary(data_words)\n",
    "\n",
    "# Create Corpus\n",
    "texts = data_words\n",
    "\n",
    "# Term Document Frequency\n",
    "corpus = [id2word.doc2bow(text) for text in texts]"
   ]
  },
  {
   "cell_type": "code",
   "execution_count": null,
   "id": "c6dd15aa-2367-445c-a4fd-b04fddb1b745",
   "metadata": {
    "id": "iJTWmH7Jkbmg"
   },
   "outputs": [],
   "source": [
    "lda_model = gensim.models.ldamodel.LdaModel(corpus=corpus,\n",
    "                                           id2word=id2word,\n",
    "                                           num_topics=10, \n",
    "                                           random_state=100,\n",
    "                                           update_every=1,\n",
    "                                           chunksize=100,\n",
    "                                           passes=10,\n",
    "                                           alpha='auto',\n",
    "                                           per_word_topics=True)\n",
    "# Ath eta, tengja náttúruverndarorð við ákveðinn hóp"
   ]
  },
  {
   "cell_type": "code",
   "execution_count": 287,
   "id": "96dd330e-c326-4fab-95a5-133851b98f37",
   "metadata": {
    "colab": {
     "base_uri": "https://localhost:8080/"
    },
    "id": "isTxjcbekeUd",
    "outputId": "1d277d4e-6a96-4ea7-c6d3-b6b69b8c66fa"
   },
   "outputs": [
    {
     "name": "stdout",
     "output_type": "stream",
     "text": [
      "[(0,\n",
      "  '0.043*\"bíll\" + 0.029*\"myndband\" + 0.024*\"akureyri\" + 0.020*\"hátíð\" + '\n",
      "  '0.020*\"samkomulag\" + 0.018*\"færsla\" + 0.017*\"ökumaður\" + 0.017*\"ummæli\" + '\n",
      "  '0.016*\"nóvember\" + 0.014*\"hús\"'),\n",
      " (1,\n",
      "  '0.045*\"ísland\" + 0.015*\"breyting\" + 0.014*\"verkefni\" + 0.013*\"fyrirtæki\" + '\n",
      "  '0.011*\"áhrif\" + 0.010*\"sveitarfélag\" + 0.009*\"starfsmaður\" + '\n",
      "  '0.008*\"frumvarp\" + 0.008*\"þjónusta\" + 0.008*\"einstaklingur\"'),\n",
      " (2,\n",
      "  '0.031*\"svæði\" + 0.022*\"klukka\" + 0.022*\"íbúi\" + 0.018*\"samningur\" + '\n",
      "  '0.017*\"nótt\" + 0.017*\"íbúð\" + 0.016*\"tilkynning\" + 0.015*\"höfuðborgarsvæði\" '\n",
      "  '+ 0.014*\"verslun\" + 0.014*\"ferð\"'),\n",
      " (3,\n",
      "  '0.022*\"hugmynd\" + 0.021*\"bók\" + 0.016*\"nemandi\" + 0.013*\"saga\" + '\n",
      "  '0.013*\"umfjöllun\" + 0.013*\"háskóli\" + 0.012*\"skóli\" + 0.012*\"list\" + '\n",
      "  '0.011*\"hlutverk\" + 0.011*\"sýning\"'),\n",
      " (4,\n",
      "  '0.025*\"leikmaður\" + 0.024*\"mínúta\" + 0.021*\"kvöld\" + 0.021*\"ísland\" + '\n",
      "  '0.021*\"dagur\" + 0.018*\"sigur\" + 0.014*\"mark\" + 0.013*\"umferð\" + '\n",
      "  '0.013*\"deild\" + 0.013*\"tímabil\"'),\n",
      " (5,\n",
      "  '0.037*\"flokkur\" + 0.022*\"kosning\" + 0.020*\"ríkisstjórn\" + '\n",
      "  '0.019*\"sjálfstæðis-flokkur\" + 0.017*\"ingi\" + 0.012*\"landspítali\" + '\n",
      "  '0.012*\"ráðherra\" + 0.011*\"mál\" + 0.011*\"fólk\" + 0.011*\"niðurstaða\"'),\n",
      " (6,\n",
      "  '0.063*\"félag\" + 0.058*\"milljón\" + 0.040*\"milljarður\" + 0.040*\"prósent\" + '\n",
      "  '0.024*\"dómur\" + 0.024*\"mánuður\" + 0.023*\"króna\" + 0.019*\"banki\" + '\n",
      "  '0.019*\"fyrirtæki\" + 0.016*\"hlutur\"'),\n",
      " (7,\n",
      "  '0.057*\"fólk\" + 0.033*\"maður\" + 0.031*\"dagur\" + 0.025*\"kona\" + 0.024*\"barn\" '\n",
      "  '+ 0.019*\"þáttur\" + 0.014*\"mynd\" + 0.014*\"viðtal\" + 0.012*\"staður\" + '\n",
      "  '0.012*\"fjölskylda\"'),\n",
      " (8,\n",
      "  '0.056*\"dagur\" + 0.040*\"land\" + 0.027*\"bandaríki\" + 0.022*\"forseti\" + '\n",
      "  '0.019*\"morgunn\" + 0.016*\"þingmaður\" + 0.014*\"þjóð\" + 0.011*\"aðgerð\" + '\n",
      "  '0.011*\"ákvörðun\" + 0.009*\"fundur\"'),\n",
      " (9,\n",
      "  '0.047*\"lögregla\" + 0.032*\"mál\" + 0.023*\"rannsókn\" + 0.021*\"maður\" + '\n",
      "  '0.017*\"upplýsing\" + 0.013*\"ráðuneyti\" + 0.013*\"árás\" + 0.011*\"sendiráð\" + '\n",
      "  '0.010*\"fjölmiðill\" + 0.009*\"lögreglumaður\"')]\n"
     ]
    }
   ],
   "source": [
    "from pprint import pprint\n",
    "# Print the Keyword in the 10 topics\n",
    "pprint(lda_model.print_topics())\n",
    "doc_lda = lda_model[corpus]"
   ]
  },
  {
   "cell_type": "code",
   "execution_count": null,
   "id": "e3faf76c-b3af-4887-b4dd-1d64976e252e",
   "metadata": {},
   "outputs": [],
   "source": [
    "lda_model.save(\"./Big_lda_model\")"
   ]
  },
  {
   "cell_type": "code",
   "execution_count": null,
   "id": "4b5394b5-51ad-4c5f-aa24-097afb34064c",
   "metadata": {},
   "outputs": [],
   "source": []
  },
  {
   "cell_type": "code",
   "execution_count": null,
   "id": "325cf912-2a00-4060-8b36-55cd4bf2eac0",
   "metadata": {},
   "outputs": [],
   "source": [
    "[id2word[i[0]] for i in lda_model.get_topic_terms(1, topn=50)]"
   ]
  },
  {
   "cell_type": "code",
   "execution_count": 128,
   "id": "5b3d3cd8-aa5b-404b-8010-18e6a19e3c92",
   "metadata": {},
   "outputs": [
    {
     "data": {
      "text/plain": [
       "2642"
      ]
     },
     "execution_count": 128,
     "metadata": {},
     "output_type": "execute_result"
    }
   ],
   "source": [
    "id2word.token2id[\"náttúruvernd\"]"
   ]
  },
  {
   "cell_type": "code",
   "execution_count": 145,
   "id": "fcbbe30f-6a07-48e3-831c-e2e47040e284",
   "metadata": {},
   "outputs": [
    {
     "data": {
      "text/plain": [
       "[]"
      ]
     },
     "execution_count": 145,
     "metadata": {},
     "output_type": "execute_result"
    }
   ],
   "source": [
    "# Af hverju sýnir þetta fyrir fæst orð?\n",
    "lda_model.get_term_topics(id2word.token2id[\"neysla\"])"
   ]
  },
  {
   "cell_type": "code",
   "execution_count": 144,
   "id": "3f3eb397-57c0-4b93-9e5a-1d3ae75edb38",
   "metadata": {},
   "outputs": [
    {
     "data": {
      "text/plain": [
       "[(16, [6, 1, 2, 9]),\n",
       " (46, [6]),\n",
       " (47, [6]),\n",
       " (48, [6]),\n",
       " (49, [6]),\n",
       " (50, [4]),\n",
       " (51, [6, 1]),\n",
       " (52, [6]),\n",
       " (53, [6]),\n",
       " (54, [6]),\n",
       " (55, [6]),\n",
       " (56, [1, 4]),\n",
       " (57, [6, 1, 7, 8]),\n",
       " (58, [6]),\n",
       " (59, [6]),\n",
       " (60, [4]),\n",
       " (61, [1, 4, 8]),\n",
       " (62, [6, 1]),\n",
       " (63, [1]),\n",
       " (64, [1, 4]),\n",
       " (65, [6]),\n",
       " (66, [1, 4, 8, 2]),\n",
       " (67, [1]),\n",
       " (68, [1, 4, 7])]"
      ]
     },
     "execution_count": 144,
     "metadata": {},
     "output_type": "execute_result"
    }
   ],
   "source": [
    "doc_lda[2][1]"
   ]
  }
 ],
 "metadata": {
  "kernelspec": {
   "display_name": "Python 3.9.7 64-bit ('base': conda)",
   "language": "python",
   "name": "python397jvsc74a57bd095ec9ec1504d83f612128e0fb229072f90bbb4cb09d9d5d93b5dd26e0ca2cfd1"
  },
  "language_info": {
   "codemirror_mode": {
    "name": "ipython",
    "version": 3
   },
   "file_extension": ".py",
   "mimetype": "text/x-python",
   "name": "python",
   "nbconvert_exporter": "python",
   "pygments_lexer": "ipython3",
   "version": "3.9.7"
  }
 },
 "nbformat": 4,
 "nbformat_minor": 5
}
