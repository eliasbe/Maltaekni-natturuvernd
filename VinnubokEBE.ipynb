{
 "cells": [
  {
   "cell_type": "code",
   "execution_count": 16,
   "id": "a45351d5-dada-4107-bcbb-7d36b76e87f2",
   "metadata": {},
   "outputs": [],
   "source": [
    "import tqdm\n",
    "def read_news_tsv(file_name):\n",
    "    data = []\n",
    "    with open(file_name, encoding=\"utf-8\") as fh:\n",
    "        for line in tqdm.tqdm(fh.readlines()):\n",
    "            title, author, url, timestamp, _, _, text, text_tokenized = line.split(\"\\t\")\n",
    "            article = {\n",
    "                \"title\": title,\n",
    "                \"author\": author,\n",
    "                \"timestamp\": timestamp,\n",
    "                \"text\": text,\n",
    "                \"text_tokenized\": text_tokenized\n",
    "            }\n",
    "            data.append(article)\n",
    "        return data"
   ]
  },
  {
   "cell_type": "code",
   "execution_count": 24,
   "id": "86bcd8f4-d708-4f5a-bcc8-6de1bd238144",
   "metadata": {},
   "outputs": [
    {
     "name": "stderr",
     "output_type": "stream",
     "text": [
      "100%|█████████████████████████████████| 22248/22248 [00:00<00:00, 214817.21it/s]"
     ]
    },
    {
     "name": "stdout",
     "output_type": "stream",
     "text": [
      "Article count 22248\n"
     ]
    },
    {
     "name": "stderr",
     "output_type": "stream",
     "text": [
      "\n"
     ]
    }
   ],
   "source": [
    "articles = read_news_tsv(\"icelandic_news_sample_22480.tsv\")\n",
    "print(f\"Article count {len(articles)}\")"
   ]
  },
  {
   "cell_type": "code",
   "execution_count": 2,
   "id": "4eec206a-be1b-4eab-8837-695a9f9192ce",
   "metadata": {},
   "outputs": [],
   "source": [
    "import pandas as pd"
   ]
  },
  {
   "cell_type": "code",
   "execution_count": 8,
   "id": "e8115558-606b-4139-ab63-de84844d8db3",
   "metadata": {},
   "outputs": [],
   "source": [
    "news_df = pd.read_csv(\"icelandic_news_sample_22480.tsv\", sep='\\t', header = None)"
   ]
  },
  {
   "cell_type": "code",
   "execution_count": 9,
   "id": "575d76b9-32bc-4751-bf97-931f0008aafb",
   "metadata": {},
   "outputs": [
    {
     "name": "stdout",
     "output_type": "stream",
     "text": [
      "21518\n"
     ]
    }
   ],
   "source": [
    "print(len(news_df))"
   ]
  },
  {
   "cell_type": "code",
   "execution_count": 22,
   "id": "9ee62969-4404-4a6a-8b9e-46b4c670a496",
   "metadata": {},
   "outputs": [
    {
     "data": {
      "text/html": [
       "<div>\n",
       "<style scoped>\n",
       "    .dataframe tbody tr th:only-of-type {\n",
       "        vertical-align: middle;\n",
       "    }\n",
       "\n",
       "    .dataframe tbody tr th {\n",
       "        vertical-align: top;\n",
       "    }\n",
       "\n",
       "    .dataframe thead th {\n",
       "        text-align: right;\n",
       "    }\n",
       "</style>\n",
       "<table border=\"1\" class=\"dataframe\">\n",
       "  <thead>\n",
       "    <tr style=\"text-align: right;\">\n",
       "      <th></th>\n",
       "      <th>0</th>\n",
       "      <th>1</th>\n",
       "      <th>2</th>\n",
       "      <th>3</th>\n",
       "      <th>4</th>\n",
       "      <th>5</th>\n",
       "      <th>6</th>\n",
       "      <th>7</th>\n",
       "    </tr>\n",
       "  </thead>\n",
       "  <tbody>\n",
       "    <tr>\n",
       "      <th>21513</th>\n",
       "      <td>Samherjamálið er hrikalegt áfall fyrir allan s...</td>\n",
       "      <td>Ritstjórn Hringbrautar</td>\n",
       "      <td>http://www.hringbraut.is/frettir/samherjamalid...</td>\n",
       "      <td>2019-11-13 14:30:00</td>\n",
       "      <td>2019-11-13 15:00:17.237825</td>\n",
       "      <td>2020-10-20 05:34:40.142362</td>\n",
       "      <td>Ef marka má mikinn fréttaflutning og fram komi...</td>\n",
       "      <td>Ef marka má mikinn fréttaflutning og fram komi...</td>\n",
       "    </tr>\n",
       "    <tr>\n",
       "      <th>21514</th>\n",
       "      <td>HeForShe berst gegn netníði: Konur á aldrinum ...</td>\n",
       "      <td>Hulda Hólmkelsdóttir</td>\n",
       "      <td>http://www.visir.is/heforshe-berst-gegn-netnid...</td>\n",
       "      <td>2016-10-11 11:15:00</td>\n",
       "      <td>2016-10-11 12:00:12.706579</td>\n",
       "      <td>2020-10-14 06:23:56.773503</td>\n",
       "      <td>UN Women á Íslandi hleypir í dag af stokkunum ...</td>\n",
       "      <td>UN Women á Íslandi hleypir í dag af stokkunum ...</td>\n",
       "    </tr>\n",
       "    <tr>\n",
       "      <th>21515</th>\n",
       "      <td>Hönnuður New York-ástar­lógósins er látinn</td>\n",
       "      <td>Atli Ísleifsson</td>\n",
       "      <td>https://www.visir.is/g/20201985728d/honnudur-n...</td>\n",
       "      <td>2020-06-27 18:17:00</td>\n",
       "      <td>2020-06-27 18:30:13.330922</td>\n",
       "      <td>2020-06-27 18:30:26.505181</td>\n",
       "      <td>Grafíski hönnuðurinn Milton Glaser, sem hannað...</td>\n",
       "      <td>Grafíski hönnuðurinn Milton Glaser , sem hanna...</td>\n",
       "    </tr>\n",
       "    <tr>\n",
       "      <th>21516</th>\n",
       "      <td>Dagbjartur og Ragnhildur sigruðu Síma-mótið</td>\n",
       "      <td>Anton Ingi Leifsson</td>\n",
       "      <td>https://www.visir.is/g/2019190608898/dagbjartu...</td>\n",
       "      <td>2019-06-09 16:14:00</td>\n",
       "      <td>2019-06-09 16:30:12.727944</td>\n",
       "      <td>2020-08-30 05:21:12.769194</td>\n",
       "      <td>Dagbjartur Sigurbrandsson, úr GR, og Ragnhildu...</td>\n",
       "      <td>Dagbjartur Sigurbrandsson , úr GR , og Ragnhil...</td>\n",
       "    </tr>\n",
       "    <tr>\n",
       "      <th>21517</th>\n",
       "      <td>Elliði hafnar því að líkja Samfylkingunni við ...</td>\n",
       "      <td>Urður Örlygsdóttir</td>\n",
       "      <td>https://www.frettabladid.is/frettir/ellidi-haf...</td>\n",
       "      <td>2020-05-05 23:12:00</td>\n",
       "      <td>2020-05-05 23:30:12.774491</td>\n",
       "      <td>2020-05-31 01:58:02.246298</td>\n",
       "      <td>Í samtali við Fréttablaðið segir Elliði Vignis...</td>\n",
       "      <td>Í samtali við Fréttablaðið segir Elliði Vignis...</td>\n",
       "    </tr>\n",
       "  </tbody>\n",
       "</table>\n",
       "</div>"
      ],
      "text/plain": [
       "                                                       0  \\\n",
       "21513  Samherjamálið er hrikalegt áfall fyrir allan s...   \n",
       "21514  HeForShe berst gegn netníði: Konur á aldrinum ...   \n",
       "21515         Hönnuður New York-ástar­lógósins er látinn   \n",
       "21516        Dagbjartur og Ragnhildur sigruðu Síma-mótið   \n",
       "21517  Elliði hafnar því að líkja Samfylkingunni við ...   \n",
       "\n",
       "                            1  \\\n",
       "21513  Ritstjórn Hringbrautar   \n",
       "21514    Hulda Hólmkelsdóttir   \n",
       "21515         Atli Ísleifsson   \n",
       "21516     Anton Ingi Leifsson   \n",
       "21517      Urður Örlygsdóttir   \n",
       "\n",
       "                                                       2                    3  \\\n",
       "21513  http://www.hringbraut.is/frettir/samherjamalid...  2019-11-13 14:30:00   \n",
       "21514  http://www.visir.is/heforshe-berst-gegn-netnid...  2016-10-11 11:15:00   \n",
       "21515  https://www.visir.is/g/20201985728d/honnudur-n...  2020-06-27 18:17:00   \n",
       "21516  https://www.visir.is/g/2019190608898/dagbjartu...  2019-06-09 16:14:00   \n",
       "21517  https://www.frettabladid.is/frettir/ellidi-haf...  2020-05-05 23:12:00   \n",
       "\n",
       "                                4                           5  \\\n",
       "21513  2019-11-13 15:00:17.237825  2020-10-20 05:34:40.142362   \n",
       "21514  2016-10-11 12:00:12.706579  2020-10-14 06:23:56.773503   \n",
       "21515  2020-06-27 18:30:13.330922  2020-06-27 18:30:26.505181   \n",
       "21516  2019-06-09 16:30:12.727944  2020-08-30 05:21:12.769194   \n",
       "21517  2020-05-05 23:30:12.774491  2020-05-31 01:58:02.246298   \n",
       "\n",
       "                                                       6  \\\n",
       "21513  Ef marka má mikinn fréttaflutning og fram komi...   \n",
       "21514  UN Women á Íslandi hleypir í dag af stokkunum ...   \n",
       "21515  Grafíski hönnuðurinn Milton Glaser, sem hannað...   \n",
       "21516  Dagbjartur Sigurbrandsson, úr GR, og Ragnhildu...   \n",
       "21517  Í samtali við Fréttablaðið segir Elliði Vignis...   \n",
       "\n",
       "                                                       7  \n",
       "21513  Ef marka má mikinn fréttaflutning og fram komi...  \n",
       "21514  UN Women á Íslandi hleypir í dag af stokkunum ...  \n",
       "21515  Grafíski hönnuðurinn Milton Glaser , sem hanna...  \n",
       "21516  Dagbjartur Sigurbrandsson , úr GR , og Ragnhil...  \n",
       "21517  Í samtali við Fréttablaðið segir Elliði Vignis...  "
      ]
     },
     "execution_count": 22,
     "metadata": {},
     "output_type": "execute_result"
    }
   ],
   "source": [
    "news_df.tail()"
   ]
  },
  {
   "cell_type": "code",
   "execution_count": 27,
   "id": "71b0754d-7022-4b56-8fb0-efa36e5c3546",
   "metadata": {},
   "outputs": [
    {
     "data": {
      "text/plain": [
       "[{'title': 'Óttast að endanleg tala látinna verði sláandi',\n",
       "  'author': 'Þórgnýr Einar Albertsson',\n",
       "  'timestamp': '2019-09-06 19:00:00',\n",
       "  'text': 'Að minnsta kosti þrjátíu andlát hafa nú verið staðfest á Bahamaeyjum eftir að fellibylurinn Dorian reið þar yfir. Búist er við því að tala látinna haldi áfram að hækka. Duane Sands, heilbrigðismálaráðherra eyjanna, varaði við því í dag að endanleg tala gæti orðið sláandi. Hundraða, jafnvel þúsunda, er enn saknað. Þá er talið að um helmingur heimila á þeim eyjum sem urðu verst úti sé verulega skemmdur eða gjörónýtur. Dorian telst nú fyrsta stigs fellibylur og er mun veikari en þegar hann gekk á land á Bahamaeyjum. Stormurinn hélt áfram að valda hættulegum sjávarflóðum í Norður-og Suður-Karólínu í Bandaríkjunum í dag. Rafmagnslaust hefur verið víða og heimili eyðilagst.',\n",
       "  'text_tokenized': 'Að minnsta kosti þrjátíu andlát hafa nú verið staðfest á Bahamaeyjum eftir að fellibylurinn Dorian reið þar yfir . Búist er við því að tala látinna haldi áfram að hækka . Duane Sands , heilbrigðismálaráðherra eyjanna , varaði við því í dag að endanleg tala gæti orðið sláandi . Hundraða , jafnvel þúsunda , er enn saknað . Þá er talið að um helmingur heimila á þeim eyjum sem urðu verst úti sé verulega skemmdur eða gjörónýtur . Dorian telst nú fyrsta stigs fellibylur og er mun veikari en þegar hann gekk á land á Bahamaeyjum . Stormurinn hélt áfram að valda hættulegum sjávarflóðum í Norður- og Suður-Karólínu í Bandaríkjunum í dag . Rafmagnslaust hefur verið víða og heimili eyðilagst .\\n'},\n",
       " {'title': 'Bjart og hlýtt suð\\xadvestan\\xadlands en slyddu\\xadél fyrir norðan',\n",
       "  'author': 'Kristín Ólafsdóttir',\n",
       "  'timestamp': '2020-05-16 07:24:00',\n",
       "  'text': 'Í dag má búast við norðan stinningsgolu eða-kalda víðast hvar og meiri vindi framan af degi norðaustantil. Varað er við allhvassri eða hvassri norðvestanátt austast á landinu fyrri part dags og ökumenn einkum hvattir til að sýna aðgát. Annars verður léttskýjað í flestum landshlutum, hiti 1–5 norðaustantil en allt að 11 stig suðvestanlands. Þá þykknar upp með dálitlum skúrum eða slydduéljum á Norður-og Austurlandi. Á morgun og næstu daga verða austlægar áttir ríkjandi og bjart með köflum, en víða líkur á lítilsháttar vætu. Hægt hlýnandi veður. Um miðja vikuna er von á skilum að landinu með ákveðinni suðaustanátt og rigningu. „En fátt er svo með öllu illt að ekki boði nokkuð gott og skilunum mun fylgja talsvert hlýtt loft sem allt útlit er fyrir að staldri við hjá okkur fram að helgi,“ segir í hugleiðingum veðurfræðings. Veðurhorfur á landinu næstu daga Á sunnudag: Austan og norðaustan 8-15 m/s, hvassast við suðurströndina. Bjart með köflum, en skýjað og lítilsháttar skúrir eða él um landið austanvert. Hiti frá 2 stigum austast, upp í 13 stig á Vesturlandi að deginum. Á mánudag: Suðaustan 3-8 m/s og víða bjartviðri, en austan 8-13 og stöku skúrir við suðurströndina. Hiti 4 til 11 stig, hlýjast á Norður-og Vesturlandi. Á þriðjudag: Fremur hæg austlæg eða breytileg átt og bjart með köflum. Hiti 4 til 12 stig, hlýjast norðan-og vestanlands. Á miðvikudag: Ákveðin suðaustlæg átt og rigning, en hægari og og væta með köflum norðanlands. Hiti breytist lítið. Á fimmtudag (uppstigningardagur): Suðlæg átt, dálítil væta sunnan-og vestanlands, en annars bjart með köflum og úrkomulítið. Hlýnandi. Á föstudag: Útlit fyrir suðlægar áttir, léttskýjað og hlýtt í veðri.',\n",
       "  'text_tokenized': 'Í dag má búast við norðan stinningsgolu eða -kalda víðast hvar og meiri vindi framan af degi norðaustantil . Varað er við allhvassri eða hvassri norðvestanátt austast á landinu fyrri part dags og ökumenn einkum hvattir til að sýna aðgát . Annars verður léttskýjað í flestum landshlutum , hiti 1 – 5 norðaustantil en allt að 11 stig suðvestanlands . Þá þykknar upp með dálitlum skúrum eða slydduéljum á Norður- og Austurlandi . Á morgun og næstu daga verða austlægar áttir ríkjandi og bjart með köflum , en víða líkur á lítilsháttar vætu . Hægt hlýnandi veður . Um miðja vikuna er von á skilum að landinu með ákveðinni suðaustanátt og rigningu . „ En fátt er svo með öllu illt að ekki boði nokkuð gott og skilunum mun fylgja talsvert hlýtt loft sem allt útlit er fyrir að staldri við hjá okkur fram að helgi , “ segir í hugleiðingum veðurfræðings . Veðurhorfur á landinu næstu daga Á sunnudag : Austan og norðaustan 8 - 15 m / s , hvassast við suðurströndina . Bjart með köflum , en skýjað og lítilsháttar skúrir eða él um landið austanvert . Hiti frá 2 stigum austast , upp í 13 stig á Vesturlandi að deginum . Á mánudag : Suðaustan 3 - 8 m / s og víða bjartviðri , en austan 8 - 13 og stöku skúrir við suðurströndina . Hiti 4 til 11 stig , hlýjast á Norður- og Vesturlandi . Á þriðjudag : Fremur hæg austlæg eða breytileg átt og bjart með köflum . Hiti 4 til 12 stig , hlýjast norðan- og vestanlands . Á miðvikudag : Ákveðin suðaustlæg átt og rigning , en hægari og og væta með köflum norðanlands . Hiti breytist lítið . Á fimmtudag ( uppstigningardagur ) : Suðlæg átt , dálítil væta sunnan- og vestanlands , en annars bjart með köflum og úrkomulítið . Hlýnandi . Á föstudag : Útlit fyrir suðlægar áttir , léttskýjað og hlýtt í veðri .\\n'},\n",
       " {'title': 'Eldur kom upp í bíl á ferð á Reykjanesbrautinni í morgun',\n",
       "  'author': 'Ritstjórn Hringbrautar',\n",
       "  'timestamp': '2019-11-22 10:30:00',\n",
       "  'text': 'Um fimmleytið í morgun var Slökkvilið höfuðborgarsvæðisins kallað til vegna elds sem komið hafði upp í bíl á Reykjanesbrautinni á móti Vífilstöðum. Mbl greindi frá í morgun. Þar segir að sögn varðstjóra slökkviliðsins hafi bíllinn verið á ferð þegar glóð kom upp í bílnum og reykur. Greiðlega gekk að slökkva eldinn og var bíllinn dreginn af vettvangi að loknu slökkvistarfi.',\n",
       "  'text_tokenized': 'Um fimmleytið í morgun var Slökkvilið höfuðborgarsvæðisins kallað til vegna elds sem komið hafði upp í bíl á Reykjanesbrautinni á móti Vífilstöðum . Mbl greindi frá í morgun . Þar segir að sögn varðstjóra slökkviliðsins hafi bíllinn verið á ferð þegar glóð kom upp í bílnum og reykur . Greiðlega gekk að slökkva eldinn og var bíllinn dreginn af vettvangi að loknu slökkvistarfi .\\n'},\n",
       " {'title': 'Þriggja bíla árekstur á Nýbýlavegi',\n",
       "  'author': 'Birgir Þór Harðarson',\n",
       "  'timestamp': '2020-05-04 08:34:28',\n",
       "  'text': 'Þriggja bíla árekstur varð á Nýbýlavegi í Kópavogi laust eftir klukkan átta í morgun. Tveir sjúkrabílar og einn slökkvibíll voru sendir á staðinn. Þegar fréttastofa náði tali af slökkviliðinu á höfuðborgarsvæðinu voru aðgerðir á vettvangi að hefjast.',\n",
       "  'text_tokenized': 'Þriggja bíla árekstur varð á Nýbýlavegi í Kópavogi laust eftir klukkan átta í morgun . Tveir sjúkrabílar og einn slökkvibíll voru sendir á staðinn . Þegar fréttastofa náði tali af slökkviliðinu á höfuðborgarsvæðinu voru aðgerðir á vettvangi að hefjast .\\n'},\n",
       " {'title': 'Þyrla sækir slasaðan á Leggjabrjót',\n",
       "  'author': 'Ritstjórn mbl.is',\n",
       "  'timestamp': '2020-08-29 16:09:00',\n",
       "  'text': 'Sjúkraflutningamenn og björgunarsveitarmenn hlúa nú að göngumanni sem slasaðist á Leggjabrjóti, gönguleið milli Þingvallasveitar og Botnsdals í Hvalfirði. Þyrla Landhelgisgæslunnar er á leið til mannsins, samkvæmt upplýsingum frá Landhelgisgæslunni. Meiðsli mannsins eru ekki talin alvarleg en sjúkraflutningamenn og björgunarsveitir fóru af stað til hans klukkan hálftvö. Um er að ræða ungan karlmann sem var á göngu með hópi af fólki, að sögn Davíðs Más Bjarnasonar, upplýsingafulltrúa Landsbjargar. Björgunarsveitir í Reykjavík og Mosfellsbæ voru sendar á vettvang.',\n",
       "  'text_tokenized': 'Sjúkraflutningamenn og björgunarsveitarmenn hlúa nú að göngumanni sem slasaðist á Leggjabrjóti , gönguleið milli Þingvallasveitar og Botnsdals í Hvalfirði . Þyrla Landhelgisgæslunnar er á leið til mannsins , samkvæmt upplýsingum frá Landhelgisgæslunni . Meiðsli mannsins eru ekki talin alvarleg en sjúkraflutningamenn og björgunarsveitir fóru af stað til hans klukkan hálftvö . Um er að ræða ungan karlmann sem var á göngu með hópi af fólki , að sögn Davíðs Más Bjarnasonar , upplýsingafulltrúa Landsbjargar . Björgunarsveitir í Reykjavík og Mosfellsbæ voru sendar á vettvang .\\n'},\n",
       " {'title': 'Samherjamálið er hrikalegt áfall fyrir allan sjávarútveginn og Sjálfstæðisflokkinn',\n",
       "  'author': 'Ritstjórn Hringbrautar',\n",
       "  'timestamp': '2019-11-13 14:30:00',\n",
       "  'text': 'Ef marka má mikinn fréttaflutning og fram komin gögn vegna umdeildrar starfsemi Samherja í Namibíu, þá er viðbúið að málið muni hafa víðtæk áhrif að því gefnu að upplýsingarnar eigi við rök að styðjast. Verði fram komnar upplýsingar staðfestar þá er þetta gífurlegt áfall fyrir Samherja sem fyrirtæki, stjórnendur þess og eigendur. Menn eru bornir þungum sökum um alþjóðleg lögbrot sem varða við þungar refsingar. En þetta snýr ekki að stórfyrirtækinu Samherja einu—heldur öllum íslenskum sjávarútvegi og jafnvel fleiri þáttum útflutningsatvinnugreinanna. Spyrja má hvort orðspor Íslands muni skaðast á alþjóðavettvangi? Munu viðskiptakjör þjóðarinnar versna? Verður lánstraust Íslendinga erlendis lakara? Munu útlendingar veigra sér við að kaupa íslenskar afurðir, einkum sjávarafurðir? Mun þetta draga úr farðamannastraumi til Íslands? Mun þetta mál hafa áhrif á gengi íslensku krónunnar? Þannig mætti áfram telja og spyrja áleitinna spurninga. Einnig verður fróðlegt að sjá hvernig samtök í íslensku atvinnulífi munu bregðast við. Því hefur lengi verið haldið fram að Samherji og forráðamenn félagsins hafi ráðið býsna miklu í þessum samtökum. Þau hafa verið allsráðandi í Samtökum fyrirtækja í sjávarútvegi (áður LÍÚ og Samtök fiskvinnslustöðva), og haft mikil áhrif hjá Viðskiptaráði Íslands og Samtökum atvinnulífsins. Að ekki sé talað um Íslandsstofu sem á að sinna kynningarmálum fyrir íslenska útflutningsstarfsemi en þar gegnir Björgólfur Jóhannsson formennsku, en hann er fyrrum stjórnandi hjá Samherja og dótturfélaginu Síldarvinnslunni. Hvað skyldi honum finnast um þetta mál út frá orðspuri Íslands og hagsmunum útflutningsgreinanna? Þá á eftir að ræða um áhrif málsins á íslensk stjórnmál. Nokkrir stjórnmálamenn hafa þegar tjáð sig. Sumir með einkar ósmekklegum hætti og án yfirvegunar. Aðrir virðast bíða átekta. Forsætisráðherra tjáði sig við fjölmiðla um hádegi í dag. Þar var ekki skafið utan af alvöru málsins. Viðbúið er að ríkisstjórnin hafi nú þegar meiri upplýsingar um málið en fram hefur komið í fjölmiðlum. Innan úr Sjálfstæðisflokknum berast þær fréttir að þar á bæ séu menn svefnlitlir af áhyggjum. Öllum eru ljós hin miklu tengsl Samherjaforystunnar við flokkinn. Einkum eru þau tengsl vandræðaleg við Kristján Þór Júlíusson, sjávarútvegs og landbúnaðarráðherra, sem hefur lækkað veiðileyfagjöldin úr 11 milljörðum í 5 milljarða samkvæmt því fjárlagafrumvarpi sem liggur fyrir Alþingi til afgreiðslu. Innan Sjálfstæðisflokksins eru uppi raddir um að flokkurinn muni tapa miklu fylgi vegna málsins nema Kristján Þór víki úr ríkisstjórninni, alla vega tímabundið á meðan rannsókn fer fram. Á meðan tæki nýr ráðherra við. Margir yrðu þá vafalaust kallaðir en einna líklegast er að Jón Gunnarsson, ritari flokksins, yrði fyrir valinu. Hér er vont mál á ferðinni. Það eina góða sem það gæti haft í för með sér er að veiðileyfagjöld yrðu hækkuð í eðlilegt horf í stað þess að halda áfram að lækka þau. Viðileyfagjölda þurfa að fara í 12 til 15 milljarða á ári til þess að meiri sátt geti orðið um íslenskan sjávarútveg. Oft var þörf—en nú er nauðsyn!',\n",
       "  'text_tokenized': 'Ef marka má mikinn fréttaflutning og fram komin gögn vegna umdeildrar starfsemi Samherja í Namibíu , þá er viðbúið að málið muni hafa víðtæk áhrif að því gefnu að upplýsingarnar eigi við rök að styðjast . Verði fram komnar upplýsingar staðfestar þá er þetta gífurlegt áfall fyrir Samherja sem fyrirtæki , stjórnendur þess og eigendur . Menn eru bornir þungum sökum um alþjóðleg lögbrot sem varða við þungar refsingar . En þetta snýr ekki að stórfyrirtækinu Samherja einu — heldur öllum íslenskum sjávarútvegi og jafnvel fleiri þáttum útflutningsatvinnugreinanna . Spyrja má hvort orðspor Íslands muni skaðast á alþjóðavettvangi ? Munu viðskiptakjör þjóðarinnar versna ? Verður lánstraust Íslendinga erlendis lakara ? Munu útlendingar veigra sér við að kaupa íslenskar afurðir , einkum sjávarafurðir ? Mun þetta draga úr farðamannastraumi til Íslands ? Mun þetta mál hafa áhrif á gengi íslensku krónunnar ? Þannig mætti áfram telja og spyrja áleitinna spurninga . Einnig verður fróðlegt að sjá hvernig samtök í íslensku atvinnulífi munu bregðast við . Því hefur lengi verið haldið fram að Samherji og forráðamenn félagsins hafi ráðið býsna miklu í þessum samtökum . Þau hafa verið allsráðandi í Samtökum fyrirtækja í sjávarútvegi ( áður LÍÚ og Samtök fiskvinnslustöðva ) , og haft mikil áhrif hjá Viðskiptaráði Íslands og Samtökum atvinnulífsins . Að ekki sé talað um Íslandsstofu sem á að sinna kynningarmálum fyrir íslenska útflutningsstarfsemi en þar gegnir Björgólfur Jóhannsson formennsku , en hann er fyrrum stjórnandi hjá Samherja og dótturfélaginu Síldarvinnslunni . Hvað skyldi honum finnast um þetta mál út frá orðspuri Íslands og hagsmunum útflutningsgreinanna ? Þá á eftir að ræða um áhrif málsins á íslensk stjórnmál . Nokkrir stjórnmálamenn hafa þegar tjáð sig . Sumir með einkar ósmekklegum hætti og án yfirvegunar . Aðrir virðast bíða átekta . Forsætisráðherra tjáði sig við fjölmiðla um hádegi í dag . Þar var ekki skafið utan af alvöru málsins . Viðbúið er að ríkisstjórnin hafi nú þegar meiri upplýsingar um málið en fram hefur komið í fjölmiðlum . Innan úr Sjálfstæðisflokknum berast þær fréttir að þar á bæ séu menn svefnlitlir af áhyggjum . Öllum eru ljós hin miklu tengsl Samherjaforystunnar við flokkinn . Einkum eru þau tengsl vandræðaleg við Kristján Þór Júlíusson , sjávarútvegs og landbúnaðarráðherra , sem hefur lækkað veiðileyfagjöldin úr 11 milljörðum í 5 milljarða samkvæmt því fjárlagafrumvarpi sem liggur fyrir Alþingi til afgreiðslu . Innan Sjálfstæðisflokksins eru uppi raddir um að flokkurinn muni tapa miklu fylgi vegna málsins nema Kristján Þór víki úr ríkisstjórninni , alla vega tímabundið á meðan rannsókn fer fram . Á meðan tæki nýr ráðherra við . Margir yrðu þá vafalaust kallaðir en einna líklegast er að Jón Gunnarsson , ritari flokksins , yrði fyrir valinu . Hér er vont mál á ferðinni . Það eina góða sem það gæti haft í för með sér er að veiðileyfagjöld yrðu hækkuð í eðlilegt horf í stað þess að halda áfram að lækka þau . Viðileyfagjölda þurfa að fara í 12 til 15 milljarða á ári til þess að meiri sátt geti orðið um íslenskan sjávarútveg . Oft var þörf — en nú er nauðsyn !\\n'},\n",
       " {'title': 'HeForShe berst gegn netníði: Konur á aldrinum 18-24 ára líklegastar til að verða fyrir netníð',\n",
       "  'author': 'Hulda Hólmkelsdóttir',\n",
       "  'timestamp': '2016-10-11 11:15:00',\n",
       "  'text': 'UN Women á Íslandi hleypir í dag af stokkunum nýrri HeForShe herferð. Markmið herferðarinnar er að hvetja fólk til þess að skrá sig á heforshe. is og skuldbinda sig þar með til að berjast gegn netníð sem og að tileinka sér ábyrga nethegðun, beita hvorki hatursfullri orðræðu né hóta ofbeldi á netinu. Netníð er meðal annars haturosorðræða, hacking, auðkennisþjófnaður, áreiti, og hótanir. Þá er Internetið einnig notað til mansals og kynferðisofbeldis, til að mynda þegar kynferðislegu myndefni er dreift án leyfis. Algengt er að samfélagsmiðlar, og aðrir miðlar sem notaðir eru til netníðs, fríi sig ábyrgð á einhvern hátt. Árið 1995 höfðu aðeins eitt prósent jarðarbúa aðgang að Internetinu. Sú tala er nú um 40 prósent og yfir þrír milljarðar nota netið á hverjum degi. Konur eru 25 prósent ólíklegri til að hafa aðgang á netinu, en eru þó töluvert líklegri til að verða fyrir netníð. Netníð gegn konum og stúlkum er vaxandi vandamál. Samkvæmt skýrslu Sameinuðu þjóðanna frá árinu 2015 er algengara að konur verði fyrir netníð og eru konur á aldrinum 18—24 ára eru sérstaklega líklegar til að verða fyrir netníð. Til að mynda er talið að um 18% kvenna í Evrópusambandslöndum hafi orðið fyrir einhverskonar netníð frá 15 ára aldri, sem eru um það bil 9 milljónir kvenna. Kött Grá Pjé tók saman hatursummæli á netinu og gerði úr þeim ljóð. VÍSIR/ANTON BRINK Burðarefni herferðar UN Women er myndband sem sýnir hvernig kynbundið ofbeldi í garð kvenna og stúlkna viðgengst á internetinu. Tónlistarmaðurinn og skáldið Kött Grá Pjé safnaði saman grófum athugasemdum ungs fólks. Athugasemdirnar koma aðallega frá Kiwi (ASKFM), Instagram og Youtube. „Athugasemdirnar sem blöstu við honum eru grófar og sýna vel það grimma og dulda kynbundna ofbeldi sem fram fer á netinu. Myndbandið varpar ljósi á það rof sem myndast milli samskipta fólks í raunheimum og á Internetinu, líkt og að aðrar samskiptareglur og „netikettur“ viðgangist á netinu,“ segir í tilkynningu frá UN Women. Oft er það svo að notendur virðist ekki tengja á milli þess að efni sem sett er á netið verður þar að eilífu, að netið sé raunverulegur heimur sem lúti sömu samskiptalögumálum og raunveruleikinn utan netsins. Því leyfir fólk sér oft að nota hatursfull ummæli, dónaskap og ofbeldi á netinu, sem það myndi alla jafna ekki láta falla í hversdagslegum aðstæðum í raunheimum. Þeirri orðræðu sem sýnd er í myndbandinu er ætlað að ögra og hreyfa við fólki. Öll þau ummæli sem fram koma í myndbandinu eru nú þegar á netinu og öllum aðgengileg. Markmið átaksins er stinga á kýlið, það er ekki gert ef farið er eins og köttur í kringum heitan grautinn. Un Women á Íslandi hvetja alla til að beita sér gegn netníð gegn konum og stelpum, tileinka sér skynsamlegt netsiðferði og skrá sig á www. heforshe. is Myndband HeForShe má sjá hér fyrir neðan. Tweet',\n",
       "  'text_tokenized': 'UN Women á Íslandi hleypir í dag af stokkunum nýrri HeForShe herferð . Markmið herferðarinnar er að hvetja fólk til þess að skrá sig á heforshe.is og skuldbinda sig þar með til að berjast gegn netníð sem og að tileinka sér ábyrga nethegðun , beita hvorki hatursfullri orðræðu né hóta ofbeldi á netinu . Netníð er meðal annars haturosorðræða , hacking , auðkennisþjófnaður , áreiti , og hótanir . Þá er Internetið einnig notað til mansals og kynferðisofbeldis , til að mynda þegar kynferðislegu myndefni er dreift án leyfis . Algengt er að samfélagsmiðlar , og aðrir miðlar sem notaðir eru til netníðs , fríi sig ábyrgð á einhvern hátt . Árið 1995 höfðu aðeins eitt prósent jarðarbúa aðgang að Internetinu . Sú tala er nú um 40 prósent og yfir þrír milljarðar nota netið á hverjum degi . Konur eru 25 prósent ólíklegri til að hafa aðgang á netinu , en eru þó töluvert líklegri til að verða fyrir netníð . Netníð gegn konum og stúlkum er vaxandi vandamál . Samkvæmt skýrslu Sameinuðu þjóðanna frá árinu 2015 er algengara að konur verði fyrir netníð og eru konur á aldrinum 18 — 24 ára eru sérstaklega líklegar til að verða fyrir netníð . Til að mynda er talið að um 18% kvenna í Evrópusambandslöndum hafi orðið fyrir einhverskonar netníð frá 15 ára aldri , sem eru um það bil 9 milljónir kvenna . Kött Grá Pjé tók saman hatursummæli á netinu og gerði úr þeim ljóð . VÍSIR / ANTON BRINK Burðarefni herferðar UN Women er myndband sem sýnir hvernig kynbundið ofbeldi í garð kvenna og stúlkna viðgengst á internetinu . Tónlistarmaðurinn og skáldið Kött Grá Pjé safnaði saman grófum athugasemdum ungs fólks . Athugasemdirnar koma aðallega frá Kiwi ( ASKFM ) , Instagram og Youtube . „ Athugasemdirnar sem blöstu við honum eru grófar og sýna vel það grimma og dulda kynbundna ofbeldi sem fram fer á netinu . Myndbandið varpar ljósi á það rof sem myndast milli samskipta fólks í raunheimum og á Internetinu , líkt og að aðrar samskiptareglur og „ netikettur “ viðgangist á netinu , “ segir í tilkynningu frá UN Women . Oft er það svo að notendur virðist ekki tengja á milli þess að efni sem sett er á netið verður þar að eilífu , að netið sé raunverulegur heimur sem lúti sömu samskiptalögumálum og raunveruleikinn utan netsins . Því leyfir fólk sér oft að nota hatursfull ummæli , dónaskap og ofbeldi á netinu , sem það myndi alla jafna ekki láta falla í hversdagslegum aðstæðum í raunheimum . Þeirri orðræðu sem sýnd er í myndbandinu er ætlað að ögra og hreyfa við fólki . Öll þau ummæli sem fram koma í myndbandinu eru nú þegar á netinu og öllum aðgengileg . Markmið átaksins er stinga á kýlið , það er ekki gert ef farið er eins og köttur í kringum heitan grautinn . Un Women á Íslandi hvetja alla til að beita sér gegn netníð gegn konum og stelpum , tileinka sér skynsamlegt netsiðferði og skrá sig á www.heforshe.is Myndband HeForShe má sjá hér fyrir neðan . Tweet\\n'},\n",
       " {'title': 'Hönnuður New York-ástar\\xadlógósins er látinn',\n",
       "  'author': 'Atli Ísleifsson',\n",
       "  'timestamp': '2020-06-27 18:17:00',\n",
       "  'text': 'Grafíski hönnuðurinn Milton Glaser, sem hannaði „I ♥ NY“ myndmerkið er látinn, 91 ára að aldri. Glaser hannaði merkið fyrir herferð sem ætlað var að lokka ferðamenn til borgarinnar árið 1977. Merkið náði fljótt miklum vinsældum á heimsvísu og hafa verið gerðar ótal útgáfur af merkinu þar sem innblástur hefur verið sóttur í upphaflegt merki Glaser. Í frétt BBC segir að Glaser hafi síðar sagst vera mjög undrandi á vinsældum þessari „einföldu hugmynd“. Glaser hannaði einnig frægt plakat af tónlistarmanninum Bob Dylan og var einn stofnenda New York Magazine. Tengd skjöl',\n",
       "  'text_tokenized': 'Grafíski hönnuðurinn Milton Glaser , sem hannaði „ I ♥ NY “ myndmerkið er látinn , 91 ára að aldri . Glaser hannaði merkið fyrir herferð sem ætlað var að lokka ferðamenn til borgarinnar árið 1977 . Merkið náði fljótt miklum vinsældum á heimsvísu og hafa verið gerðar ótal útgáfur af merkinu þar sem innblástur hefur verið sóttur í upphaflegt merki Glaser . Í frétt BBC segir að Glaser hafi síðar sagst vera mjög undrandi á vinsældum þessari „ einföldu hugmynd “ . Glaser hannaði einnig frægt plakat af tónlistarmanninum Bob Dylan og var einn stofnenda New York Magazine . Tengd skjöl\\n'},\n",
       " {'title': 'Dagbjartur og Ragnhildur sigruðu Síma-mótið',\n",
       "  'author': 'Anton Ingi Leifsson',\n",
       "  'timestamp': '2019-06-09 16:14:00',\n",
       "  'text': 'Dagbjartur Sigurbrandsson, úr GR, og Ragnhildur Kristinsdóttir, einnig úr GR, stóðu uppi sem sigurvegarar á Síma-mótinu á Hlíðavelli en mótið fór fram um helgina. Leiknar voru 54 holur um helgina en 36 holur voru leiknar í gær og átján í dag en færri komust að mótinu en vildu. Alls voru 84 keppendur á mótinu um helgina. Dagbjartur leiddi eftir fyrsta hringinn og hann stóð einnig uppi sem sigurvegari eftir hringina þrjá en hann endaði á sex höggum undir pari. Í öðru sætinu var Andri Þór Björnsson á tveimur höggum undir pari svo sigur Dagbjartar var öruggur. Kristófer Karl Karlsson, á heimavelli, endaði í þriðja sætinu á einu höggi undir pari. Í kvennaflokki var það Ragnhildur Kristinsdóttir sem tók gullið. Eftir hring eitt var Ragnhildur einnig í forystunni en hún endaði á tíu höggum yfir pari. Í öru sæti var samherji hennar úr GR en hún endaði á átján höggum yfir pari svo sigur Ragnhildar var aldrei í hættu. Í þriðja sæti var Helga Kristín Einarsdóttir, úr GK.',\n",
       "  'text_tokenized': 'Dagbjartur Sigurbrandsson , úr GR , og Ragnhildur Kristinsdóttir , einnig úr GR , stóðu uppi sem sigurvegarar á Síma-mótinu á Hlíðavelli en mótið fór fram um helgina . Leiknar voru 54 holur um helgina en 36 holur voru leiknar í gær og átján í dag en færri komust að mótinu en vildu . Alls voru 84 keppendur á mótinu um helgina . Dagbjartur leiddi eftir fyrsta hringinn og hann stóð einnig uppi sem sigurvegari eftir hringina þrjá en hann endaði á sex höggum undir pari . Í öðru sætinu var Andri Þór Björnsson á tveimur höggum undir pari svo sigur Dagbjartar var öruggur . Kristófer Karl Karlsson , á heimavelli , endaði í þriðja sætinu á einu höggi undir pari . Í kvennaflokki var það Ragnhildur Kristinsdóttir sem tók gullið . Eftir hring eitt var Ragnhildur einnig í forystunni en hún endaði á tíu höggum yfir pari . Í öru sæti var samherji hennar úr GR en hún endaði á átján höggum yfir pari svo sigur Ragnhildar var aldrei í hættu . Í þriðja sæti var Helga Kristín Einarsdóttir , úr GK .\\n'},\n",
       " {'title': 'Elliði hafnar því að líkja Samfylkingunni við nasista',\n",
       "  'author': 'Urður Örlygsdóttir',\n",
       "  'timestamp': '2020-05-05 23:12:00',\n",
       "  'text': 'Í samtali við Fréttablaðið segir Elliði Vignisson bæjarstjóri Ölfuss. „Ég hef mikinn áhuga á pólitísku myndmáli og þess vegna fundist þetta undarlegt val.“ Samfylkingin skipti í dag um merki í tilefni af 20 ára afmæli flokksins en skiptar skoðanir eru á nýja merkinu. Hefur Sigmundur Davíð Gunnlaugsson, formaður Miðflokksins líkt því við gamla merki Byggðastofnunar. Myndmál nasista Elliði olli nokkru fjaðrafoki á samfélagsmiðlum í kvöld þar sem margir túlkuðu færslu hans þannig að hann væri að líkja merkinu við myndmál nasista. Í Facebook færslu benti hann á að um væri að ræða hvítan hring á rauðum fleti og spyr hann hvort Samfylkingunni hafi einhvern tíma dottið í hug að skoða hvers konar samtök nýti slíkt myndmál. Í samtali við Fréttablaðið segir Elliði að hann hafi verið að velta fyrir sér myndmálinu en hann hafi nýlega lesið sig til um merki stjórnmálaflokka á Íslandi. „Þegar ég sá nýja merki Samfylkingarinnar ákvað ég að gúgla hvers konar stjórnmálaflokkar notuðu hvítan hring á rauðum fleti. Það kom mér á óvart því mér þótti þær stjórnmálahreyfingar mjög ólíkar Samfylkingunni og standa fyrir allt önnur gildi. Þess vegna ákvað ég að leggja þessa spurningu fram.“ Elliði segir að honum hafi langað að vita hvort það væri eitthvað á bakvið þetta pólitíska myndmál Samfylkingarinnar eða hvort að nýja merkið hafi verið valið út frá litum og einhverju öðru. Margir hafa gagnrýnt þetta. Þar á meðal Karen Kjartansdóttir, framkvæmdastjóri Samfylkingarinnar, hún segir í athugasemd á Facebook „Þetta er svo brjóstumkennanlegt kjaftæði í þér. Hefur þú aldrei séð rautt lógó eða hring?“ Tökum dæmi: Elliði svaraði að hann hafi ekki verið að líkja flokknum við nasista. „Ég tek það sérstaklega fram að Samfylkingin á ekkert skylt með þessum stjórnmálahreyfingum, það var það sem mér þótti athyglisvert. Það þarf mjög sterkan vilja að lesa það út úr þessu.“ Fólk gjarnt á að móðgast fyrir hönd annarra Elliði segist orðinn nokkuð vanur því að það sem hann segi veki viðbrögð. „Því miður virðist það oft vera þannig að það sé eitthvað notalegt við það að móðgast og fólk er gjarnt að móðgast fyrir hönd annarra og fer í ákveðinna strámennsku. Meintum andstæðingum gerðar upp skoðanir og síðan er ráðist gegn skoðuninni. Þetta er fullkomið dæmi, hér er ráðist gegn því að ég sé að líkja Samfylkingunni við nasista sem ég gerði ekki,“ segir Elliði að lokum. Á vef Samfylkingarinnar segir að markmið með breytingu merkisins er að færa myndrænt efni Samfylkingarinnar inn í nútímann með merki sem er í senn sveigjanlegt og klassískt. Merkið vísar í rauða hringinn eða kúluna sem flestir tengja við flokkinn, en rákirnar tákna gagnsæi.',\n",
       "  'text_tokenized': 'Í samtali við Fréttablaðið segir Elliði Vignisson bæjarstjóri Ölfuss . „ Ég hef mikinn áhuga á pólitísku myndmáli og þess vegna fundist þetta undarlegt val . “ Samfylkingin skipti í dag um merki í tilefni af 20 ára afmæli flokksins en skiptar skoðanir eru á nýja merkinu . Hefur Sigmundur Davíð Gunnlaugsson , formaður Miðflokksins líkt því við gamla merki Byggðastofnunar . Myndmál nasista Elliði olli nokkru fjaðrafoki á samfélagsmiðlum í kvöld þar sem margir túlkuðu færslu hans þannig að hann væri að líkja merkinu við myndmál nasista . Í Facebook færslu benti hann á að um væri að ræða hvítan hring á rauðum fleti og spyr hann hvort Samfylkingunni hafi einhvern tíma dottið í hug að skoða hvers konar samtök nýti slíkt myndmál . Í samtali við Fréttablaðið segir Elliði að hann hafi verið að velta fyrir sér myndmálinu en hann hafi nýlega lesið sig til um merki stjórnmálaflokka á Íslandi . „ Þegar ég sá nýja merki Samfylkingarinnar ákvað ég að gúgla hvers konar stjórnmálaflokkar notuðu hvítan hring á rauðum fleti . Það kom mér á óvart því mér þótti þær stjórnmálahreyfingar mjög ólíkar Samfylkingunni og standa fyrir allt önnur gildi . Þess vegna ákvað ég að leggja þessa spurningu fram . “ Elliði segir að honum hafi langað að vita hvort það væri eitthvað á bakvið þetta pólitíska myndmál Samfylkingarinnar eða hvort að nýja merkið hafi verið valið út frá litum og einhverju öðru . Margir hafa gagnrýnt þetta . Þar á meðal Karen Kjartansdóttir , framkvæmdastjóri Samfylkingarinnar , hún segir í athugasemd á Facebook „ Þetta er svo brjóstumkennanlegt kjaftæði í þér . Hefur þú aldrei séð rautt lógó eða hring ? “ Tökum dæmi : Elliði svaraði að hann hafi ekki verið að líkja flokknum við nasista . „ Ég tek það sérstaklega fram að Samfylkingin á ekkert skylt með þessum stjórnmálahreyfingum , það var það sem mér þótti athyglisvert . Það þarf mjög sterkan vilja að lesa það út úr þessu . “ Fólk gjarnt á að móðgast fyrir hönd annarra Elliði segist orðinn nokkuð vanur því að það sem hann segi veki viðbrögð . „ Því miður virðist það oft vera þannig að það sé eitthvað notalegt við það að móðgast og fólk er gjarnt að móðgast fyrir hönd annarra og fer í ákveðinna strámennsku . Meintum andstæðingum gerðar upp skoðanir og síðan er ráðist gegn skoðuninni . Þetta er fullkomið dæmi , hér er ráðist gegn því að ég sé að líkja Samfylkingunni við nasista sem ég gerði ekki , “ segir Elliði að lokum . Á vef Samfylkingarinnar segir að markmið með breytingu merkisins er að færa myndrænt efni Samfylkingarinnar inn í nútímann með merki sem er í senn sveigjanlegt og klassískt . Merkið vísar í rauða hringinn eða kúluna sem flestir tengja við flokkinn , en rákirnar tákna gagnsæi .\\n'}]"
      ]
     },
     "execution_count": 27,
     "metadata": {},
     "output_type": "execute_result"
    }
   ],
   "source": [
    "articles[-10:]"
   ]
  },
  {
   "cell_type": "code",
   "execution_count": 17,
   "id": "d0a50f3e-c6e0-4fe4-b421-ae70ed5dac2d",
   "metadata": {},
   "outputs": [
    {
     "name": "stderr",
     "output_type": "stream",
     "text": [
      "100%|███████████████████████████████| 640136/640136 [00:05<00:00, 114403.30it/s]\n"
     ]
    },
    {
     "name": "stdout",
     "output_type": "stream",
     "text": [
      "Article count 640136\n"
     ]
    }
   ],
   "source": [
    "articles_Big = read_news_tsv(\"articles_until_01-11-2020_detok.tsv\")\n",
    "print(f\"Article count {len(articles_Big)}\")"
   ]
  },
  {
   "cell_type": "code",
   "execution_count": 18,
   "id": "61fb30c0-d3f2-45a5-b49c-7d7e8834ff86",
   "metadata": {},
   "outputs": [],
   "source": [
    "news_Big = pd.read_csv(\"articles_until_01-11-2020_detok.tsv\", sep='\\t', header = None)"
   ]
  },
  {
   "cell_type": "code",
   "execution_count": 19,
   "id": "5a67a7db-b069-4471-ab80-69b77e7c56af",
   "metadata": {},
   "outputs": [
    {
     "name": "stdout",
     "output_type": "stream",
     "text": [
      "605505\n"
     ]
    }
   ],
   "source": [
    "print(len(news_Big))"
   ]
  },
  {
   "cell_type": "code",
   "execution_count": 20,
   "id": "37cc54bd-dd0a-4c46-8cd9-b963e6229bf4",
   "metadata": {},
   "outputs": [
    {
     "data": {
      "text/plain": [
       "(605505, 8)"
      ]
     },
     "execution_count": 20,
     "metadata": {},
     "output_type": "execute_result"
    }
   ],
   "source": [
    "news_Big.shape"
   ]
  },
  {
   "cell_type": "code",
   "execution_count": 21,
   "id": "323fcf1a-170f-4e22-95ba-ee7c821355d5",
   "metadata": {},
   "outputs": [
    {
     "data": {
      "text/html": [
       "<div>\n",
       "<style scoped>\n",
       "    .dataframe tbody tr th:only-of-type {\n",
       "        vertical-align: middle;\n",
       "    }\n",
       "\n",
       "    .dataframe tbody tr th {\n",
       "        vertical-align: top;\n",
       "    }\n",
       "\n",
       "    .dataframe thead th {\n",
       "        text-align: right;\n",
       "    }\n",
       "</style>\n",
       "<table border=\"1\" class=\"dataframe\">\n",
       "  <thead>\n",
       "    <tr style=\"text-align: right;\">\n",
       "      <th></th>\n",
       "      <th>0</th>\n",
       "      <th>1</th>\n",
       "      <th>2</th>\n",
       "      <th>3</th>\n",
       "      <th>4</th>\n",
       "      <th>5</th>\n",
       "      <th>6</th>\n",
       "      <th>7</th>\n",
       "    </tr>\n",
       "  </thead>\n",
       "  <tbody>\n",
       "    <tr>\n",
       "      <th>0</th>\n",
       "      <td>Hádegisfréttir: Uppsagnir áfall fyrir Reykjanesbæ</td>\n",
       "      <td>Anna Sigríður Einarsdóttir</td>\n",
       "      <td>https://www.ruv.is/frett/2020/08/30/hadegisfre...</td>\n",
       "      <td>2020-08-30 12:22:52</td>\n",
       "      <td>2020-08-30 12:30:11.554767</td>\n",
       "      <td>2020-08-30 12:30:23.379201</td>\n",
       "      <td>Uppsögn 133 starfsmanna ISAVIA á föstudag er á...</td>\n",
       "      <td>Uppsögn 133 starfsmanna ISAVIA á föstudag er á...</td>\n",
       "    </tr>\n",
       "    <tr>\n",
       "      <th>1</th>\n",
       "      <td>Áfram aðskilnaður skýlis og stöðvar</td>\n",
       "      <td>Ritstjórn mbl.is</td>\n",
       "      <td>https://mbl.is/frettir/innlent/2020/08/17/afra...</td>\n",
       "      <td>2020-08-17 08:18:00</td>\n",
       "      <td>2020-08-17 08:30:13.072843</td>\n",
       "      <td>2020-08-17 08:30:30.324871</td>\n",
       "      <td>Strætisvagnabiðstöð á hringtorgi við Hádegismó...</td>\n",
       "      <td>Strætisvagnabiðstöð á hringtorgi við Hádegismó...</td>\n",
       "    </tr>\n",
       "    <tr>\n",
       "      <th>2</th>\n",
       "      <td>Styrkveitingar til framboðs Eyþórs mistök eða ...</td>\n",
       "      <td>Bára Huld Beck</td>\n",
       "      <td>https://kjarninn.is/frettir/2018-05-11-styrkve...</td>\n",
       "      <td>2018-05-11 13:04:27</td>\n",
       "      <td>2018-05-11 13:30:15.276715</td>\n",
       "      <td>2020-10-06 05:42:13.545689</td>\n",
       "      <td>Egill Sigurðsson, stjórnarformaður Mjólkursams...</td>\n",
       "      <td>Egill Sigurðsson , stjórnarformaður Mjólkursam...</td>\n",
       "    </tr>\n",
       "    <tr>\n",
       "      <th>3</th>\n",
       "      <td>Ívar: Hefði verið rekinn ef Snæfells-leikurinn...</td>\n",
       "      <td>Henry Birgir Gunnarsson</td>\n",
       "      <td>http://www.visir.is/ivar--hefdi-verid-rekinn-e...</td>\n",
       "      <td>2017-03-05 22:23:43</td>\n",
       "      <td>2017-03-05 22:30:11.243882</td>\n",
       "      <td>2020-10-10 05:27:41.2636</td>\n",
       "      <td>Það var þungu fargi létt af Ívari Ásgrímssyni,...</td>\n",
       "      <td>Það var þungu fargi létt af Ívari Ásgrímssyni ...</td>\n",
       "    </tr>\n",
       "    <tr>\n",
       "      <th>4</th>\n",
       "      <td>„Þetta er ekki fyrsta brottvísunin“</td>\n",
       "      <td>Ritstjórn mbl.is</td>\n",
       "      <td>https://mbl.is/frettir/innlent/2020/09/15/er_e...</td>\n",
       "      <td>2020-09-15 13:58:00</td>\n",
       "      <td>2020-09-15 14:30:18.144264</td>\n",
       "      <td>2020-09-15 14:30:33.558023</td>\n",
       "      <td>„Þetta er ekki fyrsta brottvísunin þetta mál,“...</td>\n",
       "      <td>„ Þetta er ekki fyrsta brottvísunin þetta mál ...</td>\n",
       "    </tr>\n",
       "  </tbody>\n",
       "</table>\n",
       "</div>"
      ],
      "text/plain": [
       "                                                   0  \\\n",
       "0  Hádegisfréttir: Uppsagnir áfall fyrir Reykjanesbæ   \n",
       "1                Áfram aðskilnaður skýlis og stöðvar   \n",
       "2  Styrkveitingar til framboðs Eyþórs mistök eða ...   \n",
       "3  Ívar: Hefði verið rekinn ef Snæfells-leikurinn...   \n",
       "4                „Þetta er ekki fyrsta brottvísunin“   \n",
       "\n",
       "                            1  \\\n",
       "0  Anna Sigríður Einarsdóttir   \n",
       "1            Ritstjórn mbl.is   \n",
       "2              Bára Huld Beck   \n",
       "3     Henry Birgir Gunnarsson   \n",
       "4            Ritstjórn mbl.is   \n",
       "\n",
       "                                                   2                    3  \\\n",
       "0  https://www.ruv.is/frett/2020/08/30/hadegisfre...  2020-08-30 12:22:52   \n",
       "1  https://mbl.is/frettir/innlent/2020/08/17/afra...  2020-08-17 08:18:00   \n",
       "2  https://kjarninn.is/frettir/2018-05-11-styrkve...  2018-05-11 13:04:27   \n",
       "3  http://www.visir.is/ivar--hefdi-verid-rekinn-e...  2017-03-05 22:23:43   \n",
       "4  https://mbl.is/frettir/innlent/2020/09/15/er_e...  2020-09-15 13:58:00   \n",
       "\n",
       "                            4                           5  \\\n",
       "0  2020-08-30 12:30:11.554767  2020-08-30 12:30:23.379201   \n",
       "1  2020-08-17 08:30:13.072843  2020-08-17 08:30:30.324871   \n",
       "2  2018-05-11 13:30:15.276715  2020-10-06 05:42:13.545689   \n",
       "3  2017-03-05 22:30:11.243882    2020-10-10 05:27:41.2636   \n",
       "4  2020-09-15 14:30:18.144264  2020-09-15 14:30:33.558023   \n",
       "\n",
       "                                                   6  \\\n",
       "0  Uppsögn 133 starfsmanna ISAVIA á föstudag er á...   \n",
       "1  Strætisvagnabiðstöð á hringtorgi við Hádegismó...   \n",
       "2  Egill Sigurðsson, stjórnarformaður Mjólkursams...   \n",
       "3  Það var þungu fargi létt af Ívari Ásgrímssyni,...   \n",
       "4  „Þetta er ekki fyrsta brottvísunin þetta mál,“...   \n",
       "\n",
       "                                                   7  \n",
       "0  Uppsögn 133 starfsmanna ISAVIA á föstudag er á...  \n",
       "1  Strætisvagnabiðstöð á hringtorgi við Hádegismó...  \n",
       "2  Egill Sigurðsson , stjórnarformaður Mjólkursam...  \n",
       "3  Það var þungu fargi létt af Ívari Ásgrímssyni ...  \n",
       "4  „ Þetta er ekki fyrsta brottvísunin þetta mál ...  "
      ]
     },
     "execution_count": 21,
     "metadata": {},
     "output_type": "execute_result"
    }
   ],
   "source": [
    "news_Big.head()"
   ]
  },
  {
   "cell_type": "code",
   "execution_count": null,
   "id": "7cabf017-9a8e-4b02-8c6a-951661929947",
   "metadata": {},
   "outputs": [],
   "source": []
  }
 ],
 "metadata": {
  "kernelspec": {
   "display_name": "Python 3 (ipykernel)",
   "language": "python",
   "name": "python3"
  },
  "language_info": {
   "codemirror_mode": {
    "name": "ipython",
    "version": 3
   },
   "file_extension": ".py",
   "mimetype": "text/x-python",
   "name": "python",
   "nbconvert_exporter": "python",
   "pygments_lexer": "ipython3",
   "version": "3.9.7"
  }
 },
 "nbformat": 4,
 "nbformat_minor": 5
}
