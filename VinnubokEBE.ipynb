{
 "cells": [
  {
   "cell_type": "markdown",
   "id": "2e8b67ee-e69a-4347-b08c-b72c820c507f",
   "metadata": {},
   "source": [
    "# Máltækni - Náttúruvernd"
   ]
  },
  {
   "cell_type": "markdown",
   "id": "72f1ce20-80fd-4dc1-9611-6980034e24ad",
   "metadata": {
    "tags": []
   },
   "source": [
    "# Data import & manipulation"
   ]
  },
  {
   "cell_type": "code",
   "execution_count": 6,
   "id": "24429e8d-1d90-46e7-b215-3d0d18a93322",
   "metadata": {},
   "outputs": [],
   "source": [
    "from numpy.random import default_rng\n",
    "import re\n",
    "import tqdm\n",
    "import pandas as pd\n",
    "import pickle"
   ]
  },
  {
   "cell_type": "code",
   "execution_count": 7,
   "id": "a45351d5-dada-4107-bcbb-7d36b76e87f2",
   "metadata": {},
   "outputs": [],
   "source": [
    "#@Vésteinn\n",
    "def read_news_tsv(file_name):\n",
    "    data = []\n",
    "    with open(file_name, encoding=\"utf-8\") as fh:\n",
    "        for line in tqdm.tqdm(fh.readlines()):\n",
    "            title, author, url, timestamp, _, _, text, text_tokenized = line.split(\"\\t\")\n",
    "            article = {\n",
    "                \"title\": title,\n",
    "                \"author\": author,\n",
    "                \"timestamp\": timestamp,\n",
    "                \"text\": text,\n",
    "                \"text_tokenized\": text_tokenized\n",
    "            }\n",
    "            data.append(article)\n",
    "        return data"
   ]
  },
  {
   "cell_type": "code",
   "execution_count": 8,
   "id": "86bcd8f4-d708-4f5a-bcc8-6de1bd238144",
   "metadata": {},
   "outputs": [
    {
     "name": "stderr",
     "output_type": "stream",
     "text": [
      "100%|████████████████████████████████████████████████████████████████████████| 22248/22248 [00:00<00:00, 195903.43it/s]"
     ]
    },
    {
     "name": "stdout",
     "output_type": "stream",
     "text": [
      "Article count 22248\n"
     ]
    },
    {
     "name": "stderr",
     "output_type": "stream",
     "text": [
      "\n"
     ]
    }
   ],
   "source": [
    "articles = read_news_tsv(\"icelandic_news_sample_22480.tsv\")\n",
    "print(f\"Article count {len(articles)}\")"
   ]
  },
  {
   "cell_type": "code",
   "execution_count": 12,
   "id": "45049bff-c45b-450a-bc6c-3a1ea03eb58b",
   "metadata": {},
   "outputs": [],
   "source": [
    "articles_df = pd.DataFrame(articles)"
   ]
  },
  {
   "cell_type": "code",
   "execution_count": 22,
   "id": "03f003d2-baa6-4fc5-905f-67961e483e50",
   "metadata": {},
   "outputs": [
    {
     "data": {
      "text/html": [
       "<div>\n",
       "<style scoped>\n",
       "    .dataframe tbody tr th:only-of-type {\n",
       "        vertical-align: middle;\n",
       "    }\n",
       "\n",
       "    .dataframe tbody tr th {\n",
       "        vertical-align: top;\n",
       "    }\n",
       "\n",
       "    .dataframe thead th {\n",
       "        text-align: right;\n",
       "    }\n",
       "</style>\n",
       "<table border=\"1\" class=\"dataframe\">\n",
       "  <thead>\n",
       "    <tr style=\"text-align: right;\">\n",
       "      <th></th>\n",
       "      <th>title</th>\n",
       "      <th>author</th>\n",
       "      <th>timestamp</th>\n",
       "      <th>text</th>\n",
       "      <th>text_tokenized</th>\n",
       "    </tr>\n",
       "  </thead>\n",
       "  <tbody>\n",
       "    <tr>\n",
       "      <th>0</th>\n",
       "      <td>ARON CAN ER SILKISLAKUR OG SVALUR - Albumm</td>\n",
       "      <td>Ritstjórn visir.is</td>\n",
       "      <td>2017-03-13 12:30:11.58353</td>\n",
       "      <td>ARON CAN ER SILKISLAKUR OG SVALUR—Albumm ☰ FRÉ...</td>\n",
       "      <td>ARON CAN ER SILKISLAKUR OG SVALUR — Albumm ☰ F...</td>\n",
       "    </tr>\n",
       "    <tr>\n",
       "      <th>1</th>\n",
       "      <td>Sveindís kemur mjög vel inn í okkar hóp</td>\n",
       "      <td>Sindri Sverrisson</td>\n",
       "      <td>2020-09-16 13:00:00</td>\n",
       "      <td>Jón Þór Hauksson, landsliðsþjálfari í fótbolta...</td>\n",
       "      <td>Jón Þór Hauksson , landsliðsþjálfari í fótbolt...</td>\n",
       "    </tr>\n",
       "    <tr>\n",
       "      <th>2</th>\n",
       "      <td>Keyrði á kyrrstæðan bíl í miðbænum: „Gríðarleg...</td>\n",
       "      <td>Ritstjórn DV</td>\n",
       "      <td>2019-06-17 08:15:05</td>\n",
       "      <td>Karlmaður var fluttur á slysadeild í nótt efti...</td>\n",
       "      <td>Karlmaður var fluttur á slysadeild í nótt efti...</td>\n",
       "    </tr>\n",
       "    <tr>\n",
       "      <th>3</th>\n",
       "      <td>Markaðssetja þurfi vannýtt svæði á landsbyggðinni</td>\n",
       "      <td>Margrét Helga Erlingsdóttir</td>\n",
       "      <td>2019-09-20 12:59:00</td>\n",
       "      <td>Stjórnvöld verða að móta sér stefnu til framtí...</td>\n",
       "      <td>Stjórnvöld verða að móta sér stefnu til framtí...</td>\n",
       "    </tr>\n",
       "    <tr>\n",
       "      <th>4</th>\n",
       "      <td>Biður um þolinmæði í skertri velferðarþjónustu</td>\n",
       "      <td>Þórdís Arnljótsdóttir</td>\n",
       "      <td>2020-03-28 19:47:25</td>\n",
       "      <td>Stór hluti þeirra sem fær velferðarþjónustu í ...</td>\n",
       "      <td>Stór hluti þeirra sem fær velferðarþjónustu í ...</td>\n",
       "    </tr>\n",
       "  </tbody>\n",
       "</table>\n",
       "</div>"
      ],
      "text/plain": [
       "                                               title  \\\n",
       "0         ARON CAN ER SILKISLAKUR OG SVALUR - Albumm   \n",
       "1            Sveindís kemur mjög vel inn í okkar hóp   \n",
       "2  Keyrði á kyrrstæðan bíl í miðbænum: „Gríðarleg...   \n",
       "3  Markaðssetja þurfi vannýtt svæði á landsbyggðinni   \n",
       "4     Biður um þolinmæði í skertri velferðarþjónustu   \n",
       "\n",
       "                        author                  timestamp  \\\n",
       "0           Ritstjórn visir.is  2017-03-13 12:30:11.58353   \n",
       "1            Sindri Sverrisson        2020-09-16 13:00:00   \n",
       "2                 Ritstjórn DV        2019-06-17 08:15:05   \n",
       "3  Margrét Helga Erlingsdóttir        2019-09-20 12:59:00   \n",
       "4        Þórdís Arnljótsdóttir        2020-03-28 19:47:25   \n",
       "\n",
       "                                                text  \\\n",
       "0  ARON CAN ER SILKISLAKUR OG SVALUR—Albumm ☰ FRÉ...   \n",
       "1  Jón Þór Hauksson, landsliðsþjálfari í fótbolta...   \n",
       "2  Karlmaður var fluttur á slysadeild í nótt efti...   \n",
       "3  Stjórnvöld verða að móta sér stefnu til framtí...   \n",
       "4  Stór hluti þeirra sem fær velferðarþjónustu í ...   \n",
       "\n",
       "                                      text_tokenized  \n",
       "0  ARON CAN ER SILKISLAKUR OG SVALUR — Albumm ☰ F...  \n",
       "1  Jón Þór Hauksson , landsliðsþjálfari í fótbolt...  \n",
       "2  Karlmaður var fluttur á slysadeild í nótt efti...  \n",
       "3  Stjórnvöld verða að móta sér stefnu til framtí...  \n",
       "4  Stór hluti þeirra sem fær velferðarþjónustu í ...  "
      ]
     },
     "execution_count": 22,
     "metadata": {},
     "output_type": "execute_result"
    }
   ],
   "source": [
    "articles_df.head()"
   ]
  },
  {
   "cell_type": "code",
   "execution_count": 13,
   "id": "d0a50f3e-c6e0-4fe4-b421-ae70ed5dac2d",
   "metadata": {},
   "outputs": [
    {
     "name": "stderr",
     "output_type": "stream",
     "text": [
      "100%|██████████████████████████████████████████████████████████████████████| 640136/640136 [00:05<00:00, 111343.55it/s]\n"
     ]
    },
    {
     "name": "stdout",
     "output_type": "stream",
     "text": [
      "Article count 640136\n"
     ]
    }
   ],
   "source": [
    "articles_Big = read_news_tsv(\"articles_until_01-11-2020_detok.tsv\")\n",
    "print(f\"Article count {len(articles_Big)}\")"
   ]
  },
  {
   "cell_type": "code",
   "execution_count": 14,
   "id": "9be75a6e-91a3-46d4-b618-631d826a4083",
   "metadata": {},
   "outputs": [],
   "source": [
    "news_Big = pd.DataFrame(articles_Big)"
   ]
  },
  {
   "cell_type": "code",
   "execution_count": 15,
   "id": "78049822-421f-47f0-8d82-776bb1650839",
   "metadata": {},
   "outputs": [
    {
     "data": {
      "text/plain": [
       "0"
      ]
     },
     "execution_count": 15,
     "metadata": {},
     "output_type": "execute_result"
    }
   ],
   "source": [
    "news_Big['text'].isnull().sum()"
   ]
  },
  {
   "cell_type": "code",
   "execution_count": 16,
   "id": "bbe9fc81-0373-4ef8-9206-a6e630097f54",
   "metadata": {},
   "outputs": [],
   "source": [
    "from sklearn.model_selection import train_test_split\n",
    "data_train, data_test = train_test_split(news_Big, test_size = 0.15, random_state=11)"
   ]
  },
  {
   "cell_type": "code",
   "execution_count": 17,
   "id": "edc94703-8a96-4c19-b257-69e5d177046f",
   "metadata": {},
   "outputs": [
    {
     "name": "stdout",
     "output_type": "stream",
     "text": [
      "Training data examles: 544115\n",
      "Test data examles: 96021\n"
     ]
    }
   ],
   "source": [
    "print(f'Training data examles: {data_train.shape[0]}')\n",
    "print(f'Test data examles: {data_test.shape[0]}')"
   ]
  },
  {
   "cell_type": "code",
   "execution_count": 18,
   "id": "ce203c6d-52ed-42fa-9d81-285f6c000725",
   "metadata": {},
   "outputs": [],
   "source": [
    "data_test, data_test_labeled = train_test_split(data_test, test_size = 0.005, random_state=11)"
   ]
  },
  {
   "cell_type": "code",
   "execution_count": 19,
   "id": "41347be2-e314-4a6f-b68c-d0f88797dd3d",
   "metadata": {},
   "outputs": [
    {
     "name": "stdout",
     "output_type": "stream",
     "text": [
      "Test data examles: 95540\n",
      "Labeled test data examles: 481\n"
     ]
    }
   ],
   "source": [
    "print(f'Test data examles: {data_test.shape[0]}')\n",
    "print(f'Labeled test data examles: {data_test_labeled.shape[0]}')"
   ]
  },
  {
   "cell_type": "code",
   "execution_count": 20,
   "id": "def37b69-0ac7-45db-9d13-a7ce8c2547a0",
   "metadata": {},
   "outputs": [
    {
     "name": "stdout",
     "output_type": "stream",
     "text": [
      "Playground data examles: 54412\n"
     ]
    }
   ],
   "source": [
    "# Subset af training til að koma virkni í gang án þjálfunartíma\n",
    "_, data_playground = train_test_split(data_train, test_size = 0.10, random_state=11)\n",
    "print(f'Playground data examles: {data_playground.shape[0]}')"
   ]
  },
  {
   "cell_type": "markdown",
   "id": "3618ea63-df25-495b-baa3-b6180e40c368",
   "metadata": {
    "tags": []
   },
   "source": [
    "# Skriftupælingar"
   ]
  },
  {
   "cell_type": "code",
   "execution_count": 23,
   "id": "5cdb5e24-d7d8-4bde-b6b8-336c089416e4",
   "metadata": {},
   "outputs": [],
   "source": [
    "def rand_frett(safn, count):\n",
    "    listi = []\n",
    "    from numpy.random import default_rng\n",
    "    import re\n",
    "    rng = default_rng()\n",
    "    n = safn.shape[0]\n",
    "    for i in tqdm.trange(count):\n",
    "        x = rng.integers(n)\n",
    "        if pd.isnull(safn.iloc[x][\"text\"]):\n",
    "            continue\n",
    "        frett = safn.iloc[x][\"text\"] # ath iloc\n",
    "        frettnr = safn.iloc[x].name\n",
    "        lykilord = [\"náttúruvernd\", \"loftslag\", \"umhverfi\"]\n",
    "        fjoldi = 0\n",
    "        for wrd in lykilord:\n",
    "            fjoldi += len(re.findall(wrd, frett))\n",
    "        if fjoldi > 0:\n",
    "            listi.append(frettnr) # Ath. algildur index\n",
    "            #print(frett)\n",
    "    return listi\n",
    "\n",
    "    "
   ]
  },
  {
   "cell_type": "code",
   "execution_count": 24,
   "id": "294cc60d-bd48-48c2-90b7-885b99c0a38f",
   "metadata": {},
   "outputs": [],
   "source": [
    "def allar_frettir(safn):\n",
    "    listi = []\n",
    "\n",
    "    n = safn.shape[0]\n",
    "    for i in tqdm.trange(n):\n",
    "        frett = safn.iloc[i][\"text\"]\n",
    "        lykilord = [\"náttúruvernd\", \"loftslag\", \"umhverfi\"]\n",
    "        fjoldi = 0\n",
    "        for wrd in lykilord:\n",
    "            fjoldi += len(re.findall(wrd, frett))\n",
    "        if fjoldi > 0:\n",
    "            listi.append(i) # ath. afstæð númer m.v. safn\n",
    "            #print(frett)\n",
    "    return listi\n",
    "\n",
    "    "
   ]
  },
  {
   "cell_type": "code",
   "execution_count": 25,
   "id": "6effcfd1-3d21-4128-aa32-d07c45f7a7f0",
   "metadata": {},
   "outputs": [
    {
     "name": "stderr",
     "output_type": "stream",
     "text": [
      "100%|███████████████████████████████████████████████████████████████████████| 100000/100000 [00:07<00:00, 13338.91it/s]"
     ]
    },
    {
     "name": "stdout",
     "output_type": "stream",
     "text": [
      "0.06751\n"
     ]
    },
    {
     "name": "stderr",
     "output_type": "stream",
     "text": [
      "\n"
     ]
    }
   ],
   "source": [
    "sample_count = 100000\n",
    "big_list = rand_frett(news_Big, sample_count)\n",
    "print(len(big_list)/sample_count)"
   ]
  },
  {
   "cell_type": "code",
   "execution_count": 26,
   "id": "2b42c953-4523-4f0f-abc5-f8143af14de2",
   "metadata": {},
   "outputs": [
    {
     "name": "stderr",
     "output_type": "stream",
     "text": [
      "100%|█████████████████████████████████████████████████████████████████████████████| 481/481 [00:00<00:00, 10546.11it/s]\n"
     ]
    }
   ],
   "source": [
    "sigtaðar_frettir = allar_frettir(data_test_labeled)"
   ]
  },
  {
   "cell_type": "code",
   "execution_count": 27,
   "id": "040a7c2b-4e72-486c-9327-539c69c82a80",
   "metadata": {},
   "outputs": [
    {
     "name": "stdout",
     "output_type": "stream",
     "text": [
      "title             Fyrst var hún hötuð en í dag er hún daglegt brauð\n",
      "author                                       Ritstjórn Hringbrautar\n",
      "timestamp                                       2019-04-28 21:09:00\n",
      "text              (Á mynd: Áður en p-pillan og aðrar getnaðarvar...\n",
      "text_tokenized    ( Á mynd : Áður en p-pillan og aðrar getnaðarv...\n",
      "Name: 605530, dtype: object\n",
      "title                                 „Sá glæsilegasti frá upphafi“\n",
      "author                                             Ritstjórn mbl.is\n",
      "timestamp                                       2020-09-05 09:36:00\n",
      "text              „Veturinn fram undan verður sá þéttasti og glæ...\n",
      "text_tokenized    „ Veturinn fram undan verður sá þéttasti og gl...\n",
      "Name: 396081, dtype: object\n",
      "title                 Tekur við kyndlinum sem tenging við umheiminn\n",
      "author                                        Bergsteinn Sigurðsson\n",
      "timestamp                                       2017-04-19 20:15:41\n",
      "text              Hús sem gert er í nafni Vigdísar Finnbogadóttu...\n",
      "text_tokenized    Hús sem gert er í nafni Vigdísar Finnbogadóttu...\n",
      "Name: 272260, dtype: object\n",
      "title                Loftlagsviðurkenningar veittar í fyrsta skipti\n",
      "author                                               Anton Egilsson\n",
      "timestamp                                2017-12-08 19:00:12.241531\n",
      "text              Reykjavíkurborg og Festa, miðstöðu um samfélag...\n",
      "text_tokenized    Reykjavíkurborg og Festa , miðstöðu um samféla...\n",
      "Name: 233961, dtype: object\n",
      "title                                  Opið bréf til Gísla Marteins\n",
      "author                                           Ritstjórn visir.is\n",
      "timestamp                                2017-06-01 10:00:14.550361\n",
      "text              Kæri Gísli Marteinn. Það er ánægjulegt að þú h...\n",
      "text_tokenized    Kæri Gísli Marteinn . Það er ánægjulegt að þú ...\n",
      "Name: 278333, dtype: object\n",
      "title             Beikonát útlendinga skýrir aukna svínakjötsneyslu\n",
      "author                                        Sunna Valgerðardóttir\n",
      "timestamp                                2016-02-11 13:00:01.737608\n",
      "text              Neysla á svínakjöti á Íslandi jókst um tíu pró...\n",
      "text_tokenized    Neysla á svínakjöti á Íslandi jókst um tíu pró...\n",
      "Name: 483709, dtype: object\n",
      "title             Mikill viðsnúningur hjá Ísafjarðarbæ: „Væri fr...\n",
      "author                                           Ritstjórn Eyjunnar\n",
      "timestamp                                       2019-09-04 18:30:59\n",
      "text              Greint er frá því á vef Ísafjarðabæjar í dag a...\n",
      "text_tokenized    Greint er frá því á vef Ísafjarðabæjar í dag a...\n",
      "Name: 327615, dtype: object\n",
      "title                               Jólakötturinn étur íslensk börn\n",
      "author                                         Helga Völundardóttir\n",
      "timestamp                                       2014-12-10 03:30:10\n",
      "text              Hvernig útskýrir maður jólaköttinn fyrir börnu...\n",
      "text_tokenized    Hvernig útskýrir maður jólaköttinn fyrir börnu...\n",
      "Name: 253442, dtype: object\n",
      "title                                    CNN: „Ísland er að bráðna“\n",
      "author                                       Freyr Gígja Gunnarsson\n",
      "timestamp                                       2017-03-25 16:41:42\n",
      "text              Ísland er miðpunktur þeirra breytinga sem eru ...\n",
      "text_tokenized    Ísland er miðpunktur þeirra breytinga sem eru ...\n",
      "Name: 500609, dtype: object\n",
      "title                 Cyber selja gardínur og demanta á nýrri plötu\n",
      "author                                              Fréttastofa RÚV\n",
      "timestamp                                       2018-11-15 11:54:40\n",
      "text              Rappsveitin Cyber hefur vakið mikla athygli á ...\n",
      "text_tokenized    Rappsveitin Cyber hefur vakið mikla athygli á ...\n",
      "Name: 299804, dtype: object\n"
     ]
    }
   ],
   "source": [
    "for fr in sigtaðar_frettir[:10]:\n",
    "    print(data_test_labeled.iloc[fr])"
   ]
  },
  {
   "cell_type": "code",
   "execution_count": 28,
   "id": "d34fbc72-348f-47dc-ab52-213470ff73d6",
   "metadata": {},
   "outputs": [
    {
     "data": {
      "text/plain": [
       "38"
      ]
     },
     "execution_count": 28,
     "metadata": {},
     "output_type": "execute_result"
    }
   ],
   "source": [
    "len(sigtaðar_frettir)"
   ]
  },
  {
   "cell_type": "code",
   "execution_count": 29,
   "id": "1f5e19cd-cac7-4067-a047-58d088ccd68f",
   "metadata": {},
   "outputs": [
    {
     "name": "stdout",
     "output_type": "stream",
     "text": [
      "title                                        Leita að arftaka Ævars\n",
      "author                                        Kolbeinn Tumi Daðason\n",
      "timestamp                                2018-04-25 17:47:12.027969\n",
      "text              „Þetta eru svo ótrúlega mikilvæg verðlaun,“ se...\n",
      "text_tokenized    „ Þetta eru svo ótrúlega mikilvæg verðlaun , “...\n",
      "Name: 539186, dtype: object\n",
      "title                    Ýmsir boltar á lofti um notkun á metangasi\n",
      "author                                            Björn Þorfinnsson\n",
      "timestamp                                       2020-05-28 06:00:00\n",
      "text              Starfsleyfisumsókn gas-og jarðargerðastöðvar S...\n",
      "text_tokenized    Starfsleyfisumsókn gas- og jarðargerðastöðvar ...\n",
      "Name: 503059, dtype: object\n",
      "title                                             Ásókn í auðlindir\n",
      "author                                     Ritstjórn Bæjarins besta\n",
      "timestamp                                       2020-06-02 10:58:53\n",
      "text              Við verðum að búa svo um hnútana að náttúruauð...\n",
      "text_tokenized    Við verðum að búa svo um hnútana að náttúruauð...\n",
      "Name: 556853, dtype: object\n",
      "title             Áfram stefnt að skráningu Arionbanka fyrripart...\n",
      "author                                             Hafliði Helgason\n",
      "timestamp                                       2016-11-16 14:45:00\n",
      "text              Áfram er stefnt að því að skrá Arion banka í k...\n",
      "text_tokenized    Áfram er stefnt að því að skrá Arion banka í k...\n",
      "Name: 168828, dtype: object\n",
      "title                         Lífrænt vegan hráfæði og lífsstíllinn\n",
      "author                                             Ritstjórn mbl.is\n",
      "timestamp                                       2017-05-01 18:30:00\n",
      "text              Ævintýrið virðist rétt að byrja hjá Ásu Maríu ...\n",
      "text_tokenized    Ævintýrið virðist rétt að byrja hjá Ásu Maríu ...\n",
      "Name: 582401, dtype: object\n",
      "title                             Norrænn þjóðarrembingur á Twitter\n",
      "author                                             Ritstjórn mbl.is\n",
      "timestamp                                       2016-11-23 11:10:00\n",
      "text              Starfsmenn í utanríkisþjónustunni hafa undanfa...\n",
      "text_tokenized    Starfsmenn í utanríkisþjónustunni hafa undanfa...\n",
      "Name: 454505, dtype: object\n",
      "title                                Landsvirkjun semur við Thorsil\n",
      "author                                             Ritstjórn mbl.is\n",
      "timestamp                                       2016-05-10 15:20:00\n",
      "text              Landsvirkjun og Thorsil hafa skrifað undir sam...\n",
      "text_tokenized    Landsvirkjun og Thorsil hafa skrifað undir sam...\n",
      "Name: 336432, dtype: object\n",
      "title             Bæjarbúar í Gelendzhik fengu ekki að sjá fræga...\n",
      "author                           Kolbeinn Tumi Daðason í Kabardinka\n",
      "timestamp                                2018-06-10 14:00:11.189862\n",
      "text              Stærstur hluti starfsfólks íslenska landsliðsi...\n",
      "text_tokenized    Stærstur hluti starfsfólks íslenska landsliðsi...\n",
      "Name: 30999, dtype: object\n",
      "title                       Húsfyllir á málþingi um Árósasamninginn\n",
      "author                                          Innanríkisráðuneyti\n",
      "timestamp                                       2018-04-10 12:11:10\n",
      "text              Árósasamninginn og reynslan af honum þau sjö á...\n",
      "text_tokenized    Árósasamninginn og reynslan af honum þau sjö á...\n",
      "Name: 196620, dtype: object\n",
      "title             Sjókvíaeldi verður að hluta niðurgreitt af rík...\n",
      "author                                           Þorbjörn Þórðarson\n",
      "timestamp                                2018-04-16 19:30:14.369987\n",
      "text              Útgjöld ríkissjóðs til Umhverfissjóðs sjókvíae...\n",
      "text_tokenized    Útgjöld ríkissjóðs til Umhverfissjóðs sjókvíae...\n",
      "Name: 248091, dtype: object\n"
     ]
    }
   ],
   "source": [
    "for fr in big_list[:10]:\n",
    "    print(news_Big.loc[fr])"
   ]
  },
  {
   "cell_type": "code",
   "execution_count": null,
   "id": "77b95410-8c2e-45c3-829e-0b620e4bd5e5",
   "metadata": {},
   "outputs": [],
   "source": [
    "ja = []\n",
    "vafi = []\n",
    "annad = []\n",
    "for i in sigtaðar_frettir[:3]:\n",
    "    frett = data_test_labeled.iloc[i]\n",
    "    print(frett[\"text\"])\n",
    "    print(frett[\"title\"])\n",
    "    einkunn = input(\"Um náttúruvernd?\\n\")\n",
    "    if einkunn == str(1):\n",
    "        ja.append(frett.name)\n",
    "    elif einkunn == str(2):\n",
    "        vafi.append(frett.name)\n",
    "    else:\n",
    "        annad.append(frett.name)"
   ]
  },
  {
   "cell_type": "code",
   "execution_count": 98,
   "id": "743ce1bc-57be-45b8-bbb1-24b73e01f853",
   "metadata": {},
   "outputs": [],
   "source": [
    "def label(safn, sigti, count):\n",
    "    ja = []\n",
    "    vafi = []\n",
    "    annad = []\n",
    "    for i in sigti[:count]:\n",
    "        frett = safn.iloc[i]\n",
    "        print(frett[\"text\"])\n",
    "        print(frett[\"title\"])\n",
    "        einkunn = input(\"Um náttúruvernd?\\n\")\n",
    "        if einkunn == str(1):\n",
    "            ja.append(frett.name)\n",
    "        elif einkunn == str(2):\n",
    "            vafi.append(frett.name)\n",
    "        else:\n",
    "            annad.append(frett.name)\n",
    "    return ja, vafi, annad"
   ]
  },
  {
   "cell_type": "code",
   "execution_count": 99,
   "id": "1e2758ed-55f1-4b13-a675-29e4565f572a",
   "metadata": {},
   "outputs": [
    {
     "name": "stdout",
     "output_type": "stream",
     "text": [
      "(Á mynd: Áður en p-pillan og aðrar getnaðarvarnir urðu algengar voru stórir barnahópar ekki sjaldséðir. Hér á myndinni stillir Harrison fjölskyldan frá Tennessee sér upp fyrir ljósmyndara í heimsókn til New York árið 1955.) Þegar getnaðarvarnarpillur voru leyfðar sem getnaðarvörn í Bandaríkjunum árið 1960 var kynlíf á einu augabragði losað undan oki fjölgunarinnar. Kvenréttindakonur fögnuðu því að konur hefðu nú loks yfirráð yfir eigin líkömum en aðrar óttuðust að pillan myndi hafa í för með sér siðferðislega hnignun. Í dag er pillan nánast jafnalgeng og vítamín og er notuð af meira en 100 milljónum kvenna víðsvegar um heim. Þannig hefst grein birt í Lifandi vísindi. Hringbraut og Lifandi vísindi hafa tekið upp samstarf sem felur í sér að reglulega birtast áhugaverðar greinar úr Lifandi vísindi á vef Hringbrautar. Aðvörun: Þetta efni kemur í veg fyrir egglos. Þessa aðvörun var að finna á miðanum á litla, brúna pilluglasinu sem innihélt lyfið Enovid, sem kom á markað í Bandaríkjunum síðsumars árið 1957. Lyfið hafði nýverið hlotið samþykki yfirvalda í meðhöndlun á óreglulegum blæðingum og skyndilega fjölgaði þeim konum mjög verulega. Innan við tveimur árum eftir að Enovid kom á markað voru ríflega tvær milljónir kvenna farnar að nota lyfið. Það sem flestallar konurnar sóttust eftir var í raun ekki sjálft lyfið Enovid heldur aukaverkunin, þ. e. getnaðarvarnareiginleikinn. Fréttin um þennan aukalega ávinning af töflunum breiddist út eins og eldur í sinu, landshorna á milli, jafnvel þótt getnaðarvarnir væru mikið bannorð og notkun getnaðarvarna væri bönnuð í mörgum ríkjum og jafnvel einnig upplýsingagjöf um takmörkun barnaeigna. Enovid var hins vegar ekkert á leiðinni út af markaðnum. Eftir þriggja ára skuggatilveru hlaut pillan loks viðurkenningu heilbrigðisyfirvalda í Bandaríkjunum sem getnaðarvörn og á næstu árum kynntust konur í öðrum löndum einnig þessari byltingarkenndu pillu. Pillan sló í gegn, hægt var að forðast milljónir af óæskilegum þungunum og konur fögnuðu því að ráða nú loks yfir kynlífi sínu. Ráðleggingar um öruggt kynlíf voru bannaðar Nú til dags eru p-pillur nánast jafnalgengar og vítamíntöflur. Fyrir rúmlega fimm áratugum var hins vegar aðeins um draumsýn að ræða í hugum fjórmenninga sem töldu kvenréttindakonu, erfingja að auðævum, kaþólskan lækni og illa þokkaðan líffræðing. Kvenréttindakonan var Margaret Sanger, sem var fædd árið 1879 og alin upp í kaþólskri fjölskyldu í New York. Á yngri árum Margaretar flokkuðust upplýsingar um getnaðarvarnir sem klám og þegar hún svo missti móður sína fimmtuga, eftir 18 meðgöngur, ásakaði hún föður sinn um að hafa valdið dauða hennar: „Þetta er þín sök. Mamma lést af völdum of margra barneigna,“ sagði Margaret ásakandi við hann. Margaret var lærð hjúkrunarkona og árið 1916 opnaði hún fyrstu getnaðarvarnarstofuna í fátækrahverfi í New York. Yfirvöld lokuðu hins vegar fljótt stofunni og Margaret var dæmd í 30 daga fangavist. Refsivistin skelfdi hins vegar ekki Margaret en hún var alla starfsævi sína í forsvari fyrir umdeilda hreyfingu sem setti á laggirnar getnaðarvarnarstofur víðs vegar um Bandaríkin. Þarna kynntist Margaret sorglegum örlögum margra kvenna, sem sökum skorts á getnaðarvörn höfðu verið fjötraðar við heimilið af stórum barnahópi ellegar höfðu veikst lífshættulega eftir að hafa látið eyða fóstri hjá skottulækni. Þessi reynsla mótaði Margaret að svo miklu leyti að hún fór að gæla við þá hugmynd að þróa sjálf kraftaverkatöflu sem á auðveldan, áhrifamikinn og öruggan hátt gæti veitt vörn gegn þungun. Konur áttu að hafa rétt á að stjórna eigin frjósemi, sagði Margaret Sanger, sem hélt því fram að þessi þáttur skipti sköpum fyrir réttindi kvenna. „Engin kona getur talist vera frjáls ef hún á ekki sjálf eða hefur rétt sjálf yfir líkama sínum. Þetta er leiðin í átt að frelsi kvenna,“ sagði Margaret strax á árinu 1922. Margaret hitti mann í kvöldverðarboði árið 1951 sem átti eftir að aðstoða hana við að gera þennan draum að veruleika, en þetta var líffræðingurinn Gregory Pincus. Hann hafði stundað rannsóknir á áhrifum kynhormóna árum saman en þekktastur var hann samt fyrir rannsóknir frá árinu 1934, þar sem honum hafði tekist að frjóvga kanínur með gervifrjóvgun, en þær rannsóknir mörkuðu upphafið að gervifrjóvgun í tilraunaglösum, sem tíðkast í dag. Þetta starf hans var afar umdeilt og fyrir vikið var Pincus uppnefndur dr. Frankenstein og hann hafði ekki gott orð á sér í háskólaumhverfinu. Margaret áttaði sig hins vegar á að rannsóknir Pincusar gerðu það að verkum að hann væri rétti maðurinn til að þróa getnaðarvarnarpilluna sem hún óskaði sér svo heitt. Í gegnum starf sitt í getnaðarvarnarhreyfingunni hafði Margaret komist í kynni við moldríka konu, þ. e. auðkýfinginn Katharine McCormick, sem stutt hafði fjárhagslega við bakið á læknastofum Margaretar svo árum skipti. Þegar Margaret sagði Katherine frá hugmynd sinni um getnaðarvarnarpillur hreifst sú síðarnefnda strax af hugmyndinni. Strax á fyrsta fundinum með Pincus á árinu 1953 skrifaði Katherine ávísun upp á 40.000 Bandaríkjadali, sem var gífurlega há upphæð á þeim tíma. Þessi umrædda ávísun var aðeins sú fyrsta af mörgum frá þessari gjafmildu auðkonu en hún var komin hátt á áttræðisaldur þegar hér var komið sögu og vænti þess að sjá skjótan árangur í stað fjárframlaga sinna. Pincus barst liðsauki úr óvæntri átt þegar hann rakst á gamlan félaga sinn, kaþólska læknisfræðiprófessorinn John Rock, sem hafði sérhæft sig í að aðstoða konur, sem þjáðust af ófrjósemi, við að eignast börn. Þó svo að kaþólska kirkjan legðist gegn getnaðarvörnum var John Rock ekki á sama máli og hafði ekkert því til foráttu að liðsinna Pincus. John var sannfærður um að konur ættu að hafa rétt á að verja sig gegn þungunum, í því skyni að berjast gegn fátækt og fyrirbyggja sjúkdóma og dauðsföll af völdum of tíðra barneigna. Tilraunir í Púertó Ríkó báru góðan árangur Sem frjósemislæknir hafði John Rock gert tilraunir með að sprauta konur með tilbúnum hormónum, sem heftu egglos í nokkra mánuði í senn. Tilgangurinn var sá að frjósemi kvennanna myndi aukast eftir þetta hlé og það var þessi sama aðferð, þ. e. að koma í veg fyrir egglos, sem Pincus og Rock hugðust beita í þróun á getnaðarvarnarpillu. Árið 1956 voru tilraunir þeirra komnar á það stig að þeir félagar gátu framkvæmt yfirgripsmiklar tilraunir á konum í fátækrahverfum í Púertó Ríkó. Þar ríkti mikil fátækt og eftirspurn eftir getnaðarvörn var gífurleg, svo þeir félagar fengu fljótt leyfi yfirvalda fyrir tilraunum með nýja lyfið sitt, Enovid. Eftir eins árs tilraunir þótti auðsýnt að lyfið væri afar gagnlegt og stjórnandi tilraunarinnar í Púertó Ríkó flutti Pincus og Rock þær fréttir að „Enovid veitti 100 prósent vörn gegn þungun“. Að loknum frekari tilraunum á m. a. Haítí og í Mexíkó lögðu heilbrigðisyfirvöld í Bandaríkjunum svo blessun sína yfir Enovid, en fyrst í stað mátti raunar einungis ávísa því gegn alvarlegum blæðingatruflunum. Framleiðandanum G. D. Searles til mikillar furðu var lyfið nánast rifið úr hillum apótekanna og árið 1959 notaði hálf milljón kvenna í Bandaríkjunum lyfið en þá áttaði framleiðandinn sig á gífurlegum sölumöguleikunum sem fólust í lyfinu. Fyrirtækið sótti nú um að fá að markaðssetja lyfið sem getnaðarvörn í Bandaríkjunum og það leyfi fékkst þann 9. maí árið 1960. Pincus og Rock, og auðvitað einnig Margaret og Katherine, litu á þetta sem stórsigur, en aldrei fyrr í sögunni hafði lyf verið leyft sem ætlað var hraustu fólki. Enovid hlaut mjög svo jákvæðar móttökur, bæði meðal karla og kvenna, og þegar hin þekkta bandaríska fréttakona og leikritaskáld Clare Booth Luce skrifaði að „nú hefðu nútímakonur sama frelsi yfir líkömum sínum og karlar“, þá mælti hún fyrir hönd milljóna meðsystra sinna. Einungis tveimur árum eftir að Enovid kom á markað var 1,2 milljón bandarískra kvenna komin með lyfseðil upp á „pilluna“ og sigurganga pillunnar hófst um gjörvallan heiminn. Svertingjar óttuðust þjóðarmorð Þó svo að margar konur tækju pillunni fegins hendi mætti henni gífurleg andstaða frá öðrum hliðum. Margir trúarhópar litu Enovid hornauga, því þeir óttuðust kynferðislega upplausn og hnignun siðgæðisins. Sem dæmi má nefna að kaþólikkar settu sig upp á móti notkun pillunnar, jafnvel þó svo að kaþólikkinn John Rock, sem átti stóran þátt í þróun hennar, segði opinberlega að pillan væri „eðlileg“ leið til að skipuleggja barneignir. Rök Johns Rocks voru þau að pillan myndaði eins konar framlengingu á starfsemi líkamans og innihéldi einungis sömu hormón og fyrir væru í æxlunarfærum kvenna. Vatíkanið gaf hins vegar ekki mikið fyrir þessar skýringar hans og komst að eigin niðurstöðu eftir að hafa velt málinu gaumgæfilega fyrir sér í átta ár. Páll páfi VI. sendi frá sér tilkynningu í júlí þess eðlis að p-pillan ætti ekki rétt á sér og hann hélt til streitu höfnun kirkjunnar gegn getnaðarvörnum. Vatíkanið talaði þó að miklu leyti fyrir daufum eyrum, því pillan öðlaðist miklar vinsældir, þrátt fyrir bann kirkjunnar, sem í rauninni er enn í gildi, sem best sést af því að pillunotendum um heim allan hafði fjölgað í 12,5 milljón árið 1967. Á meðan kirkjan tók sinn umþóttunarfrest hafði pillan fest sig í sessi sem vinsælasta getnaðarvörnin meðal bandarískra kvenna, óháð trúarbrögðum þeirra. Dreifibréf páfans breytti engu um val kvennanna því árið 1970 notuðu tveir þriðju hlutar kaþólskra kvenna í Bandaríkjunum pilluna og kaþólskar konur í öðrum löndum þverskölluðust einnig við að sinna banninu. Sumir Bandaríkjamenn af afrískum uppruna hötuðu p-pilluna þó engu síður en þeir í Vatíkaninu en á 7. áratugnum fór að bera á þeim orðrómi að pillan væri hluti af stórri stjórnaráætlun, sem gengi í besta falli út á að halda svörtum íbúum niðri og að takmarka áhrif þeirra og í versta falli væri um að ræða tilraun til að fremja á þeim þjóðarmorð. Amerískir blökkumenn hvöttu því svartar konur til að taka ekki pilluna og bentu á nauðsyn þess að svartir menn fjölguðu sér sem mest ef takast ætti að breyta pólitísku jafnvægi í Bandaríkjunum. Lífseigar goðsagnir héldu því að sama skapi fram að til væru tvær tegundir af pillunni: önnur fyrir hvítar konur, sem hefti egglos um stund, en hin fyrir svartar, sem gerði þær ófrjóar um aldur og ævi. Blóraböggull fyrir siðferðislega hnignun Þó svo að trúarsamtök, og jafnvel samtök svartra, bölvuðu pillunni í sand og ösku, var þessi litla pilla eins og himnasending fyrir 68—uppreisnina og það kynferðislega frelsi sem henni fylgdi. Um miðjan 7. áratuginn var persónulegt frelsi og uppreisnin gegn yfirráðum fjölskyldunnar og feðraveldinu efst á dagskrá meðal ungs fólks á Vesturlöndum og boðskapurinn „Make love, not war“ hljómaði eins og auglýsingaslagorð fyrir p-pilluna. Nú á dögum eru flestir sagnfræðingar sammála um að pillan hafi ekki orsakað kynferðislega frelsið á Vesturlöndum, heldur hafi tilviljun ráðið því að hvort tveggja gerðist á sama tíma. Íhaldsöflin gerðu pilluna engu að síður að blóraböggli fyrir hnignun siðgæðisins, sem í augum margra var einkennandi fyrir þetta tímabil. Femínistar héldu því fram að konur hefðu sömu þörf fyrir kynlíf og karlar, og gerðu kröfu um sama frelsi, en þessi hugsun var ógnvekjandi í augum margra annarra: Frjálsar ástir voru sem sprengja fyrir undirstöður samfélagsins, þ. e. kjarnafjölskylduna, og þar sem p-pillan losaði kynlíf undan fjölgunarhættunni var ekkert við því að segja þótt lauslæti léti á sér kræla. Nú gátu konur stundað kynlíf með hverjum sem þær vildu, hvenær sem þær vildu, fyrir hjónaband og meðan á því stóð, án þess að þurfa að óttast þungun. „Er litið á pilluna sem heimild til að stunda kynferðislegt samneyti með breytilegum elskendum? Getur aðgengi allra kvenna á barnsburðaraldri leitt til kynferðislegrar ringulreiðar?“ spurði tímaritið U. S. News & World Report í grein sem birtist árið 1966. Í greininni kom fram að getnaðarvarnarpillur nytu nú einnig vinsælda meðal stálpaðra skólastúlkna og að lögreglan væri farin að tilkynna um heilu hópana af giftum konum sem lifðu af vændi. Forfeður p-pillunnar, þeir John Rock og Gregory Pincus, leiddu gagnrýnina hjá sér með því að benda á að ógiftar konur hefðu einnig stundað kynlíf áður en getnaðarvarnarpillur litu dagsins ljós, eini munurinn væri sá að þá hefðu þær notast við miklu ótryggari getnaðarvarnir. Staðhæfingu sinni til stuðnings gátu þeir vísað í Kinsey-skýrsluna um kynferðislega hegðun frá árinu 1953. Í þeirri skýrslu kom fram að yfir helmingur þeirra 6.000 kvenna sem tekin voru viðtöl við höfðu stundað kynlíf fyrir hjónabandið og að fjórða hver gift kona hefði verið manni sínum ótrú. Andmæli tvímenninganna gátu þó ekki þaggað niður í dómsdagsmönnunum og í grein sem birtist í tímaritinu Reader’ s Digest árið 1968 varaði skáldkonan Pearl Buck við því að pillan væri eins og sprengja: „Allir vita hvað p-pillan er. Hún er pínulítil að sjá en samt er hætt við að eyðileggingarmáttur hennar á samfélag okkar verði meiri en áhrifin af kjarnorkusprengjunni“, skrifaði hún. Þegar árin liðu lægði storminn um áhrif pillunnar á siðferði í kynferðismálum en þó var langur vegur frá því að allir hefðu tekið pilluna í sátt. Nú fór að bera á áhyggjum vegna aukaverkana pillunnar. Stjórnandi tilraunanna í Púertó Ríkó hafði veitt því athygli að pillunni fylgdu of margar aukaverkanir til að hægt yrði að leyfa almenna notkun hennar fyrirvaralaust en Pincus og Rock kusu að leiða athugasemdir hans hjá sér. Fyrstu p-pillurnar voru sannkallaðar hormónasprengjur með mjög heiftarlegar aukaverkanir á borð við flökurleika, svima, þyngdaraukningu og höfuðverk, en það sem verra var að skráð höfðu verið tilvik um blóðtappa, krabbamein og sykursýki, sem áttu að vera beinar afleiðingar af notkun pillunnar. Málsvarar kvenréttindakvenna ásökuðu lyfjafyrirtækin um að hafa leynt mikilvægum upplýsingum um þessar lífshættulegu aukaverkanir og héldu því fram að saklausar konur hefðu verið notaðar sem tilraunadýr, án þess að hafa hugmynd um það. Víðs vegar um heiminn fóru konur í skaðabótamál við pilluframleiðendur, sem voru á þessum tíma orðnir allmargir, og í kjölfarið var farið að prenta litla fylgiseðla, sem stungið var inn í lyfjaumbúðirnar, með upplýsingum um þá áhættu sem fylgdi notkun p-pillunnar. Mikilvægast af öllu var að hormónamagnið í pillunum var minnkað til muna. Fyrstu getnaðarvarnarpillurnar innihéldu allt að 100 míkrógrömm af estrógeni en skammtarnir minnkuðu niður í 20 til 50 míkrógrömm. Aukaverkanirnar urðu því bæði færri og vægari og fyrir vikið ber afmælisbarnið, sem nú stendur á fimmtugu, aldurinn afskaplega vel: Í mörgum löndum er pillan enn vinsælasta getnaðarvörnin og í dag hefja ríflega 100 milljón konur daginn á því að gleypa þessa litlu pillu, með litríka ferilinn.\n",
      "Fyrst var hún hötuð en í dag er hún daglegt brauð\n"
     ]
    },
    {
     "name": "stdin",
     "output_type": "stream",
     "text": [
      "Um náttúruvernd?\n",
      " 3\n"
     ]
    },
    {
     "name": "stdout",
     "output_type": "stream",
     "text": [
      "„Veturinn fram undan verður sá þéttasti og glæsilegasti frá upphafi,“ segir Friðrik Friðriksson, framkvæmdastjóri Tjarnarbíós, um komandi starfsár. Lætur hann engan bilbug á sér finna þrátt fyrir kófið sem haft hefur veruleg áhrif á menningarlífið hérlendis síðustu mánuði. „Við vorum búin að auglýsa eftir og velja margt gott úr innsendum umsóknum áður en kófið brast á og ljóst var að nokkur verkefni síðasta vors myndu færast til næsta leikárs,“ segir Friðrik og tekur fram að skipulagsbreytingar innanhúss hafi opnað fyrir að hægt væri að sýna fleiri verk en áður á einum vetri. „Við höfum þannig stytt æfingatímann inni á sviðinu sjálfu örlítið, en lengt hann í staðinn í æfingarýminu,“ segir Friðrik og tekur fram að skipulagið sé vissulega háð því að kófið valdi ekki enn meiri röskun en orðið er. Friðrik bendir á að venju samkvæmt sé áhersla lögð á ný íslensk verk auk þess sem markmiðið sé að bjóða upp á mikla breidd með verkum sem spanna allt frá hefðbundnari listformum til nýrra forma. „Á komandi leikári verða alls 18 verk frumsýnd, þar af 17 ný verk,“ segir Friðrik og bendir á að allir eigi að geta fundið eitthvað við sitt hæfi, því í vetur verður boðið upp á fimm barnaverk, fimm leikrit, þrjú dansverk, tvö spunaverk, tvö óperuverk og eitt sirkusverk. Treysta á stuðning borgarinnar „Leikárið hófst í raun í byrjun ágúst með kynsegin sviðsuppfærslu á ljóðabálkinum Malarastúlkunni fögru eftir Franz Schubert við ljóð Wilhelms Müllers. Þar skoðuðu tenórinn Sveinn Dúa Hjörleifsson og leikstjórinn Gréta Kristín Ómarsdóttir bálkinn í ljósi sjálfsuppgötvunar og kyntjáningar,“ segir Friðrik og tekur fram að vegna samkomutakmarkana hafi aðeins örfáir miðar verið í boði og því sé ánægjulegt að geta boðið upp á aukasýningu 5. september. „Meðan tveggja metra reglan er í gildi höfum við aðeins getað selt 40–50 miða í 180 manna sal, sem þýðir um 20–25% sætanýtingu sem gengur auðvitað ekki upp til lengdar í ljósi þess að miðasölutekjur standa undir 60% af rekstrinum,“ segir Friðrik og bendir á að vegna kófsins hafi Reykjavíkurborg í vor sem leið fært fjármuni frá haustinu til vorsins til að bjarga málum tímabundið. „Við bindum vonir við að borgin leggi okkur lið fjárhagslega ef kófið setur aftur strik í reikninginn.“ Verk um stöðu flóttabarna Næsta frumsýning verður í dag, laugardag, þegar barnasýningin Tréð eftir Agnesi Wild og Söru Martí í leikstjórn höfundar verður frumsýnd. „Þetta er mjög fallegt verk úr smiðju Lalalab, unnið í samstarfi við Listahátíð í Reykjavík, sem fjallar á myndrænan hátt um veruleika og stöðu flóttabarna,“ segir Friðrik og bendir á að tveir leikarar miðla sögunni með aðstoð myndvarpa og um 200 brúður úr smiðju Elínar Elísabetar Einarsdóttur. Á morgun, sunnudag, er frumsýnd óperan Ekkert er sorglegra en manneskjan eftir tónskáldið Friðrik Margrétar-Guðmundsson við texta Adolfs Smára Unnarssonar sem jafnframt leikstýrir. „Þetta er flottur hópur nýútskrifaðra listamanna af sviðshöfundabraut Listaháskóla Íslands. Þetta er metnaðarfullt, spennandi og flott verk sem fjallar um fjórar fígúrur sem ráfa um á sviði í leit að merkingu. Þau eru að hluta innblásin af skrifum Dantes um helvíti og limbóinu milli heimanna tveggja,“ segir Friðrik og bendir á að sýningartíminn verði knappur þar sem þátttakendur séu á leið í framhaldsnám erlendis. Um miðjan september hefjast á ný sýningar leikhópsins Reykjavík Ensemble á Polishing Iceland eftir Ewu Marcinek í leikstjórn Pálínu Jónsdóttur. „Þau rétt náðu að frumsýna þessa sýningu í mars en svo kom samkomubann og skellt var í lás. Þetta er flott sýning sem fjallar um unga konu sem flýr ákveðið ástand í Póllandi og reynir að fóta sig í skrýtnu umhverfi hérlendis,“ segir Friðrik og tekur fram að sýningin tali jafnt til Íslendinga og Pólverja. „Sýningin er leikin á pólsku, íslensku og ensku,“ segir Friðrik. Kvennatvíleikur um Sunnefu Lalli og töframaðurinn nefnist sýning sem frumsýnd verður 26. september. „Þetta er hugsað sem fræðandi, töfrandi en umfram allt skemmtileg fjölskyldusýning sem veitir einstaka innsýn í leyndarmál og töfra leikhússins,“ segir Friðrik. Höfundar verksins eru Lárus Blöndal Guðjónsson og Ari Freyr Ísfeld Óskarsson, sem jafnframt leikstýrir. Sunnefa nefnist verk eftir Árna Friðriksson í samstarfi við leikhópinn Svipi í leikstjórn Þórs Tulinius sem frumsýnt verður 10. október. „Um er að ræða kvennatvíleik þar sem leikkonurnar Tinna Sverrisdóttir og Margrét Kristín Sigurðardóttir, betur þekkt sem Fabúla, segja sögu Sunnefu Jónsdóttur sem tvívegis var dæmd til drekkingar snemma á 18. öld,“ segir Friðrik og rifjar upp að Sunnefa var sögð hafa eignast börn með yngri bróður sínum fyrst þegar hún var 16 ára og síðan 18 ára. Á Þingvöllum 1743 neitaði hún hins vegar sök og sagði að faðir seinna barnsins væri sýslumaðurinn sem dæmdi hana til dauða. „Þau frumsýna verkið í Sláturhúsinu á Egilsstöðum nú í september og koma síðan suður til að sýna,“ segir Friðrik. Co za poroniony pomysł sem þýða mætti sem Úff, hvað þetta er slæm hugmynd! nefnist sýning eftir Jakub Ziemann, Aleksöndru Skolozynska og Ólaf Ásgeirsson sem frumsýnd verður 15. október. „Jakub er kokkur á veitingastaðnum Skál, Aleksandra er spunaleikkona frá Varsjá og Ólafur er íslenskur leikari sem er að læra pólsku á duolingo. Þau munu sameina krafta sína á sviði Tjarnarbíós og búa til skemmtilega kvöldstund á pólsku,“ segir Friðrik og tekur fram að sérlega ánægjulegt sé að geta sinnt þeim mikla fjölda Pólverja sem hér búa og starfa. Verk Nr. 2 eftir Steinunni Ketilsdóttur verður frumsýnt á Reykjavík Dance Festival í haust. „Um er að ræða þriðja verkið í röð verka sem spretta upp af rannsóknarverkefninu „Expressions: the power and politics of expectations in dance“ sem Steinunn leiðir í samstarfi við hóp lista-og fræðimanna,“ segir Friðrik og bendir á að Steinunn sé einnig höfundur dansverksins Practice Performed sem sýnt verði á Vorblóti Tjarnarbíós vorið 2021 og einnig tengist fyrrnefndu rannsóknarverkefni. „Practice Performed er dansverk sem skapað er í rauntíma,“ segir Friðrik og bendir á að vegna kófsins hafi Vorblótið fallið niður síðasta vor en ráðgert var að frumsýna Verk Nr. 2 á því. Jólaævintýri Þorra og Þuru eftir Agnesi Wild og Sigrúnu Harðardóttur í leikstjórn Söru Martí Guðmundsdóttur verður tekið aftur til sýningar frá og með 29. nóvember, en sýningin var frumsýnd í Tjarnarbíói fyrir síðustu jól. „Svo skemmtilega vill til að jólaálfarnir Þorri og Þura verða einnig á dagskrá RÚV fyrir jólin,“ segir Friðrik og tekur fram að Þorri og Þura sé nýja jólasýning Tjarnarbíós eftir að Felix Bergsson lagði Ævintýrinu um Augastein endanlega. Spunahópurinn Svanurinn sýnir jólasýningu sína 17. og 18. desember. „Þetta er sjötta árið í röð sem Svanurinn stendur fyrir jólasýningu. Fyrir marga er þetta orðinn fastur hluti af aðventunni,“ segir Friðrik, en meðal meðlima Svansins eru Adolf Smári Unnarsson, Guðmundur Felixson og Pálmi Freyr Hauksson. Reyna að bjarga heiminum Fyrsta frumsýning á nýju ári verður uppfærsla Leikhópsins Lottu á Mjallhvíti eftir Önnu Bergljótu Thorarensen. „Verkið byggist á hinni klassísku sögu um prinsessuna fögru sem flýr stjúpmóður sína og leitar skjóls hjá dvergum. Eins og Lottu er von og vísa er sagan þó nokkuð breytt og mega aðdáendur Lottu jafnvel búast við einhverjum uppfærslum á tíu ára gömlu sýningunni,“ segir Friðrik og bendir á að sýningar Lottu séu þær fjölsóttustu í Tjarnarbíói. Tekur hann fram að Lotta muni að vanda ferðast um landið með Mjallhvíti. Lokasýningin nefnist nýjasta afurð Sóma þjóðar sem frumsýnd verður í febrúar. „Sómi þjóðar eru Hilmir Jensson og Tryggvi Gunnarsson sem hér í húsinu hafa meðal annars sett upp SOL og MP 5,“ segir Friðrik og tekur fram að uppgangur fasismans og yfirvofandi heimsendir sé til umfjöllunar í nýjustu sýningu hópsins. „Í Lokasýningu ætla fimm listamenn Sóma þjóðar að bjarga heiminum á einni kvöldstund, í einni örvæntingarfullri atrennu, með öllum tiltækum ráðum,“ segir Friðrik leyndardómsfullur. Annað dómsdagsverk er uppfærsla leikhópsins Tabúla Rasa á The Last kvöldmáltíð eftir Kolfinnu Nikulásdóttur í leikstjórn Önnu Maríu Tómasdóttur sem frumsýnd verður vorið 2021. „Verkið gerist í heimsendaástandi þar sem síðasta fjölskyldan sem eftir er í Reykjavík heldur mikilfenglega veislu í yfirgefinni sundlaug í tilefni af 17. júní. Þrátt fyrir að heimurinn sé við það að farast er fjölskyldan staðráðin í að heiðra gamlar hefðir samfélagsins sem þau eitt sinn tilheyrðu.“ Haukur og Lilja nefnist nýtt leikverk eftir Elísabetu Kristínu Jökulsdóttur sem frumsýnt verður næsta vor. Með titilhlutverkin fara Edda Björg Eyjólfsdóttir og Sveinn Ólafur Gunnarsson. „Þetta var upphaflega stutt útvarpsverk sem er nú verið að þróa fyrir svið með spennandi hætti,“ segir Friðrik. Tengsl mannsins við veðrið Rof o. s. frv. nefnist nýtt dansverk eftir Ingu Huld Hákonardóttur sem frumsýnt verður á Vorblóti Tjarnarbíós vorið 2021. „Þetta er verk sem skoðar ótta, þrá og skáldskap í sambandi við óvissu í hreyfingu og hljóði,“ segir Friðrik. Manndýr nefnist þátttökusýning eftir Aude Busson fyrir fjölskylduna sem frumsýnd verður í haust fyrir skólabörn en tekin til almennra sýninga næsta vor. „Verkið sækir innblástur í söguna L'enfant eftir Colas Gutman. Þar fer ungur strákur í sveitaferð með foreldrum sínum og týnist. Í framhaldinu hittir strákurinn kind sem spyr hann hvers konar dýr hann sé og hvaða tilgangi hann þjóni, sem setur strákinn í djúpa tilvistarkreppu.“ Síðasta frumsýning vorsins verður á Allra veðra von í uppfærslu sirkuslistahópsins Hringleiks og leikstjórn Agnesar Wild, en sýningin er unnin í samstarfi við Miðnætti leikhús. „Í uppfærslunni er sirkuslistin notuð til að skoða tengsl mannsins við veðrið,“ segir Friðrik og bendir á að góð lofthæð í Tjarnarbíói henti vel fyrir sirkussýningar. „Hópurinn hyggst í framhaldinu sýna verkið víðs vegar um landið næsta sumar.“ Framsækni að leiðarljósi Í kynningarefni frá Tjarnarbíói er sérstök athygli vakin á því að ríflega 60% leikstjóra eru konur eða 11 af 18 leikstjórum og að kynjaskipting annarra aðstandenda sýninga sé nokkuð jöfn. Helmingur sýninga leikársins er saminn af konum, fimm af körlum og fjórar af blönduðum hópum. Á síðustu árum hefur hlutfall kynjanna í hópi leikstjóra og höfunda verið hvað jafnast hjá sjálfstæðu senunni og því liggur beint við að spyrja Friðrik hvort það hafi verið meðvituð ákvörðun þegar valnefnd Tjarnarbíós velur sýningar inn í húsið. „Ef við sæjum að það hallaði verulega á annað kynið í verkefnunum myndum við bregðast við því, en við höfum enn ekki þurft þess,“ segir Friðrik og bendir á að flestar þeirra sýninga sem sótt er um að fá að sýna í Tjarnarbíói hafi áður fengið umfjöllun hjá sviðslistaráði, áður leiklistarráði, vegna styrkumsóknar. Við úthlutun opinbers fjár eru kynjagleraugun sett upp, sem aftur hefur áhrif á þær umsóknir sem við fáum,“ segir Friðrik og bætir við: „Í vali okkar á verkefnum horfum við fyrst og fremst til áhorfendahópsins, þ. e. hverjum við erum að sinna, og fjölbreytni sviðsverka með framsækni að leiðarljósi,“ segir Friðrik og tekur fram að auk þess hafi áherslan alltaf verið mikil á frumsköpun. Allar nánari upplýsingar um sýningar ársins og kortasölu eru á tjarnarbio. is. Viðtalið við Friðrik birtist fyrst í Morgunblaðinu fimmtudaginn 3. september.\n",
      "„Sá glæsilegasti frá upphafi“\n"
     ]
    },
    {
     "name": "stdin",
     "output_type": "stream",
     "text": [
      "Um náttúruvernd?\n",
      " 3\n"
     ]
    },
    {
     "name": "stdout",
     "output_type": "stream",
     "text": [
      "Hús sem gert er í nafni Vigdísar Finnbogadóttur verður að vera góður granni, segir Kristján Garðarsson, hönnunarstjóri vinningstillögunnar að húsi stofnunar Vigdísar Finnbogadóttur, sem opnað verður við hátíðlega athöfn á morgun, sumardaginn fyrsta. Alls bárust 43 tillögur í hönnunarsamkeppni um hús stofnunar Vigdísar Finnbogadóttur. Úrslitin voru kunngjörð í maí 2012 og sagði í umsögn dómnefndar að vinningstillagan væri snjöll og öguð og gæfi fyrirheit um kraftmikla og líflega starfsemi. Fimm árum síðar er húsið risið og fékk nafn í gær: Veröld-hús Vigdísar. Bygging sem faðmar málefnið Vigdís segir að því hafi fylgt góð tilfinning að koma inn í bygginguna í fyrsta sinn. „Það er auðvitað alveg stórkostleg tilfinning. Húsið er svo fallegt, það er alveg einstakt, og ekki þykir mér verra að það er rammi utan um tungumál heimsins. Þegar ég sá teikninguna þá rann ég eins og hind í vatn af því að mér fannst hún faðma málefnið. Mér fannst hún faðma það verk sem við ætlum að vinna með því að gera hér tungumálasetur.“ Lyftu Loftskeytahúsinu á stall Hönnuðir vinningstillögunnar er arkitektastofan Arkitektúr. is. Kristján Garðarson, hönnunarstjóri teymisins, segir að strax í upphafi fengið innblástur frá Loftskeytahúsinu á lóðinni við hliðina. „Nándin við sjálfa lofskeytastöðina, sem var á sínum tíma fyrsta alvöru tengingin við útlönd, virkaði sterkt á okkur og við hugsuðum að þetta gæti farið halloka í sambýli við nýtt og stórt hús,“ segir Kristján. „Það má segja að það hafi verið fyrsti útgangspunktur okkar hafi verið að grafa frá Loftskeytahúsinu með því búa til hringleikahús sunnan við húsið. Þannig gátum við lyft loftskeytastöðinni á stall. Það má því segja að nýja húsið taki þá við kyndlinum sem tengin við umheiminn með því að kenna erlend tungumál og samskipti við umheiminn.“ Stigarnir tengja eins og tungumálið Það fyrsta sem blasir við þegar inn er komið er voldugur stigi sem liðast um rýmið. „Þegar inn er komið reynum við halda áfram með þessar tengingar og tungumálin,“ segir Kristján. „Við látum allt hverfast um miðjuna. Starfsemi hússins, sem er á öllum hæðum, reynir að tengja sig inn á við þannig að allir tengist saman, dálítið eins og tungumálin tengja okkur saman. Þess vegna hlykkjast stigarnir um húsið og reyna að ná fólki saman um miðjuna.“ Miðpunkturinn í húsinu er fyrirlestrarsalurinn á jarðhæðinni. „Tengigangurinn frá háskólatorgi kemur að salnum, veitingasalan á neðstu hæð sem tengist út á torgið er við salinn. Það má segja að öll starfsemi hússins á hæðunum tengist öll salnum á sjónrænan hátt. Hann er líka í sterkum lit og virkar utan frá sem miðpunkturinn eða hjartað í húsinu.“ Lerki sem minnir á skógræktarstarf Vigdísar Kristján segir að hönnuðurnir hafi náð að halda húsinu tiltölulega nettu með því að grafa stór rými niður í landið. „Húsið er því ekki mikið um sig og vinsamlegt umhverfinu. Til að skapa mjúka ásýnd þá ákváðum við að nota lerkiklæðningu, sem hefur líka tengingu við frú Vigdísi og hennar starf í þágu skógræktar. Hér er verið að vinna með lerki úr íslenskum nytjaskógi og okkur fannst mikilvægt að koma því fýsískt á húsið. Menningin í Kastljósi skoðaði bygginguna að innan sem utan og ræddi við þau Kristján og Vigdísi. Horfa má á innslagið hér að ofan.\n",
      "Tekur við kyndlinum sem tenging við umheiminn\n"
     ]
    },
    {
     "name": "stdin",
     "output_type": "stream",
     "text": [
      "Um náttúruvernd?\n",
      " 3\n"
     ]
    }
   ],
   "source": [
    "einn, tveir, thrir = label(data_test_labeled, sigtaðar_frettir, 3)"
   ]
  },
  {
   "cell_type": "code",
   "execution_count": 83,
   "id": "f816a586-cdf6-4bd6-99df-6c8253225327",
   "metadata": {},
   "outputs": [
    {
     "name": "stdout",
     "output_type": "stream",
     "text": [
      "475\n",
      "6\n",
      "481\n"
     ]
    }
   ],
   "source": [
    "jakvætt = set([165133,322727,343386,233961,500609,327615])\n",
    "neikvætt = set(data_test_labeled.index).difference(jakvætt)\n",
    "\n",
    "print(len(neikvætt))\n",
    "print(len(jakvætt))\n",
    "print(data_test_labeled.shape[0])"
   ]
  },
  {
   "cell_type": "markdown",
   "id": "48ec2f46-2d14-4737-b083-9f7ea172f32b",
   "metadata": {},
   "source": [
    "# GENSIM LDA pælingar"
   ]
  },
  {
   "cell_type": "code",
   "execution_count": 30,
   "id": "f4bf08ee-0d13-43d0-8a5f-1f1ddf1f5c6b",
   "metadata": {},
   "outputs": [],
   "source": [
    "import gensim"
   ]
  },
  {
   "cell_type": "code",
   "execution_count": 31,
   "id": "9787f3b7-9f6b-41d3-be74-a6f0056cc434",
   "metadata": {},
   "outputs": [],
   "source": [
    "import string\n",
    "stop_words = set()\n",
    "extra_stop_words = [\"var\", \"ver\", \"ekki\", \"sé\"]\n",
    "with open(\"is_stop_words.txt\") as stop_word_file:\n",
    "    for line in stop_word_file.readlines():\n",
    "        stop_words.add(line.strip())\n",
    "stop_words.update(set(string.punctuation))\n",
    "stop_words.update(set(extra_stop_words))"
   ]
  },
  {
   "cell_type": "code",
   "execution_count": 32,
   "id": "60e53388-a3b9-48f8-82d1-dd634f82ba71",
   "metadata": {},
   "outputs": [],
   "source": [
    "import tokenizer\n",
    "from islenska import Bin\n",
    "\n",
    "b = Bin()\n",
    "\n",
    "def naive_bin_lemma(token):\n",
    "    candidates = b.lookup_lemmas_and_cats(token)\n",
    "    if not candidates:\n",
    "        return None\n",
    "    if len(candidates) > 1:\n",
    "        return None\n",
    "    cand = candidates.pop()\n",
    "    if cand[1] not in [\"kk\", \"kvk\", \"hk\"]:\n",
    "        return None\n",
    "    return cand[0]\n",
    "\n",
    "\n",
    "def tokenize_and_lemmatize(sentence):\n",
    "    if pd.isnull(sentence): # Líklegast óþarft núna\n",
    "            return []\n",
    "    tokenized_text = list(tokenizer.split_into_sentences(sentence))\n",
    "    #tokenized_text = list(sentence.split_into_sentences(sentence))\n",
    "    lemmas = []\n",
    "    for sent in tokenized_text:\n",
    "        for token in sent.split():\n",
    "            if token in stop_words:\n",
    "                continue\n",
    "            lemma = naive_bin_lemma(token.lower())\n",
    "            if lemma is not None:\n",
    "                lemmas.append(lemma)\n",
    "    return lemmas"
   ]
  },
  {
   "cell_type": "code",
   "execution_count": 33,
   "id": "7c638469-2f08-4921-aeff-4d9fb4a4eac8",
   "metadata": {},
   "outputs": [],
   "source": [
    "import gensim.corpora as corpora\n",
    "from gensim.utils import simple_preprocess\n",
    "from gensim.models import CoherenceModel"
   ]
  },
  {
   "cell_type": "code",
   "execution_count": 35,
   "id": "7c2b03aa-e900-42c4-a1be-51d3f0d8faf5",
   "metadata": {},
   "outputs": [],
   "source": [
    "load = True\n",
    "if load:\n",
    "    with open('data_words', 'rb') as fh:\n",
    "        data_words = pickle.load(fh)"
   ]
  },
  {
   "cell_type": "code",
   "execution_count": 36,
   "id": "959b6c86-f777-4200-8b62-24589a058151",
   "metadata": {},
   "outputs": [],
   "source": [
    "# Nú þegar keyrt\n",
    "if not load:\n",
    "    data_words = [tokenize_and_lemmatize(a) for a in tqdm.notebook.tqdm(data_train[\"text_tokenized\"])]"
   ]
  },
  {
   "cell_type": "code",
   "execution_count": null,
   "id": "be9683ff-58dc-4a2c-9658-16f6fa01c199",
   "metadata": {},
   "outputs": [],
   "source": [
    "# Build the bigram and trigram models\n",
    "bigram = gensim.models.Phrases(data_words, min_count=5, threshold=100) # higher threshold fewer phrases.\n",
    "trigram = gensim.models.Phrases(bigram[data_words], threshold=100)  \n",
    "\n",
    "# Faster way to get a sentence clubbed as a trigram/bigram\n",
    "bigram_mod = gensim.models.phrases.Phraser(bigram)\n",
    "trigram_mod = gensim.models.phrases.Phraser(trigram)\n",
    "\n",
    "# See trigram example\n",
    "print(trigram_mod[bigram_mod[data_words[0]]])\n"
   ]
  },
  {
   "cell_type": "code",
   "execution_count": 38,
   "id": "4e5c0540-4764-47a1-9685-ce7f4e3a51d7",
   "metadata": {},
   "outputs": [],
   "source": [
    "def make_bigrams(texts):\n",
    "    return [bigram_mod[doc] for doc in texts]\n",
    "\n",
    "def make_trigrams(texts):\n",
    "    return [trigram_mod[bigram_mod[doc]] for doc in texts]"
   ]
  },
  {
   "cell_type": "code",
   "execution_count": 37,
   "id": "763d0c3e-8f76-4364-84c5-e4ebcd123e00",
   "metadata": {},
   "outputs": [],
   "source": [
    "if not load:\n",
    "    with open('data_words', 'wb') as fh:\n",
    "        pickle.dump(data_words, fh)"
   ]
  },
  {
   "cell_type": "code",
   "execution_count": null,
   "id": "054cf940-a18f-45cb-b6a7-5570a717bab2",
   "metadata": {},
   "outputs": [],
   "source": [
    "data_words_bigrams = make_bigrams(tqdm.tqdm(data_words))"
   ]
  },
  {
   "cell_type": "code",
   "execution_count": 331,
   "id": "d10555f1-5aca-4b5f-b004-9d0c465dfe22",
   "metadata": {},
   "outputs": [],
   "source": [
    "# Create Dictionary\n",
    "id2word = corpora.Dictionary(data_words)\n",
    "\n",
    "# Create Corpus\n",
    "texts = data_words\n",
    "\n",
    "# Term Document Frequency\n",
    "corpus = [id2word.doc2bow(text) for text in texts]"
   ]
  },
  {
   "cell_type": "code",
   "execution_count": null,
   "id": "5ccb06e6-3979-4771-99ed-553e88169a69",
   "metadata": {},
   "outputs": [],
   "source": [
    "if not load:\n",
    "    #with open('data_words_bigrams', 'wb') as fh:\n",
    "    #    pickle.dump(data_words_bigram, fh)\n",
    "    with open('corpus', 'wb') as fh:\n",
    "        pickle.dump(corpus, fh)"
   ]
  },
  {
   "cell_type": "code",
   "execution_count": null,
   "id": "c6dd15aa-2367-445c-a4fd-b04fddb1b745",
   "metadata": {
    "id": "iJTWmH7Jkbmg"
   },
   "outputs": [],
   "source": [
    "lda_model = gensim.models.ldamodel.LdaModel(corpus=corpus,\n",
    "                                           id2word=id2word,\n",
    "                                           num_topics=10, \n",
    "                                           random_state=100,\n",
    "                                           update_every=1,\n",
    "                                           chunksize=100,\n",
    "                                           passes=10,\n",
    "                                           alpha='auto',\n",
    "                                           per_word_topics=True)\n",
    "# Ath eta, tengja náttúruverndarorð við ákveðinn hóp"
   ]
  },
  {
   "cell_type": "code",
   "execution_count": null,
   "id": "e3faf76c-b3af-4887-b4dd-1d64976e252e",
   "metadata": {},
   "outputs": [],
   "source": [
    "lda_model.save(\"./Big_lda_model\")"
   ]
  },
  {
   "cell_type": "code",
   "execution_count": null,
   "id": "96dd330e-c326-4fab-95a5-133851b98f37",
   "metadata": {
    "colab": {
     "base_uri": "https://localhost:8080/"
    },
    "id": "isTxjcbekeUd",
    "outputId": "1d277d4e-6a96-4ea7-c6d3-b6b69b8c66fa"
   },
   "outputs": [],
   "source": [
    "from pprint import pprint\n",
    "# Print the Keyword in the 10 topics\n",
    "pprint(lda_model.print_topics())\n",
    "doc_lda = lda_model[corpus]"
   ]
  },
  {
   "cell_type": "code",
   "execution_count": null,
   "id": "4b5394b5-51ad-4c5f-aa24-097afb34064c",
   "metadata": {},
   "outputs": [],
   "source": []
  },
  {
   "cell_type": "code",
   "execution_count": null,
   "id": "325cf912-2a00-4060-8b36-55cd4bf2eac0",
   "metadata": {},
   "outputs": [],
   "source": [
    "[id2word[i[0]] for i in lda_model.get_topic_terms(1, topn=50)]"
   ]
  },
  {
   "cell_type": "code",
   "execution_count": 128,
   "id": "5b3d3cd8-aa5b-404b-8010-18e6a19e3c92",
   "metadata": {},
   "outputs": [
    {
     "data": {
      "text/plain": [
       "2642"
      ]
     },
     "execution_count": 128,
     "metadata": {},
     "output_type": "execute_result"
    }
   ],
   "source": [
    "id2word.token2id[\"náttúruvernd\"]"
   ]
  },
  {
   "cell_type": "code",
   "execution_count": 145,
   "id": "fcbbe30f-6a07-48e3-831c-e2e47040e284",
   "metadata": {},
   "outputs": [
    {
     "data": {
      "text/plain": [
       "[]"
      ]
     },
     "execution_count": 145,
     "metadata": {},
     "output_type": "execute_result"
    }
   ],
   "source": [
    "# Af hverju sýnir þetta fyrir fæst orð?\n",
    "lda_model.get_term_topics(id2word.token2id[\"neysla\"])"
   ]
  },
  {
   "cell_type": "code",
   "execution_count": 144,
   "id": "3f3eb397-57c0-4b93-9e5a-1d3ae75edb38",
   "metadata": {},
   "outputs": [
    {
     "data": {
      "text/plain": [
       "[(16, [6, 1, 2, 9]),\n",
       " (46, [6]),\n",
       " (47, [6]),\n",
       " (48, [6]),\n",
       " (49, [6]),\n",
       " (50, [4]),\n",
       " (51, [6, 1]),\n",
       " (52, [6]),\n",
       " (53, [6]),\n",
       " (54, [6]),\n",
       " (55, [6]),\n",
       " (56, [1, 4]),\n",
       " (57, [6, 1, 7, 8]),\n",
       " (58, [6]),\n",
       " (59, [6]),\n",
       " (60, [4]),\n",
       " (61, [1, 4, 8]),\n",
       " (62, [6, 1]),\n",
       " (63, [1]),\n",
       " (64, [1, 4]),\n",
       " (65, [6]),\n",
       " (66, [1, 4, 8, 2]),\n",
       " (67, [1]),\n",
       " (68, [1, 4, 7])]"
      ]
     },
     "execution_count": 144,
     "metadata": {},
     "output_type": "execute_result"
    }
   ],
   "source": [
    "doc_lda[2][1]"
   ]
  },
  {
   "cell_type": "code",
   "execution_count": null,
   "id": "be20d40f-51d5-4701-8969-1e566fa68014",
   "metadata": {},
   "outputs": [],
   "source": []
  },
  {
   "cell_type": "markdown",
   "id": "e4f16ff9-2c67-4db5-92ef-c5217a69b92b",
   "metadata": {},
   "source": [
    "## Tilraunir"
   ]
  },
  {
   "cell_type": "code",
   "execution_count": 45,
   "id": "c52e426b-d7ce-447a-8851-910304c2224b",
   "metadata": {},
   "outputs": [],
   "source": [
    "lda = gensim.models.ldamodel.LdaModel.load(\"small_lda_model\")\n",
    "#lda = gensim.models.ldamulticore.LdaModel.load(\"small_lda_model\")"
   ]
  },
  {
   "cell_type": "code",
   "execution_count": 46,
   "id": "d8d8acb8-1cfd-46e1-a02a-32d11acfb11f",
   "metadata": {},
   "outputs": [
    {
     "data": {
      "text/plain": [
       "<gensim.models.ldamodel.LdaModel at 0x28f51b2b0>"
      ]
     },
     "execution_count": 46,
     "metadata": {},
     "output_type": "execute_result"
    }
   ],
   "source": [
    "lda"
   ]
  },
  {
   "cell_type": "code",
   "execution_count": 47,
   "id": "317b9cb8-284f-45a8-a3da-9afd5ac847f9",
   "metadata": {},
   "outputs": [
    {
     "name": "stderr",
     "output_type": "stream",
     "text": [
      "  0%|                                                                                       | 0/544115 [08:36<?, ?it/s]"
     ]
    },
    {
     "name": "stdout",
     "output_type": "stream",
     "text": [
      "[(0,\n",
      "  '0.043*\"bíll\" + 0.029*\"myndband\" + 0.024*\"akureyri\" + 0.020*\"hátíð\" + '\n",
      "  '0.020*\"samkomulag\" + 0.018*\"færsla\" + 0.017*\"ökumaður\" + 0.017*\"ummæli\" + '\n",
      "  '0.016*\"nóvember\" + 0.014*\"hús\"'),\n",
      " (1,\n",
      "  '0.045*\"ísland\" + 0.015*\"breyting\" + 0.014*\"verkefni\" + 0.013*\"fyrirtæki\" + '\n",
      "  '0.011*\"áhrif\" + 0.010*\"sveitarfélag\" + 0.009*\"starfsmaður\" + '\n",
      "  '0.008*\"frumvarp\" + 0.008*\"þjónusta\" + 0.008*\"einstaklingur\"'),\n",
      " (2,\n",
      "  '0.031*\"svæði\" + 0.022*\"klukka\" + 0.022*\"íbúi\" + 0.018*\"samningur\" + '\n",
      "  '0.017*\"nótt\" + 0.017*\"íbúð\" + 0.016*\"tilkynning\" + 0.015*\"höfuðborgarsvæði\" '\n",
      "  '+ 0.014*\"verslun\" + 0.014*\"ferð\"'),\n",
      " (3,\n",
      "  '0.022*\"hugmynd\" + 0.021*\"bók\" + 0.016*\"nemandi\" + 0.013*\"saga\" + '\n",
      "  '0.013*\"umfjöllun\" + 0.013*\"háskóli\" + 0.012*\"skóli\" + 0.012*\"list\" + '\n",
      "  '0.011*\"hlutverk\" + 0.011*\"sýning\"'),\n",
      " (4,\n",
      "  '0.025*\"leikmaður\" + 0.024*\"mínúta\" + 0.021*\"kvöld\" + 0.021*\"ísland\" + '\n",
      "  '0.021*\"dagur\" + 0.018*\"sigur\" + 0.014*\"mark\" + 0.013*\"umferð\" + '\n",
      "  '0.013*\"deild\" + 0.013*\"tímabil\"'),\n",
      " (5,\n",
      "  '0.037*\"flokkur\" + 0.022*\"kosning\" + 0.020*\"ríkisstjórn\" + '\n",
      "  '0.019*\"sjálfstæðis-flokkur\" + 0.017*\"ingi\" + 0.012*\"landspítali\" + '\n",
      "  '0.012*\"ráðherra\" + 0.011*\"mál\" + 0.011*\"fólk\" + 0.011*\"niðurstaða\"'),\n",
      " (6,\n",
      "  '0.063*\"félag\" + 0.058*\"milljón\" + 0.040*\"milljarður\" + 0.040*\"prósent\" + '\n",
      "  '0.024*\"dómur\" + 0.024*\"mánuður\" + 0.023*\"króna\" + 0.019*\"banki\" + '\n",
      "  '0.019*\"fyrirtæki\" + 0.016*\"hlutur\"'),\n",
      " (7,\n",
      "  '0.057*\"fólk\" + 0.033*\"maður\" + 0.031*\"dagur\" + 0.025*\"kona\" + 0.024*\"barn\" '\n",
      "  '+ 0.019*\"þáttur\" + 0.014*\"mynd\" + 0.014*\"viðtal\" + 0.012*\"staður\" + '\n",
      "  '0.012*\"fjölskylda\"'),\n",
      " (8,\n",
      "  '0.056*\"dagur\" + 0.040*\"land\" + 0.027*\"bandaríki\" + 0.022*\"forseti\" + '\n",
      "  '0.019*\"morgunn\" + 0.016*\"þingmaður\" + 0.014*\"þjóð\" + 0.011*\"aðgerð\" + '\n",
      "  '0.011*\"ákvörðun\" + 0.009*\"fundur\"'),\n",
      " (9,\n",
      "  '0.047*\"lögregla\" + 0.032*\"mál\" + 0.023*\"rannsókn\" + 0.021*\"maður\" + '\n",
      "  '0.017*\"upplýsing\" + 0.013*\"ráðuneyti\" + 0.013*\"árás\" + 0.011*\"sendiráð\" + '\n",
      "  '0.010*\"fjölmiðill\" + 0.009*\"lögreglumaður\"')]\n"
     ]
    },
    {
     "name": "stderr",
     "output_type": "stream",
     "text": [
      "\n"
     ]
    }
   ],
   "source": [
    "from pprint import pprint\n",
    "# Print the Keyword in the 10 topics\n",
    "pprint(lda.print_topics())\n",
    "#doc_lda = lda[corpus]"
   ]
  },
  {
   "cell_type": "code",
   "execution_count": null,
   "id": "2b884051-cdec-4b2a-94e1-e9ea1813ec0e",
   "metadata": {},
   "outputs": [],
   "source": []
  }
 ],
 "metadata": {
  "kernelspec": {
   "display_name": "Python 3.9.7 64-bit ('base': conda)",
   "language": "python",
   "name": "python397jvsc74a57bd095ec9ec1504d83f612128e0fb229072f90bbb4cb09d9d5d93b5dd26e0ca2cfd1"
  },
  "language_info": {
   "codemirror_mode": {
    "name": "ipython",
    "version": 3
   },
   "file_extension": ".py",
   "mimetype": "text/x-python",
   "name": "python",
   "nbconvert_exporter": "python",
   "pygments_lexer": "ipython3",
   "version": "3.9.7"
  }
 },
 "nbformat": 4,
 "nbformat_minor": 5
}
