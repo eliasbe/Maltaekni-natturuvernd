{
 "cells": [
  {
   "cell_type": "markdown",
   "id": "2e8b67ee-e69a-4347-b08c-b72c820c507f",
   "metadata": {},
   "source": [
    "# Máltækni - Náttúruvernd"
   ]
  },
  {
   "cell_type": "markdown",
   "id": "72f1ce20-80fd-4dc1-9611-6980034e24ad",
   "metadata": {
    "tags": []
   },
   "source": [
    "# Data import & manipulation"
   ]
  },
  {
   "cell_type": "code",
   "execution_count": null,
   "id": "24429e8d-1d90-46e7-b215-3d0d18a93322",
   "metadata": {},
   "outputs": [],
   "source": [
    "from numpy.random import default_rng\n",
    "import re\n",
    "import tqdm\n",
    "import pandas as pd\n",
    "import pickle\n",
    "import numpy as np\n",
    "import string\n",
    "\n",
    "import matplotlib.pyplot as plt"
   ]
  },
  {
   "cell_type": "code",
   "execution_count": null,
   "id": "a45351d5-dada-4107-bcbb-7d36b76e87f2",
   "metadata": {},
   "outputs": [],
   "source": [
    "#@Vésteinn\n",
    "def read_news_tsv(file_name):\n",
    "    data = []\n",
    "    with open(file_name, encoding=\"utf-8\") as fh:\n",
    "        for line in tqdm.tqdm(fh.readlines()):\n",
    "            title, author, url, timestamp, _, _, text, text_tokenized = line.split(\"\\t\")\n",
    "            article = {\n",
    "                \"title\": title,\n",
    "                \"author\": author,\n",
    "                \"timestamp\": timestamp,\n",
    "                \"text\": text,\n",
    "                \"text_tokenized\": text_tokenized\n",
    "            }\n",
    "            data.append(article)\n",
    "        return data"
   ]
  },
  {
   "cell_type": "code",
   "execution_count": null,
   "id": "86bcd8f4-d708-4f5a-bcc8-6de1bd238144",
   "metadata": {},
   "outputs": [],
   "source": [
    "articles = read_news_tsv(\"icelandic_news_sample_22480.tsv\")\n",
    "print(f\"Article count {len(articles)}\")"
   ]
  },
  {
   "cell_type": "code",
   "execution_count": null,
   "id": "45049bff-c45b-450a-bc6c-3a1ea03eb58b",
   "metadata": {},
   "outputs": [],
   "source": [
    "articles_df = pd.DataFrame(articles)"
   ]
  },
  {
   "cell_type": "code",
   "execution_count": null,
   "id": "d0a50f3e-c6e0-4fe4-b421-ae70ed5dac2d",
   "metadata": {},
   "outputs": [],
   "source": [
    "articles_Big = read_news_tsv(\"articles_until_01-11-2020_detok.tsv\")\n",
    "print(f\"Article count {len(articles_Big)}\")"
   ]
  },
  {
   "cell_type": "code",
   "execution_count": null,
   "id": "9be75a6e-91a3-46d4-b618-631d826a4083",
   "metadata": {},
   "outputs": [],
   "source": [
    "news_Big = pd.DataFrame(articles_Big)"
   ]
  },
  {
   "cell_type": "code",
   "execution_count": null,
   "id": "bbe9fc81-0373-4ef8-9206-a6e630097f54",
   "metadata": {},
   "outputs": [],
   "source": [
    "from sklearn.model_selection import train_test_split\n",
    "data_train, data_test = train_test_split(news_Big, test_size = 0.15, random_state=11)"
   ]
  },
  {
   "cell_type": "code",
   "execution_count": null,
   "id": "edc94703-8a96-4c19-b257-69e5d177046f",
   "metadata": {},
   "outputs": [],
   "source": [
    "print(f'Training data examles: {data_train.shape[0]}')\n",
    "print(f'Test data examles: {data_test.shape[0]}')"
   ]
  },
  {
   "cell_type": "code",
   "execution_count": null,
   "id": "ce203c6d-52ed-42fa-9d81-285f6c000725",
   "metadata": {},
   "outputs": [],
   "source": [
    "data_test, data_test_labeled = train_test_split(data_test, test_size = 0.005, random_state=11)"
   ]
  },
  {
   "cell_type": "code",
   "execution_count": null,
   "id": "41347be2-e314-4a6f-b68c-d0f88797dd3d",
   "metadata": {},
   "outputs": [],
   "source": [
    "print(f'Test data examles: {data_test.shape[0]}')\n",
    "print(f'Labeled test data examles: {data_test_labeled.shape[0]}')"
   ]
  },
  {
   "cell_type": "code",
   "execution_count": null,
   "id": "def37b69-0ac7-45db-9d13-a7ce8c2547a0",
   "metadata": {},
   "outputs": [],
   "source": [
    "# Subset af training til að koma virkni í gang án þjálfunartíma\n",
    "_, data_playground = train_test_split(data_train, test_size = 0.10, random_state=11)\n",
    "print(f'Playground data examles: {data_playground.shape[0]}')"
   ]
  },
  {
   "cell_type": "code",
   "execution_count": null,
   "id": "145944be-29a9-4ebf-b623-acf5d28a57e2",
   "metadata": {},
   "outputs": [],
   "source": [
    "timabil = pd.to_datetime(data_playground['timestamp'])"
   ]
  },
  {
   "cell_type": "code",
   "execution_count": null,
   "id": "688d4af8-1ca1-4bce-b95b-e09875bdb2a6",
   "metadata": {},
   "outputs": [],
   "source": [
    "timabil.sort_values()"
   ]
  },
  {
   "cell_type": "markdown",
   "id": "3618ea63-df25-495b-baa3-b6180e40c368",
   "metadata": {
    "jp-MarkdownHeadingCollapsed": true,
    "tags": []
   },
   "source": [
    "# Skriftupælingar"
   ]
  },
  {
   "cell_type": "code",
   "execution_count": null,
   "id": "5cdb5e24-d7d8-4bde-b6b8-336c089416e4",
   "metadata": {},
   "outputs": [],
   "source": [
    "# Skoðar 'count' margar handahófskenndar fréttir og skilar lista af\n",
    "# algildum indexum fyrir þær fréttir sem innihalda 'náttúruvernd', 'loftslag' eða 'umhverfi'\n",
    "def rand_frett(safn, count):\n",
    "    listi = []\n",
    "    from numpy.random import default_rng\n",
    "    import re\n",
    "    rng = default_rng()\n",
    "    n = safn.shape[0]\n",
    "    for i in tqdm.trange(count):\n",
    "        x = rng.integers(n)\n",
    "        if pd.isnull(safn.iloc[x][\"text\"]):\n",
    "            continue\n",
    "        frett = safn.iloc[x][\"text\"] # ath iloc\n",
    "        frettnr = safn.iloc[x].name\n",
    "        lykilord = [\"náttúruvernd\", \"loftslag\", \"umhverfi\"]\n",
    "        fjoldi = 0\n",
    "        for wrd in lykilord:\n",
    "            fjoldi += len(re.findall(wrd, frett))\n",
    "        if fjoldi > 0:\n",
    "            listi.append(frettnr) # Ath. algildur index\n",
    "            #print(frett)\n",
    "    return listi"
   ]
  },
  {
   "cell_type": "code",
   "execution_count": null,
   "id": "294cc60d-bd48-48c2-90b7-885b99c0a38f",
   "metadata": {},
   "outputs": [],
   "source": [
    "# Skoðar allar fréttir í gefnu safni og skilar lista með algildum indexum \n",
    "# á þeim fréttum sem innihalda fleiri en 'threshold' fjölda af 'náttúruvernd', 'loftslag' eða 'umhverfi'\n",
    "def allar_frettir(safn, threshold=0):\n",
    "    listi = []\n",
    "\n",
    "    n = safn.shape[0]\n",
    "    for i in tqdm.trange(n):\n",
    "        frett = safn.iloc[i][\"text\"]\n",
    "        lykilord = [\"náttúruvernd\", \"loftslag\", \"umhverfi\"]\n",
    "        fjoldi = 0\n",
    "        for wrd in lykilord:\n",
    "            fjoldi += len(re.findall(wrd, frett))\n",
    "        if fjoldi > threshold:\n",
    "            listi.append(i) # ath. afstæð númer m.v. safn\n",
    "            #print(frett)\n",
    "    return listi "
   ]
  },
  {
   "cell_type": "code",
   "execution_count": null,
   "id": "6effcfd1-3d21-4128-aa32-d07c45f7a7f0",
   "metadata": {},
   "outputs": [],
   "source": [
    "# Athuga hvaða hlutfall kemur út úr síunni\n",
    "sample_count = 100000\n",
    "big_list = rand_frett(news_Big, sample_count)\n",
    "print(len(big_list)/sample_count)"
   ]
  },
  {
   "cell_type": "markdown",
   "id": "fbc11dd3-fe81-4c38-9bee-fd1ef04c3fd7",
   "metadata": {},
   "source": [
    "## Merkjum data_test_labeled"
   ]
  },
  {
   "cell_type": "code",
   "execution_count": null,
   "id": "2b42c953-4523-4f0f-abc5-f8143af14de2",
   "metadata": {},
   "outputs": [],
   "source": [
    "sigtaðar_frettir = allar_frettir(data_test_labeled)"
   ]
  },
  {
   "cell_type": "code",
   "execution_count": null,
   "id": "040a7c2b-4e72-486c-9327-539c69c82a80",
   "metadata": {},
   "outputs": [],
   "source": [
    "for fr in sigtaðar_frettir[:3]:\n",
    "    print(data_test_labeled.iloc[fr])"
   ]
  },
  {
   "cell_type": "code",
   "execution_count": null,
   "id": "d34fbc72-348f-47dc-ab52-213470ff73d6",
   "metadata": {},
   "outputs": [],
   "source": [
    "len(sigtaðar_frettir)"
   ]
  },
  {
   "cell_type": "code",
   "execution_count": null,
   "id": "77b95410-8c2e-45c3-829e-0b620e4bd5e5",
   "metadata": {},
   "outputs": [],
   "source": [
    "# for i in sigtaðar_frettir[:3]:\n",
    "#     frett = data_test_labeled.iloc[i]\n",
    "#     print(frett[\"text\"])\n",
    "#     print(frett[\"title\"])\n",
    "#     einkunn = input(\"Um náttúruvernd?\\n\")\n",
    "#     if einkunn == str(1):\n",
    "#         ja.append(frett.name)\n",
    "#     elif einkunn == str(2):\n",
    "#         vafi.append(frett.name)\n",
    "#     else:\n",
    "#         annad.append(frett.name)"
   ]
  },
  {
   "cell_type": "code",
   "execution_count": null,
   "id": "f816a586-cdf6-4bd6-99df-6c8253225327",
   "metadata": {},
   "outputs": [],
   "source": [
    "# Niðurstöður\n",
    "jakvætt = {165133,322727,343386,233961,500609,327615}\n",
    "\n",
    "# !! ATH breyta hér, flokka bara þau sem eru handyfirfarin sem neikvæð \n",
    "neikvætt = set(data_test_labeled.index).difference(jakvætt)\n",
    "\n",
    "print(len(neikvætt))\n",
    "print(len(jakvætt))\n",
    "print(data_test_labeled.shape[0])\n",
    "\n",
    "# data_test_labeled[\"label\"] = np.zeros((len(data_test_labeled), 1), dtype = np.int8)\n",
    "# for i in jakvætt:\n",
    "#     data_test_labeled.loc[i,\"label\"] = 1\n",
    "# for fr in big_list[:10]:\n",
    "#     print(news_Big.loc[fr])"
   ]
  },
  {
   "cell_type": "markdown",
   "id": "47d20588-7905-475b-ba9d-e96250d4a4cb",
   "metadata": {},
   "source": [
    "## Merkjum data_train"
   ]
  },
  {
   "cell_type": "code",
   "execution_count": null,
   "id": "620b10eb-4971-4510-b7d1-8a0a89836aa9",
   "metadata": {},
   "outputs": [],
   "source": [
    "# 'vistaðar niðurstöður' úr flokkun að neðan.\n",
    "# jákvæðar fréttir úr train\n",
    "ja =    {285192, 531728, 543888, 290583, 624031, 620326, 586792, 300335, 615601, 57271, 541114, 232512, 203202, 565829, 402387, 212309, 563685, 207852, 319984, 338039, 551033}\n",
    "# fréttir sem eru kannski já, kannski ekki\n",
    "vafi =  {188673, 253189, 582670, 549263, 580500, 196829, 138785, 201385, 146412, 624949, 467836, 18621}\n",
    "# Neikvæðar fréttir sem komu úr síunni\n",
    "annad = {425218, 398339, 232836, 377475, 40966, 108040, 61449, 411913, 441611, 188049, 594451, 357913, 389534, 447519, 403616, 598944, 403230, 438562, 383270, 300455, 260392, 545578, 245419, 496045, 280365, 111155, 77492, 616884, 26553, 598717, 397246, 264765, 180800, 353226, 292173, 217422, 53844, 179030, 306134, 524889, 622682, 288093, 557662, 146272, 471780, 628965, 111590, 180717, 506996, 129525, 423028, 19063, 409848, 290171}\n",
    "# # Neikvæðar fréttir teknar af handahófi úr train\n",
    "neinei = {41758, 45206, 94336, 122610, 133607, 152981, 190982, 210392, 235700, 258454, 276324, 294168, 303348, 328102, 333446, 344739, 351967, 356145, 376980, 426847, 429708, 437621, 460035, 461629, 524825, 566916, 581492, 612748, 631359, 631908}\n",
    "possibly_corrupt = {628965, 409848, 549263}\n",
    "print(ja, vafi, annad, sep=\"\\n\")\n",
    "print(len(ja))"
   ]
  },
  {
   "cell_type": "code",
   "execution_count": null,
   "id": "743ce1bc-57be-45b8-bbb1-24b73e01f853",
   "metadata": {},
   "outputs": [],
   "source": [
    "def label(safn, sigti, count=-1):\n",
    "    for nr, i in enumerate(sigti[:count]):\n",
    "        if i in ja or i in vafi or i in annad:\n",
    "            continue\n",
    "        frett = safn.loc[i] # Gert er ráð fyrir global index\n",
    "        print(f\"Frétt nr. {nr}\")\n",
    "        print(frett[\"text\"])\n",
    "        print(frett[\"title\"])\n",
    "        einkunn = input(\"Um náttúruvernd?\\n\")\n",
    "        print()\n",
    "        if einkunn == str(1):\n",
    "            ja.add(frett.name)\n",
    "        elif einkunn == str(2):\n",
    "            vafi.add(frett.name)\n",
    "        elif einkunn == str(0):\n",
    "            neinei.add(frett.name)\n",
    "        else:\n",
    "            annad.add(frett.name)"
   ]
  },
  {
   "cell_type": "code",
   "execution_count": null,
   "id": "7cb4336f-39b4-47aa-955d-8dd3bd0310cb",
   "metadata": {},
   "outputs": [],
   "source": [
    "# label(data_train, data_train.index)"
   ]
  },
  {
   "cell_type": "markdown",
   "id": "15d01f23-551f-478a-8457-15d911816245",
   "metadata": {},
   "source": [
    "Sigta af handahófi úr train <br>\n",
    "Flokka sigtað í já og nei<br>\n",
    "flokka af handahófi úr ósigtuðu (svo nei sé ekki bara sigtað nei)<br>\n",
    "    - kannski í sér hóp til að sjá hvort það endurspeglist í flokkunum?<br>\n",
    "Þegar það eru komnir nokkrir tugir í já, þá athuga hvar flokkaða lendir í LDA<br>\n",
    "Kannski finna gögn sem eru sérstaklega um náttúruvernd, fréttir frá samtökum, Sólin, ...<br>"
   ]
  },
  {
   "cell_type": "code",
   "execution_count": null,
   "id": "c538359e-4bca-45d2-be7c-a415055b67a7",
   "metadata": {},
   "outputs": [],
   "source": [
    "slembsigti = rand_frett(data_train, 2000) # Hefði kannski átt að setja seed?"
   ]
  },
  {
   "cell_type": "code",
   "execution_count": null,
   "id": "4f3770f4-9f83-4b5b-a127-287bef8238b9",
   "metadata": {},
   "outputs": [],
   "source": [
    "# label(data_train, slembsigti)"
   ]
  },
  {
   "cell_type": "code",
   "execution_count": null,
   "id": "f3054cd5-d8c1-43fc-859e-51b170cf9d98",
   "metadata": {},
   "outputs": [],
   "source": []
  },
  {
   "cell_type": "code",
   "execution_count": null,
   "id": "f2f69af2-8962-462d-94d9-8d9d208a7e7a",
   "metadata": {},
   "outputs": [],
   "source": [
    "playground_sigti = allar_frettir(data_playground, 5)"
   ]
  },
  {
   "cell_type": "code",
   "execution_count": null,
   "id": "2d762aab-9e37-4599-8555-a60d744424af",
   "metadata": {},
   "outputs": [],
   "source": [
    "len(playground_sigti)"
   ]
  },
  {
   "cell_type": "markdown",
   "id": "48ec2f46-2d14-4737-b083-9f7ea172f32b",
   "metadata": {
    "tags": []
   },
   "source": [
    "# GENSIM LDA pælingar"
   ]
  },
  {
   "cell_type": "code",
   "execution_count": null,
   "id": "f4bf08ee-0d13-43d0-8a5f-1f1ddf1f5c6b",
   "metadata": {},
   "outputs": [],
   "source": [
    "import gensim\n",
    "import gensim.corpora as corpora\n",
    "from gensim.utils import simple_preprocess\n",
    "from gensim.models import CoherenceModel"
   ]
  },
  {
   "cell_type": "code",
   "execution_count": null,
   "id": "9787f3b7-9f6b-41d3-be74-a6f0056cc434",
   "metadata": {},
   "outputs": [],
   "source": [
    "\n",
    "stop_words = set()\n",
    "extra_stop_words = [\"var\", \"er\", \"ekki\", \"sé\"]\n",
    "with open(\"is_stop_words.txt\") as stop_word_file:\n",
    "    for line in stop_word_file.readlines():\n",
    "        stop_words.add(line.strip())\n",
    "stop_words.update(set(string.punctuation))\n",
    "stop_words.update(set(extra_stop_words))"
   ]
  },
  {
   "cell_type": "code",
   "execution_count": null,
   "id": "60e53388-a3b9-48f8-82d1-dd634f82ba71",
   "metadata": {},
   "outputs": [],
   "source": [
    "import tokenizer\n",
    "from islenska import Bin\n",
    "\n",
    "b = Bin()\n",
    "\n",
    "def naive_bin_lemma(token):\n",
    "    candidates = b.lookup_lemmas_and_cats(token)\n",
    "    if not candidates:\n",
    "        return None\n",
    "    if len(candidates) > 1:\n",
    "        return None\n",
    "    cand = candidates.pop()\n",
    "    if cand[1] not in [\"kk\", \"kvk\", \"hk\"]:\n",
    "        return None\n",
    "    return cand[0]\n",
    "\n",
    "\n",
    "def tokenize_and_lemmatize(sentence):\n",
    "    if pd.isnull(sentence): # Líklegast óþarft núna\n",
    "            return []\n",
    "    tokenized_text = list(tokenizer.split_into_sentences(sentence))\n",
    "    lemmas = []\n",
    "    for sent in tokenized_text:\n",
    "        for token in sent.split():\n",
    "            if token in stop_words:\n",
    "                continue\n",
    "            lemma = naive_bin_lemma(token.lower())\n",
    "            if lemma is not None: # bæta við stop_words hér? and lemma not in stop_words\n",
    "                lemmas.append(lemma)\n",
    "    return lemmas"
   ]
  },
  {
   "cell_type": "code",
   "execution_count": null,
   "id": "bfba5fe6-0453-4e49-9173-c3f495de33d3",
   "metadata": {},
   "outputs": [],
   "source": [
    "def load_all():\n",
    "    with open('data_words.pickle', 'rb') as fh:\n",
    "        data_words = pickle.load(fh)\n",
    "    with open('data_words_bigrams.pickle', 'rb') as fh:\n",
    "        data_words_bigrams = pickle.load(fh)\n",
    "    with open('id2word.pickle', 'rb') as fh:\n",
    "        id2word = pickle.load(fh)\n",
    "    with open('corpus.pickle', 'rb') as fh:\n",
    "        corpus = pickle.load(fh)\n",
    "    lda_model = gensim.models.ldamulticore.LdaModel.load(\"Big_lda_model\")\n",
    "    \n",
    "    return data_words, data_words_bigrams, id2word, corpus, lda_model"
   ]
  },
  {
   "cell_type": "code",
   "execution_count": null,
   "id": "f444c556-317d-431f-a176-afb835259653",
   "metadata": {},
   "outputs": [],
   "source": [
    "def build_all():\n",
    "    data_words = [tokenize_and_lemmatize(a) for a in tqdm.notebook.tqdm(data_train[\"text_tokenized\"])]\n",
    "\n",
    "    # Build the bigram and trigram models\n",
    "    bigram = gensim.models.Phrases(data_words, min_count=5, threshold=100) # higher threshold fewer phrases.\n",
    "    trigram = gensim.models.Phrases(bigram[data_words], threshold=100)  \n",
    "\n",
    "    # Faster way to get a sentence clubbed as a trigram/bigram\n",
    "    bigram_mod = gensim.models.phrases.Phraser(bigram)\n",
    "    trigram_mod = gensim.models.phrases.Phraser(trigram)\n",
    "    \n",
    "    def make_bigrams(texts):\n",
    "        return [bigram_mod[doc] for doc in texts]\n",
    "\n",
    "    def make_trigrams(texts):\n",
    "        return [trigram_mod[bigram_mod[doc]] for doc in texts]\n",
    "\n",
    "    # See trigram example\n",
    "    # print(trigram_mod[bigram_mod[data_words[0]]])\n",
    "    data_words_bigrams = make_bigrams(tqdm.tqdm(data_words))\n",
    "    # Create Dictionary\n",
    "    id2word = corpora.Dictionary(data_words)\n",
    "\n",
    "    # Create Corpus\n",
    "    texts = data_words\n",
    "\n",
    "    # Term Document Frequency\n",
    "    corpus = [id2word.doc2bow(text) for text in texts]\n",
    "    lda_model = gensim.models.ldamodel.LdaModel(corpus=corpus,\n",
    "                                               id2word=id2word,\n",
    "                                               num_topics=10, \n",
    "                                               random_state=100,\n",
    "                                               update_every=1,\n",
    "                                               chunksize=100,\n",
    "                                               passes=10,\n",
    "                                               alpha='auto',\n",
    "                                               per_word_topics=True)"
   ]
  },
  {
   "cell_type": "code",
   "execution_count": null,
   "id": "615d70fb-5fda-4b6e-ba96-cfb718457612",
   "metadata": {},
   "outputs": [],
   "source": [
    "def save_all():\n",
    "    with open('data_words.pickle', 'wb') as fh:\n",
    "        pickle.dump(data_words, fh)\n",
    "    with open('data_words_bigrams.pickle', 'wb') as fh:\n",
    "        pickle.dump(data_words_bigrams, fh)\n",
    "    with open('id2word.pickle', 'wb') as fh:\n",
    "        pickle.dump(id2word, fh)\n",
    "    with open('corpus.pickle', 'wb') as fh:\n",
    "        pickle.dump(corpus, fh)\n",
    "    lda_model.save(\"./Big_lda_model\")"
   ]
  },
  {
   "cell_type": "code",
   "execution_count": null,
   "id": "5601fa72-ef79-49a7-9224-675083b0c8a5",
   "metadata": {},
   "outputs": [],
   "source": [
    "data_words, data_words_bigrams, id2word, corpus, lda_model = load_all()"
   ]
  },
  {
   "cell_type": "markdown",
   "id": "e4f16ff9-2c67-4db5-92ef-c5217a69b92b",
   "metadata": {
    "tags": []
   },
   "source": [
    "## Tilraunir"
   ]
  },
  {
   "cell_type": "code",
   "execution_count": null,
   "id": "96dd330e-c326-4fab-95a5-133851b98f37",
   "metadata": {
    "colab": {
     "base_uri": "https://localhost:8080/"
    },
    "id": "isTxjcbekeUd",
    "outputId": "1d277d4e-6a96-4ea7-c6d3-b6b69b8c66fa"
   },
   "outputs": [],
   "source": [
    "from pprint import pprint\n",
    "# Print the Keyword in the 10 topics\n",
    "pprint(lda_model.print_topics())\n",
    "doc_lda = lda_model[corpus]"
   ]
  },
  {
   "cell_type": "code",
   "execution_count": null,
   "id": "325cf912-2a00-4060-8b36-55cd4bf2eac0",
   "metadata": {},
   "outputs": [],
   "source": [
    "# Sjáum orðin tengd ákveðnum flokk\n",
    "[id2word[i[0]] for i in lda_model.get_topic_terms(6, topn=50)]"
   ]
  },
  {
   "cell_type": "code",
   "execution_count": null,
   "id": "fcbbe30f-6a07-48e3-831c-e2e47040e284",
   "metadata": {},
   "outputs": [],
   "source": [
    "# Fáum hóp ákveðins orðs í safninu\n",
    "# Af hverju sýnir þetta fyrir fæst orð?\n",
    "lda_model.get_term_topics(id2word.token2id[\"króna\"])"
   ]
  },
  {
   "cell_type": "code",
   "execution_count": null,
   "id": "afb1e297-ac21-4f6d-a3c5-0baf1247a29c",
   "metadata": {
    "id": "YQE3va_TeJy_"
   },
   "outputs": [],
   "source": [
    "sport = \"\"\"„Úrslitin eru það mikilvægasta sem við tökum með okkur úr leik kvöldsins. Það er afrek að vinna Porto á útivelli. Að sigra eins og við sigruðum gerir sigurinn enn sætari,“ sagði Jürgen Klopp að loknum 5-1 sigri Liverpool á Drekavöllum í kvöld.\n",
    "„Það var mikið af góðum augnablikum í leik kvöldsins. Við gátum séð að Porto horfði á leikinn okkar gegn Brentford þar sem þeir voru mjög beinskeyttir, ég vildi lagfæra það á vellinum og við gerðum það skref fyrir skref.“\n",
    "\"\"\"\n",
    "sport = tokenize_and_lemmatize(sport)"
   ]
  },
  {
   "cell_type": "code",
   "execution_count": null,
   "id": "2bf1c99f-37ea-4163-abd7-5b57b217df27",
   "metadata": {
    "id": "PVOd2tyweMbH"
   },
   "outputs": [],
   "source": [
    "covid= \"\"\"Í gær greindust 36 einstaklingar innanlands með Covid-19 og voru 28 í sóttkví við greiningu. Tuttugu voru óbólusettir. 348 einstaklingar eru í einangrun hér á landi vegna sjúkdómsins og 1.164 í sóttkví. \"\"\"\n",
    "covid=tokenize_and_lemmatize(covid)"
   ]
  },
  {
   "cell_type": "code",
   "execution_count": null,
   "id": "8e9029e2-030f-4578-9ee1-0bd1669718f4",
   "metadata": {
    "colab": {
     "base_uri": "https://localhost:8080/"
    },
    "id": "nS6Q-0QNfMpG",
    "outputId": "d249ca26-668d-4590-db68-61f72d306eb2"
   },
   "outputs": [],
   "source": [
    "def classify(text, verbose=False):\n",
    "    bow_vector = id2word.doc2bow(text)\n",
    "    #print(lda_model[bow_vector])\n",
    "    for index, score in sorted(lda_model[bow_vector][0], key=lambda tup: -1*tup[1]):\n",
    "        if verbose:\n",
    "            print(\"Cluster: {}\\t Score: {}\\t Topic: {}\".format(index, score, lda_model.print_topic(index, 5)))\n",
    "    if verbose:\n",
    "        print()\n",
    "    return(lda_model[bow_vector][0])"
   ]
  },
  {
   "cell_type": "code",
   "execution_count": null,
   "id": "f28bc8f7-6e9b-4d43-8d95-637b02fcb0b6",
   "metadata": {},
   "outputs": [],
   "source": [
    "def lda_group(indexes, verbose=False):\n",
    "    mat = np.zeros((len(indexes), 10), dtype=np.float32)\n",
    "    for i, example in enumerate(tqdm.tqdm(indexes)):\n",
    "        text = data_train.loc[example][\"text_tokenized\"] # getur verið news_Big fyrir öll dæmin\n",
    "        lemm_text = tokenize_and_lemmatize(text)\n",
    "        vec = classify(lemm_text)\n",
    "        for group, score in vec:\n",
    "            mat[i, group] = score\n",
    "    score_sum = np.sum(mat, axis=0)\n",
    "    if verbose:\n",
    "        print(score_sum)\n",
    "        prin3t(score_sum/sum(score_sum))\n",
    "        print(-np.sort(-score_sum))\n",
    "        print(np.argsort(-score_sum))\n",
    "    return mat"
   ]
  },
  {
   "cell_type": "code",
   "execution_count": null,
   "id": "a223672a-7c7a-409c-8743-e42917eec218",
   "metadata": {},
   "outputs": [],
   "source": [
    "jalist = list(ja)"
   ]
  },
  {
   "cell_type": "code",
   "execution_count": null,
   "id": "16e6f0b9-2ca0-400c-abe7-4f2a0c2899c0",
   "metadata": {},
   "outputs": [],
   "source": [
    "ja_mat = lda_group(jalist, False)"
   ]
  },
  {
   "cell_type": "code",
   "execution_count": null,
   "id": "25cbb48e-a403-4f58-8e04-86c7bd48431a",
   "metadata": {},
   "outputs": [],
   "source": [
    "tops = np.argmax(ja_mat, axis=1)"
   ]
  },
  {
   "cell_type": "code",
   "execution_count": null,
   "id": "b0f5e8a5-b651-4cef-a93f-7a9932e37ef7",
   "metadata": {},
   "outputs": [],
   "source": [
    "np.bincount(tops)\n",
    "\n",
    "#top_d = dict()\n",
    "#for item in tops:\n",
    "#    count = tops.count(item)\n",
    "#    top_d[item] = count"
   ]
  },
  {
   "cell_type": "code",
   "execution_count": null,
   "id": "d6220acd-7f81-4f42-909e-fa18b03e39b1",
   "metadata": {},
   "outputs": [],
   "source": []
  },
  {
   "cell_type": "code",
   "execution_count": null,
   "id": "8acdf371-604a-4771-b0b4-5f2c6a0fdd70",
   "metadata": {},
   "outputs": [],
   "source": [
    "# atta = [3,6,19,20]\n",
    "# þristur = [8,12,15,16]\n",
    "# sexa = [1,2,4,5,7,8,9,10,11,13,14,17]\n",
    "# \n",
    "# for i in atta:\n",
    "#     print(data_train.loc[jalist[i]][\"title\"])\n",
    "# print()\n",
    "# for i in þristur:\n",
    "#     print(data_train.loc[jalist[i]][\"title\"])\n",
    "# print()\n",
    "# for i in sexa:\n",
    "#     print(data_train.loc[jalist[i]][\"title\"])"
   ]
  },
  {
   "cell_type": "code",
   "execution_count": null,
   "id": "81939c4d-ca99-4fa4-9de2-f2e7b1b60dac",
   "metadata": {},
   "outputs": [],
   "source": [
    "neineilist = list(neinei)\n",
    "nei_mat = lda_group(neineilist)\n",
    "np.argmax(nei_mat, axis=1)"
   ]
  },
  {
   "cell_type": "code",
   "execution_count": null,
   "id": "150c8ce7-cde3-43f0-95d4-76708cc86dc6",
   "metadata": {},
   "outputs": [],
   "source": [
    "data_train.loc[neineilist[2]]"
   ]
  },
  {
   "cell_type": "code",
   "execution_count": null,
   "id": "4d4c9a36-34ad-4f52-92c3-6edc3b607720",
   "metadata": {},
   "outputs": [],
   "source": [
    "\n",
    "def visual_groups(mat, save=None):\n",
    "    vigur = np.sum(mat, axis=0)\n",
    "    plt.bar(list(range(10)), vigur)\n",
    "    plt.show()\n",
    "    \n",
    "    plt.bar(range(len(vigur)), -np.sort(-vigur))\n",
    "    plt.xticks(range(len(vigur)), np.argsort(-vigur))\n",
    "    if save:\n",
    "        plt.savefig(\"./pics/\"+save+\"_summa.jpg\")\n",
    "    plt.show()\n",
    "\n",
    "    \n",
    "    tops = np.argmax(mat, axis=1)\n",
    "    counts = np.bincount(tops)\n",
    "    plt.bar(range(len(counts)), counts)\n",
    "    plt.show()\n",
    "\n",
    "    # raða\n",
    "    plt.bar(range(len(counts)), -np.sort(-counts))\n",
    "    plt.xticks(range(len(counts)), np.argsort(-counts))\n",
    "    if save:\n",
    "        plt.savefig(\"./pics/\"+save+\"_top.jpg\")\n",
    "    plt.show()"
   ]
  },
  {
   "cell_type": "code",
   "execution_count": null,
   "id": "08df8086-ebe3-4bfa-b629-3aae6ee704c6",
   "metadata": {},
   "outputs": [],
   "source": [
    "visual_groups(lda_group(vafi, False), \"vafi\")"
   ]
  },
  {
   "cell_type": "code",
   "execution_count": null,
   "id": "fd4bc052-bad3-4329-9188-0629accd9e85",
   "metadata": {},
   "outputs": [],
   "source": [
    "# Keyrir í tæpar 40 mín, stallar á 95% að því er virðist að eilífu\n",
    "# playground_groups = lda_group(data_playground.index, True)"
   ]
  },
  {
   "cell_type": "code",
   "execution_count": null,
   "id": "af00e1da-5135-4110-a588-2d7e252e0a68",
   "metadata": {},
   "outputs": [],
   "source": [
    "# Pælingar á ís.\n",
    "\n",
    "# for j in data_test_labeled[data_test_labeled[\"label\"] == 1][\"text\"]:\n",
    "#     classify(tokenize_and_lemmatize(j))\n",
    "#     print(j, \"\\n\")\n",
    "# \n",
    "# data_test_labeled[data_test_labeled[\"label\"] == 0][:10][\"text\"]\n",
    "# for nei in data_test_labeled[data_test_labeled[\"label\"] == 0][:10][\"text\"]:\n",
    "#     classify(tokenize_and_lemmatize(nei))\n",
    "#     print(nei, \"\\n\")\n",
    "# for nei in data_test_labeled[data_test_labeled[\"label\"] == 0][:10]:\n",
    "#     print(nei)\n",
    "#     texti = nei[\"text\"]\n",
    "#     print(nei[\"title\"])\n",
    "#     classify(tokenize_and_lemmatize(texti))\n",
    "#     print(texti, \"\\n\")"
   ]
  },
  {
   "cell_type": "markdown",
   "id": "25f7f5c6-a060-45e4-a1ca-d962496d3135",
   "metadata": {
    "jp-MarkdownHeadingCollapsed": true,
    "tags": []
   },
   "source": [
    "# TF IDF pælingar"
   ]
  },
  {
   "cell_type": "code",
   "execution_count": null,
   "id": "2aa6a2b7-1ab7-4a6c-bd44-6efb3d5cea0a",
   "metadata": {},
   "outputs": [],
   "source": [
    "from gensim import models\n",
    "from gensim import matutils\n",
    "import time"
   ]
  },
  {
   "cell_type": "code",
   "execution_count": null,
   "id": "de4b63bc-2658-49aa-a043-6d358eb8a998",
   "metadata": {},
   "outputs": [],
   "source": [
    "tfidf = models.TfidfModel(corpus) # sami corpus og fyrir LDA\n",
    "corpus_tfidf = tfidf[corpus] # lazy"
   ]
  },
  {
   "cell_type": "code",
   "execution_count": null,
   "id": "015be586-fde2-4ea4-b0b6-d3300174774d",
   "metadata": {},
   "outputs": [],
   "source": [
    "lsi_200 = models.LsiModel.load(\"lsi_model_200\")\n",
    "corpus_lsi_200 = lsi_200[corpus_tfidf] "
   ]
  },
  {
   "cell_type": "code",
   "execution_count": null,
   "id": "ea49bf53-484e-4cb9-85bc-2fb0b97cd881",
   "metadata": {},
   "outputs": [],
   "source": [
    "lsi_500 = models.LsiModel.load(\"lsi_model_500\")\n",
    "corpus_lsi_500 = lsi_500[corpus_tfidf] "
   ]
  },
  {
   "cell_type": "code",
   "execution_count": null,
   "id": "501a4ad2-70a9-4861-ad78-ed262c0da1e7",
   "metadata": {},
   "outputs": [],
   "source": [
    "load = True\n",
    "if not load:\n",
    "    t = time.time()\n",
    "    lsi_model = models.LsiModel(corpus_tfidf, id2word=id2word, num_topics=200)  \n",
    "    corpus_lsi = lsi_model[corpus_tfidf] \n",
    "    print(time.time() - t)"
   ]
  },
  {
   "cell_type": "code",
   "execution_count": null,
   "id": "aa70904e-26ae-4d58-b6de-df95f82e39f7",
   "metadata": {},
   "outputs": [],
   "source": [
    "data_train.loc[jalist[2]][\"text\"]\n",
    "print(data_words[data_train.index.get_loc(2826)])\n"
   ]
  },
  {
   "cell_type": "code",
   "execution_count": null,
   "id": "aed4027a-eb46-406b-baf5-f39b4b43f237",
   "metadata": {},
   "outputs": [],
   "source": [
    "topic_vector = [\"friðland\", \"andrúmsloft\", \"umhverfissjónarmið\", \"loftslagsáhrif\", \"sjávarborð\", \"loftslagsvísindi\", \"ísöld\", \"náttúruhamfarir\", \"loftslagslíkan\", \"friðun\", \"loftslag-breyting\", \"umhverfisverndarsinni\", \"losun\", \"heildarlosun\", \"kol\", \"umhverfisverndarstofa\", \"umhverfisdómstóll\", \"auðlindaráðuneyti\", \"loftslagsstefna\", \"orkunotkun\", \"umhverfisskattur\", \"aðgerðasinni\", \"hamfarahlýnun\", \"skref\", \"útlosun\", \"lifnaðarháttur\", \"náttúruauðlind\", \"náttúruverndarlög\", \"umhverfisfræði\", \"orkugjafi\", \"loftslagsmál\", \"landnotkun\", \"úrgangur\", \"sóun\", \"útblástur\", \"gráðurhúsaáhrif\", \"stóriðja\", \"kolefnishlutleysi\", \"umhverfisþing\", \"umhverfisáhrif\", \"loftslagsbreyting\", \"súrnun\", \"sjór\", \"vistkerfi\", \"hringrásarhagkerfi\", \"sjálfbærni\", \"parísarsamkomulag\", \"gróðurhúsalofttegund\", \"loftslagsaðgerðir\", \"loftslagsvá\", \"náttúruvernd\", \"loftslag\", \"umhverfi\", \"náttúra\", \"hlýnun\", \"jörð\", \"loftslagsráðstefna\", \"þjóðgarður\", \"bráðna\", \"jökull\", \"umhverfisvernd\", \"mengun\", \"jarðefnaeldsneyti\", \"náttúruverðmæti\"]\n",
    "topic_vector.sort()\n",
    "t = lsi_500[tfidf[id2word.doc2bow(topic_vector)]]\n",
    "a = corpus_lsi_500[300]\n",
    "# sama og \n",
    "# a = lsi_model[tfidf[corpus[300]]]\n",
    "matutils.cossim(a, t)"
   ]
  },
  {
   "cell_type": "code",
   "execution_count": null,
   "id": "88a5ae3f-c389-42a8-b05e-1c0ec294ea3c",
   "metadata": {},
   "outputs": [],
   "source": [
    "lsi_200.print_topics(10)"
   ]
  },
  {
   "cell_type": "code",
   "execution_count": null,
   "id": "85ce0cf4-c717-43f2-b6ff-18591b2d8e6a",
   "metadata": {},
   "outputs": [],
   "source": [
    "#import logging\n",
    "#logging.basicConfig(format='%(asctime)s : %(levelname)s : %(message)s', level=logging.INFO)\n",
    "#logging.disable()\n"
   ]
  },
  {
   "cell_type": "code",
   "execution_count": null,
   "id": "146caf92-b747-414a-9f99-7292784469f8",
   "metadata": {},
   "outputs": [],
   "source": [
    "#for doc, as_text in zip(corpus_lsi, data_train[\"text\"][:55000]):\n",
    "#    print(doc, as_text)\n",
    "#"
   ]
  },
  {
   "cell_type": "code",
   "execution_count": null,
   "id": "2b6123f2-3ba4-4a63-8ba6-6573a31d5f66",
   "metadata": {},
   "outputs": [],
   "source": [
    "maxs, maxi = (-1,-1)\n",
    "nbr = 10000\n",
    "score_matrix = np.zeros((1,nbr))\n",
    "for i in range(nbr):\n",
    "    a = lsi_200[tfidf[corpus[i]]]\n",
    "    sim = matutils.cossim(a,t)\n",
    "    score_matrix[0, i] = sim\n",
    "    if sim > maxs:\n",
    "        maxs = sim\n",
    "        maxi = i\n",
    "print(maxs, maxi)"
   ]
  },
  {
   "cell_type": "code",
   "execution_count": null,
   "id": "efc9c5c2-cc1c-42b7-a8f6-e90cbe41b172",
   "metadata": {},
   "outputs": [],
   "source": [
    "plt.scatter(range(nbr), np.sort(score_matrix))\n",
    "plt.title(\"LSI scores\")\n",
    "plt.xlabel(\"Number of articles\")\n",
    "plt.ylabel(\"Score\")\n",
    "plt.plot([0, 10000], [0.15, 0.15],color='green',\n",
    "         linestyle='dashed',linewidth=2)\n",
    "plt.savefig(\"./pics/LSI.jpeg\")\n",
    "plt.show()"
   ]
  },
  {
   "cell_type": "code",
   "execution_count": null,
   "id": "3b3a5290-7122-45c0-9576-51d95c313b25",
   "metadata": {},
   "outputs": [],
   "source": [
    "start = time.time()\n",
    "included = list()\n",
    "for i in range(len(corpus)):\n",
    "    a = lsi_200[tfidf[corpus[i]]]\n",
    "    sim = matutils.cossim(a,t)\n",
    "    if sim > 0.15:\n",
    "        included.append(i)\n",
    "        #print(data_train.iloc[i][\"title\"])\n",
    "print(time.time()-start)"
   ]
  },
  {
   "cell_type": "code",
   "execution_count": null,
   "id": "4ef88a24-51f5-48a7-a536-b763a717d027",
   "metadata": {},
   "outputs": [],
   "source": []
  },
  {
   "cell_type": "code",
   "execution_count": null,
   "id": "73eba7fb-2adc-4ace-9ce3-89c539aa7b18",
   "metadata": {},
   "outputs": [],
   "source": [
    "len(included)"
   ]
  },
  {
   "cell_type": "code",
   "execution_count": null,
   "id": "42a1b78d-47a3-404f-9950-1926ca7bd39f",
   "metadata": {},
   "outputs": [],
   "source": [
    "with open(\"included015.json\", \"w\") as fh:\n",
    "    fh.write(json.dumps(included))"
   ]
  },
  {
   "cell_type": "code",
   "execution_count": null,
   "id": "663e18f8-307a-4841-9e47-b3edbdce265b",
   "metadata": {},
   "outputs": [],
   "source": [
    "import random\n",
    "for i in random.sample(included, k=10):\n",
    "    print(data_train.iloc[i][\"title\"])"
   ]
  },
  {
   "cell_type": "code",
   "execution_count": null,
   "id": "43576743-ecd5-4c74-9693-6ef06e806c92",
   "metadata": {},
   "outputs": [],
   "source": [
    "for i in jalist:\n",
    "    a = corpus_lsi_200[data_train.index.get_loc(i)]\n",
    "    sim = matutils.cossim(a,t)\n",
    "    if sim>0.15:\n",
    "        print(sim, data_train.loc[i][\"title\"])"
   ]
  },
  {
   "cell_type": "code",
   "execution_count": null,
   "id": "cf1b742d-5f33-4fff-9e53-037d8476b7dc",
   "metadata": {},
   "outputs": [],
   "source": [
    "data_train.loc[jalist[8]][\"title\"]"
   ]
  },
  {
   "cell_type": "code",
   "execution_count": null,
   "id": "1fdc9423-2466-40b6-b0e5-d619c6700868",
   "metadata": {},
   "outputs": [],
   "source": [
    "from gensim import similarities\n",
    "\n",
    "index = similarities.SparseMatrixSimilarity(tfidf[corpus], num_features=12)\n"
   ]
  },
  {
   "cell_type": "code",
   "execution_count": null,
   "id": "58225f7b-11be-407f-b5f0-672ac932bccc",
   "metadata": {},
   "outputs": [],
   "source": []
  },
  {
   "cell_type": "code",
   "execution_count": null,
   "id": "52509383-b7ae-40f2-b701-f1a02d893cd5",
   "metadata": {},
   "outputs": [],
   "source": [
    "query_document = topic_vector\n"
   ]
  },
  {
   "cell_type": "code",
   "execution_count": null,
   "id": "a4815d24-feaf-43f4-b32a-fccb96775548",
   "metadata": {},
   "outputs": [],
   "source": [
    "query_bow = id2word.doc2bow(query_document)\n"
   ]
  },
  {
   "cell_type": "code",
   "execution_count": null,
   "id": "5b363f5f-e668-49e8-a3d1-a03fe057ddfd",
   "metadata": {},
   "outputs": [],
   "source": [
    "# Krassar\n",
    "\n",
    "# sims = index[tfidf[query_bow]]\n",
    "# index.get_similarities(tfidf[id2word.doc2bow(topic_vector)])\n"
   ]
  },
  {
   "cell_type": "code",
   "execution_count": null,
   "id": "b27fa0d2-0656-4ffb-a812-b116a357570d",
   "metadata": {},
   "outputs": [],
   "source": [
    "print(list(enumerate(sims)))"
   ]
  },
  {
   "cell_type": "markdown",
   "id": "ec33550e-149a-4d90-8bc8-7c0a6944bfba",
   "metadata": {},
   "source": [
    "# NER"
   ]
  },
  {
   "cell_type": "code",
   "execution_count": null,
   "id": "5521ee39-3918-42c9-af38-1754ab9b4470",
   "metadata": {},
   "outputs": [],
   "source": [
    "from transformers import AutoModelForTokenClassification\n",
    "from transformers import pipeline\n",
    "from transformers import AutoTokenizer"
   ]
  },
  {
   "cell_type": "code",
   "execution_count": null,
   "id": "2198c0ac-c6f8-429b-bba1-b8147269efef",
   "metadata": {},
   "outputs": [],
   "source": [
    "modelX = AutoModelForTokenClassification.from_pretrained(\"eliasbe/XLMR-ENIS-finetuned-ner\")\n",
    "tokenizerX = AutoTokenizer.from_pretrained(\"eliasbe/XLMR-ENIS-finetuned-ner\", model_max_length=512)\n",
    "xlmr = pipeline(\"ner\", model=modelX, tokenizer=tokenizerX)"
   ]
  },
  {
   "cell_type": "code",
   "execution_count": null,
   "id": "1b562854-47a0-45d7-9810-7d866649ec0d",
   "metadata": {},
   "outputs": [],
   "source": [
    "# Bypass for maximum length of xlmr model\n",
    "def ner(text):\n",
    "    length = len(text)\n",
    "    half = length//2\n",
    "    try:\n",
    "        return xlmr(text)\n",
    "    except:\n",
    "        return ner(text[:half]) + ner(text[half:])"
   ]
  },
  {
   "cell_type": "code",
   "execution_count": null,
   "id": "53b87664-dbe8-4aeb-ba59-ae01181fc9ac",
   "metadata": {},
   "outputs": [],
   "source": [
    "# Athuga að við viljum væntanlega halda utan um staðsetningu líka síðar\n",
    "\n",
    "# Fall sem nær í nöfn úr texta\n",
    "def get_names(text):\n",
    "    l = list()\n",
    "    end = -1\n",
    "    beg = False\n",
    "    for entry in ner(text):\n",
    "        if entry['entity'] in {'B-Person', 'I-Person'}:                               \n",
    "            word = entry['word'].strip() \n",
    "            if word in set(string.punctuation):\n",
    "                end = int(entry['end'])\n",
    "                continue\n",
    "            if word[0] == '▁':\n",
    "                word = word[1:]\n",
    "                beg = True\n",
    "            if end == int(entry['start']) and l:\n",
    "                last = l[-1]\n",
    "                if beg:\n",
    "                    nxt = \" \".join([last, word])\n",
    "                else:\n",
    "                    nxt = \"\".join([last, word])\n",
    "                l = l[:-1]\n",
    "                l.append(nxt)\n",
    "            else:\n",
    "                l.append(word)\n",
    "            end = int(entry['end'])\n",
    "        beg = False\n",
    "    l = set(l)\n",
    "    return l\n",
    "            "
   ]
  },
  {
   "cell_type": "code",
   "execution_count": null,
   "id": "d6ff6adb-e742-47da-8a25-4e882ae587fe",
   "metadata": {},
   "outputs": [],
   "source": [
    "# Convert a single name to nefnifall\n",
    "def nefnifall_stk(nafn):\n",
    "    out = list()\n",
    "    temp = list()\n",
    "    cats = list()\n",
    "    nöfn = nafn.split()\n",
    "\n",
    "    # Athuga ef nöfnin hafa mörg kyn, kjósa um það\n",
    "    for n in nöfn:\n",
    "        kyn = list(b.lookup_cats(n))\n",
    "        for k in kyn:\n",
    "            cats.append(k)\n",
    "    if len(set(cats)) > 1:\n",
    "        k = max(set(cats), key=cats.count)\n",
    "    elif cats:\n",
    "        k = cats[0]\n",
    "    #print(k)\n",
    "\n",
    "    # Setja nefnifallið í lista\n",
    "    for n in nöfn:   \n",
    "        try: # Fyrir erlend nöfn\n",
    "            variant = b.lookup_variants(n, k, (\"NF\", \"ET\"))\n",
    "        except:\n",
    "            variant = None\n",
    "        #print(variant)\n",
    "        if variant: \n",
    "            if len(variant) > 1: # Ef til eru margar útfærslur á nafninu (Þór/Þórr) \n",
    "                same = False\n",
    "                for v in variant:\n",
    "                    if v.bmynd == n:\n",
    "                        temp.append(n)\n",
    "                        same = True\n",
    "                        break\n",
    "                    vb = v.bmynd\n",
    "                if not same:\n",
    "                    temp.append(vb)\n",
    "            else:                    \n",
    "                temp.append(variant[0].bmynd)\n",
    "        else:\n",
    "            temp.append(n)\n",
    "    name_nf =\" \".join(temp)\n",
    "    return name_nf\n",
    "\n",
    "# Convert a list of names to nf.\n",
    "def nefnifall(nafnalisti):\n",
    "    out = list()\n",
    "    for nafn in nafnalisti:\n",
    "        out.append(nefnifall_stk(nafn))\n",
    "    return out"
   ]
  },
  {
   "cell_type": "code",
   "execution_count": null,
   "id": "e649459a-2d0a-46b0-8b31-1c1226ff0d75",
   "metadata": {},
   "outputs": [],
   "source": [
    "# Orðabók til að einræða flokka og sía út\n",
    "\n",
    "flokkamap = {'Alþýðubandalag': 'Alþýðubandalagið',\n",
    " 'Alþýðubandalagið': 'Alþýðubandalagið',\n",
    " 'Alþýðuflokkur': 'Alþýðuflokkurinn',\n",
    " 'Alþýðuflokkurinn': 'Alþýðuflokkurinn',\n",
    " 'Borgaraflokkur': 'Borgaraflokkurinn',\n",
    " 'Borgaraflokkurinn': 'Borgaraflokkurinn',\n",
    " 'Borgarahreyfingin': 'Borgarahreyfingin',\n",
    " 'Bændaflokkur': 'Bændaflokkurinn',\n",
    " 'Flokkur fólksins': 'Flokkur fólksins',\n",
    " 'Bændaflokkurinn': 'Bændaflokkurinn',\n",
    " 'Framfaraflokkurinn': 'Framfaraflokkurinn',\n",
    " 'Framsóknar': 'Framsóknarflokkurinn',\n",
    " 'Framsóknarflokkur': 'Framsóknarflokkurinn',\n",
    " 'Framsóknarflokkurinn': 'Framsóknarflokkurinn',\n",
    " 'Frjálslyndi': 'Frjálslyndi',\n",
    " 'Heimastjórnarflokkur': 'Heimastjórnarflokkurinn',\n",
    " 'Heimastjórnarflokkurinn': 'Heimastjórnarflokkurinn',\n",
    " 'Kommúnistaflokkurinn': 'Kommúnistaflokkurinn',\n",
    " 'Landvarnarflokkurinn': 'Landvarnarflokkurinn',\n",
    " 'Miðflokkurinn': 'Miðflokkurinn',\n",
    " 'Píratar': 'Píratar',\n",
    " 'Sambandsflokkurinn': 'Sambandsflokkurinn',\n",
    " 'Sameiningarflokkur': 'Sameiningarflokkur',\n",
    " 'Samfylkingin': 'Samfylkingin',\n",
    " 'Sjálfstæðisflokkur': 'Sjálfstæðisflokkurinn',\n",
    " 'Sjálfstæðisflokkurinn': 'Sjálfstæðisflokkurinn',\n",
    " 'Sparnaðarbandalagið': 'Sparnaðarbandalagið',\n",
    " 'Sósíalistaflokkur': 'Sósíalistaflokkurinn',\n",
    " 'Sósíalistaflokkurinn': 'Sósíalistaflokkurinn',\n",
    " 'Utanflokkabandalagið': 'Utanflokkabandalagið',\n",
    " 'Vinstrihreyfingin': 'VG',\n",
    " 'Vinstrihreyfingin - grænt framboð': 'VG',\n",
    " 'Viðreisn': 'Viðreisn',\n",
    " 'Íhaldsflokkurinn': 'Íhaldsflokkurinn',\n",
    " 'Þjóðræðisflokkurinn': 'Þjóðræðisflokkurinn',\n",
    " 'Þjóðvaki': 'Þjóðvaki',\n",
    " 'Þjóðvarnarflokkurinn': 'Þjóðvarnarflokkurinn',\n",
    " 'Kvennalistinn': 'Kvennalistinn',\n",
    " 'vennalistinn': 'Kvennalistinn',\n",
    " 'reisn': 'Viðreisn',\n",
    " 'Björt framtíð': 'Björt framtíð', \n",
    " 'Björt': 'Björt framtíð',\n",
    " 'Samtök um kvennalista': 'Samtök um kvennalista',\n",
    " 'Samtök um jafnrétti og félagshyggju': 'Samtök um jafnrétti og félagshyggju',\n",
    " 'þingflokkur jafnaðarmanna': 'þingflokkur jafnaðarmanna',\n",
    " 'Samtök frjálslyndra og vinstri manna': 'Samtök frjálslyndra og vinstri manna',\n",
    " 'Framfaraflokkur': 'Framfaraflokkurinn',\n",
    " 'Framfaraflokkurinn': 'Framfaraflokkurinn', \n",
    " 'Bandalag jafnaðarmanna': 'Bandalag jafnaðarmanna',\n",
    " 'ramsóknarflokkur': 'Framsóknarflokkurinn'             \n",
    "}"
   ]
  },
  {
   "cell_type": "code",
   "execution_count": null,
   "id": "0aef26e5-5919-46de-a2da-5574e33e7aae",
   "metadata": {},
   "outputs": [],
   "source": [
    "# Fall til að sækja flokk úr texta, sér í lagi 'Alþingismenn.txt'\n",
    "\n",
    "def get_party(text):\n",
    "    l = list()\n",
    "    end = -1\n",
    "    beg = False\n",
    "    for entry in ner(text):\n",
    "        if entry['entity'] == 'B-Organization':                               \n",
    "            word = entry['word']\n",
    "            if word in set(string.punctuation):\n",
    "                end = int(entry['end'])\n",
    "                continue\n",
    "            if word[0] == '▁':\n",
    "                word = word[1:]\n",
    "                beg = True\n",
    "            if word[0] in set(string.punctuation):\n",
    "                word = word[1:]\n",
    "            if end == int(entry['start']):\n",
    "                last = l[-1]\n",
    "                if beg:\n",
    "                    nxt = \" \".join([last, word])\n",
    "                else:\n",
    "                    nxt = \"\".join([last, word])\n",
    "                l = l[:-1]\n",
    "                l.append(nxt)\n",
    "            else:\n",
    "                l.append(word) # Athuga með að sía fyrir raunverulegum flokkum\n",
    "            end = int(entry['end'])\n",
    "        beg = False\n",
    "    out = set()\n",
    "    for flokk in l:\n",
    "        if flokk in flokkamap:\n",
    "            out.add(flokkamap[flokk])\n",
    "        #else:\n",
    "        #    print(\"Party not found: \", flokk)\n",
    "    \n",
    "    # Bara fyrir alþingismannatalið\n",
    "    if not out:\n",
    "        party = re.findall(\"\\(((?:\\w|\\s)*)\\)\\.\", text)\n",
    "        for p in party:\n",
    "            if p in flokkamap:\n",
    "                out.add(flokkamap[p]) # ath, var flokk í stað p\n",
    "            #else:\n",
    "            #    print(p)\n",
    "    return out\n",
    "            "
   ]
  },
  {
   "cell_type": "code",
   "execution_count": null,
   "id": "335a2aec-4599-44a0-8e15-b5c7614317bc",
   "metadata": {},
   "outputs": [],
   "source": [
    "# https://www.althingi.is/altext/cv/is/\n",
    "with open(\"Alþingismenn.txt\", \"r\") as f:\n",
    "    alþingi = f.readlines()"
   ]
  },
  {
   "cell_type": "code",
   "execution_count": null,
   "id": "e34d49e9-9011-4710-ad6e-cffdafed5b30",
   "metadata": {},
   "outputs": [],
   "source": [
    "# Smíðar skrá sem geymir Nafn:flokkur fyrir alla fyrri alþingismenn\n",
    "\n",
    "member_party = dict()\n",
    "for sentence in alþingi:\n",
    "    \n",
    "    # ML methods\n",
    "    member = get_names(sentence)\n",
    "    party = get_party(sentence)\n",
    "\n",
    "    \n",
    "    #print(member, party)\n",
    "    for m in member:  \n",
    "        if m in member_party:\n",
    "            member_party[m] = member_party[m].union(party)\n",
    "        else:\n",
    "            member_party[m] = party"
   ]
  },
  {
   "cell_type": "code",
   "execution_count": null,
   "id": "8cf98f79-1a6b-4a18-a5d3-ee0c02b66bc9",
   "metadata": {},
   "outputs": [],
   "source": [
    "re_member_party = dict()\n",
    "for sentence in alþingi:\n",
    "    \n",
    "    member = re.findall(\"^\\s*((?:\\w|\\s)*)\\.\", sentence)\n",
    "    party = re.findall(\"\\(((?:\\w|\\s)*)\\)\\.\", sentence)\n",
    "    \n",
    "    p_list = list()\n",
    "    for p in party:\n",
    "        if p in flokkamap:\n",
    "            p_list.append(flokkamap[p])\n",
    "    party = set(p_list)\n",
    "    \n",
    "    #print(member, party)\n",
    "    \n",
    "    if member:\n",
    "        if member[0] not in re_member_party:\n",
    "            re_member_party[member[0]] = set(party)\n",
    "        else:\n",
    "            re_member_party[member[0]] = re_member_party[member[0]].union(set(party))\n",
    "    else:\n",
    "        print(sentence)"
   ]
  },
  {
   "cell_type": "code",
   "execution_count": null,
   "id": "15ad0462-6d4e-4fb1-a44d-567264f28d03",
   "metadata": {},
   "outputs": [],
   "source": [
    "flokkar = set()\n",
    "for it in member_party.values():\n",
    "    for i in it:\n",
    "        flokkar.add(i)"
   ]
  },
  {
   "cell_type": "code",
   "execution_count": null,
   "id": "117e1634-dc99-49a4-a9ca-b1b3c0576345",
   "metadata": {},
   "outputs": [],
   "source": [
    "flokkar"
   ]
  },
  {
   "cell_type": "code",
   "execution_count": null,
   "id": "d5f37e53-e2e0-4678-896e-009736130d1a",
   "metadata": {},
   "outputs": [],
   "source": [
    "oflokkadir = list()\n",
    "flokkadir = list()\n",
    "ath_linur = list()\n",
    "for idx, key in enumerate(member_party):\n",
    "    if not member_party[key]:\n",
    "        oflokkadir.append(key)\n",
    "        ath_linur.append(idx)\n",
    "    else:\n",
    "        flokkadir.append(key)"
   ]
  },
  {
   "cell_type": "code",
   "execution_count": null,
   "id": "6fd73814-670b-49e7-be7a-1369dca98168",
   "metadata": {},
   "outputs": [],
   "source": [
    "len(oflokkadir)/(len(flokkadir)+len(oflokkadir))"
   ]
  },
  {
   "cell_type": "code",
   "execution_count": null,
   "id": "4d5defb5-51a9-4f08-8f59-17416ea43713",
   "metadata": {},
   "outputs": [],
   "source": [
    "len(oflokkadir) + len(flokkadir)"
   ]
  },
  {
   "cell_type": "code",
   "execution_count": null,
   "id": "a1fca93a-fc5d-4b0e-986f-b546ac02e43b",
   "metadata": {},
   "outputs": [],
   "source": [
    "#for lina in range(len(ath_linur)):\n",
    "#    print(alþingi[ath_linur[lina]], oflokkadir[lina], sep=\" \")"
   ]
  },
  {
   "cell_type": "code",
   "execution_count": null,
   "id": "f2fa4a4a-9716-44a5-ba28-3c2d025f1a11",
   "metadata": {},
   "outputs": [],
   "source": [
    "with open(\"Current_alþingismenn.txt\", \"r\") as f:\n",
    "    current_alþingi = f.readlines()\n",
    "\n",
    "current_member_party = dict()\n",
    "for line in current_alþingi:\n",
    "    line = line.strip()\n",
    "    line = line.split(\"   \")\n",
    "    current_member_party[line[0]] = flokkamap[line[1]]\n",
    "    "
   ]
  },
  {
   "cell_type": "code",
   "execution_count": null,
   "id": "27847d3a-7f1a-42d2-a8d1-129054123555",
   "metadata": {},
   "outputs": [],
   "source": [
    "current_member_party"
   ]
  },
  {
   "cell_type": "code",
   "execution_count": null,
   "id": "1f87588b-c70c-4a3c-bcca-625656edd975",
   "metadata": {},
   "outputs": [],
   "source": [
    "current_flokkar = set()\n",
    "for it in current_member_party.values():\n",
    "    current_flokkar.add(it)"
   ]
  },
  {
   "cell_type": "code",
   "execution_count": null,
   "id": "469ebaf1-1ebc-40ce-b323-a023b73b4ef1",
   "metadata": {},
   "outputs": [],
   "source": [
    "current_flokkar"
   ]
  },
  {
   "cell_type": "code",
   "execution_count": null,
   "id": "a21933c7-f82e-4127-958a-7799f4ecb556",
   "metadata": {},
   "outputs": [],
   "source": [
    "from collections import defaultdict\n",
    "\n",
    "\n",
    "def get_names_pos(text):\n",
    "    l = defaultdict(list)\n",
    "    temp_name = ''\n",
    "    temp_pos = tuple()\n",
    "    end = -1\n",
    "    beginning = False\n",
    "    temp = False\n",
    "    \n",
    "    for entry in ner(text):\n",
    "        if entry['entity'] in {'B-Person', 'I-Person'}:                               \n",
    "            \n",
    "            word = entry['word'].strip() \n",
    "            if word in set(string.punctuation):\n",
    "                end = int(entry['end'])\n",
    "                if temp:\n",
    "                    temp_pos = (temp_pos[0], end)\n",
    "                continue\n",
    "            \n",
    "            if word[0] == '▁':\n",
    "                word = word[1:]\n",
    "                beginning = True\n",
    "                \n",
    "                \n",
    "            if end == int(entry['start']):\n",
    "                if beginning and temp:\n",
    "                    temp_name = temp_name + ' ' + word\n",
    "                else:\n",
    "                    temp_name = temp_name + word\n",
    "                \n",
    "                if temp:    \n",
    "                    temp_pos = (temp_pos[0], int(entry['end']))\n",
    "                else:\n",
    "                    temp_pos = (int(entry['start']), int(entry['end']))\n",
    "            \n",
    "            else:\n",
    "                if temp:\n",
    "                    l[temp_name].append(temp_pos)\n",
    "                temp_name = word\n",
    "                temp_pos = (int(entry['start']), int(entry['end']))\n",
    "                temp = True\n",
    "                \n",
    "            end = int(entry['end'])\n",
    "            \n",
    "        beginning = False\n",
    "    if temp:\n",
    "        l[temp_name].append(temp_pos)   \n",
    "\n",
    "\n",
    "    return l\n",
    "            "
   ]
  },
  {
   "cell_type": "code",
   "execution_count": null,
   "id": "0c071b95-d7f2-46fd-8f1c-149e6fe168e6",
   "metadata": {},
   "outputs": [],
   "source": [
    "import pprint\n",
    "bla = get_names_pos(data_train.loc[543889][\"text\"])\n",
    "bla.items()"
   ]
  },
  {
   "cell_type": "code",
   "execution_count": null,
   "id": "09699016-74f9-4f4f-b8bd-06846858eda2",
   "metadata": {},
   "outputs": [],
   "source": [
    "def statistics_table(text, idx, member_party_dict, member_stats, idx_stats):\n",
    "    member_pos = dict()\n",
    "    names_pos = get_names_pos(text)\n",
    "    parlamenterian = False\n",
    "    for nafn, pos in names_pos.items():\n",
    "        nafn_nf = nefnifall_stk(nafn)\n",
    "#         print(nafn_nf)\n",
    "        if nafn_nf in member_party_dict:\n",
    "            member_stats[nafn_nf].add(idx)\n",
    "            member_pos[nafn_nf] = pos\n",
    "            \n",
    "            parlamenterian = True\n",
    "\n",
    "    if parlamenterian:\n",
    "        # idx_stats[idx] = member_pos\n",
    "        entry = {\n",
    "            \"idx\": idx,\n",
    "            \"pos\": member_pos\n",
    "        }\n",
    "        idx_stats.append(entry)\n",
    "        \n",
    "        \n",
    "    return member_stats, idx_stats"
   ]
  },
  {
   "cell_type": "code",
   "execution_count": null,
   "id": "0cd52769-a57c-48c5-87b2-3f5ade44b7e5",
   "metadata": {},
   "outputs": [],
   "source": [
    "member_stats = defaultdict(set)\n",
    "idx_stats = list()"
   ]
  },
  {
   "cell_type": "code",
   "execution_count": 319,
   "id": "19705d2d-8094-4baf-a67a-243d0e5b6489",
   "metadata": {},
   "outputs": [
    {
     "name": "stderr",
     "output_type": "stream",
     "text": [
      "100%|██████████| 3000/3000 [30:32<00:00,  1.64it/s] \n"
     ]
    }
   ],
   "source": [
    "for i in tqdm.trange(4000, 7000):\n",
    "    frett = data_train.iloc[i]\n",
    "    member_stats, idx_stats = statistics_table(frett[\"text\"], frett.name, current_member_party, member_stats, idx_stats)"
   ]
  },
  {
   "cell_type": "code",
   "execution_count": 320,
   "id": "3ff16f66-6b6a-4193-b709-0d3370728287",
   "metadata": {},
   "outputs": [],
   "source": [
    "with open('member_stats.pickle', 'wb') as fh:\n",
    "    pickle.dump(member_stats, fh)\n",
    "with open('idx_stats.pickle', 'wb') as fh:\n",
    "    pickle.dump(idx_stats, fh)"
   ]
  },
  {
   "cell_type": "code",
   "execution_count": null,
   "id": "991ca45c-9733-4a23-986e-d473715fa293",
   "metadata": {},
   "outputs": [],
   "source": [
    "incl_member_stats = defaultdict(set)\n",
    "incl_idx_stats = list()"
   ]
  },
  {
   "cell_type": "code",
   "execution_count": 305,
   "id": "8fa1b515-ab4e-41e6-ad21-035d81c14ef4",
   "metadata": {},
   "outputs": [
    {
     "name": "stderr",
     "output_type": "stream",
     "text": [
      "100%|██████████| 4145/4145 [1:01:07<00:00,  1.13it/s]\n"
     ]
    }
   ],
   "source": [
    "for i in tqdm.tqdm(included):\n",
    "    frett = data_train.iloc[i]\n",
    "    incl_member_stats, incl_idx_stats = statistics_table(frett[\"text\"], frett.name, current_member_party, incl_member_stats, incl_idx_stats)"
   ]
  },
  {
   "cell_type": "code",
   "execution_count": 317,
   "id": "24f96d2f-22df-45a7-9664-88da3394057a",
   "metadata": {},
   "outputs": [],
   "source": [
    "with open('incl_member_stats.pickle', 'wb') as fh:\n",
    "    pickle.dump(incl_member_stats, fh)\n",
    "with open('incl_idx_stats.pickle', 'wb') as fh:\n",
    "    pickle.dump(incl_idx_stats, fh)"
   ]
  },
  {
   "cell_type": "code",
   "execution_count": 309,
   "id": "2e6e48c1-8f98-450d-882e-35e45bda6991",
   "metadata": {},
   "outputs": [],
   "source": [
    "def mem_to_pd(member_stats, member_party):\n",
    "    temp_list = []\n",
    "    for member, mengi in member_stats.items():\n",
    "        entry = {\n",
    "            \"member\": member,\n",
    "            \"articles\": mengi\n",
    "        }\n",
    "        temp_list.append(entry)\n",
    "        \n",
    "    mem_stat = pd.DataFrame(temp_list)\n",
    "    mem_stat[\"count\"] = mem_stat.apply(lambda row: len(row.articles), axis=1)\n",
    "    mem_stat[\"party\"] = mem_stat.apply(lambda row: member_party[row.member], axis=1)\n",
    "    \n",
    "    return mem_stat\n",
    "    \n",
    "def id_to_pd(idx_stats):\n",
    "    temp_list = []\n",
    "        \n",
    "    id_stat = pd.DataFrame(idx_stats)\n",
    "    id_stat[\"time\"] = pd.to_datetime(id_stat.apply(lambda row: data_train.loc[row.idx][\"timestamp\"], axis=1))\n",
    "    id_stat[\"author\"] =id_stat.apply(lambda row: data_train.loc[row.idx][\"author\"], axis=1)\n",
    "    \n",
    "    return id_stat"
   ]
  },
  {
   "cell_type": "code",
   "execution_count": 311,
   "id": "879547d0-853b-4142-81be-e7c79860f117",
   "metadata": {},
   "outputs": [],
   "source": [
    "incl_mem_stat = mem_to_pd(incl_member_stats, current_member_party)\n",
    "incl_id_stat = id_to_pd(incl_idx_stats)"
   ]
  },
  {
   "cell_type": "markdown",
   "id": "3f06b7a9-91d9-446e-9090-4797dfa541be",
   "metadata": {},
   "source": [
    "### Visual"
   ]
  },
  {
   "cell_type": "markdown",
   "id": "a64869a2-ecc6-48da-994c-ce5b112d9647",
   "metadata": {},
   "source": [
    "#### nýja "
   ]
  },
  {
   "cell_type": "code",
   "execution_count": 316,
   "id": "7cf17b8c-a02d-43ce-8088-30b91c5b2717",
   "metadata": {},
   "outputs": [
    {
     "data": {
      "text/plain": [
       "<AxesSubplot:ylabel='member'>"
      ]
     },
     "execution_count": 316,
     "metadata": {},
     "output_type": "execute_result"
    },
    {
     "data": {
      "image/png": "[encoded data removed]",
      "text/plain": [
       "<Figure size 432x288 with 1 Axes>"
      ]
     },
     "metadata": {
      "needs_background": "light"
     },
     "output_type": "display_data"
    }
   ],
   "source": [
    "incl_mem_stat.sort_values(by=['count'], inplace=True)\n",
    "incl_mem_stat.plot.barh(x=\"member\", y=\"count\")"
   ]
  },
  {
   "cell_type": "code",
   "execution_count": 321,
   "id": "80ea8464-b08e-4b8e-9cdb-7d657eae7ef2",
   "metadata": {},
   "outputs": [
    {
     "data": {
      "text/plain": [
       "<AxesSubplot:ylabel='member'>"
      ]
     },
     "execution_count": 321,
     "metadata": {},
     "output_type": "execute_result"
    },
    {
     "data": {
      "image/png": "[encoded data removed]",
      "text/plain": [
       "<Figure size 432x288 with 1 Axes>"
      ]
     },
     "metadata": {
      "needs_background": "light"
     },
     "output_type": "display_data"
    }
   ],
   "source": [
    "mem_stat = mem_to_pd(member_stats, current_member_party)\n",
    "id_stat = id_to_pd(idx_stats)\n",
    "mem_stat.sort_values(by=['count'], inplace=True)\n",
    "mem_stat.plot.barh(x=\"member\", y=\"count\")"
   ]
  },
  {
   "cell_type": "code",
   "execution_count": 322,
   "id": "67d47094-20f6-4512-90b3-a2cadd5e2f63",
   "metadata": {},
   "outputs": [],
   "source": [
    "from collections import defaultdict\n",
    "flokkar_count = defaultdict(int)\n",
    "for i in mem_stat.index:\n",
    "    flokkar_count[mem_stat.loc[i][\"party\"]] += mem_stat.loc[i][\"count\"]"
   ]
  },
  {
   "cell_type": "code",
   "execution_count": 323,
   "id": "cfbc8992-52dd-4c79-8fe6-e45030df4ca3",
   "metadata": {},
   "outputs": [],
   "source": [
    "flokkar_count = sort_dict(flokkar_count)"
   ]
  },
  {
   "cell_type": "code",
   "execution_count": 325,
   "id": "c608ee22-2ddb-47f3-8758-f3718ef4d9b2",
   "metadata": {},
   "outputs": [
    {
     "data": {
      "image/png": "[encoded data removed]",
      "text/plain": [
       "<Figure size 432x288 with 1 Axes>"
      ]
     },
     "metadata": {
      "needs_background": "light"
     },
     "output_type": "display_data"
    }
   ],
   "source": [
    "plot_flokk(flokkar_count)\n",
    "#plt.bar(flokkar_count.keys(), flokkar_count.values())"
   ]
  },
  {
   "cell_type": "code",
   "execution_count": 326,
   "id": "49672164-f017-4491-aa5b-9f94583c84a9",
   "metadata": {},
   "outputs": [],
   "source": [
    "def plot_year(df, year):\n",
    "    dfyear = df[np.logical_and(df[\"time\"] > pd.to_datetime(f\"{year-1}/12/31 23:59\"), df[\"time\"] < pd.to_datetime(f\"{year + 1}/01/01 00:00\"))]\n",
    "\n",
    "    year_members = defaultdict(int)\n",
    "    for i in dfyear.index:\n",
    "        for key in dfyear.loc[i][\"pos\"].keys():\n",
    "            year_members[key] += 1\n",
    "            \n",
    "    year_members = sort_dict(year_members)\n",
    "    \n",
    "    plt.bar(year_members.keys(), year_members.values())\n",
    "    plt.xticks(rotation=90)\n",
    "    plt.show()\n",
    "    \n",
    "    # flokkar_count = defaultdict(int)\n",
    "    # for i in dfyear.index:\n",
    "    #     flokkar_count[dfyear.loc[i][\"party\"]] += dfyear.loc[i][\"count\"]\n",
    "    # \n",
    "    # plot_flokk(flokkar_count)\n"
   ]
  },
  {
   "cell_type": "code",
   "execution_count": 327,
   "id": "049613e9-14e9-42be-b0b4-b3cd4da03936",
   "metadata": {},
   "outputs": [
    {
     "data": {
      "image/png": "[encoded data removed]",
      "text/plain": [
       "<Figure size 432x288 with 1 Axes>"
      ]
     },
     "metadata": {
      "needs_background": "light"
     },
     "output_type": "display_data"
    },
    {
     "data": {
      "image/png": "[encoded data removed]",
      "text/plain": [
       "<Figure size 432x288 with 1 Axes>"
      ]
     },
     "metadata": {
      "needs_background": "light"
     },
     "output_type": "display_data"
    },
    {
     "data": {
      "image/png": "[encoded data removed]",
      "text/plain": [
       "<Figure size 432x288 with 1 Axes>"
      ]
     },
     "metadata": {
      "needs_background": "light"
     },
     "output_type": "display_data"
    },
    {
     "data": {
      "image/png": "[encoded data removed]",
      "text/plain": [
       "<Figure size 432x288 with 1 Axes>"
      ]
     },
     "metadata": {
      "needs_background": "light"
     },
     "output_type": "display_data"
    },
    {
     "data": {
      "image/png": "[encoded data removed]",
      "text/plain": [
       "<Figure size 432x288 with 1 Axes>"
      ]
     },
     "metadata": {
      "needs_background": "light"
     },
     "output_type": "display_data"
    }
   ],
   "source": [
    "for year in range(2016, 2021):\n",
    "    plot_year(incl_id_stat, year)"
   ]
  },
  {
   "cell_type": "code",
   "execution_count": null,
   "id": "3817377e-c8a1-4422-be9c-23927fef62af",
   "metadata": {},
   "outputs": [],
   "source": []
  },
  {
   "cell_type": "markdown",
   "id": "043c1db4-aaa1-4e02-bc55-4754d0b75e10",
   "metadata": {
    "tags": []
   },
   "source": [
    "#### gamla"
   ]
  },
  {
   "cell_type": "code",
   "execution_count": null,
   "id": "0e8009e0-7385-4065-9ac9-e09acdb28208",
   "metadata": {},
   "outputs": [],
   "source": [
    "def plot_flokk(bok, save=None):\n",
    "    colors = list()\n",
    "    for key in bok.keys():\n",
    "        colors.append(party_color[key])\n",
    "    bars = plt.bar(bok.keys(), bok.values(), color=colors)\n",
    "    #print(bars.label)\n",
    "    plt.xticks(rotation=90)\n",
    "    plt.title(\"Fjöldi fréttabirtinga alþingismanna eftir flokkum\")\n",
    "    plt.xlabel(\"Flokkur\")\n",
    "    plt.ylabel(\"Fjöldi\")\n",
    "    if save:\n",
    "        plt.savefig(\"./pics/\" + save + \".jpeg\", bbox_inches=\"tight\")\n",
    "    plt.show()"
   ]
  },
  {
   "cell_type": "code",
   "execution_count": null,
   "id": "c6efbff3-8524-40d9-8e90-ad9077bb6133",
   "metadata": {},
   "outputs": [],
   "source": [
    "party_color = {'VG': 'green',\n",
    "               'Sjálfstæðisflokkurinn': 'blue',\n",
    "               'Píratar': 'purple',\n",
    "               'Viðreisn': 'orange',\n",
    "               'Samfylkingin': 'red', \n",
    "               'Miðflokkurinn': 'blue',\n",
    "               'Framsóknarflokkurinn': 'green', \n",
    "               'Flokkur fólksins': 'yellow'\n",
    "              }"
   ]
  },
  {
   "cell_type": "code",
   "execution_count": null,
   "id": "ce4c1d8c-a384-4da9-8bfb-784ba07c7ed6",
   "metadata": {},
   "outputs": [],
   "source": [
    "def plot_member(bok, save=None):\n",
    "    plt.figure(figsize=(6, 10))\n",
    "    plt.barh(list(bok.keys()), bok.values())\n",
    "    plt.title(\"Fjöldi fréttabirtinga alþingismanna\")\n",
    "    plt.xlabel(\"Fjöldi\")\n",
    "    plt.ylabel(\"Alþingismaður\")\n",
    "    if save:\n",
    "        plt.savefig(\"./pics/\" + save + \".jpeg\", bbox_inches=\"tight\")\n",
    "    plt.show()\n",
    "    \n",
    "    # plt.barh(list(range(len(bok.keys()))), bok.values())\n",
    "    # \n",
    "    # plt.ylabel(list(bok.keys()))\n",
    "    # plt.yticks(rotation=90)\n",
    "    # plt.show()"
   ]
  },
  {
   "cell_type": "code",
   "execution_count": null,
   "id": "bccb2af3-0c3f-4a3c-830f-44fae8793039",
   "metadata": {},
   "outputs": [],
   "source": [
    "plot_flokk(sort_dict(current_party_hits), \"flokkar\")"
   ]
  },
  {
   "cell_type": "code",
   "execution_count": null,
   "id": "843f6e54-bcef-4f0b-bb6e-926618b5826c",
   "metadata": {},
   "outputs": [],
   "source": [
    "plot_member(sort_dict(current_member_hits), \"alþingismenn\")"
   ]
  },
  {
   "cell_type": "markdown",
   "id": "c8b8a025-0be8-4049-919b-e91164774863",
   "metadata": {},
   "source": [
    "Flokka stóran flokk eins og playground\n",
    "Gera tölfræðina skiljanlega og fallega\n",
    "\n",
    "Halda utan um hvaða greinar innihalda alþingismenn\n",
    "Ath hvort við getum flokkað topic eitthvað í þeim greinum\n",
    "\n",
    "Gera glærur\n",
    "Æfa fyrirlestur\n",
    "\n"
   ]
  },
  {
   "cell_type": "markdown",
   "id": "3e78ee91-f094-4a09-9d2f-52dbdaed2add",
   "metadata": {
    "tags": []
   },
   "source": [
    "## Gamla tölfræðin"
   ]
  },
  {
   "cell_type": "code",
   "execution_count": null,
   "id": "4c0f608e-296e-49b6-b058-83122f86a5ba",
   "metadata": {},
   "outputs": [],
   "source": [
    "# Detect names/parties mentioned article, update count-dictionaries for each\n",
    "# Before: text = article text, \n",
    "#         member_party_dict = dictionary in the format member : party\n",
    "#         member_hits, party_hits: counter dictionaries in the format of\n",
    "#              member of alþingi : number of \"hits\" or articles mentioning member\n",
    "#              political party : num of articles mentioning party\n",
    "# After: Returns updated counters\n",
    "\n",
    "def count_hits(text, member_party_dict, member_hits, party_hits):\n",
    "    names = get_names(text)\n",
    "    for nafn in names:\n",
    "        nafn_nf = nefnifall_stk(nafn)\n",
    "#         print(nafn_nf)\n",
    "        if nafn_nf in member_party_dict:\n",
    "            flokkur = member_party_dict[nafn_nf] # this should already be declined in nf.\n",
    "            if nafn_nf in member_hits:\n",
    "                member_hits[nafn_nf] += 1\n",
    "            else: member_hits[nafn_nf] = 1\n",
    "            if flokkur in party_hits:\n",
    "                party_hits[flokkur] += 1\n",
    "            else: party_hits[flokkur] = 1    \n",
    "    return member_hits, party_hits\n",
    "\n",
    "\n",
    "# Initialize the hit counters\n",
    "member_hits = dict()\n",
    "party_hits = dict()\n",
    "\n",
    "# Test on a the \"Þórr\" article\n",
    "text_tmp = data_train.loc[543888][\"text\"]\n",
    "member_hits, party_hits = count_hits(text_tmp, current_member_party, member_hits, party_hits)\n",
    "\n",
    "print(member_hits)\n",
    "print(party_hits)"
   ]
  },
  {
   "cell_type": "code",
   "execution_count": null,
   "id": "58dc69f5-72a9-4c3b-84aa-b3beebd8a466",
   "metadata": {},
   "outputs": [],
   "source": [
    "def sort_dict(d):\n",
    "    # Sort dictionary by value\n",
    "    marklist=sorted((value, key) for (key,value) in d.items())\n",
    "    marklist.reverse()\n",
    "    sortdict=dict([(k,v) for v,k in marklist])\n",
    "    return sortdict"
   ]
  },
  {
   "cell_type": "code",
   "execution_count": null,
   "id": "14ab5b30",
   "metadata": {},
   "outputs": [],
   "source": [
    "# Start new counters for current alþingismenn/flokkar\n",
    "# current_member_hits = dict()\n",
    "# current_party_hits = dict()\n",
    "\n",
    "\n",
    "# Count current members and parties mentioned in a list environmentally-centered news (jálist)\n",
    "for i in tqdm.tqdm(jalist):\n",
    "    art_text = data_train.loc[i][\"text\"]\n",
    "    current_member_hits, current_party_hits = count_hits(art_text, current_member_party, current_member_hits, current_party_hits)\n",
    "    \n",
    "print(current_member_hits)\n",
    "print(current_party_hits)\n",
    "\n"
   ]
  },
  {
   "cell_type": "code",
   "execution_count": null,
   "id": "e6f426fd-5556-4dda-ac63-4a3ac3ff6be7",
   "metadata": {},
   "outputs": [],
   "source": [
    "print(sort_dict(current_member_hits))\n",
    "print(sort_dict(current_party_hits))"
   ]
  },
  {
   "cell_type": "code",
   "execution_count": null,
   "id": "b2226f7c-4f97-43b0-9761-b23ca751554f",
   "metadata": {},
   "outputs": [],
   "source": [
    "# Start new counters for current alþingismenn/flokkar\n",
    "current_member_hits = dict()\n",
    "current_party_hits = dict()\n",
    "for fl in current_flokkar:\n",
    "    current_party_hits[fl] = 0\n",
    "\n",
    "\n",
    "# Count current members and parties mentioned in a list environmentally-centered news (jálist)\n",
    "for i in tqdm.tqdm(list(ja)):\n",
    "    art_text = data_train.loc[i][\"text\"]\n",
    "    current_member_hits, current_party_hits = count_hits(art_text, current_member_party, current_member_hits, current_party_hits)\n",
    "    \n",
    "print(sort_dict(current_member_hits))\n",
    "print(sort_dict(current_party_hits))"
   ]
  },
  {
   "cell_type": "code",
   "execution_count": null,
   "id": "d73d936c-497b-4a2e-9320-82030ef5cb6b",
   "metadata": {},
   "outputs": [],
   "source": [
    "current_party_hits = dict()\n",
    "for fl in current_flokkar:\n",
    "    current_party_hits[fl] = 0"
   ]
  },
  {
   "cell_type": "code",
   "execution_count": null,
   "id": "78d5c693-b7d2-48cc-b3b8-09ce901b9d9f",
   "metadata": {},
   "outputs": [],
   "source": [
    "for i in tqdm.trange(2000,4000):\n",
    "    art_text = data_playground.iloc[i][\"text\"]\n",
    "    #print(data_playground.iloc[i][\"title\"])\n",
    "    current_member_hits, current_party_hits = count_hits(art_text, current_member_party, current_member_hits, current_party_hits)\n",
    "    \n",
    "print(sort_dict(current_member_hits))\n",
    "print(sort_dict(current_party_hits))"
   ]
  },
  {
   "cell_type": "code",
   "execution_count": null,
   "id": "e4c72e90-c859-4634-8f6b-7041977646b3",
   "metadata": {},
   "outputs": [],
   "source": [
    "\n",
    "import json\n",
    "with open(\"current_member_hits.json\", \"w\") as fh:\n",
    "    fh.write(json.dumps(current_member_hits))\n",
    "with open(\"current_party_hits.json\", \"w\") as fh:\n",
    "    fh.write(json.dumps(current_party_hits))\n"
   ]
  }
 ],
 "metadata": {
  "kernelspec": {
   "display_name": "Python 3.9.7 64-bit ('base': conda)",
   "language": "python",
   "name": "python397jvsc74a57bd095ec9ec1504d83f612128e0fb229072f90bbb4cb09d9d5d93b5dd26e0ca2cfd1"
  },
  "language_info": {
   "codemirror_mode": {
    "name": "ipython",
    "version": 3
   },
   "file_extension": ".py",
   "mimetype": "text/x-python",
   "name": "python",
   "nbconvert_exporter": "python",
   "pygments_lexer": "ipython3",
   "version": "3.9.7"
  }
 },
 "nbformat": 4,
 "nbformat_minor": 5
}
