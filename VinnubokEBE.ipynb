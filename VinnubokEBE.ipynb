{
 "cells": [
  {
   "cell_type": "markdown",
   "id": "2e8b67ee-e69a-4347-b08c-b72c820c507f",
   "metadata": {},
   "source": [
    "# Máltækni - Náttúruvernd"
   ]
  },
  {
   "cell_type": "markdown",
   "id": "8410f315-3281-4a3b-a419-2d40d48e532c",
   "metadata": {},
   "source": [
    "Skrifa lemmuð gögn á disk\n",
    "\n"
   ]
  },
  {
   "cell_type": "markdown",
   "id": "72f1ce20-80fd-4dc1-9611-6980034e24ad",
   "metadata": {
    "tags": []
   },
   "source": [
    "# Data import & manipulation"
   ]
  },
  {
   "cell_type": "code",
   "execution_count": 213,
   "id": "24429e8d-1d90-46e7-b215-3d0d18a93322",
   "metadata": {},
   "outputs": [],
   "source": [
    "from numpy.random import default_rng\n",
    "import re\n",
    "import tqdm\n",
    "import pandas as pd"
   ]
  },
  {
   "cell_type": "code",
   "execution_count": 41,
   "id": "a45351d5-dada-4107-bcbb-7d36b76e87f2",
   "metadata": {},
   "outputs": [],
   "source": [
    "#@Vésteinn\n",
    "def read_news_tsv(file_name):\n",
    "    data = []\n",
    "    with open(file_name, encoding=\"utf-8\") as fh:\n",
    "        for line in tqdm.tqdm(fh.readlines()):\n",
    "            title, author, url, timestamp, _, _, text, text_tokenized = line.split(\"\\t\")\n",
    "            article = {\n",
    "                \"title\": title,\n",
    "                \"author\": author,\n",
    "                \"timestamp\": timestamp,\n",
    "                \"text\": text,\n",
    "                \"text_tokenized\": text_tokenized\n",
    "            }\n",
    "            data.append(article)\n",
    "        return data"
   ]
  },
  {
   "cell_type": "code",
   "execution_count": 42,
   "id": "86bcd8f4-d708-4f5a-bcc8-6de1bd238144",
   "metadata": {},
   "outputs": [
    {
     "name": "stderr",
     "output_type": "stream",
     "text": [
      "\n",
      "  0%|                                                                                        | 0/22248 [00:00<?, ?it/s]\u001b[A\n",
      "100%|████████████████████████████████████████████████████████████████████████| 22248/22248 [00:00<00:00, 158513.83it/s]\u001b[A"
     ]
    },
    {
     "name": "stdout",
     "output_type": "stream",
     "text": [
      "Article count 22248\n"
     ]
    },
    {
     "name": "stderr",
     "output_type": "stream",
     "text": [
      "\n"
     ]
    }
   ],
   "source": [
    "articles = read_news_tsv(\"icelandic_news_sample_22480.tsv\")\n",
    "print(f\"Article count {len(articles)}\")"
   ]
  },
  {
   "cell_type": "code",
   "execution_count": 44,
   "id": "e8115558-606b-4139-ab63-de84844d8db3",
   "metadata": {},
   "outputs": [],
   "source": [
    "news_df = pd.read_csv(\"icelandic_news_sample_22480.tsv\", sep='\\t', names=[\"title\", \"author\", \"url\", \"timestamp\", \"t2\", \"t3\", \"text\", \"text_tokenized\"], on_bad_lines=\"warn\")\n",
    "print(len(news_df))"
   ]
  },
  {
   "cell_type": "code",
   "execution_count": 6,
   "id": "9ee62969-4404-4a6a-8b9e-46b4c670a496",
   "metadata": {},
   "outputs": [
    {
     "data": {
      "text/html": [
       "<div>\n",
       "<style scoped>\n",
       "    .dataframe tbody tr th:only-of-type {\n",
       "        vertical-align: middle;\n",
       "    }\n",
       "\n",
       "    .dataframe tbody tr th {\n",
       "        vertical-align: top;\n",
       "    }\n",
       "\n",
       "    .dataframe thead th {\n",
       "        text-align: right;\n",
       "    }\n",
       "</style>\n",
       "<table border=\"1\" class=\"dataframe\">\n",
       "  <thead>\n",
       "    <tr style=\"text-align: right;\">\n",
       "      <th></th>\n",
       "      <th>title</th>\n",
       "      <th>author</th>\n",
       "      <th>url</th>\n",
       "      <th>timestamp</th>\n",
       "      <th>t2</th>\n",
       "      <th>t3</th>\n",
       "      <th>text</th>\n",
       "      <th>text_tokenized</th>\n",
       "    </tr>\n",
       "  </thead>\n",
       "  <tbody>\n",
       "    <tr>\n",
       "      <th>21513</th>\n",
       "      <td>Samherjamálið er hrikalegt áfall fyrir allan s...</td>\n",
       "      <td>Ritstjórn Hringbrautar</td>\n",
       "      <td>http://www.hringbraut.is/frettir/samherjamalid...</td>\n",
       "      <td>2019-11-13 14:30:00</td>\n",
       "      <td>2019-11-13 15:00:17.237825</td>\n",
       "      <td>2020-10-20 05:34:40.142362</td>\n",
       "      <td>Ef marka má mikinn fréttaflutning og fram komi...</td>\n",
       "      <td>Ef marka má mikinn fréttaflutning og fram komi...</td>\n",
       "    </tr>\n",
       "    <tr>\n",
       "      <th>21514</th>\n",
       "      <td>HeForShe berst gegn netníði: Konur á aldrinum ...</td>\n",
       "      <td>Hulda Hólmkelsdóttir</td>\n",
       "      <td>http://www.visir.is/heforshe-berst-gegn-netnid...</td>\n",
       "      <td>2016-10-11 11:15:00</td>\n",
       "      <td>2016-10-11 12:00:12.706579</td>\n",
       "      <td>2020-10-14 06:23:56.773503</td>\n",
       "      <td>UN Women á Íslandi hleypir í dag af stokkunum ...</td>\n",
       "      <td>UN Women á Íslandi hleypir í dag af stokkunum ...</td>\n",
       "    </tr>\n",
       "    <tr>\n",
       "      <th>21515</th>\n",
       "      <td>Hönnuður New York-ástar­lógósins er látinn</td>\n",
       "      <td>Atli Ísleifsson</td>\n",
       "      <td>https://www.visir.is/g/20201985728d/honnudur-n...</td>\n",
       "      <td>2020-06-27 18:17:00</td>\n",
       "      <td>2020-06-27 18:30:13.330922</td>\n",
       "      <td>2020-06-27 18:30:26.505181</td>\n",
       "      <td>Grafíski hönnuðurinn Milton Glaser, sem hannað...</td>\n",
       "      <td>Grafíski hönnuðurinn Milton Glaser , sem hanna...</td>\n",
       "    </tr>\n",
       "    <tr>\n",
       "      <th>21516</th>\n",
       "      <td>Dagbjartur og Ragnhildur sigruðu Síma-mótið</td>\n",
       "      <td>Anton Ingi Leifsson</td>\n",
       "      <td>https://www.visir.is/g/2019190608898/dagbjartu...</td>\n",
       "      <td>2019-06-09 16:14:00</td>\n",
       "      <td>2019-06-09 16:30:12.727944</td>\n",
       "      <td>2020-08-30 05:21:12.769194</td>\n",
       "      <td>Dagbjartur Sigurbrandsson, úr GR, og Ragnhildu...</td>\n",
       "      <td>Dagbjartur Sigurbrandsson , úr GR , og Ragnhil...</td>\n",
       "    </tr>\n",
       "    <tr>\n",
       "      <th>21517</th>\n",
       "      <td>Elliði hafnar því að líkja Samfylkingunni við ...</td>\n",
       "      <td>Urður Örlygsdóttir</td>\n",
       "      <td>https://www.frettabladid.is/frettir/ellidi-haf...</td>\n",
       "      <td>2020-05-05 23:12:00</td>\n",
       "      <td>2020-05-05 23:30:12.774491</td>\n",
       "      <td>2020-05-31 01:58:02.246298</td>\n",
       "      <td>Í samtali við Fréttablaðið segir Elliði Vignis...</td>\n",
       "      <td>Í samtali við Fréttablaðið segir Elliði Vignis...</td>\n",
       "    </tr>\n",
       "  </tbody>\n",
       "</table>\n",
       "</div>"
      ],
      "text/plain": [
       "                                                   title  \\\n",
       "21513  Samherjamálið er hrikalegt áfall fyrir allan s...   \n",
       "21514  HeForShe berst gegn netníði: Konur á aldrinum ...   \n",
       "21515         Hönnuður New York-ástar­lógósins er látinn   \n",
       "21516        Dagbjartur og Ragnhildur sigruðu Síma-mótið   \n",
       "21517  Elliði hafnar því að líkja Samfylkingunni við ...   \n",
       "\n",
       "                       author  \\\n",
       "21513  Ritstjórn Hringbrautar   \n",
       "21514    Hulda Hólmkelsdóttir   \n",
       "21515         Atli Ísleifsson   \n",
       "21516     Anton Ingi Leifsson   \n",
       "21517      Urður Örlygsdóttir   \n",
       "\n",
       "                                                     url            timestamp  \\\n",
       "21513  http://www.hringbraut.is/frettir/samherjamalid...  2019-11-13 14:30:00   \n",
       "21514  http://www.visir.is/heforshe-berst-gegn-netnid...  2016-10-11 11:15:00   \n",
       "21515  https://www.visir.is/g/20201985728d/honnudur-n...  2020-06-27 18:17:00   \n",
       "21516  https://www.visir.is/g/2019190608898/dagbjartu...  2019-06-09 16:14:00   \n",
       "21517  https://www.frettabladid.is/frettir/ellidi-haf...  2020-05-05 23:12:00   \n",
       "\n",
       "                               t2                          t3  \\\n",
       "21513  2019-11-13 15:00:17.237825  2020-10-20 05:34:40.142362   \n",
       "21514  2016-10-11 12:00:12.706579  2020-10-14 06:23:56.773503   \n",
       "21515  2020-06-27 18:30:13.330922  2020-06-27 18:30:26.505181   \n",
       "21516  2019-06-09 16:30:12.727944  2020-08-30 05:21:12.769194   \n",
       "21517  2020-05-05 23:30:12.774491  2020-05-31 01:58:02.246298   \n",
       "\n",
       "                                                    text  \\\n",
       "21513  Ef marka má mikinn fréttaflutning og fram komi...   \n",
       "21514  UN Women á Íslandi hleypir í dag af stokkunum ...   \n",
       "21515  Grafíski hönnuðurinn Milton Glaser, sem hannað...   \n",
       "21516  Dagbjartur Sigurbrandsson, úr GR, og Ragnhildu...   \n",
       "21517  Í samtali við Fréttablaðið segir Elliði Vignis...   \n",
       "\n",
       "                                          text_tokenized  \n",
       "21513  Ef marka má mikinn fréttaflutning og fram komi...  \n",
       "21514  UN Women á Íslandi hleypir í dag af stokkunum ...  \n",
       "21515  Grafíski hönnuðurinn Milton Glaser , sem hanna...  \n",
       "21516  Dagbjartur Sigurbrandsson , úr GR , og Ragnhil...  \n",
       "21517  Í samtali við Fréttablaðið segir Elliði Vignis...  "
      ]
     },
     "execution_count": 6,
     "metadata": {},
     "output_type": "execute_result"
    }
   ],
   "source": [
    "news_df.tail()"
   ]
  },
  {
   "cell_type": "code",
   "execution_count": 7,
   "id": "71b0754d-7022-4b56-8fb0-efa36e5c3546",
   "metadata": {},
   "outputs": [
    {
     "name": "stdout",
     "output_type": "stream",
     "text": [
      "['Samherjamálið er hrikalegt áfall fyrir allan sjávarútveginn og Sjálfstæðisflokkinn', 'HeForShe berst gegn netníði: Konur á aldrinum 18-24 ára líklegastar til að verða fyrir netníð', 'Hönnuður New York-ástar\\xadlógósins er látinn', 'Dagbjartur og Ragnhildur sigruðu Síma-mótið', 'Elliði hafnar því að líkja Samfylkingunni við nasista']\n"
     ]
    }
   ],
   "source": [
    "print([a[\"title\"] for a in articles[-5:]])"
   ]
  },
  {
   "cell_type": "code",
   "execution_count": 8,
   "id": "d0a50f3e-c6e0-4fe4-b421-ae70ed5dac2d",
   "metadata": {},
   "outputs": [
    {
     "name": "stderr",
     "output_type": "stream",
     "text": [
      "100%|██████████████████████████████████████████████████████████████████████| 640136/640136 [00:05<00:00, 121680.28it/s]\n"
     ]
    },
    {
     "name": "stdout",
     "output_type": "stream",
     "text": [
      "Article count 640136\n"
     ]
    }
   ],
   "source": [
    "articles_Big = read_news_tsv(\"articles_until_01-11-2020_detok.tsv\")\n",
    "print(f\"Article count {len(articles_Big)}\")"
   ]
  },
  {
   "cell_type": "code",
   "execution_count": 9,
   "id": "61fb30c0-d3f2-45a5-b49c-7d7e8834ff86",
   "metadata": {},
   "outputs": [],
   "source": [
    "news_Big = pd.read_csv(\"articles_until_01-11-2020_detok.tsv\", sep='\\t', names=[\"title\", \"author\", \"url\", \"timestamp\", \"t2\", \"t3\", \"text\", \"text_tokenized\"])\n",
    "print(len(news_Big))"
   ]
  },
  {
   "cell_type": "code",
   "execution_count": 253,
   "id": "78049822-421f-47f0-8d82-776bb1650839",
   "metadata": {},
   "outputs": [
    {
     "data": {
      "text/plain": [
       "3"
      ]
     },
     "execution_count": 253,
     "metadata": {},
     "output_type": "execute_result"
    }
   ],
   "source": [
    "news_Big['text'].isnull().sum()"
   ]
  },
  {
   "cell_type": "code",
   "execution_count": 257,
   "id": "c36ce6cc-d00b-4f3f-8800-8a2fd2099e9c",
   "metadata": {},
   "outputs": [
    {
     "data": {
      "text/html": [
       "<div>\n",
       "<style scoped>\n",
       "    .dataframe tbody tr th:only-of-type {\n",
       "        vertical-align: middle;\n",
       "    }\n",
       "\n",
       "    .dataframe tbody tr th {\n",
       "        vertical-align: top;\n",
       "    }\n",
       "\n",
       "    .dataframe thead th {\n",
       "        text-align: right;\n",
       "    }\n",
       "</style>\n",
       "<table border=\"1\" class=\"dataframe\">\n",
       "  <thead>\n",
       "    <tr style=\"text-align: right;\">\n",
       "      <th></th>\n",
       "      <th>title</th>\n",
       "      <th>author</th>\n",
       "      <th>url</th>\n",
       "      <th>timestamp</th>\n",
       "      <th>t2</th>\n",
       "      <th>t3</th>\n",
       "      <th>text</th>\n",
       "      <th>text_tokenized</th>\n",
       "    </tr>\n",
       "  </thead>\n",
       "  <tbody>\n",
       "    <tr>\n",
       "      <th>33586</th>\n",
       "      <td>Enginn heimsendir ef Herrera og Mata fara“\\tIn...</td>\n",
       "      <td>Þetta er með rökréttari fréttum sem skrifaðar ...</td>\n",
       "      <td>NaN</td>\n",
       "      <td>NaN</td>\n",
       "      <td>NaN</td>\n",
       "      <td>NaN</td>\n",
       "      <td>NaN</td>\n",
       "      <td>NaN</td>\n",
       "    </tr>\n",
       "    <tr>\n",
       "      <th>214149</th>\n",
       "      <td>Ég er ekki óheiðarlegur leikmaður“\\tIngvi Þór ...</td>\n",
       "      <td>Sósíalistaflokkur Íslands mælist nú í fyrsta s...</td>\n",
       "      <td>NaN</td>\n",
       "      <td>NaN</td>\n",
       "      <td>NaN</td>\n",
       "      <td>NaN</td>\n",
       "      <td>NaN</td>\n",
       "      <td>NaN</td>\n",
       "    </tr>\n",
       "    <tr>\n",
       "      <th>360013</th>\n",
       "      <td>Það er aldrei pása fyrr en við erum komin í he...</td>\n",
       "      <td>Norska lögreglan stöðvaði hollenskan mann sem ...</td>\n",
       "      <td>NaN</td>\n",
       "      <td>NaN</td>\n",
       "      <td>NaN</td>\n",
       "      <td>NaN</td>\n",
       "      <td>NaN</td>\n",
       "      <td>NaN</td>\n",
       "    </tr>\n",
       "  </tbody>\n",
       "</table>\n",
       "</div>"
      ],
      "text/plain": [
       "                                                    title  \\\n",
       "33586   Enginn heimsendir ef Herrera og Mata fara“\\tIn...   \n",
       "214149  Ég er ekki óheiðarlegur leikmaður“\\tIngvi Þór ...   \n",
       "360013  Það er aldrei pása fyrr en við erum komin í he...   \n",
       "\n",
       "                                                   author  url timestamp   t2  \\\n",
       "33586   Þetta er með rökréttari fréttum sem skrifaðar ...  NaN       NaN  NaN   \n",
       "214149  Sósíalistaflokkur Íslands mælist nú í fyrsta s...  NaN       NaN  NaN   \n",
       "360013  Norska lögreglan stöðvaði hollenskan mann sem ...  NaN       NaN  NaN   \n",
       "\n",
       "         t3 text text_tokenized  \n",
       "33586   NaN  NaN            NaN  \n",
       "214149  NaN  NaN            NaN  \n",
       "360013  NaN  NaN            NaN  "
      ]
     },
     "execution_count": 257,
     "metadata": {},
     "output_type": "execute_result"
    }
   ],
   "source": [
    "news_Big.loc[news_Big['text'].isnull()]"
   ]
  },
  {
   "cell_type": "code",
   "execution_count": 280,
   "id": "8c774388-3b5e-4cea-aca1-4b536be0ece6",
   "metadata": {},
   "outputs": [
    {
     "name": "stderr",
     "output_type": "stream",
     "text": [
      "\n",
      "  0%|                                                                                       | 0/605505 [00:00<?, ?it/s]\u001b[A\n",
      "  2%|█▌                                                                     | 13779/605505 [00:00<00:04, 137781.59it/s]\u001b[A\n",
      "  5%|███▊                                                                   | 32334/605505 [00:00<00:03, 165874.23it/s]\u001b[A\n",
      "  8%|█████▊                                                                 | 49040/605505 [00:00<00:03, 166413.38it/s]\u001b[A\n",
      " 11%|███████▉                                                               | 67873/605505 [00:00<00:03, 175062.18it/s]\u001b[A"
     ]
    },
    {
     "name": "stdout",
     "output_type": "stream",
     "text": [
      "33586\n"
     ]
    },
    {
     "name": "stderr",
     "output_type": "stream",
     "text": [
      "\n",
      " 14%|██████████                                                             | 86182/605505 [00:00<00:02, 177951.23it/s]\u001b[A\n",
      " 17%|████████████                                                          | 103978/605505 [00:00<00:02, 168407.85it/s]\u001b[A\n",
      " 20%|█████████████▉                                                        | 120909/605505 [00:00<00:02, 165809.75it/s]\u001b[A\n",
      " 23%|███████████████▉                                                      | 137551/605505 [00:00<00:02, 162742.18it/s]\u001b[A\n",
      " 25%|█████████████████▊                                                    | 153880/605505 [00:00<00:02, 162903.65it/s]\u001b[A\n",
      " 28%|███████████████████▋                                                  | 170201/605505 [00:01<00:02, 162035.62it/s]\u001b[A\n",
      " 31%|█████████████████████▌                                                | 186425/605505 [00:01<00:02, 160748.30it/s]\u001b[A\n",
      " 33%|███████████████████████▍                                              | 202513/605505 [00:01<00:02, 160170.82it/s]\u001b[A\n",
      " 36%|█████████████████████████▎                                            | 218539/605505 [00:01<00:02, 157352.98it/s]\u001b[A\n",
      " 39%|███████████████████████████                                           | 234287/605505 [00:01<00:02, 155823.77it/s]\u001b[A"
     ]
    },
    {
     "name": "stdout",
     "output_type": "stream",
     "text": [
      "214149\n"
     ]
    },
    {
     "name": "stderr",
     "output_type": "stream",
     "text": [
      "\n",
      " 41%|████████████████████████████▉                                         | 249878/605505 [00:01<00:02, 154560.33it/s]\u001b[A\n",
      " 44%|██████████████████████████████▋                                       | 265340/605505 [00:01<00:02, 153704.05it/s]\u001b[A\n",
      " 46%|████████████████████████████████▍                                     | 280748/605505 [00:01<00:02, 153811.73it/s]\u001b[A\n",
      " 49%|██████████████████████████████████▏                                   | 296132/605505 [00:01<00:02, 150403.24it/s]\u001b[A\n",
      " 51%|███████████████████████████████████▉                                  | 311187/605505 [00:01<00:02, 141664.14it/s]\u001b[A\n",
      " 54%|█████████████████████████████████████▌                                | 325452/605505 [00:02<00:01, 140653.67it/s]\u001b[A\n",
      " 56%|███████████████████████████████████████▎                              | 339582/605505 [00:02<00:01, 140327.13it/s]\u001b[A\n",
      " 59%|████████████████████████████████████████▉                             | 354488/605505 [00:02<00:01, 142848.30it/s]\u001b[A\n",
      " 61%|██████████████████████████████████████████▋                           | 369114/605505 [00:02<00:01, 143842.43it/s]\u001b[A\n",
      " 63%|████████████████████████████████████████████▍                         | 384144/605505 [00:02<00:01, 145741.37it/s]\u001b[A"
     ]
    },
    {
     "name": "stdout",
     "output_type": "stream",
     "text": [
      "360013\n"
     ]
    },
    {
     "name": "stderr",
     "output_type": "stream",
     "text": [
      "\n",
      " 66%|██████████████████████████████████████████████▏                       | 399973/605505 [00:02<00:01, 149453.55it/s]\u001b[A\n",
      " 69%|███████████████████████████████████████████████▉                      | 414984/605505 [00:02<00:01, 149647.37it/s]\u001b[A\n",
      " 71%|█████████████████████████████████████████████████▊                    | 431044/605505 [00:02<00:01, 152909.50it/s]\u001b[A\n",
      " 74%|███████████████████████████████████████████████████▌                  | 446349/605505 [00:02<00:01, 151682.64it/s]\u001b[A\n",
      " 76%|█████████████████████████████████████████████████████▍                | 462163/605505 [00:02<00:00, 153601.59it/s]\u001b[A\n",
      " 79%|███████████████████████████████████████████████████████▏              | 477533/605505 [00:03<00:00, 153047.47it/s]\u001b[A\n",
      " 81%|████████████████████████████████████████████████████████▉             | 492845/605505 [00:03<00:00, 151516.02it/s]\u001b[A\n",
      " 84%|██████████████████████████████████████████████████████████▋           | 508167/605505 [00:03<00:00, 151980.07it/s]\u001b[A\n",
      " 86%|████████████████████████████████████████████████████████████▌         | 523371/605505 [00:03<00:00, 151083.39it/s]\u001b[A\n",
      " 89%|██████████████████████████████████████████████████████████████▎       | 538746/605505 [00:03<00:00, 151842.73it/s]\u001b[A\n",
      " 91%|████████████████████████████████████████████████████████████████      | 553935/605505 [00:03<00:00, 150848.82it/s]\u001b[A\n",
      " 94%|█████████████████████████████████████████████████████████████████▊    | 569024/605505 [00:03<00:00, 149843.46it/s]\u001b[A\n",
      " 96%|███████████████████████████████████████████████████████████████████▌  | 584012/605505 [00:03<00:00, 148201.14it/s]\u001b[A\n",
      "100%|██████████████████████████████████████████████████████████████████████| 605505/605505 [00:03<00:00, 153442.54it/s]\u001b[A\n"
     ]
    }
   ],
   "source": [
    "for i in tqdm.trange(news_Big.shape[0]):\n",
    "    if (type(news_Big['text_tokenized'].loc[i]) != str):\n",
    "        print(i)"
   ]
  },
  {
   "cell_type": "code",
   "execution_count": 279,
   "id": "3fe7b323-faf3-47c8-b85c-643f59930c42",
   "metadata": {},
   "outputs": [
    {
     "data": {
      "text/plain": [
       "True"
      ]
     },
     "execution_count": 279,
     "metadata": {},
     "output_type": "execute_result"
    }
   ],
   "source": [
    "type(news_Big['text_tokenized'].loc[0]) == str"
   ]
  },
  {
   "cell_type": "code",
   "execution_count": 256,
   "id": "55165f53-7ab3-4d1a-b2d9-ff330a1371be",
   "metadata": {},
   "outputs": [],
   "source": [
    "# Ath\n",
    "for i in range(news_Big['text'].isnull().sum()):\n",
    "    news_Big.loc[news_Big['text'].isnull()].iloc[i]['text'] = news_Big.loc[news_Big['text'].isnull()].iloc[i]['author']"
   ]
  },
  {
   "cell_type": "code",
   "execution_count": 241,
   "id": "b94670ea-96de-43b4-a904-fa5678b4ee4c",
   "metadata": {},
   "outputs": [
    {
     "data": {
      "text/plain": [
       "4023"
      ]
     },
     "execution_count": 241,
     "metadata": {},
     "output_type": "execute_result"
    }
   ],
   "source": [
    "news_Big.isnull().sum().sum()"
   ]
  },
  {
   "cell_type": "code",
   "execution_count": 12,
   "id": "323fcf1a-170f-4e22-95ba-ee7c821355d5",
   "metadata": {},
   "outputs": [
    {
     "data": {
      "text/html": [
       "<div>\n",
       "<style scoped>\n",
       "    .dataframe tbody tr th:only-of-type {\n",
       "        vertical-align: middle;\n",
       "    }\n",
       "\n",
       "    .dataframe tbody tr th {\n",
       "        vertical-align: top;\n",
       "    }\n",
       "\n",
       "    .dataframe thead th {\n",
       "        text-align: right;\n",
       "    }\n",
       "</style>\n",
       "<table border=\"1\" class=\"dataframe\">\n",
       "  <thead>\n",
       "    <tr style=\"text-align: right;\">\n",
       "      <th></th>\n",
       "      <th>title</th>\n",
       "      <th>author</th>\n",
       "      <th>url</th>\n",
       "      <th>timestamp</th>\n",
       "      <th>t2</th>\n",
       "      <th>t3</th>\n",
       "      <th>text</th>\n",
       "      <th>text_tokenized</th>\n",
       "    </tr>\n",
       "  </thead>\n",
       "  <tbody>\n",
       "    <tr>\n",
       "      <th>605500</th>\n",
       "      <td>Rússar hrifsa Járnkrúnuna</td>\n",
       "      <td>Ritstjórn mbl.is</td>\n",
       "      <td>https://mbl.is/frettir/erlent/2019/05/14/russa...</td>\n",
       "      <td>2019-05-14 22:24:00</td>\n",
       "      <td>2019-05-14 23:00:14.078748</td>\n",
       "      <td>2020-07-15 05:17:51.223159</td>\n",
       "      <td>Rússnesk yfirvöld hafa gert eftirlíkingu af Já...</td>\n",
       "      <td>Rússnesk yfirvöld hafa gert eftirlíkingu af Já...</td>\n",
       "    </tr>\n",
       "    <tr>\n",
       "      <th>605501</th>\n",
       "      <td>Bentu á annmarkann án árangurs</td>\n",
       "      <td>Þórdís Arnljótsdóttir</td>\n",
       "      <td>http://www.ruv.is/frett/bentu-a-annmarkann-an-...</td>\n",
       "      <td>2019-05-14 22:12:45</td>\n",
       "      <td>2019-05-14 23:00:13.639359</td>\n",
       "      <td>2020-07-15 05:18:05.040948</td>\n",
       "      <td>Áður en Alþingi breytti lögum um tekjustofna s...</td>\n",
       "      <td>Áður en Alþingi breytti lögum um tekjustofna s...</td>\n",
       "    </tr>\n",
       "    <tr>\n",
       "      <th>605502</th>\n",
       "      <td>Engin merki um bólu á íbúðamarkaði</td>\n",
       "      <td>Kristinn Ingi Jónsson</td>\n",
       "      <td>http://www.visir.is/g/2017171108994/engin-merk...</td>\n",
       "      <td>2017-11-08 08:30:13.347647</td>\n",
       "      <td>2017-11-08 08:30:13.421567</td>\n",
       "      <td>2020-07-15 05:21:58.47302</td>\n",
       "      <td>Það er full ástæða til þess að vera á varðberg...</td>\n",
       "      <td>Það er full ástæða til þess að vera á varðberg...</td>\n",
       "    </tr>\n",
       "    <tr>\n",
       "      <th>605503</th>\n",
       "      <td>Seldu marijúana í bílalúgunni</td>\n",
       "      <td>Ritstjórn mbl.is</td>\n",
       "      <td>http://www.mbl.is/frettir/erlent/2017/01/30/se...</td>\n",
       "      <td>2017-01-30 12:54:00</td>\n",
       "      <td>2017-01-30 13:00:11.032716</td>\n",
       "      <td>2020-07-15 05:18:35.836878</td>\n",
       "      <td>Tveir starfsmenn skyndibitakeðjunnar Burger Ki...</td>\n",
       "      <td>Tveir starfsmenn skyndibitakeðjunnar Burger Ki...</td>\n",
       "    </tr>\n",
       "    <tr>\n",
       "      <th>605504</th>\n",
       "      <td>Björn gæti farið í næstefstu deild Noregs</td>\n",
       "      <td>Sindri Sverrisson</td>\n",
       "      <td>https://www.visir.is/g/20202000418d/bjorn-gaet...</td>\n",
       "      <td>2020-08-12 14:30:00</td>\n",
       "      <td>2020-08-12 15:00:13.660964</td>\n",
       "      <td>2020-08-12 15:00:25.989147</td>\n",
       "      <td>Björn Bergmann Sigurðarson, landsliðsmaður í f...</td>\n",
       "      <td>Björn Bergmann Sigurðarson , landsliðsmaður í ...</td>\n",
       "    </tr>\n",
       "  </tbody>\n",
       "</table>\n",
       "</div>"
      ],
      "text/plain": [
       "                                            title                 author  \\\n",
       "605500                  Rússar hrifsa Járnkrúnuna       Ritstjórn mbl.is   \n",
       "605501             Bentu á annmarkann án árangurs  Þórdís Arnljótsdóttir   \n",
       "605502         Engin merki um bólu á íbúðamarkaði  Kristinn Ingi Jónsson   \n",
       "605503              Seldu marijúana í bílalúgunni       Ritstjórn mbl.is   \n",
       "605504  Björn gæti farið í næstefstu deild Noregs      Sindri Sverrisson   \n",
       "\n",
       "                                                      url  \\\n",
       "605500  https://mbl.is/frettir/erlent/2019/05/14/russa...   \n",
       "605501  http://www.ruv.is/frett/bentu-a-annmarkann-an-...   \n",
       "605502  http://www.visir.is/g/2017171108994/engin-merk...   \n",
       "605503  http://www.mbl.is/frettir/erlent/2017/01/30/se...   \n",
       "605504  https://www.visir.is/g/20202000418d/bjorn-gaet...   \n",
       "\n",
       "                         timestamp                          t2  \\\n",
       "605500         2019-05-14 22:24:00  2019-05-14 23:00:14.078748   \n",
       "605501         2019-05-14 22:12:45  2019-05-14 23:00:13.639359   \n",
       "605502  2017-11-08 08:30:13.347647  2017-11-08 08:30:13.421567   \n",
       "605503         2017-01-30 12:54:00  2017-01-30 13:00:11.032716   \n",
       "605504         2020-08-12 14:30:00  2020-08-12 15:00:13.660964   \n",
       "\n",
       "                                t3  \\\n",
       "605500  2020-07-15 05:17:51.223159   \n",
       "605501  2020-07-15 05:18:05.040948   \n",
       "605502   2020-07-15 05:21:58.47302   \n",
       "605503  2020-07-15 05:18:35.836878   \n",
       "605504  2020-08-12 15:00:25.989147   \n",
       "\n",
       "                                                     text  \\\n",
       "605500  Rússnesk yfirvöld hafa gert eftirlíkingu af Já...   \n",
       "605501  Áður en Alþingi breytti lögum um tekjustofna s...   \n",
       "605502  Það er full ástæða til þess að vera á varðberg...   \n",
       "605503  Tveir starfsmenn skyndibitakeðjunnar Burger Ki...   \n",
       "605504  Björn Bergmann Sigurðarson, landsliðsmaður í f...   \n",
       "\n",
       "                                           text_tokenized  \n",
       "605500  Rússnesk yfirvöld hafa gert eftirlíkingu af Já...  \n",
       "605501  Áður en Alþingi breytti lögum um tekjustofna s...  \n",
       "605502  Það er full ástæða til þess að vera á varðberg...  \n",
       "605503  Tveir starfsmenn skyndibitakeðjunnar Burger Ki...  \n",
       "605504  Björn Bergmann Sigurðarson , landsliðsmaður í ...  "
      ]
     },
     "execution_count": 12,
     "metadata": {},
     "output_type": "execute_result"
    }
   ],
   "source": [
    "news_Big.tail()"
   ]
  },
  {
   "cell_type": "code",
   "execution_count": 13,
   "id": "39c29a39-3d6d-4e95-a411-593c8b088979",
   "metadata": {},
   "outputs": [
    {
     "name": "stdout",
     "output_type": "stream",
     "text": [
      "['Rússar hrifsa Járnkrúnuna', 'Bentu á annmarkann án árangurs', 'Engin merki um bólu á íbúðamarkaði', 'Seldu marijúana í bílalúgunni', 'Björn gæti farið í næstefstu deild Noregs']\n"
     ]
    }
   ],
   "source": [
    "print([a[\"title\"] for a in articles_Big[-5:]])"
   ]
  },
  {
   "cell_type": "markdown",
   "id": "2ee3f8fe-a16d-4bf3-9fbf-40c8ecf94a8d",
   "metadata": {},
   "source": [
    "**Sé ekki ástæðuna fyrir því að pandas telji færri fréttir, endarnir eru í góðu lagi og enginn default stilling í read_csv sem virðist vera að henda út röðum**"
   ]
  },
  {
   "cell_type": "code",
   "execution_count": 15,
   "id": "bbe9fc81-0373-4ef8-9206-a6e630097f54",
   "metadata": {},
   "outputs": [],
   "source": [
    "from sklearn.model_selection import train_test_split\n",
    "data_train, data_test = train_test_split(news_Big, test_size = 0.15, random_state=11)"
   ]
  },
  {
   "cell_type": "code",
   "execution_count": 93,
   "id": "edc94703-8a96-4c19-b257-69e5d177046f",
   "metadata": {},
   "outputs": [
    {
     "name": "stdout",
     "output_type": "stream",
     "text": [
      "Training data examles: 514679\n",
      "Test data examles: 90826\n"
     ]
    }
   ],
   "source": [
    "print(f'Training data examles: {data_train.shape[0]}')\n",
    "print(f'Test data examles: {data_test.shape[0]}')"
   ]
  },
  {
   "cell_type": "code",
   "execution_count": 198,
   "id": "ce203c6d-52ed-42fa-9d81-285f6c000725",
   "metadata": {},
   "outputs": [],
   "source": [
    "data_test, data_test_labeled = train_test_split(data_test, test_size = 0.005, random_state=11)"
   ]
  },
  {
   "cell_type": "code",
   "execution_count": 199,
   "id": "41347be2-e314-4a6f-b68c-d0f88797dd3d",
   "metadata": {},
   "outputs": [
    {
     "name": "stdout",
     "output_type": "stream",
     "text": [
      "Test data examles: 90371\n",
      "Labeled test data examles: 455\n"
     ]
    }
   ],
   "source": [
    "print(f'Test data examles: {data_test.shape[0]}')\n",
    "print(f'Labeled test data examles: {data_test_labeled.shape[0]}')"
   ]
  },
  {
   "cell_type": "code",
   "execution_count": 96,
   "id": "def37b69-0ac7-45db-9d13-a7ce8c2547a0",
   "metadata": {},
   "outputs": [
    {
     "name": "stdout",
     "output_type": "stream",
     "text": [
      "Playground data examles: 51468\n"
     ]
    }
   ],
   "source": [
    "# Subset af training til að koma virkni í gang án þjálfunartíma\n",
    "_, data_playground = train_test_split(data_train, test_size = 0.10, random_state=11)\n",
    "print(f'Playground data examles: {data_playground.shape[0]}')"
   ]
  },
  {
   "cell_type": "markdown",
   "id": "3618ea63-df25-495b-baa3-b6180e40c368",
   "metadata": {
    "tags": []
   },
   "source": [
    "# Skriftupælingar"
   ]
  },
  {
   "cell_type": "code",
   "execution_count": 260,
   "id": "5cdb5e24-d7d8-4bde-b6b8-336c089416e4",
   "metadata": {},
   "outputs": [],
   "source": [
    "def rand_frett(safn, count):\n",
    "    listi = []\n",
    "    from numpy.random import default_rng\n",
    "    import re\n",
    "    rng = default_rng()\n",
    "    n = safn.shape[0]\n",
    "    for i in tqdm.trange(count):\n",
    "        x = rng.integers(n)\n",
    "        if pd.isnull(safn.iloc[x][\"text\"]):\n",
    "            continue\n",
    "        frett = safn.iloc[x][\"text\"] # ath iloc\n",
    "        frettnr = safn.iloc[x].name\n",
    "        lykilord = [\"náttúruvernd\", \"loftslag\", \"umhverfi\"]\n",
    "        fjoldi = 0\n",
    "        for wrd in lykilord:\n",
    "            fjoldi += len(re.findall(wrd, frett))\n",
    "        if fjoldi > 0:\n",
    "            listi.append(frettnr) # Ath. algildur index\n",
    "            #print(frett)\n",
    "    return listi\n",
    "\n",
    "    "
   ]
  },
  {
   "cell_type": "code",
   "execution_count": 261,
   "id": "294cc60d-bd48-48c2-90b7-885b99c0a38f",
   "metadata": {},
   "outputs": [],
   "source": [
    "def allar_frettir(safn):\n",
    "    listi = []\n",
    "\n",
    "    n = safn.shape[0]\n",
    "    for i in tqdm.trange(n):\n",
    "        frett = safn.iloc[i][\"text\"]\n",
    "        lykilord = [\"náttúruvernd\", \"loftslag\", \"umhverfi\"]\n",
    "        fjoldi = 0\n",
    "        for wrd in lykilord:\n",
    "            fjoldi += len(re.findall(wrd, frett))\n",
    "        if fjoldi > 0:\n",
    "            listi.append(i) # ath. afstæð númer m.v. safn\n",
    "            #print(frett)\n",
    "    return listi\n",
    "\n",
    "    "
   ]
  },
  {
   "cell_type": "code",
   "execution_count": 262,
   "id": "6effcfd1-3d21-4128-aa32-d07c45f7a7f0",
   "metadata": {},
   "outputs": [
    {
     "name": "stderr",
     "output_type": "stream",
     "text": [
      "100%|███████████████████████████████████████████████████████████████████████| 100000/100000 [00:06<00:00, 15800.94it/s]"
     ]
    },
    {
     "name": "stdout",
     "output_type": "stream",
     "text": [
      "0.06847\n"
     ]
    },
    {
     "name": "stderr",
     "output_type": "stream",
     "text": [
      "\n"
     ]
    }
   ],
   "source": [
    "sample_count = 100000\n",
    "big_list = rand_frett(news_Big, sample_count)\n",
    "print(len(big_list)/sample_count)"
   ]
  },
  {
   "cell_type": "code",
   "execution_count": 214,
   "id": "2b42c953-4523-4f0f-abc5-f8143af14de2",
   "metadata": {},
   "outputs": [
    {
     "name": "stderr",
     "output_type": "stream",
     "text": [
      "100%|█████████████████████████████████████████████████████████████████████████████| 455/455 [00:00<00:00, 10101.94it/s]\n"
     ]
    }
   ],
   "source": [
    "ath = allar_frettir(data_test_labeled)"
   ]
  },
  {
   "cell_type": "code",
   "execution_count": 264,
   "id": "040a7c2b-4e72-486c-9327-539c69c82a80",
   "metadata": {},
   "outputs": [
    {
     "name": "stdout",
     "output_type": "stream",
     "text": [
      "title                       Hefðu getað dregið úr tapi frá útlöndum\n",
      "author                                           Jóhann Óli Eiðsson\n",
      "url               http://www.visir.is/g/2019190209656/hefdu-geta...\n",
      "timestamp                                       2019-02-04 06:00:00\n",
      "t2                                       2019-02-04 06:30:14.997607\n",
      "t3                                       2020-06-01 06:23:14.568248\n",
      "text              Íslandspóstur telur að óheimilt hefði verið að...\n",
      "text_tokenized    Íslandspóstur telur að óheimilt hefði verið að...\n",
      "Name: 578227, dtype: object\n",
      "title                          Óttast að eiturefni komi undan jökli\n",
      "author                                             Ritstjórn mbl.is\n",
      "url               http://www.mbl.is/frettir/erlent/2016/08/11/ot...\n",
      "timestamp                                       2016-08-11 21:13:00\n",
      "t2                                       2016-08-11 22:00:12.114477\n",
      "t3                                       2020-10-20 05:46:08.263568\n",
      "text              Þegar Bandaríkjaher yfirgaf herstöðina Camp Ce...\n",
      "text_tokenized    Þegar Bandaríkjaher yfirgaf herstöðina Camp Ce...\n",
      "Name: 453663, dtype: object\n",
      "title               Guðrún Sóley tilnefnd til alþjóðlegra verðlauna\n",
      "author                                             Ritstjórn mbl.is\n",
      "url               https://mbl.is/matur/frettir/2020/01/22/gudrun...\n",
      "timestamp                                       2020-01-22 19:08:00\n",
      "t2                                       2020-01-22 19:30:15.937642\n",
      "t3                                       2020-05-29 14:24:32.295233\n",
      "text              Matreiðslubók fjölmiðlakonunnar Guðrúnar Sóley...\n",
      "text_tokenized    Matreiðslubók fjölmiðlakonunnar Guðrúnar Sóley...\n",
      "Name: 356765, dtype: object\n",
      "title                                    Leyfið ekki fellt úr gildi\n",
      "author                                         Garðar Örn Úlfarsson\n",
      "url               http://www.visir.is/leyfid-ekki-fellt-ur-gildi...\n",
      "timestamp                                       2016-12-28 07:00:00\n",
      "t2                                       2016-12-28 07:30:12.340475\n",
      "t3                                       2020-10-04 05:57:46.215595\n",
      "text              Leyfi byggingarfulltrúa vegna veitingastaðar á...\n",
      "text_tokenized    Leyfi byggingarfulltrúa vegna veitingastaðar á...\n",
      "Name: 89649, dtype: object\n",
      "title                Hótelgisting í Reykjavík dýrust á Norðurlöndum\n",
      "author                                    Dagný Hulda Erlendsdóttir\n",
      "url               http://www.ruv.is/frett/hotelgisting-i-reykjav...\n",
      "timestamp                                       2018-04-11 09:01:00\n",
      "t2                                       2018-04-11 09:30:15.172892\n",
      "t3                                        2020-05-29 04:49:00.59548\n",
      "text              Ísland er einn dýrasti áfangastaður í heimi fy...\n",
      "text_tokenized    Ísland er einn dýrasti áfangastaður í heimi fy...\n",
      "Name: 272159, dtype: object\n",
      "title              Það þarf dáldið mikið til þess að stíflan bresti\n",
      "author                                           Magnús Guðmundsson\n",
      "url               http://www.visir.is/thad-tharf-daldid-mikid-ti...\n",
      "timestamp                                       2016-09-09 11:30:00\n",
      "t2                                       2016-09-09 12:00:11.284109\n",
      "t3                                       2020-10-27 05:56:15.071986\n",
      "text              Sending eftir Bjarna Jónsson er nýtt íslenskt ...\n",
      "text_tokenized    Sending eftir Bjarna Jónsson er nýtt íslenskt ...\n",
      "Name: 237844, dtype: object\n",
      "title             Efast um að hægt sé að kortleggja endurraðanir...\n",
      "author                                            Birgir Olgeirsson\n",
      "url               http://www.visir.is/g/2019190129271/efast-um-a...\n",
      "timestamp                                2019-01-25 08:30:12.711139\n",
      "t2                                       2019-01-25 08:30:12.814859\n",
      "t3                                       2020-05-31 08:42:22.287345\n",
      "text              Ný rannsókn á vegum Íslenskrar erfðagreiningar...\n",
      "text_tokenized    Ný rannsókn á vegum Íslenskrar erfðagreiningar...\n",
      "Name: 487353, dtype: object\n",
      "title                                                Syndir sonanna\n",
      "author                                   \\r\\nFriðrika Benónýsdóttir\n",
      "url               http://www.visir.is/syndir-sonanna-/article/20...\n",
      "timestamp                                       2016-10-28 12:30:00\n",
      "t2                                       2016-10-28 13:00:12.973704\n",
      "t3                                       2020-05-31 00:47:34.702642\n",
      "text              Bækur Villisumar Guðmundur Óskarsson JPV útgáf...\n",
      "text_tokenized    Bækur Villisumar Guðmundur Óskarsson JPV útgáf...\n",
      "Name: 420150, dtype: object\n",
      "title                                 Útimarkaður að frumkvæði íbúa\n",
      "author                                             Ritstjórn mbl.is\n",
      "url               http://www.mbl.is/frettir/innlent/2016/08/27/u...\n",
      "timestamp                                       2016-08-27 17:26:00\n",
      "t2                                       2016-08-27 18:30:09.721039\n",
      "t3                                       2020-07-17 05:17:02.403469\n",
      "text              Árlegur útimarkaður Íbúasamtaka Laugardals (ÍL...\n",
      "text_tokenized    Árlegur útimarkaður Íbúasamtaka Laugardals ( Í...\n",
      "Name: 237722, dtype: object\n",
      "title                    Kynningarferli í skipulagi – Elliðaárdalur\n",
      "author                                         Hilmar Þór Björnsson\n",
      "url               https://kjarninn.is/skodun/2020-02-14-kynninga...\n",
      "timestamp                                       2020-02-16 14:48:24\n",
      "t2                                       2020-02-16 15:00:14.369034\n",
      "t3                                       2020-05-30 00:17:39.312286\n",
      "text              Hinn heimsfrægi borgarskipulagsfrömuður og ark...\n",
      "text_tokenized    Hinn heimsfrægi borgarskipulagsfrömuður og ark...\n",
      "Name: 406346, dtype: object\n"
     ]
    }
   ],
   "source": [
    "for fr in ath[:10]:\n",
    "    print(data_test_labeled.iloc[fr])"
   ]
  },
  {
   "cell_type": "code",
   "execution_count": null,
   "id": "d34fbc72-348f-47dc-ab52-213470ff73d6",
   "metadata": {},
   "outputs": [],
   "source": [
    "len(ath)"
   ]
  },
  {
   "cell_type": "code",
   "execution_count": 263,
   "id": "1f5e19cd-cac7-4067-a047-58d088ccd68f",
   "metadata": {},
   "outputs": [
    {
     "name": "stdout",
     "output_type": "stream",
     "text": [
      "title                         Vinnuskólakrakkar  mótmæla í hádeginu\n",
      "author                                             Ari Brynjólfsson\n",
      "url               https://www.visir.is/g/2019190628880/vinnuskol...\n",
      "timestamp                                       2019-06-28 07:30:00\n",
      "t2                                       2019-06-28 08:00:13.191002\n",
      "t3                                       2020-09-20 06:19:44.665017\n",
      "text              Hópur nemenda í Vinnuskóla Reykjavíkur tekur f...\n",
      "text_tokenized    Hópur nemenda í Vinnuskóla Reykjavíkur tekur f...\n",
      "Name: 79834, dtype: object\n",
      "title                                       Aumt er þeirra yfirklór\n",
      "author                                           Ritstjórn visir.is\n",
      "url               http://www.visir.is/g/2017170919236/aumt-er-th...\n",
      "timestamp                                2017-09-15 15:00:16.188314\n",
      "t2                                       2017-09-15 15:00:16.213013\n",
      "t3                                       2020-05-30 00:00:24.659629\n",
      "text              Þeir ritfélagar Tómas Guðbjartsson og Ólafur M...\n",
      "text_tokenized    Þeir ritfélagar Tómas Guðbjartsson og Ólafur M...\n",
      "Name: 304061, dtype: object\n",
      "title             Mega urða á Bakkafirði þrátt fyrir nálæga fisk...\n",
      "author                                                 Jón Þórisson\n",
      "url               https://www.visir.is/g/2019191129135/mega-urda...\n",
      "timestamp                                       2019-11-26 06:15:00\n",
      "t2                                        2019-11-26 06:30:16.70232\n",
      "t3                                       2020-10-23 05:10:32.775103\n",
      "text              Úrskurðarnefnd umhverfis-og auðlindamála hefur...\n",
      "text_tokenized    Úrskurðarnefnd umhverfis- og auðlindamála hefu...\n",
      "Name: 180464, dtype: object\n",
      "title             „Lé­leg af­sökun að það sé ekki nóg af konum í...\n",
      "author                                 Kristlín Dís Ingilínardóttir\n",
      "url               https://www.frettabladid.is/frettir/leleg-afso...\n",
      "timestamp                                       2019-07-30 16:31:00\n",
      "t2                                        2019-07-30 16:30:13.71427\n",
      "t3                                       2020-09-27 05:56:50.856453\n",
      "text              Dagskrá Útipúkans hefur vakið töluverða athygl...\n",
      "text_tokenized    Dagskrá Útipúkans hefur vakið töluverða athygl...\n",
      "Name: 392338, dtype: object\n",
      "title                                 Hagnaður Arion 4,9 milljarðar\n",
      "author                                             Ritstjórn mbl.is\n",
      "url               https://mbl.is/vidskipti/frettir/2020/07/29/ha...\n",
      "timestamp                                       2020-07-29 17:02:00\n",
      "t2                                       2020-07-29 17:30:22.898645\n",
      "t3                                       2020-07-29 17:30:34.659044\n",
      "text              Hagnaður Arion banka á öðrum ársfjórðungi er u...\n",
      "text_tokenized    Hagnaður Arion banka á öðrum ársfjórðungi er u...\n",
      "Name: 261977, dtype: object\n",
      "title             Skiltin í bænum sögð ógna öryggi vegfarenda – ...\n",
      "author                                           Ritstjórn Eyjunnar\n",
      "url               https://www.dv.is/eyjan/2019/11/08/skiltin-bae...\n",
      "timestamp                                       2019-11-08 14:18:44\n",
      "t2                                       2019-11-08 14:30:16.547302\n",
      "t3                                       2020-10-19 05:27:42.656336\n",
      "text              Íbúar í Grafarvogi eru ósáttir við auglýsingas...\n",
      "text_tokenized    Íbúar í Grafarvogi eru ósáttir við auglýsingas...\n",
      "Name: 424255, dtype: object\n",
      "title                        Hvernig verður stjórnarskránni breytt?\n",
      "author                                       Hjörtur J. Guðmundsson\n",
      "url               http://www.mbl.is/frettir/innlent/2016/02/18/h...\n",
      "timestamp                                       2016-02-18 19:45:00\n",
      "t2                                       2016-02-19 04:00:29.244274\n",
      "t3                                       2020-05-28 22:17:48.264842\n",
      "text              Tillögur stjórnarskrárnefndar að þremur nýjum ...\n",
      "text_tokenized    Tillögur stjórnarskrárnefndar að þremur nýjum ...\n",
      "Name: 127956, dtype: object\n",
      "title                                 Óska eftir skýrslu um loðnuna\n",
      "author                                             Ritstjórn mbl.is\n",
      "url               https://mbl.is/200milur/frettir/2019/03/18/osk...\n",
      "timestamp                                       2019-03-18 16:38:00\n",
      "t2                                        2019-03-18 17:00:13.75432\n",
      "t3                                        2020-06-01 18:30:32.80243\n",
      "text              Allir þingmenn Samfylkingar, Pírata og Viðreis...\n",
      "text_tokenized    Allir þingmenn Samfylkingar , Pírata og Viðrei...\n",
      "Name: 171354, dtype: object\n",
      "title              Aldrei fleiri Íslendingar til útlanda en í fyrra\n",
      "author                                          Birna Stefánsdóttir\n",
      "url               https://kjarninn.is/frettir/2019-04-23-aldrei-...\n",
      "timestamp                                       2019-04-23 13:23:38\n",
      "t2                                       2019-04-23 13:30:14.364259\n",
      "t3                                        2020-06-16 05:41:27.79186\n",
      "text              Í fyrra ferðuðust 83 prósent landsmanna utan l...\n",
      "text_tokenized    Í fyrra ferðuðust 83 prósent landsmanna utan l...\n",
      "Name: 160755, dtype: object\n",
      "title                         Vilja fá að veiða í fleiri veiðarfæri\n",
      "author                                             Ritstjórn mbl.is\n",
      "url               http://www.mbl.is/frettir/innlent/2017/09/21/v...\n",
      "timestamp                                       2017-09-21 05:30:00\n",
      "t2                                       2017-09-21 06:00:18.304193\n",
      "t3                                       2020-06-01 16:03:58.291247\n",
      "text              Minni afli línubáta frá Snæfellsnesi hefur ska...\n",
      "text_tokenized    Minni afli línubáta frá Snæfellsnesi hefur ska...\n",
      "Name: 80832, dtype: object\n"
     ]
    }
   ],
   "source": [
    "for fr in big_list[:10]:\n",
    "    print(news_Big.loc[fr])"
   ]
  },
  {
   "cell_type": "markdown",
   "id": "48ec2f46-2d14-4737-b083-9f7ea172f32b",
   "metadata": {},
   "source": [
    "# GENSIM LDA pælingar"
   ]
  },
  {
   "cell_type": "code",
   "execution_count": 265,
   "id": "f4bf08ee-0d13-43d0-8a5f-1f1ddf1f5c6b",
   "metadata": {},
   "outputs": [],
   "source": [
    "import gensim"
   ]
  },
  {
   "cell_type": "code",
   "execution_count": 266,
   "id": "9787f3b7-9f6b-41d3-be74-a6f0056cc434",
   "metadata": {},
   "outputs": [],
   "source": [
    "import string\n",
    "stop_words = set()\n",
    "extra_stop_words = [\"var\", \"ver\", \"ekki\", \"sé\"]\n",
    "with open(\"is_stop_words.txt\") as stop_word_file:\n",
    "    for line in stop_word_file.readlines():\n",
    "        stop_words.add(line.strip())\n",
    "stop_words.update(set(string.punctuation))\n",
    "stop_words.update(set(extra_stop_words))"
   ]
  },
  {
   "cell_type": "code",
   "execution_count": 282,
   "id": "60e53388-a3b9-48f8-82d1-dd634f82ba71",
   "metadata": {},
   "outputs": [],
   "source": [
    "import tokenizer\n",
    "from islenska import Bin\n",
    "\n",
    "b = Bin()\n",
    "\n",
    "def naive_bin_lemma(token):\n",
    "    candidates = b.lookup_lemmas_and_cats(token)\n",
    "    if not candidates:\n",
    "        return None\n",
    "    if len(candidates) > 1:\n",
    "        return None\n",
    "    cand = candidates.pop()\n",
    "    if cand[1] not in [\"kk\", \"kvk\", \"hk\"]:\n",
    "        return None\n",
    "    return cand[0]\n",
    "\n",
    "\n",
    "def tokenize_and_lemmatize(sentence):\n",
    "    if pd.isnull(sentence):\n",
    "            return []\n",
    "    tokenized_text = list(tokenizer.split_into_sentences(sentence))\n",
    "    #tokenized_text = list(sentence.split_into_sentences(sentence))\n",
    "    lemmas = []\n",
    "    for sent in tokenized_text:\n",
    "        for token in sent.split():\n",
    "            if token in stop_words:\n",
    "                continue\n",
    "            lemma = naive_bin_lemma(token.lower())\n",
    "            if lemma is not None:\n",
    "                lemmas.append(lemma)\n",
    "    return lemmas"
   ]
  },
  {
   "cell_type": "code",
   "execution_count": 268,
   "id": "7c638469-2f08-4921-aeff-4d9fb4a4eac8",
   "metadata": {},
   "outputs": [],
   "source": [
    "import gensim.corpora as corpora\n",
    "from gensim.utils import simple_preprocess\n",
    "from gensim.models import CoherenceModel"
   ]
  },
  {
   "cell_type": "code",
   "execution_count": 285,
   "id": "be9683ff-58dc-4a2c-9658-16f6fa01c199",
   "metadata": {},
   "outputs": [
    {
     "data": {
      "application/vnd.jupyter.widget-view+json": {
       "model_id": "ff291df941904a5fa840e308bc8cf72d",
       "version_major": 2,
       "version_minor": 0
      },
      "text/plain": [
       "  0%|          | 0/21518 [00:00<?, ?it/s]"
      ]
     },
     "metadata": {},
     "output_type": "display_data"
    },
    {
     "ename": "KeyboardInterrupt",
     "evalue": "",
     "output_type": "error",
     "traceback": [
      "\u001b[0;31m---------------------------------------------------------------------------\u001b[0m",
      "\u001b[0;31mKeyboardInterrupt\u001b[0m                         Traceback (most recent call last)",
      "\u001b[0;32m/var/folders/j3/8w3_bktd56bccwnxbf0ylcyw0000gn/T/ipykernel_33461/3867672125.py\u001b[0m in \u001b[0;36m<module>\u001b[0;34m\u001b[0m\n\u001b[1;32m      1\u001b[0m \u001b[0;31m#data_words = [a[\"bow\"] for a in articles]\u001b[0m\u001b[0;34m\u001b[0m\u001b[0;34m\u001b[0m\u001b[0m\n\u001b[0;32m----> 2\u001b[0;31m \u001b[0mdata_words\u001b[0m \u001b[0;34m=\u001b[0m \u001b[0;34m[\u001b[0m\u001b[0mtokenize_and_lemmatize\u001b[0m\u001b[0;34m(\u001b[0m\u001b[0ma\u001b[0m\u001b[0;34m)\u001b[0m \u001b[0;32mfor\u001b[0m \u001b[0ma\u001b[0m \u001b[0;32min\u001b[0m \u001b[0mtqdm\u001b[0m\u001b[0;34m.\u001b[0m\u001b[0mnotebook\u001b[0m\u001b[0;34m.\u001b[0m\u001b[0mtqdm\u001b[0m\u001b[0;34m(\u001b[0m\u001b[0mnews_df\u001b[0m\u001b[0;34m[\u001b[0m\u001b[0;34m\"text_tokenized\"\u001b[0m\u001b[0;34m]\u001b[0m\u001b[0;34m)\u001b[0m\u001b[0;34m]\u001b[0m\u001b[0;34m\u001b[0m\u001b[0;34m\u001b[0m\u001b[0m\n\u001b[0m\u001b[1;32m      3\u001b[0m \u001b[0;34m\u001b[0m\u001b[0m\n\u001b[1;32m      4\u001b[0m \u001b[0;31m# Build the bigram and trigram models\u001b[0m\u001b[0;34m\u001b[0m\u001b[0;34m\u001b[0m\u001b[0m\n\u001b[1;32m      5\u001b[0m \u001b[0mbigram\u001b[0m \u001b[0;34m=\u001b[0m \u001b[0mgensim\u001b[0m\u001b[0;34m.\u001b[0m\u001b[0mmodels\u001b[0m\u001b[0;34m.\u001b[0m\u001b[0mPhrases\u001b[0m\u001b[0;34m(\u001b[0m\u001b[0mdata_words\u001b[0m\u001b[0;34m,\u001b[0m \u001b[0mmin_count\u001b[0m\u001b[0;34m=\u001b[0m\u001b[0;36m5\u001b[0m\u001b[0;34m,\u001b[0m \u001b[0mthreshold\u001b[0m\u001b[0;34m=\u001b[0m\u001b[0;36m100\u001b[0m\u001b[0;34m)\u001b[0m \u001b[0;31m# higher threshold fewer phrases.\u001b[0m\u001b[0;34m\u001b[0m\u001b[0;34m\u001b[0m\u001b[0m\n",
      "\u001b[0;32m/var/folders/j3/8w3_bktd56bccwnxbf0ylcyw0000gn/T/ipykernel_33461/3867672125.py\u001b[0m in \u001b[0;36m<listcomp>\u001b[0;34m(.0)\u001b[0m\n\u001b[1;32m      1\u001b[0m \u001b[0;31m#data_words = [a[\"bow\"] for a in articles]\u001b[0m\u001b[0;34m\u001b[0m\u001b[0;34m\u001b[0m\u001b[0m\n\u001b[0;32m----> 2\u001b[0;31m \u001b[0mdata_words\u001b[0m \u001b[0;34m=\u001b[0m \u001b[0;34m[\u001b[0m\u001b[0mtokenize_and_lemmatize\u001b[0m\u001b[0;34m(\u001b[0m\u001b[0ma\u001b[0m\u001b[0;34m)\u001b[0m \u001b[0;32mfor\u001b[0m \u001b[0ma\u001b[0m \u001b[0;32min\u001b[0m \u001b[0mtqdm\u001b[0m\u001b[0;34m.\u001b[0m\u001b[0mnotebook\u001b[0m\u001b[0;34m.\u001b[0m\u001b[0mtqdm\u001b[0m\u001b[0;34m(\u001b[0m\u001b[0mnews_df\u001b[0m\u001b[0;34m[\u001b[0m\u001b[0;34m\"text_tokenized\"\u001b[0m\u001b[0;34m]\u001b[0m\u001b[0;34m)\u001b[0m\u001b[0;34m]\u001b[0m\u001b[0;34m\u001b[0m\u001b[0;34m\u001b[0m\u001b[0m\n\u001b[0m\u001b[1;32m      3\u001b[0m \u001b[0;34m\u001b[0m\u001b[0m\n\u001b[1;32m      4\u001b[0m \u001b[0;31m# Build the bigram and trigram models\u001b[0m\u001b[0;34m\u001b[0m\u001b[0;34m\u001b[0m\u001b[0m\n\u001b[1;32m      5\u001b[0m \u001b[0mbigram\u001b[0m \u001b[0;34m=\u001b[0m \u001b[0mgensim\u001b[0m\u001b[0;34m.\u001b[0m\u001b[0mmodels\u001b[0m\u001b[0;34m.\u001b[0m\u001b[0mPhrases\u001b[0m\u001b[0;34m(\u001b[0m\u001b[0mdata_words\u001b[0m\u001b[0;34m,\u001b[0m \u001b[0mmin_count\u001b[0m\u001b[0;34m=\u001b[0m\u001b[0;36m5\u001b[0m\u001b[0;34m,\u001b[0m \u001b[0mthreshold\u001b[0m\u001b[0;34m=\u001b[0m\u001b[0;36m100\u001b[0m\u001b[0;34m)\u001b[0m \u001b[0;31m# higher threshold fewer phrases.\u001b[0m\u001b[0;34m\u001b[0m\u001b[0;34m\u001b[0m\u001b[0m\n",
      "\u001b[0;32m/var/folders/j3/8w3_bktd56bccwnxbf0ylcyw0000gn/T/ipykernel_33461/4267561459.py\u001b[0m in \u001b[0;36mtokenize_and_lemmatize\u001b[0;34m(sentence)\u001b[0m\n\u001b[1;32m     19\u001b[0m     \u001b[0;32mif\u001b[0m \u001b[0mpd\u001b[0m\u001b[0;34m.\u001b[0m\u001b[0misnull\u001b[0m\u001b[0;34m(\u001b[0m\u001b[0msentence\u001b[0m\u001b[0;34m)\u001b[0m\u001b[0;34m:\u001b[0m\u001b[0;34m\u001b[0m\u001b[0;34m\u001b[0m\u001b[0m\n\u001b[1;32m     20\u001b[0m             \u001b[0;32mreturn\u001b[0m \u001b[0;34m[\u001b[0m\u001b[0;34m]\u001b[0m\u001b[0;34m\u001b[0m\u001b[0;34m\u001b[0m\u001b[0m\n\u001b[0;32m---> 21\u001b[0;31m     \u001b[0mtokenized_text\u001b[0m \u001b[0;34m=\u001b[0m \u001b[0mlist\u001b[0m\u001b[0;34m(\u001b[0m\u001b[0mtokenizer\u001b[0m\u001b[0;34m.\u001b[0m\u001b[0msplit_into_sentences\u001b[0m\u001b[0;34m(\u001b[0m\u001b[0msentence\u001b[0m\u001b[0;34m)\u001b[0m\u001b[0;34m)\u001b[0m\u001b[0;34m\u001b[0m\u001b[0;34m\u001b[0m\u001b[0m\n\u001b[0m\u001b[1;32m     22\u001b[0m     \u001b[0;31m#tokenized_text = list(sentence.split_into_sentences(sentence))\u001b[0m\u001b[0;34m\u001b[0m\u001b[0;34m\u001b[0m\u001b[0m\n\u001b[1;32m     23\u001b[0m     \u001b[0mlemmas\u001b[0m \u001b[0;34m=\u001b[0m \u001b[0;34m[\u001b[0m\u001b[0;34m]\u001b[0m\u001b[0;34m\u001b[0m\u001b[0;34m\u001b[0m\u001b[0m\n",
      "\u001b[0;32m/opt/homebrew/Caskroom/miniforge/base/lib/python3.9/site-packages/tokenizer/tokenizer.py\u001b[0m in \u001b[0;36msplit_into_sentences\u001b[0;34m(text_or_gen, **options)\u001b[0m\n\u001b[1;32m   2965\u001b[0m         \u001b[0mto_text\u001b[0m \u001b[0;34m=\u001b[0m \u001b[0;32mlambda\u001b[0m \u001b[0mt\u001b[0m\u001b[0;34m:\u001b[0m \u001b[0mt\u001b[0m\u001b[0;34m.\u001b[0m\u001b[0mtxt\u001b[0m\u001b[0;34m\u001b[0m\u001b[0;34m\u001b[0m\u001b[0m\n\u001b[1;32m   2966\u001b[0m     \u001b[0mcurr_sent\u001b[0m\u001b[0;34m:\u001b[0m \u001b[0mList\u001b[0m\u001b[0;34m[\u001b[0m\u001b[0mstr\u001b[0m\u001b[0;34m]\u001b[0m \u001b[0;34m=\u001b[0m \u001b[0;34m[\u001b[0m\u001b[0;34m]\u001b[0m\u001b[0;34m\u001b[0m\u001b[0;34m\u001b[0m\u001b[0m\n\u001b[0;32m-> 2967\u001b[0;31m     \u001b[0;32mfor\u001b[0m \u001b[0mt\u001b[0m \u001b[0;32min\u001b[0m \u001b[0mtokenize_without_annotation\u001b[0m\u001b[0;34m(\u001b[0m\u001b[0mtext_or_gen\u001b[0m\u001b[0;34m,\u001b[0m \u001b[0;34m**\u001b[0m\u001b[0moptions\u001b[0m\u001b[0;34m)\u001b[0m\u001b[0;34m:\u001b[0m\u001b[0;34m\u001b[0m\u001b[0;34m\u001b[0m\u001b[0m\n\u001b[0m\u001b[1;32m   2968\u001b[0m         \u001b[0;32mif\u001b[0m \u001b[0mt\u001b[0m\u001b[0;34m.\u001b[0m\u001b[0mkind\u001b[0m \u001b[0;32min\u001b[0m \u001b[0mTOK\u001b[0m\u001b[0;34m.\u001b[0m\u001b[0mEND\u001b[0m\u001b[0;34m:\u001b[0m\u001b[0;34m\u001b[0m\u001b[0;34m\u001b[0m\u001b[0m\n\u001b[1;32m   2969\u001b[0m             \u001b[0;31m# End of sentence/paragraph\u001b[0m\u001b[0;34m\u001b[0m\u001b[0;34m\u001b[0m\u001b[0m\n",
      "\u001b[0;32m/opt/homebrew/Caskroom/miniforge/base/lib/python3.9/site-packages/tokenizer/tokenizer.py\u001b[0m in \u001b[0;36m<genexpr>\u001b[0;34m(.0)\u001b[0m\n\u001b[1;32m   2938\u001b[0m         \u001b[0mtoken_stream\u001b[0m \u001b[0;34m=\u001b[0m \u001b[0mparse_phrases_2\u001b[0m\u001b[0;34m(\u001b[0m\u001b[0mtoken_stream\u001b[0m\u001b[0;34m,\u001b[0m \u001b[0mcoalesce_percent\u001b[0m\u001b[0;34m=\u001b[0m\u001b[0mcoalesce_percent\u001b[0m\u001b[0;34m)\u001b[0m\u001b[0;34m\u001b[0m\u001b[0;34m\u001b[0m\u001b[0m\n\u001b[1;32m   2939\u001b[0m \u001b[0;34m\u001b[0m\u001b[0m\n\u001b[0;32m-> 2940\u001b[0;31m     \u001b[0;32mreturn\u001b[0m \u001b[0;34m(\u001b[0m\u001b[0mt\u001b[0m \u001b[0;32mfor\u001b[0m \u001b[0mt\u001b[0m \u001b[0;32min\u001b[0m \u001b[0mtoken_stream\u001b[0m \u001b[0;32mif\u001b[0m \u001b[0mt\u001b[0m\u001b[0;34m.\u001b[0m\u001b[0mkind\u001b[0m \u001b[0;34m!=\u001b[0m \u001b[0mTOK\u001b[0m\u001b[0;34m.\u001b[0m\u001b[0mX_END\u001b[0m\u001b[0;34m)\u001b[0m\u001b[0;34m\u001b[0m\u001b[0;34m\u001b[0m\u001b[0m\n\u001b[0m\u001b[1;32m   2941\u001b[0m \u001b[0;34m\u001b[0m\u001b[0m\n\u001b[1;32m   2942\u001b[0m \u001b[0;34m\u001b[0m\u001b[0m\n",
      "\u001b[0;32m/opt/homebrew/Caskroom/miniforge/base/lib/python3.9/site-packages/tokenizer/tokenizer.py\u001b[0m in \u001b[0;36mparse_date_and_time\u001b[0;34m(token_stream)\u001b[0m\n\u001b[1;32m   2637\u001b[0m         \u001b[0;32mwhile\u001b[0m \u001b[0;32mTrue\u001b[0m\u001b[0;34m:\u001b[0m\u001b[0;34m\u001b[0m\u001b[0;34m\u001b[0m\u001b[0m\n\u001b[1;32m   2638\u001b[0m \u001b[0;34m\u001b[0m\u001b[0m\n\u001b[0;32m-> 2639\u001b[0;31m             \u001b[0mnext_token\u001b[0m \u001b[0;34m=\u001b[0m \u001b[0mnext\u001b[0m\u001b[0;34m(\u001b[0m\u001b[0mtoken_stream\u001b[0m\u001b[0;34m)\u001b[0m\u001b[0;34m\u001b[0m\u001b[0;34m\u001b[0m\u001b[0m\n\u001b[0m\u001b[1;32m   2640\u001b[0m \u001b[0;34m\u001b[0m\u001b[0m\n\u001b[1;32m   2641\u001b[0m             \u001b[0;31m# TODO: \"5 mars\" endar sem dagsetning. Þarf að geta merkt.\u001b[0m\u001b[0;34m\u001b[0m\u001b[0;34m\u001b[0m\u001b[0m\n",
      "\u001b[0;32m/opt/homebrew/Caskroom/miniforge/base/lib/python3.9/site-packages/tokenizer/tokenizer.py\u001b[0m in \u001b[0;36mparse_phrases_1\u001b[0;34m(token_stream)\u001b[0m\n\u001b[1;32m   2518\u001b[0m         \u001b[0;32mwhile\u001b[0m \u001b[0;32mTrue\u001b[0m\u001b[0;34m:\u001b[0m\u001b[0;34m\u001b[0m\u001b[0;34m\u001b[0m\u001b[0m\n\u001b[1;32m   2519\u001b[0m \u001b[0;34m\u001b[0m\u001b[0m\n\u001b[0;32m-> 2520\u001b[0;31m             \u001b[0mnext_token\u001b[0m \u001b[0;34m=\u001b[0m \u001b[0mnext\u001b[0m\u001b[0;34m(\u001b[0m\u001b[0mtoken_stream\u001b[0m\u001b[0;34m)\u001b[0m\u001b[0;34m\u001b[0m\u001b[0;34m\u001b[0m\u001b[0m\n\u001b[0m\u001b[1;32m   2521\u001b[0m             \u001b[0;31m# Coalesce abbreviations and trailing period\u001b[0m\u001b[0;34m\u001b[0m\u001b[0;34m\u001b[0m\u001b[0m\n\u001b[1;32m   2522\u001b[0m             \u001b[0;32mif\u001b[0m \u001b[0mtoken\u001b[0m\u001b[0;34m.\u001b[0m\u001b[0mkind\u001b[0m \u001b[0;34m==\u001b[0m \u001b[0mTOK\u001b[0m\u001b[0;34m.\u001b[0m\u001b[0mWORD\u001b[0m \u001b[0;32mand\u001b[0m \u001b[0mnext_token\u001b[0m\u001b[0;34m.\u001b[0m\u001b[0mtxt\u001b[0m \u001b[0;34m==\u001b[0m \u001b[0;34m\".\"\u001b[0m\u001b[0;34m:\u001b[0m\u001b[0;34m\u001b[0m\u001b[0;34m\u001b[0m\u001b[0m\n",
      "\u001b[0;32m/opt/homebrew/Caskroom/miniforge/base/lib/python3.9/site-packages/tokenizer/tokenizer.py\u001b[0m in \u001b[0;36mparse_sentences\u001b[0;34m(token_stream)\u001b[0m\n\u001b[1;32m   2398\u001b[0m         \u001b[0mtoken\u001b[0m \u001b[0;34m=\u001b[0m \u001b[0mnext\u001b[0m\u001b[0;34m(\u001b[0m\u001b[0mtoken_stream\u001b[0m\u001b[0;34m)\u001b[0m\u001b[0;34m\u001b[0m\u001b[0;34m\u001b[0m\u001b[0m\n\u001b[1;32m   2399\u001b[0m         \u001b[0;32mwhile\u001b[0m \u001b[0;32mTrue\u001b[0m\u001b[0;34m:\u001b[0m\u001b[0;34m\u001b[0m\u001b[0;34m\u001b[0m\u001b[0m\n\u001b[0;32m-> 2400\u001b[0;31m             \u001b[0mnext_token\u001b[0m \u001b[0;34m=\u001b[0m \u001b[0mnext\u001b[0m\u001b[0;34m(\u001b[0m\u001b[0mtoken_stream\u001b[0m\u001b[0;34m)\u001b[0m\u001b[0;34m\u001b[0m\u001b[0;34m\u001b[0m\u001b[0m\n\u001b[0m\u001b[1;32m   2401\u001b[0m             \u001b[0;32mif\u001b[0m \u001b[0mtoken\u001b[0m\u001b[0;34m.\u001b[0m\u001b[0mkind\u001b[0m \u001b[0;34m==\u001b[0m \u001b[0mTOK\u001b[0m\u001b[0;34m.\u001b[0m\u001b[0mP_BEGIN\u001b[0m \u001b[0;32mor\u001b[0m \u001b[0mtoken\u001b[0m\u001b[0;34m.\u001b[0m\u001b[0mkind\u001b[0m \u001b[0;34m==\u001b[0m \u001b[0mTOK\u001b[0m\u001b[0;34m.\u001b[0m\u001b[0mP_END\u001b[0m\u001b[0;34m:\u001b[0m\u001b[0;34m\u001b[0m\u001b[0;34m\u001b[0m\u001b[0m\n\u001b[1;32m   2402\u001b[0m                 \u001b[0;31m# Block start or end: finish the current sentence, if any\u001b[0m\u001b[0;34m\u001b[0m\u001b[0;34m\u001b[0m\u001b[0m\n",
      "\u001b[0;32m/opt/homebrew/Caskroom/miniforge/base/lib/python3.9/site-packages/tokenizer/tokenizer.py\u001b[0m in \u001b[0;36mparse_particles\u001b[0;34m(token_stream, **options)\u001b[0m\n\u001b[1;32m   2028\u001b[0m         \u001b[0mtoken\u001b[0m \u001b[0;34m=\u001b[0m \u001b[0mnext\u001b[0m\u001b[0;34m(\u001b[0m\u001b[0mtoken_stream\u001b[0m\u001b[0;34m)\u001b[0m\u001b[0;34m\u001b[0m\u001b[0;34m\u001b[0m\u001b[0m\n\u001b[1;32m   2029\u001b[0m         \u001b[0;32mwhile\u001b[0m \u001b[0;32mTrue\u001b[0m\u001b[0;34m:\u001b[0m\u001b[0;34m\u001b[0m\u001b[0;34m\u001b[0m\u001b[0m\n\u001b[0;32m-> 2030\u001b[0;31m             \u001b[0mnext_token\u001b[0m \u001b[0;34m=\u001b[0m \u001b[0mnext\u001b[0m\u001b[0;34m(\u001b[0m\u001b[0mtoken_stream\u001b[0m\u001b[0;34m)\u001b[0m\u001b[0;34m\u001b[0m\u001b[0;34m\u001b[0m\u001b[0m\n\u001b[0m\u001b[1;32m   2031\u001b[0m             \u001b[0;31m# Make the lookahead checks we're interested in\u001b[0m\u001b[0;34m\u001b[0m\u001b[0;34m\u001b[0m\u001b[0m\n\u001b[1;32m   2032\u001b[0m             \u001b[0;31m# Check for currency symbol followed by number, e.g. $10\u001b[0m\u001b[0;34m\u001b[0m\u001b[0;34m\u001b[0m\u001b[0m\n",
      "\u001b[0;32m/opt/homebrew/Caskroom/miniforge/base/lib/python3.9/site-packages/tokenizer/tokenizer.py\u001b[0m in \u001b[0;36m__next__\u001b[0;34m(self)\u001b[0m\n\u001b[1;32m    859\u001b[0m         \u001b[0;32mif\u001b[0m \u001b[0mself\u001b[0m\u001b[0;34m.\u001b[0m\u001b[0m__lookahead\u001b[0m\u001b[0;34m:\u001b[0m\u001b[0;34m\u001b[0m\u001b[0;34m\u001b[0m\u001b[0m\n\u001b[1;32m    860\u001b[0m             \u001b[0;32mreturn\u001b[0m \u001b[0mself\u001b[0m\u001b[0;34m.\u001b[0m\u001b[0m__lookahead\u001b[0m\u001b[0;34m.\u001b[0m\u001b[0mpopleft\u001b[0m\u001b[0;34m(\u001b[0m\u001b[0;34m)\u001b[0m\u001b[0;34m\u001b[0m\u001b[0;34m\u001b[0m\u001b[0m\n\u001b[0;32m--> 861\u001b[0;31m         \u001b[0;32mreturn\u001b[0m \u001b[0mnext\u001b[0m\u001b[0;34m(\u001b[0m\u001b[0mself\u001b[0m\u001b[0;34m.\u001b[0m\u001b[0m__it\u001b[0m\u001b[0;34m)\u001b[0m\u001b[0;34m\u001b[0m\u001b[0;34m\u001b[0m\u001b[0m\n\u001b[0m\u001b[1;32m    862\u001b[0m \u001b[0;34m\u001b[0m\u001b[0m\n\u001b[1;32m    863\u001b[0m     \u001b[0;32mdef\u001b[0m \u001b[0m__iter__\u001b[0m\u001b[0;34m(\u001b[0m\u001b[0mself\u001b[0m\u001b[0;34m)\u001b[0m\u001b[0;34m:\u001b[0m\u001b[0;34m\u001b[0m\u001b[0;34m\u001b[0m\u001b[0m\n",
      "\u001b[0;32m/opt/homebrew/Caskroom/miniforge/base/lib/python3.9/site-packages/tokenizer/tokenizer.py\u001b[0m in \u001b[0;36mparse_tokens\u001b[0;34m(txt, **options)\u001b[0m\n\u001b[1;32m   1905\u001b[0m     \u001b[0mrtxt\u001b[0m\u001b[0;34m:\u001b[0m \u001b[0mstr\u001b[0m \u001b[0;34m=\u001b[0m \u001b[0;34m\"\"\u001b[0m\u001b[0;34m\u001b[0m\u001b[0;34m\u001b[0m\u001b[0m\n\u001b[1;32m   1906\u001b[0m \u001b[0;34m\u001b[0m\u001b[0m\n\u001b[0;32m-> 1907\u001b[0;31m     for rt in generate_raw_tokens(\n\u001b[0m\u001b[1;32m   1908\u001b[0m         \u001b[0mtxt\u001b[0m\u001b[0;34m,\u001b[0m \u001b[0mreplace_composite_glyphs\u001b[0m\u001b[0;34m,\u001b[0m \u001b[0mreplace_html_escapes\u001b[0m\u001b[0;34m,\u001b[0m \u001b[0mone_sent_per_line\u001b[0m\u001b[0;34m\u001b[0m\u001b[0;34m\u001b[0m\u001b[0m\n\u001b[1;32m   1909\u001b[0m     ):\n",
      "\u001b[0;32m/opt/homebrew/Caskroom/miniforge/base/lib/python3.9/site-packages/tokenizer/tokenizer.py\u001b[0m in \u001b[0;36mgenerate_raw_tokens\u001b[0;34m(text_or_gen, replace_composite_glyphs, replace_html_escapes, one_sent_per_line)\u001b[0m\n\u001b[1;32m   1432\u001b[0m                     \u001b[0mres\u001b[0m \u001b[0;34m=\u001b[0m \u001b[0mROUGH_TOKEN_REGEX\u001b[0m\u001b[0;34m.\u001b[0m\u001b[0mmatch\u001b[0m\u001b[0;34m(\u001b[0m\u001b[0mtok_big\u001b[0m\u001b[0;34m.\u001b[0m\u001b[0mtxt\u001b[0m\u001b[0;34m)\u001b[0m\u001b[0;34m\u001b[0m\u001b[0;34m\u001b[0m\u001b[0m\n\u001b[1;32m   1433\u001b[0m                     \u001b[0;32massert\u001b[0m \u001b[0mres\u001b[0m \u001b[0;32mis\u001b[0m \u001b[0;32mnot\u001b[0m \u001b[0;32mNone\u001b[0m\u001b[0;34m\u001b[0m\u001b[0;34m\u001b[0m\u001b[0m\n\u001b[0;32m-> 1434\u001b[0;31m                     \u001b[0mtok\u001b[0m\u001b[0;34m,\u001b[0m \u001b[0mtok_big\u001b[0m \u001b[0;34m=\u001b[0m \u001b[0mtok_big\u001b[0m\u001b[0;34m.\u001b[0m\u001b[0msplit\u001b[0m\u001b[0;34m(\u001b[0m\u001b[0mres\u001b[0m\u001b[0;34m.\u001b[0m\u001b[0mspan\u001b[0m\u001b[0;34m(\u001b[0m\u001b[0;36m0\u001b[0m\u001b[0;34m)\u001b[0m\u001b[0;34m[\u001b[0m\u001b[0;36m1\u001b[0m\u001b[0;34m]\u001b[0m\u001b[0;34m)\u001b[0m\u001b[0;34m\u001b[0m\u001b[0;34m\u001b[0m\u001b[0m\n\u001b[0m\u001b[1;32m   1435\u001b[0m \u001b[0;34m\u001b[0m\u001b[0m\n\u001b[1;32m   1436\u001b[0m                     \u001b[0;31m# Remove whitespace from the start of the token\u001b[0m\u001b[0;34m\u001b[0m\u001b[0;34m\u001b[0m\u001b[0m\n",
      "\u001b[0;32m/opt/homebrew/Caskroom/miniforge/base/lib/python3.9/site-packages/tokenizer/tokenizer.py\u001b[0m in \u001b[0;36msplit\u001b[0;34m(self, pos)\u001b[0m\n\u001b[1;32m    201\u001b[0m                     \u001b[0mself\u001b[0m\u001b[0;34m.\u001b[0m\u001b[0mval\u001b[0m\u001b[0;34m,\u001b[0m\u001b[0;34m\u001b[0m\u001b[0;34m\u001b[0m\u001b[0m\n\u001b[1;32m    202\u001b[0m                     \u001b[0mself\u001b[0m\u001b[0;34m.\u001b[0m\u001b[0moriginal\u001b[0m\u001b[0;34m[\u001b[0m\u001b[0mself\u001b[0m\u001b[0;34m.\u001b[0m\u001b[0morigin_spans\u001b[0m\u001b[0;34m[\u001b[0m\u001b[0mpos\u001b[0m\u001b[0;34m]\u001b[0m \u001b[0;34m:\u001b[0m\u001b[0;34m]\u001b[0m\u001b[0;34m,\u001b[0m\u001b[0;34m\u001b[0m\u001b[0;34m\u001b[0m\u001b[0m\n\u001b[0;32m--> 203\u001b[0;31m                     \u001b[0;34m[\u001b[0m\u001b[0mx\u001b[0m \u001b[0;34m-\u001b[0m \u001b[0mself\u001b[0m\u001b[0;34m.\u001b[0m\u001b[0morigin_spans\u001b[0m\u001b[0;34m[\u001b[0m\u001b[0mpos\u001b[0m\u001b[0;34m]\u001b[0m \u001b[0;32mfor\u001b[0m \u001b[0mx\u001b[0m \u001b[0;32min\u001b[0m \u001b[0mself\u001b[0m\u001b[0;34m.\u001b[0m\u001b[0morigin_spans\u001b[0m\u001b[0;34m[\u001b[0m\u001b[0mpos\u001b[0m\u001b[0;34m:\u001b[0m\u001b[0;34m]\u001b[0m\u001b[0;34m]\u001b[0m\u001b[0;34m,\u001b[0m\u001b[0;34m\u001b[0m\u001b[0;34m\u001b[0m\u001b[0m\n\u001b[0m\u001b[1;32m    204\u001b[0m                 )\n\u001b[1;32m    205\u001b[0m         \u001b[0;32melse\u001b[0m\u001b[0;34m:\u001b[0m\u001b[0;34m\u001b[0m\u001b[0;34m\u001b[0m\u001b[0m\n",
      "\u001b[0;32m/opt/homebrew/Caskroom/miniforge/base/lib/python3.9/site-packages/tokenizer/tokenizer.py\u001b[0m in \u001b[0;36m<listcomp>\u001b[0;34m(.0)\u001b[0m\n\u001b[1;32m    201\u001b[0m                     \u001b[0mself\u001b[0m\u001b[0;34m.\u001b[0m\u001b[0mval\u001b[0m\u001b[0;34m,\u001b[0m\u001b[0;34m\u001b[0m\u001b[0;34m\u001b[0m\u001b[0m\n\u001b[1;32m    202\u001b[0m                     \u001b[0mself\u001b[0m\u001b[0;34m.\u001b[0m\u001b[0moriginal\u001b[0m\u001b[0;34m[\u001b[0m\u001b[0mself\u001b[0m\u001b[0;34m.\u001b[0m\u001b[0morigin_spans\u001b[0m\u001b[0;34m[\u001b[0m\u001b[0mpos\u001b[0m\u001b[0;34m]\u001b[0m \u001b[0;34m:\u001b[0m\u001b[0;34m]\u001b[0m\u001b[0;34m,\u001b[0m\u001b[0;34m\u001b[0m\u001b[0;34m\u001b[0m\u001b[0m\n\u001b[0;32m--> 203\u001b[0;31m                     \u001b[0;34m[\u001b[0m\u001b[0mx\u001b[0m \u001b[0;34m-\u001b[0m \u001b[0mself\u001b[0m\u001b[0;34m.\u001b[0m\u001b[0morigin_spans\u001b[0m\u001b[0;34m[\u001b[0m\u001b[0mpos\u001b[0m\u001b[0;34m]\u001b[0m \u001b[0;32mfor\u001b[0m \u001b[0mx\u001b[0m \u001b[0;32min\u001b[0m \u001b[0mself\u001b[0m\u001b[0;34m.\u001b[0m\u001b[0morigin_spans\u001b[0m\u001b[0;34m[\u001b[0m\u001b[0mpos\u001b[0m\u001b[0;34m:\u001b[0m\u001b[0;34m]\u001b[0m\u001b[0;34m]\u001b[0m\u001b[0;34m,\u001b[0m\u001b[0;34m\u001b[0m\u001b[0;34m\u001b[0m\u001b[0m\n\u001b[0m\u001b[1;32m    204\u001b[0m                 )\n\u001b[1;32m    205\u001b[0m         \u001b[0;32melse\u001b[0m\u001b[0;34m:\u001b[0m\u001b[0;34m\u001b[0m\u001b[0;34m\u001b[0m\u001b[0m\n",
      "\u001b[0;31mKeyboardInterrupt\u001b[0m: "
     ]
    }
   ],
   "source": [
    "#data_words = [a[\"bow\"] for a in articles]\n",
    "data_words = [tokenize_and_lemmatize(a) for a in tqdm.notebook.tqdm(news_df[\"text_tokenized\"])]\n",
    "\n",
    "# Build the bigram and trigram models\n",
    "bigram = gensim.models.Phrases(data_words, min_count=5, threshold=100) # higher threshold fewer phrases.\n",
    "trigram = gensim.models.Phrases(bigram[data_words], threshold=100)  \n",
    "\n",
    "# Faster way to get a sentence clubbed as a trigram/bigram\n",
    "bigram_mod = gensim.models.phrases.Phraser(bigram)\n",
    "trigram_mod = gensim.models.phrases.Phraser(trigram)\n",
    "\n",
    "# See trigram example\n",
    "print(trigram_mod[bigram_mod[data_words[0]]])\n",
    "\n",
    "def make_bigrams(texts):\n",
    "    return [bigram_mod[doc] for doc in texts]\n",
    "\n",
    "def make_trigrams(texts):\n",
    "    return [trigram_mod[bigram_mod[doc]] for doc in texts]"
   ]
  },
  {
   "cell_type": "code",
   "execution_count": 286,
   "id": "763d0c3e-8f76-4364-84c5-e4ebcd123e00",
   "metadata": {},
   "outputs": [],
   "source": [
    "import pickle\n",
    "\n",
    "with open('data_words', 'wb') as fh:\n",
    "    pickle.dump(data_words, fh)"
   ]
  },
  {
   "cell_type": "code",
   "execution_count": null,
   "id": "054cf940-a18f-45cb-b6a7-5570a717bab2",
   "metadata": {},
   "outputs": [],
   "source": [
    "data_words_bigrams = make_bigrams(data_words)"
   ]
  },
  {
   "cell_type": "code",
   "execution_count": null,
   "id": "d10555f1-5aca-4b5f-b004-9d0c465dfe22",
   "metadata": {},
   "outputs": [],
   "source": [
    "# Create Dictionary\n",
    "id2word = corpora.Dictionary(data_words)\n",
    "\n",
    "# Create Corpus\n",
    "texts = data_words\n",
    "\n",
    "# Term Document Frequency\n",
    "corpus = [id2word.doc2bow(text) for text in texts]"
   ]
  },
  {
   "cell_type": "code",
   "execution_count": null,
   "id": "c6dd15aa-2367-445c-a4fd-b04fddb1b745",
   "metadata": {
    "id": "iJTWmH7Jkbmg"
   },
   "outputs": [],
   "source": [
    "lda_model = gensim.models.ldamodel.LdaModel(corpus=corpus,\n",
    "                                           id2word=id2word,\n",
    "                                           num_topics=10, \n",
    "                                           random_state=100,\n",
    "                                           update_every=1,\n",
    "                                           chunksize=100,\n",
    "                                           passes=10,\n",
    "                                           alpha='auto',\n",
    "                                           per_word_topics=True)\n",
    "# Ath eta, tengja náttúruverndarorð við ákveðinn hóp"
   ]
  },
  {
   "cell_type": "code",
   "execution_count": 287,
   "id": "96dd330e-c326-4fab-95a5-133851b98f37",
   "metadata": {
    "colab": {
     "base_uri": "https://localhost:8080/"
    },
    "id": "isTxjcbekeUd",
    "outputId": "1d277d4e-6a96-4ea7-c6d3-b6b69b8c66fa"
   },
   "outputs": [
    {
     "name": "stdout",
     "output_type": "stream",
     "text": [
      "[(0,\n",
      "  '0.043*\"bíll\" + 0.029*\"myndband\" + 0.024*\"akureyri\" + 0.020*\"hátíð\" + '\n",
      "  '0.020*\"samkomulag\" + 0.018*\"færsla\" + 0.017*\"ökumaður\" + 0.017*\"ummæli\" + '\n",
      "  '0.016*\"nóvember\" + 0.014*\"hús\"'),\n",
      " (1,\n",
      "  '0.045*\"ísland\" + 0.015*\"breyting\" + 0.014*\"verkefni\" + 0.013*\"fyrirtæki\" + '\n",
      "  '0.011*\"áhrif\" + 0.010*\"sveitarfélag\" + 0.009*\"starfsmaður\" + '\n",
      "  '0.008*\"frumvarp\" + 0.008*\"þjónusta\" + 0.008*\"einstaklingur\"'),\n",
      " (2,\n",
      "  '0.031*\"svæði\" + 0.022*\"klukka\" + 0.022*\"íbúi\" + 0.018*\"samningur\" + '\n",
      "  '0.017*\"nótt\" + 0.017*\"íbúð\" + 0.016*\"tilkynning\" + 0.015*\"höfuðborgarsvæði\" '\n",
      "  '+ 0.014*\"verslun\" + 0.014*\"ferð\"'),\n",
      " (3,\n",
      "  '0.022*\"hugmynd\" + 0.021*\"bók\" + 0.016*\"nemandi\" + 0.013*\"saga\" + '\n",
      "  '0.013*\"umfjöllun\" + 0.013*\"háskóli\" + 0.012*\"skóli\" + 0.012*\"list\" + '\n",
      "  '0.011*\"hlutverk\" + 0.011*\"sýning\"'),\n",
      " (4,\n",
      "  '0.025*\"leikmaður\" + 0.024*\"mínúta\" + 0.021*\"kvöld\" + 0.021*\"ísland\" + '\n",
      "  '0.021*\"dagur\" + 0.018*\"sigur\" + 0.014*\"mark\" + 0.013*\"umferð\" + '\n",
      "  '0.013*\"deild\" + 0.013*\"tímabil\"'),\n",
      " (5,\n",
      "  '0.037*\"flokkur\" + 0.022*\"kosning\" + 0.020*\"ríkisstjórn\" + '\n",
      "  '0.019*\"sjálfstæðis-flokkur\" + 0.017*\"ingi\" + 0.012*\"landspítali\" + '\n",
      "  '0.012*\"ráðherra\" + 0.011*\"mál\" + 0.011*\"fólk\" + 0.011*\"niðurstaða\"'),\n",
      " (6,\n",
      "  '0.063*\"félag\" + 0.058*\"milljón\" + 0.040*\"milljarður\" + 0.040*\"prósent\" + '\n",
      "  '0.024*\"dómur\" + 0.024*\"mánuður\" + 0.023*\"króna\" + 0.019*\"banki\" + '\n",
      "  '0.019*\"fyrirtæki\" + 0.016*\"hlutur\"'),\n",
      " (7,\n",
      "  '0.057*\"fólk\" + 0.033*\"maður\" + 0.031*\"dagur\" + 0.025*\"kona\" + 0.024*\"barn\" '\n",
      "  '+ 0.019*\"þáttur\" + 0.014*\"mynd\" + 0.014*\"viðtal\" + 0.012*\"staður\" + '\n",
      "  '0.012*\"fjölskylda\"'),\n",
      " (8,\n",
      "  '0.056*\"dagur\" + 0.040*\"land\" + 0.027*\"bandaríki\" + 0.022*\"forseti\" + '\n",
      "  '0.019*\"morgunn\" + 0.016*\"þingmaður\" + 0.014*\"þjóð\" + 0.011*\"aðgerð\" + '\n",
      "  '0.011*\"ákvörðun\" + 0.009*\"fundur\"'),\n",
      " (9,\n",
      "  '0.047*\"lögregla\" + 0.032*\"mál\" + 0.023*\"rannsókn\" + 0.021*\"maður\" + '\n",
      "  '0.017*\"upplýsing\" + 0.013*\"ráðuneyti\" + 0.013*\"árás\" + 0.011*\"sendiráð\" + '\n",
      "  '0.010*\"fjölmiðill\" + 0.009*\"lögreglumaður\"')]\n"
     ]
    }
   ],
   "source": [
    "from pprint import pprint\n",
    "# Print the Keyword in the 10 topics\n",
    "pprint(lda_model.print_topics())\n",
    "doc_lda = lda_model[corpus]"
   ]
  },
  {
   "cell_type": "code",
   "execution_count": null,
   "id": "e3faf76c-b3af-4887-b4dd-1d64976e252e",
   "metadata": {},
   "outputs": [],
   "source": [
    "lda_model.save(\"./Big_lda_model\")"
   ]
  },
  {
   "cell_type": "code",
   "execution_count": null,
   "id": "4b5394b5-51ad-4c5f-aa24-097afb34064c",
   "metadata": {},
   "outputs": [],
   "source": []
  },
  {
   "cell_type": "code",
   "execution_count": null,
   "id": "325cf912-2a00-4060-8b36-55cd4bf2eac0",
   "metadata": {},
   "outputs": [],
   "source": [
    "[id2word[i[0]] for i in lda_model.get_topic_terms(1, topn=50)]"
   ]
  },
  {
   "cell_type": "code",
   "execution_count": 128,
   "id": "5b3d3cd8-aa5b-404b-8010-18e6a19e3c92",
   "metadata": {},
   "outputs": [
    {
     "data": {
      "text/plain": [
       "2642"
      ]
     },
     "execution_count": 128,
     "metadata": {},
     "output_type": "execute_result"
    }
   ],
   "source": [
    "id2word.token2id[\"náttúruvernd\"]"
   ]
  },
  {
   "cell_type": "code",
   "execution_count": 145,
   "id": "fcbbe30f-6a07-48e3-831c-e2e47040e284",
   "metadata": {},
   "outputs": [
    {
     "data": {
      "text/plain": [
       "[]"
      ]
     },
     "execution_count": 145,
     "metadata": {},
     "output_type": "execute_result"
    }
   ],
   "source": [
    "# Af hverju sýnir þetta fyrir fæst orð?\n",
    "lda_model.get_term_topics(id2word.token2id[\"neysla\"])"
   ]
  },
  {
   "cell_type": "code",
   "execution_count": 144,
   "id": "3f3eb397-57c0-4b93-9e5a-1d3ae75edb38",
   "metadata": {},
   "outputs": [
    {
     "data": {
      "text/plain": [
       "[(16, [6, 1, 2, 9]),\n",
       " (46, [6]),\n",
       " (47, [6]),\n",
       " (48, [6]),\n",
       " (49, [6]),\n",
       " (50, [4]),\n",
       " (51, [6, 1]),\n",
       " (52, [6]),\n",
       " (53, [6]),\n",
       " (54, [6]),\n",
       " (55, [6]),\n",
       " (56, [1, 4]),\n",
       " (57, [6, 1, 7, 8]),\n",
       " (58, [6]),\n",
       " (59, [6]),\n",
       " (60, [4]),\n",
       " (61, [1, 4, 8]),\n",
       " (62, [6, 1]),\n",
       " (63, [1]),\n",
       " (64, [1, 4]),\n",
       " (65, [6]),\n",
       " (66, [1, 4, 8, 2]),\n",
       " (67, [1]),\n",
       " (68, [1, 4, 7])]"
      ]
     },
     "execution_count": 144,
     "metadata": {},
     "output_type": "execute_result"
    }
   ],
   "source": [
    "doc_lda[2][1]"
   ]
  }
 ],
 "metadata": {
  "kernelspec": {
   "display_name": "Python 3.9.7 64-bit ('base': conda)",
   "language": "python",
   "name": "python397jvsc74a57bd095ec9ec1504d83f612128e0fb229072f90bbb4cb09d9d5d93b5dd26e0ca2cfd1"
  },
  "language_info": {
   "codemirror_mode": {
    "name": "ipython",
    "version": 3
   },
   "file_extension": ".py",
   "mimetype": "text/x-python",
   "name": "python",
   "nbconvert_exporter": "python",
   "pygments_lexer": "ipython3",
   "version": "3.9.7"
  }
 },
 "nbformat": 4,
 "nbformat_minor": 5
}
