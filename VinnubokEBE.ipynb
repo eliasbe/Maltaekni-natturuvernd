{
 "cells": [
  {
   "cell_type": "markdown",
   "id": "2e8b67ee-e69a-4347-b08c-b72c820c507f",
   "metadata": {},
   "source": [
    "# Máltækni - Náttúruvernd"
   ]
  },
  {
   "cell_type": "markdown",
   "id": "72f1ce20-80fd-4dc1-9611-6980034e24ad",
   "metadata": {
    "tags": []
   },
   "source": [
    "# Data import & manipulation"
   ]
  },
  {
   "cell_type": "code",
   "execution_count": 1,
   "id": "24429e8d-1d90-46e7-b215-3d0d18a93322",
   "metadata": {},
   "outputs": [],
   "source": [
    "from numpy.random import default_rng\n",
    "import re\n",
    "import tqdm\n",
    "import pandas as pd\n",
    "import pickle\n",
    "import numpy as np"
   ]
  },
  {
   "cell_type": "code",
   "execution_count": 2,
   "id": "a45351d5-dada-4107-bcbb-7d36b76e87f2",
   "metadata": {},
   "outputs": [],
   "source": [
    "#@Vésteinn\n",
    "def read_news_tsv(file_name):\n",
    "    data = []\n",
    "    with open(file_name, encoding=\"utf-8\") as fh:\n",
    "        for line in tqdm.tqdm(fh.readlines()):\n",
    "            title, author, url, timestamp, _, _, text, text_tokenized = line.split(\"\\t\")\n",
    "            article = {\n",
    "                \"title\": title,\n",
    "                \"author\": author,\n",
    "                \"timestamp\": timestamp,\n",
    "                \"text\": text,\n",
    "                \"text_tokenized\": text_tokenized\n",
    "            }\n",
    "            data.append(article)\n",
    "        return data"
   ]
  },
  {
   "cell_type": "code",
   "execution_count": 3,
   "id": "86bcd8f4-d708-4f5a-bcc8-6de1bd238144",
   "metadata": {},
   "outputs": [
    {
     "name": "stderr",
     "output_type": "stream",
     "text": [
      "100%|██████████| 22248/22248 [00:00<00:00, 275155.54it/s]"
     ]
    },
    {
     "name": "stdout",
     "output_type": "stream",
     "text": [
      "Article count 22248\n"
     ]
    },
    {
     "name": "stderr",
     "output_type": "stream",
     "text": [
      "\n"
     ]
    }
   ],
   "source": [
    "articles = read_news_tsv(\"icelandic_news_sample_22480.tsv\")\n",
    "print(f\"Article count {len(articles)}\")"
   ]
  },
  {
   "cell_type": "code",
   "execution_count": 4,
   "id": "45049bff-c45b-450a-bc6c-3a1ea03eb58b",
   "metadata": {},
   "outputs": [],
   "source": [
    "articles_df = pd.DataFrame(articles)"
   ]
  },
  {
   "cell_type": "code",
   "execution_count": 5,
   "id": "d0a50f3e-c6e0-4fe4-b421-ae70ed5dac2d",
   "metadata": {},
   "outputs": [
    {
     "name": "stderr",
     "output_type": "stream",
     "text": [
      "100%|██████████| 640136/640136 [00:05<00:00, 110756.54it/s]\n"
     ]
    },
    {
     "name": "stdout",
     "output_type": "stream",
     "text": [
      "Article count 640136\n"
     ]
    }
   ],
   "source": [
    "articles_Big = read_news_tsv(\"articles_until_01-11-2020_detok.tsv\")\n",
    "print(f\"Article count {len(articles_Big)}\")"
   ]
  },
  {
   "cell_type": "code",
   "execution_count": 6,
   "id": "9be75a6e-91a3-46d4-b618-631d826a4083",
   "metadata": {},
   "outputs": [],
   "source": [
    "news_Big = pd.DataFrame(articles_Big)"
   ]
  },
  {
   "cell_type": "code",
   "execution_count": 7,
   "id": "bbe9fc81-0373-4ef8-9206-a6e630097f54",
   "metadata": {},
   "outputs": [],
   "source": [
    "from sklearn.model_selection import train_test_split\n",
    "data_train, data_test = train_test_split(news_Big, test_size = 0.15, random_state=11)"
   ]
  },
  {
   "cell_type": "code",
   "execution_count": 8,
   "id": "edc94703-8a96-4c19-b257-69e5d177046f",
   "metadata": {},
   "outputs": [
    {
     "name": "stdout",
     "output_type": "stream",
     "text": [
      "Training data examles: 544115\n",
      "Test data examles: 96021\n"
     ]
    }
   ],
   "source": [
    "print(f'Training data examles: {data_train.shape[0]}')\n",
    "print(f'Test data examles: {data_test.shape[0]}')"
   ]
  },
  {
   "cell_type": "code",
   "execution_count": 9,
   "id": "ce203c6d-52ed-42fa-9d81-285f6c000725",
   "metadata": {},
   "outputs": [],
   "source": [
    "data_test, data_test_labeled = train_test_split(data_test, test_size = 0.005, random_state=11)"
   ]
  },
  {
   "cell_type": "code",
   "execution_count": 10,
   "id": "41347be2-e314-4a6f-b68c-d0f88797dd3d",
   "metadata": {},
   "outputs": [
    {
     "name": "stdout",
     "output_type": "stream",
     "text": [
      "Test data examles: 95540\n",
      "Labeled test data examles: 481\n"
     ]
    }
   ],
   "source": [
    "print(f'Test data examles: {data_test.shape[0]}')\n",
    "print(f'Labeled test data examles: {data_test_labeled.shape[0]}')"
   ]
  },
  {
   "cell_type": "code",
   "execution_count": 11,
   "id": "def37b69-0ac7-45db-9d13-a7ce8c2547a0",
   "metadata": {},
   "outputs": [
    {
     "name": "stdout",
     "output_type": "stream",
     "text": [
      "Playground data examles: 54412\n"
     ]
    }
   ],
   "source": [
    "# Subset af training til að koma virkni í gang án þjálfunartíma\n",
    "_, data_playground = train_test_split(data_train, test_size = 0.10, random_state=11)\n",
    "print(f'Playground data examles: {data_playground.shape[0]}')"
   ]
  },
  {
   "cell_type": "markdown",
   "id": "3618ea63-df25-495b-baa3-b6180e40c368",
   "metadata": {
    "tags": []
   },
   "source": [
    "# Skriftupælingar"
   ]
  },
  {
   "cell_type": "code",
   "execution_count": 12,
   "id": "5cdb5e24-d7d8-4bde-b6b8-336c089416e4",
   "metadata": {},
   "outputs": [],
   "source": [
    "# Skoðar 'count' margar handahófskenndar fréttir og skilar lista af\n",
    "# algildum indexum fyrir þær fréttir sem innihalda 'náttúruvernd', 'loftslag' eða 'umhverfi'\n",
    "def rand_frett(safn, count):\n",
    "    listi = []\n",
    "    from numpy.random import default_rng\n",
    "    import re\n",
    "    rng = default_rng()\n",
    "    n = safn.shape[0]\n",
    "    for i in tqdm.trange(count):\n",
    "        x = rng.integers(n)\n",
    "        if pd.isnull(safn.iloc[x][\"text\"]):\n",
    "            continue\n",
    "        frett = safn.iloc[x][\"text\"] # ath iloc\n",
    "        frettnr = safn.iloc[x].name\n",
    "        lykilord = [\"náttúruvernd\", \"loftslag\", \"umhverfi\"]\n",
    "        fjoldi = 0\n",
    "        for wrd in lykilord:\n",
    "            fjoldi += len(re.findall(wrd, frett))\n",
    "        if fjoldi > 0:\n",
    "            listi.append(frettnr) # Ath. algildur index\n",
    "            #print(frett)\n",
    "    return listi"
   ]
  },
  {
   "cell_type": "code",
   "execution_count": 13,
   "id": "294cc60d-bd48-48c2-90b7-885b99c0a38f",
   "metadata": {},
   "outputs": [],
   "source": [
    "# Skoðar allar fréttir í gefnu safni og skilar lista með algildum indexum \n",
    "# á þeim fréttum sem innihalda fleiri en 'threshold' fjölda af 'náttúruvernd', 'loftslag' eða 'umhverfi'\n",
    "def allar_frettir(safn, threshold=0):\n",
    "    listi = []\n",
    "\n",
    "    n = safn.shape[0]\n",
    "    for i in tqdm.trange(n):\n",
    "        frett = safn.iloc[i][\"text\"]\n",
    "        lykilord = [\"náttúruvernd\", \"loftslag\", \"umhverfi\"]\n",
    "        fjoldi = 0\n",
    "        for wrd in lykilord:\n",
    "            fjoldi += len(re.findall(wrd, frett))\n",
    "        if fjoldi > threshold:\n",
    "            listi.append(i) # ath. afstæð númer m.v. safn\n",
    "            #print(frett)\n",
    "    return listi "
   ]
  },
  {
   "cell_type": "code",
   "execution_count": 14,
   "id": "6effcfd1-3d21-4128-aa32-d07c45f7a7f0",
   "metadata": {},
   "outputs": [
    {
     "name": "stderr",
     "output_type": "stream",
     "text": [
      "100%|██████████| 100000/100000 [00:06<00:00, 16266.22it/s]"
     ]
    },
    {
     "name": "stdout",
     "output_type": "stream",
     "text": [
      "0.06764\n"
     ]
    },
    {
     "name": "stderr",
     "output_type": "stream",
     "text": [
      "\n"
     ]
    }
   ],
   "source": [
    "# Athuga hvaða hlutfall kemur út úr síunni\n",
    "sample_count = 100000\n",
    "big_list = rand_frett(news_Big, sample_count)\n",
    "print(len(big_list)/sample_count)"
   ]
  },
  {
   "cell_type": "markdown",
   "id": "fbc11dd3-fe81-4c38-9bee-fd1ef04c3fd7",
   "metadata": {},
   "source": [
    "## Merkjum data_test_labeled"
   ]
  },
  {
   "cell_type": "code",
   "execution_count": 15,
   "id": "2b42c953-4523-4f0f-abc5-f8143af14de2",
   "metadata": {},
   "outputs": [
    {
     "name": "stderr",
     "output_type": "stream",
     "text": [
      "100%|██████████| 481/481 [00:00<00:00, 39527.04it/s]\n"
     ]
    }
   ],
   "source": [
    "sigtaðar_frettir = allar_frettir(data_test_labeled)"
   ]
  },
  {
   "cell_type": "code",
   "execution_count": 16,
   "id": "040a7c2b-4e72-486c-9327-539c69c82a80",
   "metadata": {},
   "outputs": [
    {
     "name": "stdout",
     "output_type": "stream",
     "text": [
      "title             Fyrst var hún hötuð en í dag er hún daglegt brauð\n",
      "author                                       Ritstjórn Hringbrautar\n",
      "timestamp                                       2019-04-28 21:09:00\n",
      "text              (Á mynd: Áður en p-pillan og aðrar getnaðarvar...\n",
      "text_tokenized    ( Á mynd : Áður en p-pillan og aðrar getnaðarv...\n",
      "Name: 605530, dtype: object\n",
      "title                                 „Sá glæsilegasti frá upphafi“\n",
      "author                                             Ritstjórn mbl.is\n",
      "timestamp                                       2020-09-05 09:36:00\n",
      "text              „Veturinn fram undan verður sá þéttasti og glæ...\n",
      "text_tokenized    „ Veturinn fram undan verður sá þéttasti og gl...\n",
      "Name: 396081, dtype: object\n",
      "title                 Tekur við kyndlinum sem tenging við umheiminn\n",
      "author                                        Bergsteinn Sigurðsson\n",
      "timestamp                                       2017-04-19 20:15:41\n",
      "text              Hús sem gert er í nafni Vigdísar Finnbogadóttu...\n",
      "text_tokenized    Hús sem gert er í nafni Vigdísar Finnbogadóttu...\n",
      "Name: 272260, dtype: object\n"
     ]
    }
   ],
   "source": [
    "for fr in sigtaðar_frettir[:3]:\n",
    "    print(data_test_labeled.iloc[fr])"
   ]
  },
  {
   "cell_type": "code",
   "execution_count": 17,
   "id": "d34fbc72-348f-47dc-ab52-213470ff73d6",
   "metadata": {},
   "outputs": [
    {
     "data": {
      "text/plain": [
       "38"
      ]
     },
     "execution_count": 17,
     "metadata": {},
     "output_type": "execute_result"
    }
   ],
   "source": [
    "len(sigtaðar_frettir)"
   ]
  },
  {
   "cell_type": "code",
   "execution_count": 18,
   "id": "77b95410-8c2e-45c3-829e-0b620e4bd5e5",
   "metadata": {},
   "outputs": [],
   "source": [
    "# for i in sigtaðar_frettir[:3]:\n",
    "#     frett = data_test_labeled.iloc[i]\n",
    "#     print(frett[\"text\"])\n",
    "#     print(frett[\"title\"])\n",
    "#     einkunn = input(\"Um náttúruvernd?\\n\")\n",
    "#     if einkunn == str(1):\n",
    "#         ja.append(frett.name)\n",
    "#     elif einkunn == str(2):\n",
    "#         vafi.append(frett.name)\n",
    "#     else:\n",
    "#         annad.append(frett.name)"
   ]
  },
  {
   "cell_type": "code",
   "execution_count": 19,
   "id": "f816a586-cdf6-4bd6-99df-6c8253225327",
   "metadata": {},
   "outputs": [
    {
     "name": "stdout",
     "output_type": "stream",
     "text": [
      "475\n",
      "6\n",
      "481\n"
     ]
    }
   ],
   "source": [
    "# Niðurstöður\n",
    "jakvætt = {165133,322727,343386,233961,500609,327615}\n",
    "\n",
    "# !! ATH breyta hér, flokka bara þau sem eru handyfirfarin sem neikvæð \n",
    "neikvætt = set(data_test_labeled.index).difference(jakvætt)\n",
    "\n",
    "print(len(neikvætt))\n",
    "print(len(jakvætt))\n",
    "print(data_test_labeled.shape[0])\n",
    "\n",
    "# data_test_labeled[\"label\"] = np.zeros((len(data_test_labeled), 1), dtype = np.int8)\n",
    "# for i in jakvætt:\n",
    "#     data_test_labeled.loc[i,\"label\"] = 1\n",
    "# for fr in big_list[:10]:\n",
    "#     print(news_Big.loc[fr])"
   ]
  },
  {
   "cell_type": "markdown",
   "id": "47d20588-7905-475b-ba9d-e96250d4a4cb",
   "metadata": {},
   "source": [
    "## Merkjum data_train"
   ]
  },
  {
   "cell_type": "code",
   "execution_count": 20,
   "id": "620b10eb-4971-4510-b7d1-8a0a89836aa9",
   "metadata": {},
   "outputs": [
    {
     "name": "stdout",
     "output_type": "stream",
     "text": [
      "{232512, 203202, 565829, 285192, 531728, 543888, 402387, 212309, 290583, 338039, 624031, 563685, 620326, 586792, 207852, 300335, 319984, 615601, 57271, 551033, 541114}\n",
      "{188673, 138785, 253189, 201385, 146412, 582670, 549263, 580500, 624949, 196829, 467836, 18621}\n",
      "{425218, 398339, 232836, 377475, 40966, 108040, 61449, 411913, 441611, 188049, 594451, 357913, 389534, 403230, 403616, 598944, 438562, 447519, 383270, 300455, 260392, 545578, 245419, 496045, 280365, 111155, 77492, 616884, 26553, 598717, 397246, 264765, 180800, 353226, 292173, 217422, 53844, 179030, 306134, 524889, 622682, 288093, 557662, 146272, 471780, 628965, 111590, 180717, 506996, 129525, 423028, 19063, 409848, 290171}\n",
      "21\n"
     ]
    }
   ],
   "source": [
    "# 'vistaðar niðurstöður' úr flokkun að neðan.\n",
    "# jákvæðar fréttir úr train\n",
    "ja =    {285192, 531728, 543888, 290583, 624031, 620326, 586792, 300335, 615601, 57271, 541114, 232512, 203202, 565829, 402387, 212309, 563685, 207852, 319984, 338039, 551033}\n",
    "# fréttir sem eru kannski já, kannski ekki\n",
    "vafi =  {188673, 253189, 582670, 549263, 580500, 196829, 138785, 201385, 146412, 624949, 467836, 18621}\n",
    "# Neikvæðar fréttir sem komu úr síunni\n",
    "annad = {425218, 398339, 232836, 377475, 40966, 108040, 61449, 411913, 441611, 188049, 594451, 357913, 389534, 447519, 403616, 598944, 403230, 438562, 383270, 300455, 260392, 545578, 245419, 496045, 280365, 111155, 77492, 616884, 26553, 598717, 397246, 264765, 180800, 353226, 292173, 217422, 53844, 179030, 306134, 524889, 622682, 288093, 557662, 146272, 471780, 628965, 111590, 180717, 506996, 129525, 423028, 19063, 409848, 290171}\n",
    "# # Neikvæðar fréttir teknar af handahófi úr train\n",
    "neinei = {41758, 45206, 94336, 122610, 133607, 152981, 190982, 210392, 235700, 258454, 276324, 294168, 303348, 328102, 333446, 344739, 351967, 356145, 376980, 426847, 429708, 437621, 460035, 461629, 524825, 566916, 581492, 612748, 631359, 631908}\n",
    "possibly_corrupt = {628965, 409848, 549263}\n",
    "print(ja, vafi, annad, sep=\"\\n\")\n",
    "print(len(ja))"
   ]
  },
  {
   "cell_type": "code",
   "execution_count": 21,
   "id": "743ce1bc-57be-45b8-bbb1-24b73e01f853",
   "metadata": {},
   "outputs": [],
   "source": [
    "def label(safn, sigti, count=-1):\n",
    "    for nr, i in enumerate(sigti[:count]):\n",
    "        if i in ja or i in vafi or i in annad:\n",
    "            continue\n",
    "        frett = safn.loc[i] # Gert er ráð fyrir global index\n",
    "        print(f\"Frétt nr. {nr}\")\n",
    "        print(frett[\"text\"])\n",
    "        print(frett[\"title\"])\n",
    "        einkunn = input(\"Um náttúruvernd?\\n\")\n",
    "        print()\n",
    "        if einkunn == str(1):\n",
    "            ja.add(frett.name)\n",
    "        elif einkunn == str(2):\n",
    "            vafi.add(frett.name)\n",
    "        elif einkunn == str(0):\n",
    "            neinei.add(frett.name)\n",
    "        else:\n",
    "            annad.add(frett.name)"
   ]
  },
  {
   "cell_type": "code",
   "execution_count": 22,
   "id": "7cb4336f-39b4-47aa-955d-8dd3bd0310cb",
   "metadata": {},
   "outputs": [],
   "source": [
    "# label(data_train, data_train.index)"
   ]
  },
  {
   "cell_type": "markdown",
   "id": "15d01f23-551f-478a-8457-15d911816245",
   "metadata": {},
   "source": [
    "Sigta af handahófi úr train <br>\n",
    "Flokka sigtað í já og nei<br>\n",
    "flokka af handahófi úr ósigtuðu (svo nei sé ekki bara sigtað nei)<br>\n",
    "    - kannski í sér hóp til að sjá hvort það endurspeglist í flokkunum?<br>\n",
    "Þegar það eru komnir nokkrir tugir í já, þá athuga hvar flokkaða lendir í LDA<br>\n",
    "Kannski finna gögn sem eru sérstaklega um náttúruvernd, fréttir frá samtökum, Sólin, ...<br>"
   ]
  },
  {
   "cell_type": "code",
   "execution_count": 23,
   "id": "c538359e-4bca-45d2-be7c-a415055b67a7",
   "metadata": {},
   "outputs": [
    {
     "name": "stderr",
     "output_type": "stream",
     "text": [
      "100%|██████████| 2000/2000 [00:00<00:00, 15801.77it/s]\n"
     ]
    }
   ],
   "source": [
    "slembsigti = rand_frett(data_train, 2000) # Hefði kannski átt að setja seed?"
   ]
  },
  {
   "cell_type": "code",
   "execution_count": 24,
   "id": "4f3770f4-9f83-4b5b-a127-287bef8238b9",
   "metadata": {},
   "outputs": [],
   "source": [
    "# label(data_train, slembsigti)"
   ]
  },
  {
   "cell_type": "code",
   "execution_count": null,
   "id": "f3054cd5-d8c1-43fc-859e-51b170cf9d98",
   "metadata": {},
   "outputs": [],
   "source": []
  },
  {
   "cell_type": "code",
   "execution_count": 25,
   "id": "f2f69af2-8962-462d-94d9-8d9d208a7e7a",
   "metadata": {},
   "outputs": [
    {
     "name": "stderr",
     "output_type": "stream",
     "text": [
      "100%|██████████| 54412/54412 [00:01<00:00, 40522.75it/s]\n"
     ]
    }
   ],
   "source": [
    "playground_sigti = allar_frettir(data_playground, 5)"
   ]
  },
  {
   "cell_type": "code",
   "execution_count": 26,
   "id": "2d762aab-9e37-4599-8555-a60d744424af",
   "metadata": {},
   "outputs": [
    {
     "data": {
      "text/plain": [
       "229"
      ]
     },
     "execution_count": 26,
     "metadata": {},
     "output_type": "execute_result"
    }
   ],
   "source": [
    "len(playground_sigti)"
   ]
  },
  {
   "cell_type": "markdown",
   "id": "48ec2f46-2d14-4737-b083-9f7ea172f32b",
   "metadata": {},
   "source": [
    "# GENSIM LDA pælingar"
   ]
  },
  {
   "cell_type": "code",
   "execution_count": 27,
   "id": "f4bf08ee-0d13-43d0-8a5f-1f1ddf1f5c6b",
   "metadata": {},
   "outputs": [],
   "source": [
    "import gensim\n",
    "import gensim.corpora as corpora\n",
    "from gensim.utils import simple_preprocess\n",
    "from gensim.models import CoherenceModel"
   ]
  },
  {
   "cell_type": "code",
   "execution_count": 28,
   "id": "9787f3b7-9f6b-41d3-be74-a6f0056cc434",
   "metadata": {},
   "outputs": [],
   "source": [
    "import string\n",
    "stop_words = set()\n",
    "extra_stop_words = [\"var\", \"er\", \"ekki\", \"sé\"]\n",
    "with open(\"is_stop_words.txt\") as stop_word_file:\n",
    "    for line in stop_word_file.readlines():\n",
    "        stop_words.add(line.strip())\n",
    "stop_words.update(set(string.punctuation))\n",
    "stop_words.update(set(extra_stop_words))"
   ]
  },
  {
   "cell_type": "code",
   "execution_count": 29,
   "id": "60e53388-a3b9-48f8-82d1-dd634f82ba71",
   "metadata": {},
   "outputs": [],
   "source": [
    "import tokenizer\n",
    "from islenska import Bin\n",
    "\n",
    "b = Bin()\n",
    "\n",
    "def naive_bin_lemma(token):\n",
    "    candidates = b.lookup_lemmas_and_cats(token)\n",
    "    if not candidates:\n",
    "        return None\n",
    "    if len(candidates) > 1:\n",
    "        return None\n",
    "    cand = candidates.pop()\n",
    "    if cand[1] not in [\"kk\", \"kvk\", \"hk\"]:\n",
    "        return None\n",
    "    return cand[0]\n",
    "\n",
    "\n",
    "def tokenize_and_lemmatize(sentence):\n",
    "    if pd.isnull(sentence): # Líklegast óþarft núna\n",
    "            return []\n",
    "    tokenized_text = list(tokenizer.split_into_sentences(sentence))\n",
    "    lemmas = []\n",
    "    for sent in tokenized_text:\n",
    "        for token in sent.split():\n",
    "            if token in stop_words:\n",
    "                continue\n",
    "            lemma = naive_bin_lemma(token.lower())\n",
    "            if lemma is not None: # bæta við stop_words hér? and lemma not in stop_words\n",
    "                lemmas.append(lemma)\n",
    "    return lemmas"
   ]
  },
  {
   "cell_type": "code",
   "execution_count": 30,
   "id": "bfba5fe6-0453-4e49-9173-c3f495de33d3",
   "metadata": {},
   "outputs": [],
   "source": [
    "def load_all():\n",
    "    with open('data_words.pickle', 'rb') as fh:\n",
    "        data_words = pickle.load(fh)\n",
    "    with open('data_words_bigrams.pickle', 'rb') as fh:\n",
    "        data_words_bigrams = pickle.load(fh)\n",
    "    with open('id2word.pickle', 'rb') as fh:\n",
    "        id2word = pickle.load(fh)\n",
    "    with open('corpus.pickle', 'rb') as fh:\n",
    "        corpus = pickle.load(fh)\n",
    "    lda_model = gensim.models.ldamulticore.LdaModel.load(\"Big_lda_model\")\n",
    "    \n",
    "    return data_words, data_words_bigrams, id2word, corpus, lda_model"
   ]
  },
  {
   "cell_type": "code",
   "execution_count": 31,
   "id": "f444c556-317d-431f-a176-afb835259653",
   "metadata": {},
   "outputs": [],
   "source": [
    "def build_all():\n",
    "    data_words = [tokenize_and_lemmatize(a) for a in tqdm.notebook.tqdm(data_train[\"text_tokenized\"])]\n",
    "\n",
    "    # Build the bigram and trigram models\n",
    "    bigram = gensim.models.Phrases(data_words, min_count=5, threshold=100) # higher threshold fewer phrases.\n",
    "    trigram = gensim.models.Phrases(bigram[data_words], threshold=100)  \n",
    "\n",
    "    # Faster way to get a sentence clubbed as a trigram/bigram\n",
    "    bigram_mod = gensim.models.phrases.Phraser(bigram)\n",
    "    trigram_mod = gensim.models.phrases.Phraser(trigram)\n",
    "    \n",
    "    def make_bigrams(texts):\n",
    "        return [bigram_mod[doc] for doc in texts]\n",
    "\n",
    "    def make_trigrams(texts):\n",
    "        return [trigram_mod[bigram_mod[doc]] for doc in texts]\n",
    "\n",
    "    # See trigram example\n",
    "    # print(trigram_mod[bigram_mod[data_words[0]]])\n",
    "    data_words_bigrams = make_bigrams(tqdm.tqdm(data_words))\n",
    "    # Create Dictionary\n",
    "    id2word = corpora.Dictionary(data_words)\n",
    "\n",
    "    # Create Corpus\n",
    "    texts = data_words\n",
    "\n",
    "    # Term Document Frequency\n",
    "    corpus = [id2word.doc2bow(text) for text in texts]\n",
    "    lda_model = gensim.models.ldamodel.LdaModel(corpus=corpus,\n",
    "                                               id2word=id2word,\n",
    "                                               num_topics=10, \n",
    "                                               random_state=100,\n",
    "                                               update_every=1,\n",
    "                                               chunksize=100,\n",
    "                                               passes=10,\n",
    "                                               alpha='auto',\n",
    "                                               per_word_topics=True)"
   ]
  },
  {
   "cell_type": "code",
   "execution_count": 32,
   "id": "615d70fb-5fda-4b6e-ba96-cfb718457612",
   "metadata": {},
   "outputs": [],
   "source": [
    "def save_all():\n",
    "    with open('data_words.pickle', 'wb') as fh:\n",
    "        pickle.dump(data_words, fh)\n",
    "    with open('data_words_bigrams.pickle', 'wb') as fh:\n",
    "        pickle.dump(data_words_bigrams, fh)\n",
    "    with open('id2word.pickle', 'wb') as fh:\n",
    "        pickle.dump(id2word, fh)\n",
    "    with open('corpus.pickle', 'wb') as fh:\n",
    "        pickle.dump(corpus, fh)\n",
    "    lda_model.save(\"./Big_lda_model\")"
   ]
  },
  {
   "cell_type": "code",
   "execution_count": 33,
   "id": "5601fa72-ef79-49a7-9224-675083b0c8a5",
   "metadata": {},
   "outputs": [],
   "source": [
    "data_words, data_words_bigrams, id2word, corpus, lda_model = load_all()"
   ]
  },
  {
   "cell_type": "markdown",
   "id": "e4f16ff9-2c67-4db5-92ef-c5217a69b92b",
   "metadata": {
    "tags": []
   },
   "source": [
    "## Tilraunir"
   ]
  },
  {
   "cell_type": "code",
   "execution_count": 34,
   "id": "96dd330e-c326-4fab-95a5-133851b98f37",
   "metadata": {
    "colab": {
     "base_uri": "https://localhost:8080/"
    },
    "id": "isTxjcbekeUd",
    "outputId": "1d277d4e-6a96-4ea7-c6d3-b6b69b8c66fa"
   },
   "outputs": [
    {
     "name": "stdout",
     "output_type": "stream",
     "text": [
      "[(0,\n",
      "  '0.041*\"maður\" + 0.034*\"kona\" + 0.034*\"fólk\" + 0.029*\"barn\" + 0.021*\"mynd\" + '\n",
      "  '0.017*\"dagur\" + 0.015*\"fjölskylda\" + 0.013*\"saga\" + 0.012*\"rannsókn\" + '\n",
      "  '0.010*\"viðtal\"'),\n",
      " (1,\n",
      "  '0.061*\"lögregla\" + 0.027*\"dagur\" + 0.023*\"maður\" + 0.023*\"morgunn\" + '\n",
      "  '0.022*\"klukka\" + 0.018*\"bíll\" + 0.016*\"höfuðborgarsvæði\" + 0.015*\"nótt\" + '\n",
      "  '0.014*\"landslið\" + 0.014*\"land\"'),\n",
      " (2,\n",
      "  '0.032*\"dagur\" + 0.026*\"leikmaður\" + 0.023*\"ísland\" + 0.022*\"kvöld\" + '\n",
      "  '0.021*\"mínúta\" + 0.016*\"sigur\" + 0.014*\"mark\" + 0.013*\"deild\" + '\n",
      "  '0.013*\"umferð\" + 0.013*\"tímabil\"'),\n",
      " (3,\n",
      "  '0.033*\"dagur\" + 0.021*\"land\" + 0.019*\"fólk\" + 0.018*\"svæði\" + 0.013*\"íbúi\" '\n",
      "  '+ 0.013*\"staður\" + 0.010*\"yfirvald\" + 0.010*\"ferðamaður\" + 0.010*\"fjöldi\" + '\n",
      "  '0.009*\"sögn\"'),\n",
      " (4,\n",
      "  '0.034*\"forseti\" + 0.027*\"bandaríki\" + 0.027*\"flokkur\" + 0.025*\"þingmaður\" + '\n",
      "  '0.020*\"dagur\" + 0.020*\"forsætisráðherra\" + 0.018*\"ríkisstjórn\" + '\n",
      "  '0.017*\"kosning\" + 0.015*\"þjóð\" + 0.015*\"íbúð\"'),\n",
      " (5,\n",
      "  '0.049*\"mál\" + 0.038*\"frumvarp\" + 0.031*\"dómur\" + 0.023*\"jón\" + 0.018*\"ingi\" '\n",
      "  '+ 0.017*\"ofbeldi\" + 0.015*\"dómari\" + 0.015*\"samfylking\" + 0.014*\"ráðherra\" '\n",
      "  '+ 0.013*\"hæstiréttur\"'),\n",
      " (6,\n",
      "  '0.036*\"ísland\" + 0.018*\"fólk\" + 0.015*\"verkefni\" + 0.012*\"ákvörðun\" + '\n",
      "  '0.010*\"breyting\" + 0.010*\"upplýsing\" + 0.009*\"samfélag\" + '\n",
      "  '0.009*\"einstaklingur\" + 0.008*\"stjórn\" + 0.008*\"starf\"'),\n",
      " (7,\n",
      "  '0.067*\"félag\" + 0.044*\"milljón\" + 0.042*\"fyrirtæki\" + 0.024*\"starfsmaður\" + '\n",
      "  '0.018*\"ágúst\" + 0.016*\"forstjóri\" + 0.015*\"sala\" + 0.015*\"febrúar\" + '\n",
      "  '0.014*\"tilkynning\" + 0.013*\"auglýsing\"'),\n",
      " (8,\n",
      "  '0.019*\"prósent\" + 0.019*\"milljarður\" + 0.013*\"mánuður\" + 0.013*\"banki\" + '\n",
      "  '0.012*\"króna\" + 0.010*\"ísland\" + 0.010*\"milljón\" + 0.009*\"ár\" + '\n",
      "  '0.009*\"ráðuneyti\" + 0.009*\"seðlabanki\"'),\n",
      " (9,\n",
      "  '0.041*\"þáttur\" + 0.024*\"sýning\" + 0.022*\"páll\" + 0.017*\"drengur\" + '\n",
      "  '0.017*\"hátíð\" + 0.014*\"hlutverk\" + 0.013*\"verðlaun\" + 0.011*\"leikkona\" + '\n",
      "  '0.011*\"áhorfandi\" + 0.010*\"demókrati\"')]\n"
     ]
    }
   ],
   "source": [
    "from pprint import pprint\n",
    "# Print the Keyword in the 10 topics\n",
    "pprint(lda_model.print_topics())\n",
    "doc_lda = lda_model[corpus]"
   ]
  },
  {
   "cell_type": "code",
   "execution_count": 35,
   "id": "325cf912-2a00-4060-8b36-55cd4bf2eac0",
   "metadata": {},
   "outputs": [
    {
     "data": {
      "text/plain": [
       "['ísland',\n",
       " 'fólk',\n",
       " 'verkefni',\n",
       " 'ákvörðun',\n",
       " 'breyting',\n",
       " 'upplýsing',\n",
       " 'samfélag',\n",
       " 'einstaklingur',\n",
       " 'stjórn',\n",
       " 'starf',\n",
       " 'vinna',\n",
       " 'niðurstaða',\n",
       " 'háskóli',\n",
       " 'sveitarfélag',\n",
       " 'áhersla',\n",
       " 'markmið',\n",
       " 'stofnun',\n",
       " 'skýrsla',\n",
       " 'umræða',\n",
       " 'dagur',\n",
       " 'áhrif',\n",
       " 'hugmynd',\n",
       " 'þjónusta',\n",
       " 'samstarf',\n",
       " 'ís-lending',\n",
       " 'raun',\n",
       " 'rannsókn',\n",
       " 'mál',\n",
       " 'framtíð',\n",
       " 'aðgerð',\n",
       " 'aðili',\n",
       " 'þjóð',\n",
       " 'samband',\n",
       " 'tækifæri',\n",
       " 'nemandi',\n",
       " 'regla',\n",
       " 'áhyggja',\n",
       " 'starfsmaður',\n",
       " 'árangur',\n",
       " 'gagn',\n",
       " 'ábyrgð',\n",
       " 'stuðningur',\n",
       " 'tilkynning',\n",
       " 'notkun',\n",
       " 'nefnd',\n",
       " 'þáttur',\n",
       " 'skoðun',\n",
       " 'tillaga',\n",
       " 'hlutfall',\n",
       " 'ráðherra']"
      ]
     },
     "execution_count": 35,
     "metadata": {},
     "output_type": "execute_result"
    }
   ],
   "source": [
    "# Sjáum orðin tengd ákveðnum flokk\n",
    "[id2word[i[0]] for i in lda_model.get_topic_terms(6, topn=50)]"
   ]
  },
  {
   "cell_type": "code",
   "execution_count": 36,
   "id": "fcbbe30f-6a07-48e3-831c-e2e47040e284",
   "metadata": {},
   "outputs": [
    {
     "data": {
      "text/plain": [
       "[(8, 0.01231972)]"
      ]
     },
     "execution_count": 36,
     "metadata": {},
     "output_type": "execute_result"
    }
   ],
   "source": [
    "# Fáum hóp ákveðins orðs í safninu\n",
    "# Af hverju sýnir þetta fyrir fæst orð?\n",
    "lda_model.get_term_topics(id2word.token2id[\"króna\"])"
   ]
  },
  {
   "cell_type": "code",
   "execution_count": 37,
   "id": "afb1e297-ac21-4f6d-a3c5-0baf1247a29c",
   "metadata": {
    "id": "YQE3va_TeJy_"
   },
   "outputs": [],
   "source": [
    "sport = \"\"\"„Úrslitin eru það mikilvægasta sem við tökum með okkur úr leik kvöldsins. Það er afrek að vinna Porto á útivelli. Að sigra eins og við sigruðum gerir sigurinn enn sætari,“ sagði Jürgen Klopp að loknum 5-1 sigri Liverpool á Drekavöllum í kvöld.\n",
    "„Það var mikið af góðum augnablikum í leik kvöldsins. Við gátum séð að Porto horfði á leikinn okkar gegn Brentford þar sem þeir voru mjög beinskeyttir, ég vildi lagfæra það á vellinum og við gerðum það skref fyrir skref.“\n",
    "\"\"\"\n",
    "sport = tokenize_and_lemmatize(sport)"
   ]
  },
  {
   "cell_type": "code",
   "execution_count": 38,
   "id": "2bf1c99f-37ea-4163-abd7-5b57b217df27",
   "metadata": {
    "id": "PVOd2tyweMbH"
   },
   "outputs": [],
   "source": [
    "covid= \"\"\"Í gær greindust 36 einstaklingar innanlands með Covid-19 og voru 28 í sóttkví við greiningu. Tuttugu voru óbólusettir. 348 einstaklingar eru í einangrun hér á landi vegna sjúkdómsins og 1.164 í sóttkví. \"\"\"\n",
    "covid=tokenize_and_lemmatize(covid)"
   ]
  },
  {
   "cell_type": "code",
   "execution_count": 39,
   "id": "8e9029e2-030f-4578-9ee1-0bd1669718f4",
   "metadata": {
    "colab": {
     "base_uri": "https://localhost:8080/"
    },
    "id": "nS6Q-0QNfMpG",
    "outputId": "d249ca26-668d-4590-db68-61f72d306eb2"
   },
   "outputs": [],
   "source": [
    "def classify(text, verbose=False):\n",
    "    bow_vector = id2word.doc2bow(text)\n",
    "    #print(lda_model[bow_vector])\n",
    "    for index, score in sorted(lda_model[bow_vector][0], key=lambda tup: -1*tup[1]):\n",
    "        if verbose:\n",
    "            print(\"Cluster: {}\\t Score: {}\\t Topic: {}\".format(index, score, lda_model.print_topic(index, 5)))\n",
    "    if verbose:\n",
    "        print()\n",
    "    return(lda_model[bow_vector][0])"
   ]
  },
  {
   "cell_type": "code",
   "execution_count": 40,
   "id": "f28bc8f7-6e9b-4d43-8d95-637b02fcb0b6",
   "metadata": {},
   "outputs": [],
   "source": [
    "def lda_group(indexes, verbose=False):\n",
    "    mat = np.zeros((len(indexes), 10), dtype=np.float32)\n",
    "    for i, example in enumerate(tqdm.tqdm(indexes)):\n",
    "        text = data_train.loc[example][\"text_tokenized\"] # getur verið news_Big fyrir öll dæmin\n",
    "        lemm_text = tokenize_and_lemmatize(text)\n",
    "        vec = classify(lemm_text)\n",
    "        for group, score in vec:\n",
    "            mat[i, group] = score\n",
    "    score_sum = np.sum(mat, axis=0)\n",
    "    if verbose:\n",
    "        print(score_sum)\n",
    "        prin3t(score_sum/sum(score_sum))\n",
    "        print(-np.sort(-score_sum))\n",
    "        print(np.argsort(-score_sum))\n",
    "    return mat"
   ]
  },
  {
   "cell_type": "code",
   "execution_count": 41,
   "id": "a223672a-7c7a-409c-8743-e42917eec218",
   "metadata": {},
   "outputs": [],
   "source": [
    "jalist = list(ja)"
   ]
  },
  {
   "cell_type": "code",
   "execution_count": 42,
   "id": "16e6f0b9-2ca0-400c-abe7-4f2a0c2899c0",
   "metadata": {},
   "outputs": [
    {
     "name": "stderr",
     "output_type": "stream",
     "text": [
      "100%|██████████| 21/21 [00:00<00:00, 22.23it/s]\n"
     ]
    }
   ],
   "source": [
    "ja_mat = lda_group(jalist, False)"
   ]
  },
  {
   "cell_type": "code",
   "execution_count": 43,
   "id": "25cbb48e-a403-4f58-8e04-86c7bd48431a",
   "metadata": {},
   "outputs": [
    {
     "data": {
      "text/plain": [
       "array([6, 6, 3, 0, 6, 6, 6, 6, 8, 8, 6, 3, 6, 8, 3, 6, 6, 6, 3, 8, 6])"
      ]
     },
     "execution_count": 43,
     "metadata": {},
     "output_type": "execute_result"
    }
   ],
   "source": [
    "np.argmax(ja_mat, axis=1)"
   ]
  },
  {
   "cell_type": "code",
   "execution_count": 44,
   "id": "f243a8da-ca62-4e2a-84a3-01a6623e0708",
   "metadata": {},
   "outputs": [
    {
     "data": {
      "text/plain": [
       "232512"
      ]
     },
     "execution_count": 44,
     "metadata": {},
     "output_type": "execute_result"
    }
   ],
   "source": [
    "jalist[0]"
   ]
  },
  {
   "cell_type": "code",
   "execution_count": 45,
   "id": "d3960e30-9bfa-466d-ad56-5a2b0eaae1c1",
   "metadata": {},
   "outputs": [
    {
     "name": "stderr",
     "output_type": "stream",
     "text": [
      "100%|██████████| 1/1 [00:00<00:00, 59.62it/s]\n"
     ]
    },
    {
     "data": {
      "text/plain": [
       "array([[0.24969345, 0.12265364, 0.03776057, 0.23873852, 0.01138334,\n",
       "        0.        , 0.1971642 , 0.01023057, 0.11940619, 0.        ]],\n",
       "      dtype=float32)"
      ]
     },
     "execution_count": 45,
     "metadata": {},
     "output_type": "execute_result"
    }
   ],
   "source": [
    "lda_group([285192])"
   ]
  },
  {
   "cell_type": "code",
   "execution_count": 46,
   "id": "59dc8664-1b17-450d-88d5-47853b9accdb",
   "metadata": {},
   "outputs": [
    {
     "data": {
      "text/plain": [
       "title                             Nýtt skógarmeindýr annað hvert ár\n",
       "author                                       Kristín Sigurðardóttir\n",
       "timestamp                                       2019-09-18 16:34:14\n",
       "text              Mikið landnám skógarmeindýra á undanförnum þre...\n",
       "text_tokenized    Mikið landnám skógarmeindýra á undanförnum þre...\n",
       "Name: 285192, dtype: object"
      ]
     },
     "execution_count": 46,
     "metadata": {},
     "output_type": "execute_result"
    }
   ],
   "source": [
    "data_train.loc[285192]"
   ]
  },
  {
   "cell_type": "code",
   "execution_count": 47,
   "id": "8acdf371-604a-4771-b0b4-5f2c6a0fdd70",
   "metadata": {},
   "outputs": [],
   "source": [
    "# atta = [3,6,19,20]\n",
    "# þristur = [8,12,15,16]\n",
    "# sexa = [1,2,4,5,7,8,9,10,11,13,14,17]\n",
    "# \n",
    "# for i in atta:\n",
    "#     print(data_train.loc[jalist[i]][\"title\"])\n",
    "# print()\n",
    "# for i in þristur:\n",
    "#     print(data_train.loc[jalist[i]][\"title\"])\n",
    "# print()\n",
    "# for i in sexa:\n",
    "#     print(data_train.loc[jalist[i]][\"title\"])"
   ]
  },
  {
   "cell_type": "code",
   "execution_count": 48,
   "id": "81939c4d-ca99-4fa4-9de2-f2e7b1b60dac",
   "metadata": {},
   "outputs": [
    {
     "name": "stderr",
     "output_type": "stream",
     "text": [
      "100%|██████████| 30/30 [00:00<00:00, 50.59it/s]\n"
     ]
    },
    {
     "data": {
      "text/plain": [
       "array([6, 4, 3, 3, 3, 1, 8, 7, 0, 4, 8, 7, 3, 3, 1, 9, 3, 0, 8, 9, 2, 6,\n",
       "       0, 8, 2, 8, 8, 3, 4, 1])"
      ]
     },
     "execution_count": 48,
     "metadata": {},
     "output_type": "execute_result"
    }
   ],
   "source": [
    "neineilist = list(neinei)\n",
    "nei_mat = lda_group(neineilist)\n",
    "np.argmax(nei_mat, axis=1)"
   ]
  },
  {
   "cell_type": "code",
   "execution_count": 49,
   "id": "150c8ce7-cde3-43f0-95d4-76708cc86dc6",
   "metadata": {},
   "outputs": [
    {
     "data": {
      "text/plain": [
       "title                           Smit virðast dreifð víða á Akureyri\n",
       "author                                           Urður Örlygsdóttir\n",
       "timestamp                                       2020-10-28 17:48:00\n",
       "text              Um helgina kom upp smit á Norðurlandi eystra s...\n",
       "text_tokenized    Um helgina kom upp smit á Norðurlandi eystra s...\n",
       "Name: 566916, dtype: object"
      ]
     },
     "execution_count": 49,
     "metadata": {},
     "output_type": "execute_result"
    }
   ],
   "source": [
    "data_train.loc[neineilist[2]]"
   ]
  },
  {
   "cell_type": "code",
   "execution_count": 50,
   "id": "4d4c9a36-34ad-4f52-92c3-6edc3b607720",
   "metadata": {},
   "outputs": [],
   "source": [
    "import matplotlib.pyplot as plt\n",
    "def visual_groups(vigur):\n",
    "    plt.bar(list(range(10)), vigur)\n",
    "    plt.show()\n",
    "    \n",
    "    plt.bar(range(len(vigur)), -np.sort(-vigur))\n",
    "    plt.xticks(range(len(vigur)), np.argsort(-vigur))\n",
    "    plt.show()\n",
    "    \n",
    "    # Athuga að sýna líka topphópa ekki bara summu einkunna"
   ]
  },
  {
   "cell_type": "code",
   "execution_count": 51,
   "id": "08df8086-ebe3-4bfa-b629-3aae6ee704c6",
   "metadata": {},
   "outputs": [
    {
     "name": "stderr",
     "output_type": "stream",
     "text": [
      "100%|██████████| 54/54 [00:07<00:00,  7.12it/s]\n"
     ]
    },
    {
     "data": {
      "image/png": "[encoded data removed]",
      "text/plain": [
       "<Figure size 432x288 with 1 Axes>"
      ]
     },
     "metadata": {
      "needs_background": "light"
     },
     "output_type": "display_data"
    },
    {
     "data": {
      "image/png": "[encoded data removed]",
      "text/plain": [
       "<Figure size 432x288 with 1 Axes>"
      ]
     },
     "metadata": {
      "needs_background": "light"
     },
     "output_type": "display_data"
    }
   ],
   "source": [
    "visual_groups(np.sum(lda_group(annad, False), axis=0))"
   ]
  },
  {
   "cell_type": "code",
   "execution_count": 52,
   "id": "fd4bc052-bad3-4329-9188-0629accd9e85",
   "metadata": {},
   "outputs": [],
   "source": [
    "# Keyrir í tæpar 40 mín, stallar á 95% að því er virðist að eilífu\n",
    "# playground_groups = lda_group(data_playground.index, True)"
   ]
  },
  {
   "cell_type": "code",
   "execution_count": 53,
   "id": "af00e1da-5135-4110-a588-2d7e252e0a68",
   "metadata": {},
   "outputs": [],
   "source": [
    "# Pælingar á ís.\n",
    "\n",
    "# for j in data_test_labeled[data_test_labeled[\"label\"] == 1][\"text\"]:\n",
    "#     classify(tokenize_and_lemmatize(j))\n",
    "#     print(j, \"\\n\")\n",
    "# \n",
    "# data_test_labeled[data_test_labeled[\"label\"] == 0][:10][\"text\"]\n",
    "# for nei in data_test_labeled[data_test_labeled[\"label\"] == 0][:10][\"text\"]:\n",
    "#     classify(tokenize_and_lemmatize(nei))\n",
    "#     print(nei, \"\\n\")\n",
    "# for nei in data_test_labeled[data_test_labeled[\"label\"] == 0][:10]:\n",
    "#     print(nei)\n",
    "#     texti = nei[\"text\"]\n",
    "#     print(nei[\"title\"])\n",
    "#     classify(tokenize_and_lemmatize(texti))\n",
    "#     print(texti, \"\\n\")"
   ]
  },
  {
   "cell_type": "markdown",
   "id": "25f7f5c6-a060-45e4-a1ca-d962496d3135",
   "metadata": {},
   "source": [
    "# TF IDF pælingar"
   ]
  },
  {
   "cell_type": "code",
   "execution_count": 54,
   "id": "2aa6a2b7-1ab7-4a6c-bd44-6efb3d5cea0a",
   "metadata": {},
   "outputs": [],
   "source": [
    "from gensim import models\n",
    "from gensim import matutils\n",
    "import time"
   ]
  },
  {
   "cell_type": "code",
   "execution_count": 55,
   "id": "de4b63bc-2658-49aa-a043-6d358eb8a998",
   "metadata": {},
   "outputs": [],
   "source": [
    "tfidf = models.TfidfModel(corpus) # sami corpus og fyrir LDA\n",
    "corpus_tfidf = tfidf[corpus] # lazy"
   ]
  },
  {
   "cell_type": "code",
   "execution_count": 56,
   "id": "015be586-fde2-4ea4-b0b6-d3300174774d",
   "metadata": {},
   "outputs": [],
   "source": [
    "lsi_200 = models.LsiModel.load(\"lsi_model_200\")\n",
    "corpus_lsi_200 = lsi_200[corpus_tfidf] "
   ]
  },
  {
   "cell_type": "code",
   "execution_count": 57,
   "id": "ea49bf53-484e-4cb9-85bc-2fb0b97cd881",
   "metadata": {},
   "outputs": [],
   "source": [
    "lsi_500 = models.LsiModel.load(\"lsi_model_500\")\n",
    "corpus_lsi_500 = lsi_500[corpus_tfidf] "
   ]
  },
  {
   "cell_type": "code",
   "execution_count": 58,
   "id": "501a4ad2-70a9-4861-ad78-ed262c0da1e7",
   "metadata": {},
   "outputs": [],
   "source": [
    "load = True\n",
    "if not load:\n",
    "    t = time.time()\n",
    "    lsi_model = models.LsiModel(corpus_tfidf, id2word=id2word, num_topics=200)  \n",
    "    corpus_lsi = lsi_model[corpus_tfidf] \n",
    "    print(time.time() - t)"
   ]
  },
  {
   "cell_type": "code",
   "execution_count": 59,
   "id": "aa70904e-26ae-4d58-b6de-df95f82e39f7",
   "metadata": {},
   "outputs": [
    {
     "name": "stdout",
     "output_type": "stream",
     "text": [
      "['neytendasamtök', 'leigjenda-aðstoð', 'leigjandi', 'íbúðarhúsnæði', 'samningur', 'félagsmálaráðuneyti', 'dagur', 'neytendasamtök', 'þjónusta', 'ár', 'ásmundur', 'félag', 'barnamála-ráðherra', 'samningur', 'formaður', 'neytendasamtök', 'samningur', 'áramót', 'þjónusta', 'samningur', 'leigjandi', 'íbúðarhúsnæði', 'upplýsing', 'húsaleigulög', 'ráðgjöf', 'ágreiningur', 'leigusamningur', 'íbúðarhúsnæði', 'þjónusta', 'leigjandi', 'leigjenda-aðstoð', 'símatími', 'þriðjudagur', 'upplýsing', 'réttindi', 'leigjandi', 'leigjenda-aðstoð']\n"
     ]
    }
   ],
   "source": [
    "data_train.loc[jalist[2]][\"text\"]\n",
    "print(data_words[data_train.index.get_loc(2826)])\n"
   ]
  },
  {
   "cell_type": "code",
   "execution_count": 84,
   "id": "aed4027a-eb46-406b-baf5-f39b4b43f237",
   "metadata": {},
   "outputs": [
    {
     "data": {
      "text/plain": [
       "0.02243280872289521"
      ]
     },
     "execution_count": 84,
     "metadata": {},
     "output_type": "execute_result"
    }
   ],
   "source": [
    "topic_vector = [\"friðland\", \"andrúmsloft\", \"umhverfissjónarmið\", \"loftslagsáhrif\", \"sjávarborð\", \"loftslagsvísindi\", \"ísöld\", \"náttúruhamfarir\", \"loftslagslíkan\", \"friðun\", \"loftslag-breyting\", \"umhverfisverndarsinni\", \"losun\", \"heildarlosun\", \"kol\", \"umhverfisverndarstofa\", \"umhverfisdómstóll\", \"auðlindaráðuneyti\", \"loftslagsstefna\", \"orkunotkun\", \"umhverfisskattur\", \"aðgerðasinni\", \"hamfarahlýnun\", \"skref\", \"útlosun\", \"lifnaðarháttur\", \"náttúruauðlind\", \"náttúruverndarlög\", \"umhverfisfræði\", \"orkugjafi\", \"loftslagsmál\", \"landnotkun\", \"úrgangur\", \"sóun\", \"útblástur\", \"gráðurhúsaáhrif\", \"stóriðja\", \"kolefnishlutleysi\", \"umhverfisþing\", \"umhverfisáhrif\", \"loftslagsbreyting\", \"súrnun\", \"sjór\", \"vistkerfi\", \"hringrásarhagkerfi\", \"sjálfbærni\", \"parísarsamkomulag\", \"gróðurhúsalofttegund\", \"loftslagsaðgerðir\", \"loftslagsvá\", \"náttúruvernd\", \"loftslag\", \"umhverfi\", \"náttúra\", \"hlýnun\", \"jörð\", \"loftslagsráðstefna\", \"þjóðgarður\", \"bráðna\", \"jökull\", \"umhverfisvernd\", \"mengun\", \"jarðefnaeldsneyti\", \"náttúruverðmæti\"]\n",
    "topic_vector.sort()\n",
    "t = lsi_500[tfidf[id2word.doc2bow(topic_vector)]]\n",
    "a = corpus_lsi_500[300]\n",
    "# sama og \n",
    "# a = lsi_model[tfidf[corpus[300]]]\n",
    "matutils.cossim(a, t)"
   ]
  },
  {
   "cell_type": "code",
   "execution_count": 62,
   "id": "88a5ae3f-c389-42a8-b05e-1c0ec294ea3c",
   "metadata": {},
   "outputs": [
    {
     "data": {
      "text/plain": [
       "[(0,\n",
       "  '0.223*\"lögregla\" + 0.177*\"leikmaður\" + 0.165*\"maður\" + 0.162*\"félag\" + 0.151*\"dagur\" + 0.150*\"ísland\" + 0.137*\"fólk\" + 0.129*\"kvöld\" + 0.123*\"mínúta\" + 0.123*\"kona\"'),\n",
       " (1,\n",
       "  '0.315*\"lögregla\" + -0.279*\"leikmaður\" + -0.253*\"hálfleikur\" + -0.249*\"mínúta\" + -0.229*\"sigur\" + -0.219*\"deild\" + -0.169*\"úrvalsdeild\" + -0.164*\"mark\" + -0.154*\"leikur\" + -0.147*\"kvöld\"'),\n",
       " (2,\n",
       "  '0.579*\"lögregla\" + -0.172*\"félag\" + 0.158*\"ökumaður\" + -0.148*\"flokkur\" + -0.146*\"prósent\" + 0.144*\"maður\" + -0.123*\"forseti\" + 0.123*\"bíll\" + -0.119*\"milljarður\" + 0.116*\"mínúta\"'),\n",
       " (3,\n",
       "  '-0.500*\"félag\" + -0.386*\"leikmaður\" + 0.214*\"mínúta\" + 0.214*\"hálfleikur\" + -0.203*\"milljón\" + 0.186*\"flokkur\" + 0.154*\"sigur\" + 0.151*\"forseti\" + -0.141*\"milljarður\" + 0.134*\"þingmaður\"'),\n",
       " (4,\n",
       "  '-0.330*\"flokkur\" + -0.260*\"lögregla\" + 0.207*\"barn\" + -0.203*\"prósent\" + -0.196*\"þingmaður\" + -0.174*\"sjálfstæðis-flokkur\" + -0.156*\"félag\" + -0.155*\"kosning\" + 0.155*\"mynd\" + 0.124*\"fólk\"'),\n",
       " (5,\n",
       "  '-0.439*\"leikmaður\" + 0.264*\"milljarður\" + 0.245*\"mínúta\" + 0.230*\"hálfleikur\" + -0.187*\"forseti\" + 0.173*\"milljón\" + 0.172*\"prósent\" + 0.161*\"fyrirtæki\" + -0.157*\"flokkur\" + -0.148*\"landslið\"'),\n",
       " (6,\n",
       "  '-0.312*\"rigning\" + 0.232*\"kona\" + -0.226*\"land\" + -0.210*\"morgunn\" + -0.203*\"veðurstofa\" + -0.178*\"klukka\" + 0.162*\"barn\" + -0.146*\"kvöld\" + -0.129*\"snjókoma\" + 0.124*\"dómur\"'),\n",
       " (7,\n",
       "  '-0.444*\"forseti\" + -0.403*\"bandaríki\" + -0.184*\"árás\" + 0.181*\"flokkur\" + 0.171*\"kona\" + -0.126*\"mínúta\" + 0.123*\"prósent\" + 0.121*\"barn\" + 0.120*\"mynd\" + 0.113*\"sjálfstæðis-flokkur\"'),\n",
       " (8,\n",
       "  '0.342*\"sóttkví\" + 0.320*\"smit\" + 0.311*\"veira\" + -0.192*\"rigning\" + 0.173*\"kórónuveira\" + 0.153*\"faraldur\" + 0.151*\"landspítali\" + -0.150*\"mynd\" + -0.122*\"forseti\" + -0.121*\"kona\"'),\n",
       " (9,\n",
       "  '-0.283*\"klukka\" + 0.243*\"mínúta\" + -0.224*\"útsending\" + 0.224*\"leikmaður\" + -0.213*\"sport\" + -0.182*\"umferð\" + 0.180*\"rigning\" + -0.174*\"lýsing\" + -0.174*\"vísir\" + -0.164*\"viðureign\"')]"
      ]
     },
     "execution_count": 62,
     "metadata": {},
     "output_type": "execute_result"
    }
   ],
   "source": [
    "lsi_200.print_topics(10)"
   ]
  },
  {
   "cell_type": "code",
   "execution_count": 63,
   "id": "85ce0cf4-c717-43f2-b6ff-18591b2d8e6a",
   "metadata": {},
   "outputs": [],
   "source": [
    "#import logging\n",
    "#logging.basicConfig(format='%(asctime)s : %(levelname)s : %(message)s', level=logging.INFO)\n",
    "#logging.disable()\n"
   ]
  },
  {
   "cell_type": "code",
   "execution_count": 64,
   "id": "146caf92-b747-414a-9f99-7292784469f8",
   "metadata": {},
   "outputs": [],
   "source": [
    "#for doc, as_text in zip(corpus_lsi, data_train[\"text\"][:55000]):\n",
    "#    print(doc, as_text)\n",
    "#"
   ]
  },
  {
   "cell_type": "code",
   "execution_count": 65,
   "id": "2b6123f2-3ba4-4a63-8ba6-6573a31d5f66",
   "metadata": {},
   "outputs": [
    {
     "name": "stdout",
     "output_type": "stream",
     "text": [
      "0.7999960960194807 2826\n"
     ]
    }
   ],
   "source": [
    "maxs, maxi = (-1,-1)\n",
    "for i in range(10000):\n",
    "    a = lsi_500[tfidf[corpus[i]]]\n",
    "    sim = matutils.cossim(a,t)\n",
    "    if sim > maxs:\n",
    "        maxs = sim\n",
    "        maxi = i\n",
    "print(maxs, maxi)"
   ]
  },
  {
   "cell_type": "code",
   "execution_count": 80,
   "id": "efc9c5c2-cc1c-42b7-a8f6-e90cbe41b172",
   "metadata": {},
   "outputs": [],
   "source": []
  },
  {
   "cell_type": "code",
   "execution_count": 81,
   "id": "0699c054-b781-4dcc-8795-4d40ebfd09c3",
   "metadata": {},
   "outputs": [
    {
     "data": {
      "text/plain": [
       "['andrúmsloft',\n",
       " 'auðlindaráðuneyti',\n",
       " 'aðgerðasinni',\n",
       " 'bráðna',\n",
       " 'friðun',\n",
       " 'gráðurhúsaáhrif',\n",
       " 'gróðurhúsalofttegund',\n",
       " 'hamfarahlýnun',\n",
       " 'heildarlosun',\n",
       " 'hlýnun',\n",
       " 'hringrásarhagkerfi',\n",
       " 'jarðefnaeldsneyti',\n",
       " 'jökull',\n",
       " 'jörð',\n",
       " 'kol',\n",
       " 'kolefnishlutleysi',\n",
       " 'landnotkun',\n",
       " 'lifnaðarháttur',\n",
       " 'loftslag',\n",
       " 'loftslag-breyting',\n",
       " 'loftslagsaðgerðir',\n",
       " 'loftslagsbreyting',\n",
       " 'loftslagslíkan',\n",
       " 'loftslagsmál',\n",
       " 'loftslagsráðstefna',\n",
       " 'loftslagsstefna',\n",
       " 'loftslagsvá',\n",
       " 'loftslagsvísindi',\n",
       " 'loftslagsáhrif',\n",
       " 'losun',\n",
       " 'mengun',\n",
       " 'náttúra',\n",
       " 'náttúruauðlind',\n",
       " 'náttúruhamfarir',\n",
       " 'náttúruvernd',\n",
       " 'náttúruverndarlög',\n",
       " 'náttúruverðmæti',\n",
       " 'orkugjafi',\n",
       " 'orkunotkun',\n",
       " 'parísarsamkomulag',\n",
       " 'sjálfbærni',\n",
       " 'sjávarborð',\n",
       " 'sjór',\n",
       " 'skref',\n",
       " 'stóriðja',\n",
       " 'sóun',\n",
       " 'súrnun',\n",
       " 'umhverfi',\n",
       " 'umhverfisdómstóll',\n",
       " 'umhverfisfræði',\n",
       " 'umhverfissjónarmið',\n",
       " 'umhverfisskattur',\n",
       " 'umhverfisvernd',\n",
       " 'umhverfisverndarsinni',\n",
       " 'umhverfisverndarstofa',\n",
       " 'umhverfisáhrif',\n",
       " 'umhverfisþing',\n",
       " 'vistkerfi',\n",
       " 'ísöld',\n",
       " 'úrgangur',\n",
       " 'útblástur',\n",
       " 'útlosun',\n",
       " 'þjóðgarður']"
      ]
     },
     "execution_count": 81,
     "metadata": {},
     "output_type": "execute_result"
    }
   ],
   "source": [
    "topic_vector"
   ]
  },
  {
   "cell_type": "code",
   "execution_count": 66,
   "id": "3b3a5290-7122-45c0-9576-51d95c313b25",
   "metadata": {},
   "outputs": [],
   "source": [
    "for i in range(10000):\n",
    "    a = lsi_200[tfidf[corpus[i]]]\n",
    "    sim = matutils.cossim(a,t)\n",
    "    if sim > 0.4:\n",
    "        print(data_train.iloc[i][\"title\"])\n",
    "\n"
   ]
  },
  {
   "cell_type": "code",
   "execution_count": 78,
   "id": "43576743-ecd5-4c74-9693-6ef06e806c92",
   "metadata": {},
   "outputs": [
    {
     "name": "stdout",
     "output_type": "stream",
     "text": [
      "0.5123703398629668 Segja loftslagsvána ekki raunverulega\n",
      "0.6386845049222059 Kerfisbreytingar eiga að snúast um loftslagsbreytingar\n",
      "0.37754608342761603 Varpa nýju ljósi á loftslagsbreytingar\n",
      "0.3873552676439344 Nýtt skógarmeindýr annað hvert ár\n",
      "0.4458907502267 Trump getur ekki afnumið loftslagsaðgerðir með töfrasprota\n",
      "0.18441685120051762 Guðlaugur Þór stýrði utanríkisráðherrafundi NB8 og Visegrad-ríkja\n",
      "0.3431356859085665 Undirrituðu yfirlýsingu um vatnsöryggi\n",
      "0.22592427400246126 Katrín ætlar að ræða við Guðna um að Svandís verði sett yfir nokkrum málum Guðmundar\n",
      "0.060430130793518444 Gera ekki athugasemdir við umhverfisvænt fiskeldi\n",
      "0.13634147426099263 Hrygning bleikju hafin í vötnum landsins\n",
      "0.3850365522495037 Umhverfisþing hafið í Hörpu \n",
      "0.23902998246538248 Hitamet staðfest á einum kaldasta stað jarðar\n",
      "0.4587271247055451 Vilja sóðaskatt og allir verði vegan\n",
      "0.24148444387948592 „Orð eru ódýr en aðgerðir kosta“\n",
      "0.2590075850719728 Vatnsskortur yfirvofandi í Danmörku – Miklir þurrkar ógna grunnvatninu\n",
      "0.1116169108595538 Tvö græn skref stigin í rekstri velferðarráðuneytisins\n",
      "0.08963780119023716 Boðað til kynningarfundar vegna fyrstu verkefna nefndar um miðhálendisþjóðgarð \n",
      "0.06941788450920243 Lausna leitað varðandi fráveitumál við Mývatn \n",
      "0.4571266712786984 Banna kolanámu vegna loftslagsáhrifa afurðanna\n",
      "0.45237758272520623 Seiðaeldi hefur ekki áhrif á hverastrýtur\n",
      "0.2300412263457067 Tilnefningar til Fjölmiðlaverðlauna á Degi íslenskrar náttúru\n"
     ]
    }
   ],
   "source": [
    "for i in jalist:\n",
    "    a = corpus_lsi_500[data_train.index.get_loc(i)]\n",
    "    sim = matutils.cossim(a,t)\n",
    "    print(sim, data_train.loc[i][\"title\"])"
   ]
  },
  {
   "cell_type": "code",
   "execution_count": 76,
   "id": "cf1b742d-5f33-4fff-9e53-037d8476b7dc",
   "metadata": {},
   "outputs": [
    {
     "data": {
      "text/plain": [
       "'Gera ekki athugasemdir við umhverfisvænt fiskeldi'"
      ]
     },
     "execution_count": 76,
     "metadata": {},
     "output_type": "execute_result"
    }
   ],
   "source": [
    "data_train.loc[jalist[8]][\"title\"]"
   ]
  },
  {
   "cell_type": "code",
   "execution_count": 69,
   "id": "1fdc9423-2466-40b6-b0e5-d619c6700868",
   "metadata": {},
   "outputs": [],
   "source": [
    "from gensim import similarities\n",
    "\n",
    "index = similarities.SparseMatrixSimilarity(tfidf[corpus], num_features=12)\n"
   ]
  },
  {
   "cell_type": "code",
   "execution_count": null,
   "id": "58225f7b-11be-407f-b5f0-672ac932bccc",
   "metadata": {},
   "outputs": [],
   "source": []
  },
  {
   "cell_type": "code",
   "execution_count": 74,
   "id": "52509383-b7ae-40f2-b701-f1a02d893cd5",
   "metadata": {},
   "outputs": [],
   "source": [
    "query_document = topic_vector\n"
   ]
  },
  {
   "cell_type": "code",
   "execution_count": 75,
   "id": "a4815d24-feaf-43f4-b32a-fccb96775548",
   "metadata": {},
   "outputs": [],
   "source": [
    "query_bow = id2word.doc2bow(query_document)\n"
   ]
  },
  {
   "cell_type": "code",
   "execution_count": null,
   "id": "5b363f5f-e668-49e8-a3d1-a03fe057ddfd",
   "metadata": {},
   "outputs": [],
   "source": [
    "# Krassar\n",
    "# sims = index[tfidf[query_bow]]\n",
    "index.get_similarities(tfidf[id2word.doc2bow(topic_vector)])\n"
   ]
  },
  {
   "cell_type": "code",
   "execution_count": null,
   "id": "b27fa0d2-0656-4ffb-a812-b116a357570d",
   "metadata": {},
   "outputs": [],
   "source": [
    "print(list(enumerate(sims)))"
   ]
  },
  {
   "cell_type": "markdown",
   "id": "ec33550e-149a-4d90-8bc8-7c0a6944bfba",
   "metadata": {},
   "source": [
    "# NER"
   ]
  },
  {
   "cell_type": "code",
   "execution_count": 86,
   "id": "5521ee39-3918-42c9-af38-1754ab9b4470",
   "metadata": {},
   "outputs": [],
   "source": [
    "from transformers import AutoModelForTokenClassification\n",
    "from transformers import pipeline\n",
    "from transformers import AutoTokenizer\n",
    "    \n",
    "model = AutoModelForTokenClassification.from_pretrained(\"eliasbe/IceBERT-finetuned-ner\")\n",
    "tokenizer = AutoTokenizer.from_pretrained(\"eliasbe/IceBERT-finetuned-ner\")\n",
    "iceb = pipeline(\"ner\", model=model, tokenizer=tokenizer)"
   ]
  },
  {
   "cell_type": "code",
   "execution_count": 96,
   "id": "2198c0ac-c6f8-429b-bba1-b8147269efef",
   "metadata": {},
   "outputs": [],
   "source": [
    "modelX = AutoModelForTokenClassification.from_pretrained(\"eliasbe/XLMR-ENIS-finetuned-ner\")\n",
    "tokenizerX = AutoTokenizer.from_pretrained(\"eliasbe/XLMR-ENIS-finetuned-ner\")\n",
    "xlmr = pipeline(\"ner\", model=modelX, tokenizer=tokenizerX)"
   ]
  },
  {
   "cell_type": "markdown",
   "id": "e06330fa-38f6-4df1-aac9-36e93902e6f3",
   "metadata": {},
   "source": [
    "Það er hámarkslengd á inputi í þessi módel, þarf að finna lausn á því"
   ]
  },
  {
   "cell_type": "code",
   "execution_count": null,
   "id": "b0807384-21d6-4f24-84ac-027f81638720",
   "metadata": {},
   "outputs": [],
   "source": [
    "xlmr(data_train.loc[jalist[1]][\"text_tokenized\"])"
   ]
  },
  {
   "cell_type": "code",
   "execution_count": 222,
   "id": "53b87664-dbe8-4aeb-ba59-ae01181fc9ac",
   "metadata": {},
   "outputs": [],
   "source": [
    "\n",
    "# Athuga að við viljum væntanlega halda utan um staðsetningu líka\n",
    "def get_names(text):\n",
    "    l = list()\n",
    "    end = -1\n",
    "    beg = False\n",
    "    for entry in xlmr(text):\n",
    "        if entry['entity'] in {'B-Person', 'I-Person'}:                               \n",
    "            word = entry['word'].strip() \n",
    "            if word in set(string.punctuation):\n",
    "                end = int(entry['end'])\n",
    "                continue\n",
    "            if word[0] == '▁':\n",
    "                word = word[1:]\n",
    "                beg = True\n",
    "            if end == int(entry['start']):\n",
    "                last = l[-1]\n",
    "                if beg:\n",
    "                    nxt = \" \".join([last, word])\n",
    "                else:\n",
    "                    nxt = \"\".join([last, word])\n",
    "                l = l[:-1]\n",
    "                l.append(nxt)\n",
    "            else:\n",
    "                l.append(word)\n",
    "            end = int(entry['end'])\n",
    "        beg = False\n",
    "    #for nafn in l:\n",
    "    #    if nafn[-1] in set(string.punctuation):\n",
    "    #        print(\"ja\", nafn)\n",
    "    #        nafn = nafn[:-1]\n",
    "    #        print(nafn)\n",
    "    l = set(l)\n",
    "    return l\n",
    "            "
   ]
  },
  {
   "cell_type": "code",
   "execution_count": 223,
   "id": "69df9ae7-9d35-468b-8935-9b57f638984d",
   "metadata": {},
   "outputs": [
    {
     "data": {
      "text/plain": [
       "{'Adda María Jóhannsdóttir'}"
      ]
     },
     "execution_count": 223,
     "metadata": {},
     "output_type": "execute_result"
    }
   ],
   "source": [
    "get_names(alþingi[0])"
   ]
  },
  {
   "cell_type": "code",
   "execution_count": 264,
   "id": "d6ff6adb-e742-47da-8a25-4e882ae587fe",
   "metadata": {},
   "outputs": [],
   "source": [
    "def nefnifall(nafnalisti):\n",
    "    out = list()\n",
    "    for nafn in nafnalisti:\n",
    "        temp = list()\n",
    "        cats = list()\n",
    "        nöfn = nafn.split()\n",
    "        \n",
    "        # Athuga ef nöfnin hafa mörg kyn, kjósa um það\n",
    "        for n in nöfn:\n",
    "            kyn = list(b.lookup_cats(n))\n",
    "            for k in kyn:\n",
    "                cats.append(k)\n",
    "        if len(set(cats)) > 1:\n",
    "            k = max(set(cats), key=cats.count)\n",
    "        elif cats:\n",
    "            k = cats[0]\n",
    "        #print(k)\n",
    "        # Setja nefnifallið í lista\n",
    "        for n in nöfn:   \n",
    "            try:\n",
    "                variant = b.lookup_variants(n, k, (\"NF\", \"ET\"))\n",
    "            except:\n",
    "                variant = None\n",
    "            #print(variant)\n",
    "            if variant: \n",
    "                temp.append(variant[0].bmynd)\n",
    "            else:\n",
    "                temp.append(n)\n",
    "        out.append(\" \".join(temp))\n",
    "    return out"
   ]
  },
  {
   "cell_type": "code",
   "execution_count": 182,
   "id": "d68c85c6-fb0d-49a0-bfae-3a2a0aea3d9d",
   "metadata": {},
   "outputs": [
    {
     "data": {
      "text/plain": [
       "['Guðmundur Halldórsson', 'Brynja Hrafnkelsdóttir', 'Edda S. Oddsdóttir']"
      ]
     },
     "execution_count": 182,
     "metadata": {},
     "output_type": "execute_result"
    }
   ],
   "source": [
    "nefnifall(get_names(data_train.loc[jalist[3]][\"text_tokenized\"]))"
   ]
  },
  {
   "cell_type": "code",
   "execution_count": 183,
   "id": "4d703bb7-5dbd-4eb5-810a-15ef681f62b5",
   "metadata": {},
   "outputs": [
    {
     "name": "stdout",
     "output_type": "stream",
     "text": [
      "{'Adda María Jóhannsdóttir.'}\n",
      "['Adda María Jóhannsdóttir.']\n",
      "{'Adda Bára Sigfúsdóttir'}\n",
      "['Adda Bára Sigfúsdóttir']\n",
      "{'Adolf H. Berndsen'}\n",
      "['Adolf H. Berndsen']\n"
     ]
    }
   ],
   "source": [
    "alþingi_sample = [\"Adda María Jóhannsdóttir. Varaþingmaður Suðvesturkjördæmis febrúar 2018 (Samfylkingin).\", \"Adda Bára Sigfúsdóttir. Varaþingmaður Reykvíkinga nóvember 1957 (Alþýðubandalag).\", \"Adolf H. Berndsen. Alþingismaður Norðurlands vestra 2003 (Sjálfstæðisflokkur).\"]\n",
    "for sentence in alþingi_sample:\n",
    "    print(get_names(sentence))\n",
    "    print(nefnifall(get_names(sentence)))"
   ]
  },
  {
   "cell_type": "code",
   "execution_count": 238,
   "id": "0aef26e5-5919-46de-a2da-5574e33e7aae",
   "metadata": {},
   "outputs": [],
   "source": [
    "def get_party(text):\n",
    "    l = list()\n",
    "    end = -1\n",
    "    beg = False\n",
    "    for entry in xlmr(text):\n",
    "        if entry['entity'] == 'B-Organization':                               \n",
    "            word = entry['word']\n",
    "            if word in set(string.punctuation):\n",
    "                end = int(entry['end'])\n",
    "                continue\n",
    "            if word[0] == '▁':\n",
    "                word = word[1:]\n",
    "                beg = True\n",
    "            if word[0] in set(string.punctuation):\n",
    "                word = word[1:]\n",
    "            if end == int(entry['start']):\n",
    "                last = l[-1]\n",
    "                if beg:\n",
    "                    nxt = \" \".join([last, word])\n",
    "                else:\n",
    "                    nxt = \"\".join([last, word])\n",
    "                l = l[:-1]\n",
    "                l.append(nxt)\n",
    "            else:\n",
    "                l.append(word) # Athuga með að sía fyrir raunverulegum flokkum\n",
    "            end = int(entry['end'])\n",
    "        beg = False\n",
    "    l = set(l)\n",
    "    return l\n",
    "            "
   ]
  },
  {
   "cell_type": "code",
   "execution_count": null,
   "id": "3ef6ef22-e261-4b18-a97e-b0879f08d4b6",
   "metadata": {},
   "outputs": [],
   "source": []
  },
  {
   "cell_type": "code",
   "execution_count": 240,
   "id": "e34d49e9-9011-4710-ad6e-cffdafed5b30",
   "metadata": {},
   "outputs": [],
   "source": [
    "# https://www.althingi.is/altext/cv/is/\n",
    "with open(\"Alþingismenn.txt\", \"r\") as f:\n",
    "    alþingi = f.readlines()\n",
    "\n",
    "member_party = dict()\n",
    "for sentence in alþingi:\n",
    "    \n",
    "    # ML methods\n",
    "    member = get_names(sentence)\n",
    "    party = get_party(sentence)\n",
    "    \n",
    "    # RE methods\n",
    "    # search = re.search(\"^(.*)\\. \", sentence)\n",
    "    # member = search[0]\n",
    "    # party = re.finditer(\"\\((.*)\\)\\.\", sentence)\n",
    "    \n",
    "    #print(member, party)\n",
    "    for m in member:       \n",
    "        member_party[m] = party"
   ]
  },
  {
   "cell_type": "code",
   "execution_count": 246,
   "id": "15ad0462-6d4e-4fb1-a44d-567264f28d03",
   "metadata": {},
   "outputs": [],
   "source": [
    "flokkar = set()\n",
    "for it in member_party.values():\n",
    "    for i in it:\n",
    "        flokkar.add(i)"
   ]
  },
  {
   "cell_type": "code",
   "execution_count": 249,
   "id": "bed188de-42d4-4f48-b914-198c3c9922e2",
   "metadata": {},
   "outputs": [],
   "source": [
    "# Ath að einræða flokka, greinir/ekki greinir\n",
    "flokkarsia = {'Alþýðubandalag',\n",
    " 'Alþýðubandalagið',\n",
    " 'Alþýðuflokkur',\n",
    " 'Alþýðuflokkurinn',\n",
    " 'Borgaraflokkur',\n",
    " 'Borgaraflokkurinn',\n",
    " 'Borgarahreyfingin',\n",
    " 'Bændaflokkur',\n",
    " 'Bændaflokkurinn',\n",
    " 'Framfaraflokkurinn',\n",
    " 'Framsóknar',\n",
    " 'Framsóknarflokkur',\n",
    " 'Framsóknarflokkurinn',\n",
    " 'Frjálslyndi',\n",
    " 'Heimastjórnarflokkurinn',\n",
    " 'Kommúnistaflokkurinn',\n",
    " 'Landvarnarflokkurinn',\n",
    " 'Miðflokkurinn',\n",
    " 'Píratar',\n",
    " 'Sambandsflokkurinn',\n",
    " 'Sameiningarflokkur',\n",
    " 'Samfylkingin',\n",
    " 'Sjálfstæðisflokkur',\n",
    " 'Sjálfstæðisflokkurinn',\n",
    " 'Sparnaðarbandalagið',\n",
    " 'Sósíalistaflokkur',\n",
    " 'Sósíalistaflokkurinn',\n",
    " 'Utanflokkabandalagið',\n",
    " 'Vinstrihreyfingin',\n",
    " 'Viðreisn',\n",
    " 'Árnesinga',\n",
    " 'Íhaldsflokkurinn',\n",
    " 'Þjóðræðisflokkurinn',\n",
    " 'Þjóðvaki',\n",
    " 'Þjóðvarnarflokkurinn',}"
   ]
  },
  {
   "cell_type": "code",
   "execution_count": 250,
   "id": "6cd657bc-7c40-4b3f-8f75-ef57af0d0945",
   "metadata": {},
   "outputs": [],
   "source": [
    "Vandkvæði = {'vennalistinn',\n",
    "'reisn',\n",
    "'ramsóknarflokkur',\n",
    "'Vinstrihreyf\\xadingin',\n",
    "'Hreyfingin',\n",
    "'Björt',\n",
    "'Alþýðu',\n",
    "'þingflokkur'}"
   ]
  },
  {
   "cell_type": "code",
   "execution_count": 274,
   "id": "304e1601-68a7-44ba-9dd4-7af20f249546",
   "metadata": {},
   "outputs": [
    {
     "data": {
      "text/plain": [
       "title             Guðlaugur Þór stýrði utanríkisráðherrafundi NB...\n",
       "author                                           Utanríkisráðuneyti\n",
       "timestamp                                       2019-04-01 12:48:00\n",
       "text              Öryggis-og varnarmál, þróun mála í Evrópu og m...\n",
       "text_tokenized    Öryggis- og varnarmál , þróun mála í Evrópu og...\n",
       "Name: 543888, dtype: object"
      ]
     },
     "execution_count": 274,
     "metadata": {},
     "output_type": "execute_result"
    }
   ],
   "source": [
    "data_train.loc[jalist[5]]"
   ]
  },
  {
   "cell_type": "code",
   "execution_count": 277,
   "id": "ed1ce34a-81fa-47d1-af45-037dbc0466e0",
   "metadata": {},
   "outputs": [
    {
     "name": "stdout",
     "output_type": "stream",
     "text": [
      "Guðlaugur Þór Þórðarson {'Sjálfstæðisflokkur'}\n",
      "\n",
      "{'Guðlaugur Þór', 'Guðlaugur Þór Þórðarson'} ['Guðlaugur Þórr', 'Guðlaugur Þórr Þórðarson']\n"
     ]
    }
   ],
   "source": [
    "text = data_train.loc[543888][\"text\"]\n",
    "names = get_names(text)\n",
    "names_nf = nefnifall(names)\n",
    "for n in names:\n",
    "    if n in member_party:\n",
    "        print(n, member_party[n])\n",
    "print()\n",
    "print(names, names_nf)"
   ]
  },
  {
   "cell_type": "markdown",
   "id": "581c02bc-780e-4eff-bef9-537635641517",
   "metadata": {},
   "source": [
    "Ath f. frétt 543888, nefnifall bætir við r-i aftan á 'Þór'!"
   ]
  },
  {
   "cell_type": "code",
   "execution_count": 289,
   "id": "f2fa4a4a-9716-44a5-ba28-3c2d025f1a11",
   "metadata": {},
   "outputs": [
    {
     "data": {
      "text/plain": [
       "{'Andrés Ingi Jónsson': 'Píratar',\n",
       " 'Arndís Anna Kristínardóttir Gunnarsdóttir': 'Píratar',\n",
       " 'Ágúst Bjarni Garðarsson': 'Framsóknarflokkur',\n",
       " 'Áslaug Arna Sigurbjörnsdóttir': 'Sjálfstæðisflokkur',\n",
       " 'Ásmundur Einar Daðason': 'Framsóknarflokkur',\n",
       " 'Ásmundur Friðriksson': 'Sjálfstæðisflokkur',\n",
       " 'Ásthildur Lóa Þórsdóttir': 'Flokkur fólksins',\n",
       " 'Berglind Ósk Guðmundsdóttir': 'Sjálfstæðisflokkur',\n",
       " 'Bergþór Ólason': 'Miðflokkurinn',\n",
       " 'Birgir Ármannsson': 'Sjálfstæðisflokkur',\n",
       " 'Birgir Þórarinsson': 'Sjálfstæðisflokkur',\n",
       " 'Bjarkey Olsen Gunnarsdóttir': 'Vinstrihreyfingin - grænt framboð',\n",
       " 'Bjarni Benediktsson': 'Sjálfstæðisflokkur',\n",
       " 'Bjarni Jónsson': 'Vinstrihreyfingin - grænt framboð',\n",
       " 'Björn Leví Gunnarsson': 'Píratar',\n",
       " 'Bryndís Haraldsdóttir': 'Sjálfstæðisflokkur',\n",
       " 'Diljá Mist Einarsdóttir': 'Sjálfstæðisflokkur',\n",
       " 'Eyjólfur Ármannsson': 'Flokkur fólksins',\n",
       " 'Gísli Rafn Ólafsson': 'Píratar',\n",
       " 'Guðbrandur Einarsson': 'Viðreisn',\n",
       " 'Guðlaugur Þór Þórðarson': 'Sjálfstæðisflokkur',\n",
       " 'Guðmundur Ingi Guðbrandsson': 'Vinstrihreyfingin - grænt framboð',\n",
       " 'Guðmundur Ingi Kristinsson': 'Flokkur fólksins',\n",
       " 'Guðrún Hafsteinsdóttir': 'Sjálfstæðisflokkur',\n",
       " 'Hafdís Hrönn Hafsteinsdóttir': 'Framsóknarflokkur',\n",
       " 'Halla Signý Kristjánsdóttir': ' Framsóknarflokkur',\n",
       " 'Halldóra Mogensen': 'Píratar',\n",
       " 'Hanna Katrín Friðriksson': 'Viðreisn',\n",
       " 'Haraldur Benediktsson': 'Sjálfstæðisflokkur',\n",
       " 'Helga Vala Helgadóttir': 'Samfylkingin',\n",
       " 'Hildur Sverrisdóttir': 'Sjálfstæðisflokkur',\n",
       " 'Inga Sæland': 'Flokkur fólksins',\n",
       " 'Ingibjörg Ólöf Isaksen': 'Framsóknarflokkur',\n",
       " 'Jakob Frímann Magnússon': 'Flokkur fólksins',\n",
       " 'Jódís Skúladóttir': 'Vinstrihreyfingin - grænt framboð',\n",
       " 'Jóhann Friðrik Friðriksson': 'Framsóknarflokkur',\n",
       " 'Jóhann Páll Jóhannsson': 'Samfylkingin',\n",
       " 'Jón Gunnarsson': 'Sjálfstæðisflokkur',\n",
       " 'Katrín Jakobsdóttir': 'Vinstrihreyfingin - grænt framboð',\n",
       " 'Kristrún Frostadóttir': 'Samfylkingin',\n",
       " 'Lilja Alfreðsdóttir': '',\n",
       " 'Lilja Rannveig Sigurgeirsdóttir': 'Framsóknarflokkur',\n",
       " 'Líneik Anna Sævarsdóttir': 'Framsóknarflokkur',\n",
       " 'Logi Einarsso': 'Samfylkingin',\n",
       " 'Njáll Trausti Friðbertsso': 'Sjálfstæðisflokkur',\n",
       " 'Oddný G Harðardótti': 'Samfylkingin',\n",
       " 'Orri Páll Jóhannsso': 'Vinstrihreyfingin - grænt framboð',\n",
       " 'Óli Björn Káraso': 'Sjálfstæðisflokkur',\n",
       " 'Sigmar Guðmundsson': 'Viðreisn',\n",
       " 'Sigmundur Davíð Gunnlaugsson': 'Miðflokkurinn',\n",
       " 'Sigurður Ingi Jóhannsson': 'Framsóknarflokkur',\n",
       " 'Stefán Vagn Stefánsson': 'Framsóknarflokkur',\n",
       " 'Steinunn Þóra Árnadóttir': 'Vinstrihreyfingin - grænt framboð',\n",
       " 'Svandís Svavarsdóttir': 'Vinstrihreyfingin - grænt framboð',\n",
       " 'Tómas A Tómasson': 'Flokkur fólksins',\n",
       " 'Vilhjálmur Árnason': ' Sjálfstæðisflokkur',\n",
       " 'Willum Þór Þórsson': 'Framsóknarflokkur',\n",
       " 'Þorbjörg Sigríður Gunnlaugsdóttir': 'Viðreisn',\n",
       " 'Þorgerður K Gunnarsdóttir': 'Viðreisn',\n",
       " 'Þórarinn Ingi Pétursson Þór': 'Framsóknarflokkur',\n",
       " 'Þórdís Kolbrún R Gylfadóttir': 'Sjálfstæðisflokkur',\n",
       " 'Þórhildur Sunna Ævarsdóttir': 'Píratar',\n",
       " 'Þórunn Sveinbjarnardóttir': 'Samfylkingin'}"
      ]
     },
     "execution_count": 289,
     "metadata": {},
     "output_type": "execute_result"
    }
   ],
   "source": [
    "with open(\"Current_alþingismenn.txt\", \"r\") as f:\n",
    "    current_alþingi = f.readlines()\n",
    "\n",
    "current_member_party = dict()\n",
    "for line in current_alþingi:\n",
    "    line = line.strip()\n",
    "    line = line.split(\"   \")\n",
    "    current_member_party[line[0]] = line[1]\n",
    "    \n",
    "current_member_party"
   ]
  },
  {
   "cell_type": "code",
   "execution_count": null,
   "id": "a550a41c-6f2b-4ce2-82ca-c0cefc08ee81",
   "metadata": {},
   "outputs": [],
   "source": []
  }
 ],
 "metadata": {
  "kernelspec": {
   "display_name": "Python 3.9.7 64-bit ('base': conda)",
   "language": "python",
   "name": "python397jvsc74a57bd095ec9ec1504d83f612128e0fb229072f90bbb4cb09d9d5d93b5dd26e0ca2cfd1"
  },
  "language_info": {
   "codemirror_mode": {
    "name": "ipython",
    "version": 3
   },
   "file_extension": ".py",
   "mimetype": "text/x-python",
   "name": "python",
   "nbconvert_exporter": "python",
   "pygments_lexer": "ipython3",
   "version": "3.9.7"
  }
 },
 "nbformat": 4,
 "nbformat_minor": 5
}
