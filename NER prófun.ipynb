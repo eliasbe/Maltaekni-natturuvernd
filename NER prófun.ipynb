{
 "cells": [
  {
   "cell_type": "code",
   "execution_count": 1,
   "id": "d2eaf9f3-c8a0-4920-b592-91fdcb76a8dc",
   "metadata": {},
   "outputs": [
    {
     "name": "stderr",
     "output_type": "stream",
     "text": [
      "/opt/homebrew/Caskroom/miniforge/base/lib/python3.9/site-packages/transformers/configuration_utils.py:336: UserWarning: Passing `gradient_checkpointing` to a config initialization is deprecated and will be removed in v5 Transformers. Using `model.gradient_checkpointing_enable()` instead, or if you are using the `Trainer` API, pass `gradient_checkpointing=True` in your `TrainingArguments`.\n",
      "  warnings.warn(\n"
     ]
    }
   ],
   "source": [
    "from transformers import AutoModelForTokenClassification\n",
    "model = AutoModelForTokenClassification.from_pretrained(\"eliasbe/IceBERT-finetuned-ner\")\n",
    "from transformers import pipeline\n"
   ]
  },
  {
   "cell_type": "code",
   "execution_count": 2,
   "id": "27359112-3fbd-4f0f-9f27-c2360581ef5b",
   "metadata": {},
   "outputs": [],
   "source": [
    "# gera tokenizer\n",
    "from transformers import AutoTokenizer\n",
    "    \n",
    "tokenizer = AutoTokenizer.from_pretrained(\"eliasbe/IceBERT-finetuned-ner\")"
   ]
  },
  {
   "cell_type": "code",
   "execution_count": 3,
   "id": "6d653faa-8582-4d7d-b7e4-9c2ac68db966",
   "metadata": {},
   "outputs": [],
   "source": [
    "iceb = pipeline(\"ner\", model=model, tokenizer=tokenizer)"
   ]
  },
  {
   "cell_type": "code",
   "execution_count": 11,
   "id": "654c896f-168b-4340-a0d2-131db1e2d05e",
   "metadata": {},
   "outputs": [
    {
     "name": "stderr",
     "output_type": "stream",
     "text": [
      "Downloading: 100%|██████████████████████████| 1.46k/1.46k [00:00<00:00, 240kB/s]\n"
     ]
    }
   ],
   "source": [
    "modelX = AutoModelForTokenClassification.from_pretrained(\"eliasbe/XLMR-ENIS-finetuned-ner\")\n",
    "tokenizerX = AutoTokenizer.from_pretrained(\"eliasbe/XLMR-ENIS-finetuned-ner\")\n",
    "xlmr = pipeline(\"ner\", model=modelX, tokenizer=tokenizerX)"
   ]
  },
  {
   "cell_type": "code",
   "execution_count": null,
   "id": "2baf50b6-47f6-44cf-becb-c3eb1de5e244",
   "metadata": {},
   "outputs": [],
   "source": []
  },
  {
   "cell_type": "code",
   "execution_count": null,
   "id": "6cce9e52-2da5-464b-ba49-2bb6bc56d887",
   "metadata": {},
   "outputs": [],
   "source": [
    "iceb(\"systurnar guðrún og monique voru einar í skóginum umkringdar víði, eik og reyni með þá ósk að sameinast fjölskyldu sinni sem fór á mai thai og í bíó paradís að sjá jim carey leika í the eternal sunshine of the spotless mind.\")"
   ]
  },
  {
   "cell_type": "code",
   "execution_count": 12,
   "id": "9ebb52f9-2087-4131-91bc-000f129ed0d7",
   "metadata": {},
   "outputs": [
    {
     "name": "stderr",
     "output_type": "stream",
     "text": [
      "Asking to truncate to max_length but no maximum length is provided and the model has no predefined maximum length. Default to no truncation.\n"
     ]
    },
    {
     "data": {
      "text/plain": [
       "[{'entity': 'B-Person',\n",
       "  'score': 0.9889791,\n",
       "  'index': 3,\n",
       "  'word': '▁guð',\n",
       "  'start': 9,\n",
       "  'end': 13},\n",
       " {'entity': 'B-Person',\n",
       "  'score': 0.9905572,\n",
       "  'index': 4,\n",
       "  'word': 'rún',\n",
       "  'start': 13,\n",
       "  'end': 16},\n",
       " {'entity': 'B-Person',\n",
       "  'score': 0.98883384,\n",
       "  'index': 6,\n",
       "  'word': '▁mon',\n",
       "  'start': 19,\n",
       "  'end': 23},\n",
       " {'entity': 'B-Person',\n",
       "  'score': 0.9913334,\n",
       "  'index': 7,\n",
       "  'word': 'ique',\n",
       "  'start': 23,\n",
       "  'end': 27},\n",
       " {'entity': 'I-Miscellaneous',\n",
       "  'score': 0.5169258,\n",
       "  'index': 36,\n",
       "  'word': '▁th',\n",
       "  'start': 134,\n",
       "  'end': 137},\n",
       " {'entity': 'I-Miscellaneous',\n",
       "  'score': 0.48565602,\n",
       "  'index': 37,\n",
       "  'word': 'ai',\n",
       "  'start': 137,\n",
       "  'end': 139},\n",
       " {'entity': 'B-Person',\n",
       "  'score': 0.9893803,\n",
       "  'index': 45,\n",
       "  'word': '▁j',\n",
       "  'start': 163,\n",
       "  'end': 165},\n",
       " {'entity': 'B-Person',\n",
       "  'score': 0.98893577,\n",
       "  'index': 46,\n",
       "  'word': 'im',\n",
       "  'start': 165,\n",
       "  'end': 167},\n",
       " {'entity': 'I-Person',\n",
       "  'score': 0.9919545,\n",
       "  'index': 47,\n",
       "  'word': '▁car',\n",
       "  'start': 167,\n",
       "  'end': 171},\n",
       " {'entity': 'I-Person',\n",
       "  'score': 0.99120367,\n",
       "  'index': 48,\n",
       "  'word': 'ey',\n",
       "  'start': 171,\n",
       "  'end': 173},\n",
       " {'entity': 'B-Miscellaneous',\n",
       "  'score': 0.8993009,\n",
       "  'index': 51,\n",
       "  'word': '▁the',\n",
       "  'start': 181,\n",
       "  'end': 185},\n",
       " {'entity': 'I-Miscellaneous',\n",
       "  'score': 0.98494303,\n",
       "  'index': 52,\n",
       "  'word': '▁eternal',\n",
       "  'start': 185,\n",
       "  'end': 193},\n",
       " {'entity': 'I-Miscellaneous',\n",
       "  'score': 0.98619723,\n",
       "  'index': 53,\n",
       "  'word': '▁sun',\n",
       "  'start': 193,\n",
       "  'end': 197},\n",
       " {'entity': 'I-Miscellaneous',\n",
       "  'score': 0.98590046,\n",
       "  'index': 54,\n",
       "  'word': 'shine',\n",
       "  'start': 197,\n",
       "  'end': 202},\n",
       " {'entity': 'I-Miscellaneous',\n",
       "  'score': 0.98599935,\n",
       "  'index': 55,\n",
       "  'word': '▁of',\n",
       "  'start': 202,\n",
       "  'end': 205},\n",
       " {'entity': 'I-Miscellaneous',\n",
       "  'score': 0.9859816,\n",
       "  'index': 56,\n",
       "  'word': '▁the',\n",
       "  'start': 205,\n",
       "  'end': 209},\n",
       " {'entity': 'I-Miscellaneous',\n",
       "  'score': 0.985623,\n",
       "  'index': 57,\n",
       "  'word': '▁spot',\n",
       "  'start': 209,\n",
       "  'end': 214},\n",
       " {'entity': 'I-Miscellaneous',\n",
       "  'score': 0.9831981,\n",
       "  'index': 58,\n",
       "  'word': 'less',\n",
       "  'start': 214,\n",
       "  'end': 218},\n",
       " {'entity': 'I-Miscellaneous',\n",
       "  'score': 0.982342,\n",
       "  'index': 59,\n",
       "  'word': '▁mind',\n",
       "  'start': 218,\n",
       "  'end': 223},\n",
       " {'entity': 'I-Miscellaneous',\n",
       "  'score': 0.94715035,\n",
       "  'index': 60,\n",
       "  'word': '.',\n",
       "  'start': 223,\n",
       "  'end': 224}]"
      ]
     },
     "execution_count": 12,
     "metadata": {},
     "output_type": "execute_result"
    }
   ],
   "source": [
    "xlmr(\"systurnar guðrún og monique voru einar í skóginum umkringdar víði, eik og reyni með þá ósk að sameinast fjölskyldu sinni sem fór á mai thai og í bíó paradís að sjá jim carey leika í the eternal sunshine of the spotless mind.\")"
   ]
  },
  {
   "cell_type": "code",
   "execution_count": null,
   "id": "1723e9bf-3920-42f8-b3f9-37d0a5beacc1",
   "metadata": {},
   "outputs": [],
   "source": []
  },
  {
   "cell_type": "code",
   "execution_count": 23,
   "id": "50d843f7-ef35-4dc5-a9f8-706f21fb7c7f",
   "metadata": {},
   "outputs": [
    {
     "data": {
      "text/plain": [
       "[{'entity': 'B-Organization',\n",
       "  'score': 0.75880545,\n",
       "  'index': 1,\n",
       "  'word': 'bÃŃÃ³',\n",
       "  'start': 0,\n",
       "  'end': 3},\n",
       " {'entity': 'I-Organization',\n",
       "  'score': 0.6609187,\n",
       "  'index': 2,\n",
       "  'word': 'ĠparadÃŃs',\n",
       "  'start': 4,\n",
       "  'end': 11}]"
      ]
     },
     "execution_count": 23,
     "metadata": {},
     "output_type": "execute_result"
    }
   ],
   "source": [
    "iceb(\"bíó paradís er besta bíóhúsið\")"
   ]
  },
  {
   "cell_type": "code",
   "execution_count": 25,
   "id": "e283094f-21ac-468d-8f96-dea2b6232bd0",
   "metadata": {},
   "outputs": [
    {
     "data": {
      "text/plain": [
       "[{'entity': 'B-Organization',\n",
       "  'score': 0.9683846,\n",
       "  'index': 1,\n",
       "  'word': '▁bíó',\n",
       "  'start': 0,\n",
       "  'end': 3},\n",
       " {'entity': 'I-Organization',\n",
       "  'score': 0.9406921,\n",
       "  'index': 2,\n",
       "  'word': '▁parad',\n",
       "  'start': 3,\n",
       "  'end': 9},\n",
       " {'entity': 'I-Organization',\n",
       "  'score': 0.936489,\n",
       "  'index': 3,\n",
       "  'word': 'ís',\n",
       "  'start': 9,\n",
       "  'end': 11}]"
      ]
     },
     "execution_count": 25,
     "metadata": {},
     "output_type": "execute_result"
    }
   ],
   "source": [
    "xlmr(\"bíó paradís er besta bíóhúsið\")"
   ]
  },
  {
   "cell_type": "code",
   "execution_count": null,
   "id": "82bc5992-8823-4eb8-a02d-551c2fec3f59",
   "metadata": {},
   "outputs": [],
   "source": []
  },
  {
   "cell_type": "code",
   "execution_count": null,
   "id": "4e2fd3eb-9b80-4503-ab8a-6bc0ce67b729",
   "metadata": {},
   "outputs": [],
   "source": [
    "# https://www.althingi.is/thingmenn/althingismenn/"
   ]
  }
 ],
 "metadata": {
  "kernelspec": {
   "display_name": "Python 3.9.7 64-bit ('base': conda)",
   "language": "python",
   "name": "python397jvsc74a57bd095ec9ec1504d83f612128e0fb229072f90bbb4cb09d9d5d93b5dd26e0ca2cfd1"
  },
  "language_info": {
   "codemirror_mode": {
    "name": "ipython",
    "version": 3
   },
   "file_extension": ".py",
   "mimetype": "text/x-python",
   "name": "python",
   "nbconvert_exporter": "python",
   "pygments_lexer": "ipython3",
   "version": "3.9.7"
  }
 },
 "nbformat": 4,
 "nbformat_minor": 5
}
